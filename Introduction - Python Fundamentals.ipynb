{
 "cells": [
  {
   "cell_type": "markdown",
   "metadata": {},
   "source": [
    "### Goals of this Unit\n",
    "The goal of this unit is to develop your Python 3 skills. You’ll also learn how to work off-platform using Jupyter Notebook — essential data science tools!\n",
    "\n",
    "After this unit, you will be able to:\n",
    "\n",
    "- Write Python programs\n",
    "- Use Python functions\n",
    "- Manage programs using control flow\n",
    "- Install and work with Python 3, Jupyter Notebook, and iPython on your own computer\n",
    "- Use git and GitHub Desktop to manage version control\n",
    "- Store data using Python lists\n",
    "- Iterate over lists of data using loops and list comprehensions\n",
    "- Manipulate strings in Python\n",
    "- Map data using Python dictionaries\n",
    "- Create your own data types with Python classes\n",
    "- Work with modules and files\n",
    "- Build Python projects that tackle real data\n",
    "\n",
    "You will put all of this knowledge into practice with an upcoming Portfolio Project. You can complete the Portfolio Project either in parallel with or after taking the prerequisite content—it’s up to you!\n",
    "\n",
    "Learning is social. Whatever you’re working on, be sure to connect with the Slack community in the forums. Remember to check in with the community regularly, including for things like asking for code reviews on your project work and providing code reviews to others in the projects category, which can help to reinforce what you’ve learned."
   ]
  },
  {
   "cell_type": "code",
   "execution_count": null,
   "metadata": {},
   "outputs": [],
   "source": []
  }
 ],
 "metadata": {
  "kernelspec": {
   "display_name": "Python 3",
   "language": "python",
   "name": "python3"
  },
  "language_info": {
   "codemirror_mode": {
    "name": "ipython",
    "version": 3
   },
   "file_extension": ".py",
   "mimetype": "text/x-python",
   "name": "python",
   "nbconvert_exporter": "python",
   "pygments_lexer": "ipython3",
   "version": "3.8.3"
  }
 },
 "nbformat": 4,
 "nbformat_minor": 4
}
