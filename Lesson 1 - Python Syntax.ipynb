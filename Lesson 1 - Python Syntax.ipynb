{
 "cells": [
  {
   "cell_type": "markdown",
   "metadata": {},
   "source": [
    "## Welcome\n",
    "Python is a programming language. Like other languages, it gives us a way to communicate ideas. In the case of a programming language, these ideas are “commands” that people use to communicate with a computer!\n",
    "\n",
    "We convey our commands to the computer by writing them in a text file using a programming language. These files are called programs. Running a program means telling a computer to read the text file, translate it to the set of operations that it understands, and perform those actions."
   ]
  },
  {
   "cell_type": "markdown",
   "metadata": {},
   "source": [
    "### Applications\n",
    "Change TechProEd to your name in the script to the right. Run the code to see what it does!\n",
    "\n",
    "As soon as you’re ready, move on to the next exercise to begin learning to write your own Python programs!"
   ]
  },
  {
   "cell_type": "code",
   "execution_count": null,
   "metadata": {},
   "outputs": [],
   "source": []
  },
  {
   "cell_type": "code",
   "execution_count": null,
   "metadata": {},
   "outputs": [],
   "source": [
    "my_name = \"TechProEd\"\n",
    "print(\"Hello and welcome to \" + my_name + \"!\")"
   ]
  },
  {
   "cell_type": "code",
   "execution_count": null,
   "metadata": {},
   "outputs": [],
   "source": [
    "greeting = \"Hello\"\n",
    "print(greeting)"
   ]
  },
  {
   "cell_type": "markdown",
   "metadata": {},
   "source": [
    "## Comments\n",
    "Ironically, the first thing we’re going to do is show how to tell a computer to ignore a part of a program. Text written in a program but not run by the computer is called a comment. Python interprets anything after a # as a comment.\n",
    "\n",
    "Comments can:\n",
    "\n",
    "Provide context for why something is written the way it is:"
   ]
  },
  {
   "cell_type": "code",
   "execution_count": null,
   "metadata": {},
   "outputs": [],
   "source": [
    "# This variable will be used to count the number of times anyone tweets the word persnickety\n",
    "persnickety_count = 0\n",
    "print(persnickety_count)"
   ]
  },
  {
   "cell_type": "markdown",
   "metadata": {},
   "source": [
    "Help other people reading the code understand it faster:"
   ]
  },
  {
   "cell_type": "code",
   "execution_count": null,
   "metadata": {},
   "outputs": [],
   "source": [
    "# This cde will calculate the likelihood that it will rain tomorrow\n",
    "complicated_rain_calculation_for_tomorrow()"
   ]
  },
  {
   "cell_type": "markdown",
   "metadata": {},
   "source": [
    "Ignore a line of code and see how a program will run without it:"
   ]
  },
  {
   "cell_type": "code",
   "execution_count": null,
   "metadata": {},
   "outputs": [],
   "source": [
    "# useful_value = old_sloppy_code()\n",
    "useful_value = new_clean_code()"
   ]
  },
  {
   "cell_type": "markdown",
   "metadata": {},
   "source": [
    "### Applications\n",
    "1.\n",
    "Documentation is an important step in programming. Write a comment describing the first program you want to write!"
   ]
  },
  {
   "cell_type": "code",
   "execution_count": null,
   "metadata": {},
   "outputs": [],
   "source": []
  },
  {
   "cell_type": "markdown",
   "metadata": {},
   "source": [
    "## Print\n",
    "Now what we’re going to do is teach our computer to communicate. The gift of speech is valuable: a computer can answer many questions we have about “how” or “why” or “what” it is doing. In Python, the print() function is used to tell a computer to talk. The message to be printed should be surrounded by quotes:"
   ]
  },
  {
   "cell_type": "code",
   "execution_count": null,
   "metadata": {},
   "outputs": [],
   "source": [
    "# from Mary Shelley's Frankenstein\n",
    "print(\"There is something at work in my soul, which I do not understand.\")"
   ]
  },
  {
   "cell_type": "markdown",
   "metadata": {},
   "source": [
    "In the above example, we direct our program to print() an excerpt from a notable book. The printed words that appear as a result of the print() function are referred to as output. The output of this example program would be:"
   ]
  },
  {
   "cell_type": "markdown",
   "metadata": {},
   "source": [
    "There is something at work in my soul, which I do not understand."
   ]
  },
  {
   "cell_type": "markdown",
   "metadata": {},
   "source": [
    "## 1.Applications\n",
    "Print the distinguished greeting “Hello world!”"
   ]
  },
  {
   "cell_type": "code",
   "execution_count": null,
   "metadata": {
    "scrolled": true
   },
   "outputs": [],
   "source": []
  },
  {
   "cell_type": "markdown",
   "metadata": {},
   "source": [
    "### Possible question\n",
    "Are quotes always necessary inside a print()?"
   ]
  },
  {
   "cell_type": "markdown",
   "metadata": {},
   "source": [
    "### Possible answer\n",
    "Quotes are not always necessary inside of a print() function. They are only needed when the input value of the function is a string, like \"hello\", which you will learn more about in exercise 4. print() functions can be used to output many other values in Python, such as:\n",
    "\n",
    "print(10) \n",
    "\n",
    "print(False) \n",
    "\n",
    "print([\"adam\", \"betty\"]) \n"
   ]
  },
  {
   "cell_type": "markdown",
   "metadata": {},
   "source": [
    "### Possible question\n",
    "How can I skip or jump to a new line while printing?"
   ]
  },
  {
   "cell_type": "markdown",
   "metadata": {},
   "source": [
    "You can use \\n in your string to jump to a new line, but print() will also work depending on what you’re trying to do. A couple examples that both print to lines 1 and 3:\n"
   ]
  },
  {
   "cell_type": "code",
   "execution_count": null,
   "metadata": {},
   "outputs": [],
   "source": [
    "print('line1 \\n\\nline3')\n",
    "print('line1')\n",
    "print()\n",
    "print('line3')\n"
   ]
  },
  {
   "cell_type": "markdown",
   "metadata": {},
   "source": [
    "## Strings\n",
    "Computer programmers refer to blocks of text as strings. In our last exercise, we created the string “Hello world!”. In Python a string is either surrounded by double quotes (\"Hello world\") or single quotes ('Hello world'). It doesn’t matter which kind you use, just be consistent."
   ]
  },
  {
   "cell_type": "markdown",
   "metadata": {},
   "source": [
    "### Applications"
   ]
  },
  {
   "cell_type": "markdown",
   "metadata": {},
   "source": [
    "1.\n",
    "Print your name using the print() command."
   ]
  },
  {
   "cell_type": "code",
   "execution_count": null,
   "metadata": {},
   "outputs": [],
   "source": []
  },
  {
   "cell_type": "code",
   "execution_count": null,
   "metadata": {},
   "outputs": [],
   "source": []
  },
  {
   "cell_type": "code",
   "execution_count": null,
   "metadata": {},
   "outputs": [],
   "source": []
  },
  {
   "cell_type": "markdown",
   "metadata": {},
   "source": [
    "## Variables"
   ]
  },
  {
   "cell_type": "markdown",
   "metadata": {},
   "source": [
    "Programming languages offer a method of storing data for reuse. If there is a greeting we want to present, a date we need to reuse, or a user ID we need to remember we can create a variable which can store a value. In Python, we assign variables by using the equals sign (=)."
   ]
  },
  {
   "cell_type": "code",
   "execution_count": null,
   "metadata": {},
   "outputs": [],
   "source": [
    "message_string = \"Hello there\"\n",
    "# Prints \"Hello there\"\n",
    "print(message_string)"
   ]
  },
  {
   "cell_type": "markdown",
   "metadata": {},
   "source": [
    "In the above example, we store the message “Hello there” in a variable called message_string. Variables can’t have spaces or symbols in their names other than an underscore (_). They can’t begin with numbers but they can have numbers after the first letter (e.g., cool_variable_5 is OK).\n",
    "\n",
    "It’s no coincidence we call these creatures “variables”. If the context of a program changes, we can update a variable but perform the same logical process on it."
   ]
  },
  {
   "cell_type": "code",
   "execution_count": null,
   "metadata": {},
   "outputs": [],
   "source": [
    "# Greeting\n",
    "message_string = \"Hello there\"\n",
    "print(message_string)\n",
    " \n",
    "# Farewell\n",
    "message_string = \"Hasta la vista\"\n",
    "print(message_string)"
   ]
  },
  {
   "cell_type": "markdown",
   "metadata": {},
   "source": [
    "Above, we create the variable message_string, assign a welcome message, and print the greeting. After we greet the user, we want to wish them goodbye. We then update message_string to a departure message and print that out."
   ]
  },
  {
   "cell_type": "markdown",
   "metadata": {},
   "source": [
    "#### Application"
   ]
  },
  {
   "cell_type": "code",
   "execution_count": null,
   "metadata": {},
   "outputs": [],
   "source": [
    "# We've defined the variable \"meal\" here to the name of the food we ate for breakfast!\n",
    "meal = \"An english muffin\"\n",
    "\n",
    "# Printing out breakfast\n",
    "print(\"Breakfast:\")\n",
    "print(meal)\n"
   ]
  },
  {
   "cell_type": "code",
   "execution_count": null,
   "metadata": {},
   "outputs": [],
   "source": [
    "# Now update meal to be lunch!\n",
    "meal = \n",
    "\n",
    "# Printing out lunch\n",
    "print(\"Lunch:\")\n",
    "print(meal)"
   ]
  },
  {
   "cell_type": "code",
   "execution_count": null,
   "metadata": {},
   "outputs": [],
   "source": [
    "# Now update \"meal\" to be dinner\n",
    "meal = \n",
    "# Printing out dinner\n",
    "print(\"Dinner:\")\n",
    "print(meal)"
   ]
  },
  {
   "cell_type": "markdown",
   "metadata": {},
   "source": [
    "## Errors\n",
    "Humans are prone to making mistakes. Humans are also typically in charge of creating computer programs. To compensate, programming languages attempt to understand and explain mistakes made in their programs.\n",
    "\n",
    "Python refers to these mistakes as errors and will point to the location where an error occurred with a ^ character. When programs throw errors that we didn’t expect to encounter we call those errors bugs. Programmers call the process of updating the program so that it no longer produces unexpected errors debugging.\n",
    "\n",
    "Two common errors that we encounter while writing Python are SyntaxError and NameError.\n",
    "\n",
    "SyntaxError means there is something wrong with the way your program is written — punctuation that does not belong, a command where it is not expected, or a missing parenthesis can all trigger a SyntaxError.\n",
    "\n",
    "A NameError occurs when the Python interpreter sees a word it does not recognize. Code that contains something that looks like a variable but was never defined will throw a NameError."
   ]
  },
  {
   "cell_type": "markdown",
   "metadata": {},
   "source": [
    "#### Example"
   ]
  },
  {
   "cell_type": "code",
   "execution_count": null,
   "metadata": {},
   "outputs": [],
   "source": [
    "print(\"This message has mismatched quote marks!\")\n"
   ]
  },
  {
   "cell_type": "code",
   "execution_count": null,
   "metadata": {},
   "outputs": [],
   "source": [
    "Abracadabra = \"boom!\"\n",
    "print(Abracadabra)"
   ]
  },
  {
   "cell_type": "markdown",
   "metadata": {},
   "source": [
    "### Question\n",
    "Within a Python program, everything is spelled correctly, but I still receive a NameError. Why?"
   ]
  },
  {
   "cell_type": "markdown",
   "metadata": {},
   "source": [
    "### Answer\n",
    "There are some possible reasons that a NameError can appear even if everything is spelled correctly in the code."
   ]
  },
  {
   "cell_type": "markdown",
   "metadata": {},
   "source": [
    "#### Reason 1: Inconsistent casing\n",
    "One common reason is due to inconsistent casing of any variable names or functions. For example, Python will view Name and name as two completely different variables, despite them having the same spelling because the casing of each letter is not the same."
   ]
  },
  {
   "cell_type": "markdown",
   "metadata": {},
   "source": [
    "#### Code example\n"
   ]
  },
  {
   "cell_type": "code",
   "execution_count": null,
   "metadata": {},
   "outputs": [],
   "source": [
    "name = \"Monty\"\n",
    "print(name)\n",
    "# This will output a NameError because \n",
    "# the casing is not consistent."
   ]
  },
  {
   "cell_type": "code",
   "execution_count": null,
   "metadata": {},
   "outputs": [],
   "source": [
    "print(\"Hi!\")\n",
    "# This will output a NameError because 'Print' is not defined."
   ]
  },
  {
   "cell_type": "markdown",
   "metadata": {},
   "source": [
    "#### Reason 2: Ordering of the code\n",
    "Another common reason is due to code ordering. The variable was used on a code line earlier than the code line where it was defined. Python generally processes the code from top to bottom, so if it encounters a variable not yet defined, it would throw a NameError."
   ]
  },
  {
   "cell_type": "markdown",
   "metadata": {},
   "source": [
    "#### Code example"
   ]
  },
  {
   "cell_type": "code",
   "execution_count": null,
   "metadata": {},
   "outputs": [],
   "source": [
    "year = \"2018\"\n",
    "print(year)\n",
    "# A NameError will be thrown because year is not yet defined \n",
    "# when the first line of code runs."
   ]
  },
  {
   "cell_type": "markdown",
   "metadata": {},
   "source": [
    "### Numbers\n",
    "Computers can understand much more than just strings of text. Python has a few numeric data types. It has multiple ways of storing numbers. Which one you use depends on your intended purpose for the number you are saving.\n",
    "\n",
    "An integer, or int, is a whole number. It has no decimal point and contains all counting numbers (1, 2, 3, …) as well as their negative counterparts and the number 0. If you were counting the number of people in a room, the number of jellybeans in a jar, or the number of keys on a keyboard you would likely use an integer.\n",
    "\n",
    "A floating-point number, or a float, is a decimal number. It can be used to represent fractional quantities as well as precise measurements. If you were measuring the length of your bedroom wall, calculating the average test score of a seventh-grade class, or storing a baseball player’s batting average for the 1998 season you would likely use a float.\n",
    "\n",
    "Numbers can be assigned to variables or used literally in a program:"
   ]
  },
  {
   "cell_type": "markdown",
   "metadata": {},
   "source": [
    "#### Example"
   ]
  },
  {
   "cell_type": "code",
   "execution_count": null,
   "metadata": {},
   "outputs": [],
   "source": [
    "an_int = 2\n",
    "a_float = 2.1\n",
    " \n",
    "print(an_int + 3)\n",
    "# prints 5"
   ]
  },
  {
   "cell_type": "code",
   "execution_count": null,
   "metadata": {},
   "outputs": [],
   "source": [
    "print(a_float - 1)"
   ]
  },
  {
   "cell_type": "markdown",
   "metadata": {},
   "source": [
    "Above we defined an integer and a float as the variables an_int and a_float. We printed out the sum of the variable an_int with the number 3. We call the number 3 here a literal, meaning it’s actually the number 3 and not a variable with the number 3 assigned to it.\n",
    "\n",
    "Floating-point numbers can behave in some unexpected ways due to how computers store them. For more information on floating-point numbers and Python, review Python’s documentation on floating-point limitations.\n",
    "https://docs.python.org/3/tutorial/floatingpoint.html"
   ]
  },
  {
   "cell_type": "markdown",
   "metadata": {},
   "source": [
    "#### Application"
   ]
  },
  {
   "cell_type": "markdown",
   "metadata": {},
   "source": [
    "1.\n",
    "A recent movie-going experience has you excited to publish a review. You rush out of the cinema and hastily begin programming to create your movie-review website: The Big Screen’s Greatest Scenes Decided By A Machine.\n",
    "\n",
    "Create the following variables and assign integer numbers to them: release_year and runtime.\n",
    "\n",
    "2.\n",
    "Now, create the variable rating_out_of_10 and assign it a float number between one and ten."
   ]
  },
  {
   "cell_type": "code",
   "execution_count": null,
   "metadata": {},
   "outputs": [],
   "source": [
    "# Define the release and runtime integer variables below:\n",
    "\n",
    "\n",
    "# Define the rating_out_of_10 float variable below: \n"
   ]
  },
  {
   "cell_type": "markdown",
   "metadata": {},
   "source": [
    "#### Question\n",
    "If most integer values can be represented as a float by adding a decimal and a 0 after it, and float values have a much wider range of values that includes decimal values, why would we ever need to use integers over floats?\n",
    "\n",
    "\n",
    "#### Answer\n",
    "Although technically we can produce an equivalent value for most whole numbers by adding a decimal followed by a 0 after the number (1 and 1.0, 2 and 2.0, …), integer values are sometimes preferred, or necessary for certain situations.\n",
    "\n",
    "For instance, it would be probably make more sense to use integer values to count things that do not have fractional values, like counting how many students are in a class, or the length of a string in Python, which is always a whole number (You will never have a string that is 2.5 characters long).\n",
    "\n",
    "Another reason is that float values sometimes behave in unexpected ways due to how they are stored in computer memory, especially when using very large float values. So, if consistency is key for your program, integers might be a better choice.\n",
    "\n",
    "Furthermore, certain data types in Python, such as lists, can only access elements by whole number indexes, and the range() function, which is a very useful function in Python, will only take whole numbers as input to generate a range of values."
   ]
  },
  {
   "cell_type": "markdown",
   "metadata": {},
   "source": [
    "### Calculations\n",
    "\n",
    "Computers absolutely excel at performing calculations. The “compute” in their name comes from their historical association with providing answers to mathematical questions. Python performs addition, subtraction, multiplication, and division with +, -, *, and /."
   ]
  },
  {
   "cell_type": "code",
   "execution_count": null,
   "metadata": {},
   "outputs": [],
   "source": [
    "# Prints \"500\"\n",
    "print(573 - 74 + 1)\n",
    " \n",
    "# Prints \"50\"\n",
    "print(25 * 2)\n",
    " \n",
    "# Prints \"2.0\" , division gives a float point number\n",
    "print(10 / 5)"
   ]
  },
  {
   "cell_type": "markdown",
   "metadata": {},
   "source": [
    "Notice that when we perform division, the result has a decimal place. This is because Python converts all ints to floats before performing division. In older versions of Python (2.7 and earlier) this conversion did not happen, and integer division would always round down to the nearest integer.\n",
    "\n",
    "Division can throw its own special error: ZeroDivisionError. Python will raise this error when attempting to divide by 0.\n",
    "\n",
    "Mathematical operations in Python follow the standard mathematical order of operations.\n",
    "https://en.wikipedia.org/wiki/Order_of_operations"
   ]
  },
  {
   "cell_type": "markdown",
   "metadata": {},
   "source": [
    "#### Application"
   ]
  },
  {
   "cell_type": "markdown",
   "metadata": {},
   "source": [
    "1.\n",
    "Print out the result of this equation: 25 * 68 + 13 / 28. \n",
    "Please put your answer in the cell below"
   ]
  },
  {
   "cell_type": "code",
   "execution_count": null,
   "metadata": {},
   "outputs": [],
   "source": []
  },
  {
   "cell_type": "markdown",
   "metadata": {},
   "source": [
    "##### Question\n",
    "In this application, we placed expressions and mathematical operations inside of the print() function. Is the input always evaluated first before anything is printed?\n",
    "\n",
    "##### Answer\n",
    "Yes, any expressions and operations inside the parentheses of the print() function is always evaluated first, with priority, then the result is printed out at the end. This can be seen to follow the general rule of the order of operations 496 where anything inside of ( ) is evaluated with highest priority, which in this case would be anything inside the print() function’s ( )."
   ]
  },
  {
   "cell_type": "markdown",
   "metadata": {},
   "source": [
    "### Changing Numbers\n",
    "Variables that are assigned numeric values can be treated the same as the numbers themselves. Two variables can be added together, divided by 2, and multiplied by a third variable without Python distinguishing between the variables and literals (like the number 2 in this example). Performing arithmetic on variables does not change the variable — you can only update a variable using the = sign."
   ]
  },
  {
   "cell_type": "markdown",
   "metadata": {},
   "source": [
    "#### Example"
   ]
  },
  {
   "cell_type": "code",
   "execution_count": null,
   "metadata": {},
   "outputs": [],
   "source": [
    "coffee_price = 1.50\n",
    "number_of_coffees = 4\n",
    " \n",
    "# Prints \"6.0\"\n",
    "print(coffee_price * number_of_coffees)\n",
    "# Prints \"1.5\"\n",
    "print(coffee_price)\n",
    "# Prints \"4\"\n",
    "print(number_of_coffees)"
   ]
  },
  {
   "cell_type": "code",
   "execution_count": null,
   "metadata": {},
   "outputs": [],
   "source": [
    "# Updating the price \n",
    "coffee_price = 2.00\n",
    " \n",
    "# Prints \"8.0\"\n",
    "print(coffee_price * number_of_coffees)\n",
    "# Prints \"2.0\"\n",
    "print(coffee_price)\n",
    "# Prints \"4\"\n",
    "print(number_of_coffees)"
   ]
  },
  {
   "cell_type": "markdown",
   "metadata": {},
   "source": [
    "We create two variables and assign numeric values to them. Then we perform a calculation on them. This doesn’t update the variables! When we update the coffee_price variable and perform the calculations again, they use the updated values for the variable!"
   ]
  },
  {
   "cell_type": "markdown",
   "metadata": {},
   "source": [
    "#### Application\n",
    "1. You’ve decided to get into quilting! To calculate the number of squares you’ll need for your first quilt let’s create two variables: quilt_width and quilt_length. Let’s make this first quilt 8 squares wide and 12 squares long.\n",
    "\n",
    "2. Print out the number of squares you’ll need to create the quilt!\n",
    "\n",
    "3. It turns out that quilt required a little more material than you have on hand! Let’s only make the quilt 8 squares long. How many squares will you need for this quilt instead?\n",
    "\n",
    "Please put your answers in the cell below.\n"
   ]
  },
  {
   "cell_type": "code",
   "execution_count": null,
   "metadata": {},
   "outputs": [],
   "source": []
  },
  {
   "cell_type": "code",
   "execution_count": null,
   "metadata": {},
   "outputs": [],
   "source": []
  },
  {
   "cell_type": "markdown",
   "metadata": {},
   "source": [
    "Question\n",
    "In the context of this exercise 50, what actually happens when you change a variable to some other value in Python?\n",
    "\n",
    "Answer\n",
    "In Python, variables can be seen as references to some object, which can include numbers, strings, and other values.\n",
    "\n",
    "When you assign a variable to some value, it will reference that value, and become bound to it. So in this exercise, when the variable quilt_width is assigned to the value 8, it references and becomes bound to that value. And, if that variable is used within some calculation, it would be treated the same as the number it references."
   ]
  },
  {
   "cell_type": "code",
   "execution_count": 14,
   "metadata": {},
   "outputs": [],
   "source": [
    "#Example code\n",
    "# This variable is assigned to the value 20.\n",
    "value = 20\n",
    "\n",
    "# When used in a calculation, the value it references is used.\n",
    "total = value + 30 \n",
    "# prints 50\n"
   ]
  },
  {
   "cell_type": "markdown",
   "metadata": {},
   "source": [
    "When you reassign a variable to another value, it simply changes the reference to that new value and becomes bound to it."
   ]
  },
  {
   "cell_type": "markdown",
   "metadata": {},
   "source": [
    "## Exponents\n",
    "Python can also perform exponentiation. In written math, you might see an exponent as a superscript number, but typing superscript numbers isn’t always easy on modern keyboards. Since this operation is so related to multiplication, we use the notation **."
   ]
  },
  {
   "cell_type": "markdown",
   "metadata": {},
   "source": [
    "#### Example"
   ]
  },
  {
   "cell_type": "code",
   "execution_count": null,
   "metadata": {},
   "outputs": [],
   "source": [
    "\n",
    "# 2 to the 10th power, or 1024\n",
    "print(2 ** 10)\n",
    " \n",
    "# 8 squared, or 64\n",
    "print(8 ** 2)\n",
    " \n",
    "# 9 * 9 * 9, 9 cubed, or 729\n",
    "print(9 ** 3)\n",
    " \n",
    "# We can even perform fractional exponents\n",
    "# 4 to the half power, or 2\n",
    "print(4 ** 0.5)"
   ]
  },
  {
   "cell_type": "markdown",
   "metadata": {},
   "source": [
    "Here, we compute some simple exponents. We calculate 2 to the 10th power, 8 to the 2nd power, 9 to the 3rd power, and 4 to the 0.5th power."
   ]
  },
  {
   "cell_type": "markdown",
   "metadata": {},
   "source": [
    "#### Application"
   ]
  },
  {
   "cell_type": "markdown",
   "metadata": {},
   "source": [
    "1. You really like how the square quilts from last exercise came out, and decide that all quilts that you make will be square from now on.\n",
    "\n",
    "Using the exponent operator, print out how many squares you’ll need for a 6x6 quilt, a 7x7 quilt, and an 8x8 quilt."
   ]
  },
  {
   "cell_type": "code",
   "execution_count": null,
   "metadata": {},
   "outputs": [],
   "source": [
    "# Calculation of squares for:\n",
    "# 6x6 quilt\n",
    "\n",
    "# 7x7 quilt\n",
    "\n",
    "# 8x8 quilt\n",
    "\n",
    "# How many squares for 6 people to have 6 quilts each that are 6x6?\n"
   ]
  },
  {
   "cell_type": "markdown",
   "metadata": {},
   "source": [
    "2. Your 6x6 quilts have taken off so well, 6 people have each requested 6 quilts. Print out how many tiles you would need to make 6 quilts apiece for 6 people."
   ]
  },
  {
   "cell_type": "code",
   "execution_count": null,
   "metadata": {},
   "outputs": [],
   "source": [
    "# 6 people have each requested 6 quilts\n",
    "\n",
    "\n",
    "# meaning\n",
    "\n"
   ]
  },
  {
   "cell_type": "markdown",
   "metadata": {},
   "source": [
    "#### Question 1"
   ]
  },
  {
   "cell_type": "markdown",
   "metadata": {},
   "source": [
    "So what would the computer do if you input “6**6” vs. “6 ** 6”?\n",
    "Basically, what is the difference of inputting the spaces vs. omitting them?\n",
    "\n",
    "#### Answer\n",
    "There is not any difference."
   ]
  },
  {
   "cell_type": "markdown",
   "metadata": {},
   "source": [
    "#### Question 2\n",
    "In this exercise 15, the exponent operator is used for positive exponents. Does exponentiation work with negative exponents as well?"
   ]
  },
  {
   "cell_type": "markdown",
   "metadata": {},
   "source": [
    "#### Answer"
   ]
  },
  {
   "cell_type": "code",
   "execution_count": null,
   "metadata": {},
   "outputs": [],
   "source": [
    "#Example code\n",
    "\n",
    "base = 2\n",
    "exp = -1\n",
    "\n",
    "# Both of these results will be 0.5\n",
    "result1 = base ** exp\n",
    "result2 = 1 / base ** exp\n",
    "print(result1)\n",
    "print(result2)\n",
    "\n",
    "# result2 = 1 / (base ** -(exp))  =>  incorrect"
   ]
  },
  {
   "cell_type": "markdown",
   "metadata": {},
   "source": [
    "## Modulo\n",
    "Python offers a companion to the division operator called the modulo operator. The modulo operator is indicated by % and gives the remainder of a division calculation. If the number is divisible, then the result of the modulo operator will be 0."
   ]
  },
  {
   "cell_type": "code",
   "execution_count": null,
   "metadata": {},
   "outputs": [],
   "source": [
    "# Prints 4 because 29 / 5 is 5 with a remainder of 4\n",
    "print(29 % 5)\n",
    " \n",
    "# Prints 2 because 32 / 3 is 10 with a remainder of 2\n",
    "print(32 % 3)\n",
    " \n",
    "# Modulo by 2 returns 0 for even numbers and 1 for odd numbers\n",
    "# Prints 0\n",
    "print(44 % 2)"
   ]
  },
  {
   "cell_type": "markdown",
   "metadata": {},
   "source": [
    "Here, we use the modulo operator to find the remainder of division operations. We see that 29 % 5 equals 4, 32 % 3 equals 2, and 44 % 2 equals 0.\n",
    "\n",
    "The modulo operator is useful in programming when we want to perform an action every nth-time the code is run. Can the result of a modulo operation be larger than the divisor? Why or why not?"
   ]
  },
  {
   "cell_type": "markdown",
   "metadata": {},
   "source": [
    "No the result may not be greater than the divisor as we are working with the modula operator"
   ]
  },
  {
   "cell_type": "markdown",
   "metadata": {},
   "source": [
    "1. You’re trying to divide a group into four teams. All of you count off, and you get number 27.\n",
    "\n",
    "Find out your team by computing 27 modulo 4. Save the value to my_team.\n",
    "\n",
    "2. Print out my_team. What number team are you on?\n"
   ]
  },
  {
   "cell_type": "code",
   "execution_count": 123,
   "metadata": {},
   "outputs": [],
   "source": []
  },
  {
   "cell_type": "markdown",
   "metadata": {},
   "source": [
    "#### Possible question"
   ]
  },
  {
   "cell_type": "markdown",
   "metadata": {},
   "source": [
    "I didn't really get how this modulo calculation goes. Could someone shed some light on it for me please?\n",
    "\n",
    "How will the remainder of a division tell me which team I am on if it doesnt even mention how many people in total are being divided by the 4 groups?"
   ]
  },
  {
   "cell_type": "markdown",
   "metadata": {},
   "source": [
    "#### Sample Answer\n",
    "\n",
    "Recall how we learned long division in around grade 4.\n",
    "\n",
    "   ______\n",
    "15 ) 230\n",
    "Which we would read, fifteen into two-hundred-thirty. The first step would be to divide 15 into 23.\n",
    "\n",
    "      1\n",
    "   ------\n",
    "15 ) 230\n",
    "   - 15\n",
    "   ------\n",
    "      8\n",
    "We see it goes one time, so we multiply 1 times 15, and subtract that from 23. This leaves 8. We next bring down the zero in 230, and divide again.\n",
    "\n",
    "      15\n",
    "   ------\n",
    "15 ) 230\n",
    "   - 15\n",
    "   ------\n",
    "      80\n",
    "    - 75\n",
    "    -----\n",
    "       5\n",
    "In the language of the day we would have read this as, “fifteen goes into two-hundred-thirty, fifteen times with five remainder.”\n",
    "\n",
    "The remainder is the modulo of a division operation. We often see % described as the remainder operator.\n",
    "\n",
    "    230 % 15  =>  5"
   ]
  },
  {
   "cell_type": "markdown",
   "metadata": {},
   "source": [
    "## Concatenation\n",
    "The + operator doesn’t just add two numbers, it can also “add” two strings! The process of combining two strings is called string concatenation. Performing string concatenation creates a brand new string comprised of the first string’s contents followed by the second string’s contents (without any added space in-between)."
   ]
  },
  {
   "cell_type": "code",
   "execution_count": null,
   "metadata": {},
   "outputs": [],
   "source": [
    "greeting_text = \"Hey there!\"\n",
    "question_text = \"How are you doing?\"\n",
    "full_text = greeting_text + question_text\n",
    " \n",
    "# Prints \"Hey there!How are you doing?\"\n",
    "print(full_text)"
   ]
  },
  {
   "cell_type": "markdown",
   "metadata": {},
   "source": [
    "In this sample of code, we create two variables that hold strings and then concatenate them. But we notice that the result was missing a space between the two, let’s add the space in-between using the same concatenation operator!"
   ]
  },
  {
   "cell_type": "code",
   "execution_count": null,
   "metadata": {},
   "outputs": [],
   "source": [
    "full_text = greeting_text + \" \" + question_text\n",
    " \n",
    "# Prints \"Hey there! How are you doing?\"\n",
    "print(full_text)"
   ]
  },
  {
   "cell_type": "markdown",
   "metadata": {},
   "source": [
    "Now the code prints the message we expected.\n",
    "\n",
    "If you want to concatenate a string with a number you will need to make the number a string first, using the str() function. If you’re trying to print() a numeric variable you can use commas to pass it as a different argument rather than converting it to a string."
   ]
  },
  {
   "cell_type": "code",
   "execution_count": null,
   "metadata": {},
   "outputs": [],
   "source": [
    "birthday_string = \"I am \"\n",
    "age = 10\n",
    "birthday_string_2 = \" years old today!\"\n",
    " \n",
    "# Concatenating an integer with strings is possible if we turn the integer into a string first\n",
    "full_birthday_string = birthday_string + str(age) + birthday_string_2\n",
    " \n",
    "# Prints \"I am 10 years old today!\"\n",
    "print(full_birthday_string)\n",
    " \n"
   ]
  },
  {
   "cell_type": "markdown",
   "metadata": {},
   "source": [
    "Using str() we can convert variables that are not strings to strings and then concatenate them. But we don’t need to convert a number to a string for it to be an argument to a print statement."
   ]
  },
  {
   "cell_type": "markdown",
   "metadata": {},
   "source": [
    "#### Application\n",
    "\n",
    "1.\n",
    "Concatenate the strings and save the message they form in the variable message.\n",
    "\n",
    "Now uncomment the print statement and run your code to see the result in the terminal!"
   ]
  },
  {
   "cell_type": "code",
   "execution_count": 124,
   "metadata": {},
   "outputs": [],
   "source": [
    "string1 = \"The wind, \"\n",
    "string2 = \"which had hitherto carried us along with amazing rapidity, \"\n",
    "string3 = \"sank at sunset to a light breeze; \"\n",
    "string4 = \"the soft air just ruffled the water and \"\n",
    "string5 = \"caused a pleasant motion among the trees as we approached the shore, \"\n",
    "string6 = \"from which it wafted the most delightful scent of flowers and hay.\"\n",
    "\n",
    "# Define message below:\n",
    "\n",
    "\n"
   ]
  },
  {
   "cell_type": "markdown",
   "metadata": {},
   "source": [
    "## Plus Equals\n",
    "Python offers a shorthand for updating variables. When you have a number saved in a variable and want to add to the current value of the variable, you can use the += (plus-equals) operator."
   ]
  },
  {
   "cell_type": "code",
   "execution_count": null,
   "metadata": {},
   "outputs": [],
   "source": [
    "# First we have a variable with a number saved\n",
    "number_of_miles_hiked = 12\n",
    " \n",
    "# Then we need to update that variable\n",
    "# Let's say we hike another two miles today\n",
    "number_of_miles_hiked += 2\n",
    " \n",
    "# The new value is the old value\n",
    "# Plus the number after the plus-equals\n",
    "print(number_of_miles_hiked)\n",
    "# Prints 14"
   ]
  },
  {
   "cell_type": "markdown",
   "metadata": {},
   "source": [
    "Above, we keep a running count of the number of miles a person has gone hiking over time. Instead of recalculating from the start, we keep a grand total and update it when we’ve gone hiking further.\n",
    "\n",
    "The plus-equals operator also can be used for string concatenation, like so:"
   ]
  },
  {
   "cell_type": "code",
   "execution_count": null,
   "metadata": {},
   "outputs": [],
   "source": [
    "hike_caption = \"What an amazing time to walk through nature!\"\n",
    "print(hike_caption)\n",
    "\n",
    "# Almost forgot the hashtags!\n",
    "hike_caption += \" #nofilter\"\n",
    "hike_caption += \" #blessed\"\n",
    "\n",
    "print(hike_caption)"
   ]
  },
  {
   "cell_type": "markdown",
   "metadata": {},
   "source": [
    "We create the social media caption for the photograph of nature we took on our hike, but then update the caption to include important social media tags we almost forgot."
   ]
  },
  {
   "cell_type": "markdown",
   "metadata": {},
   "source": [
    "#### Application\n",
    "\n",
    "1. We’re doing a little bit of online shopping and find a pair of new sneakers. Right before we check out, we spot a nice sweater and some fun books we also want to purchase!\n",
    "\n",
    "Use the += operator to update the total_price to include the prices of nice_sweater and fun_books.\n",
    "\n",
    "The prices (also included in the workspace) are:\n",
    "\n",
    "new_sneakers = 50.00 \\\n",
    "nice_sweater = 39.00 \\\n",
    "fun_books = 20.00 "
   ]
  },
  {
   "cell_type": "code",
   "execution_count": null,
   "metadata": {},
   "outputs": [],
   "source": [
    "total_price = 0\n",
    "\n",
    "new_sneakers = 50.00\n",
    "\n",
    "total_price += new_sneakers\n",
    "\n",
    "nice_sweater = 39.00\n",
    "fun_books = 20.00\n",
    "\n",
    "# Update total_price here:\n",
    "\n",
    "\n",
    "print(\"The total price is\", total_price)"
   ]
  },
  {
   "cell_type": "markdown",
   "metadata": {},
   "source": [
    "#### Possible question\n",
    "In Python, can the += operator be used to add more than one value at a time?\n",
    "\n",
    "#### Answer\n",
    "Yes, the += operator allows adding more than just a single value at a time. Anything on the right-hand side of the += will be evaluated, and then it will be added to the variable which is then updated to that new value.\n"
   ]
  },
  {
   "cell_type": "markdown",
   "metadata": {},
   "source": [
    "#### Example code"
   ]
  },
  {
   "cell_type": "code",
   "execution_count": null,
   "metadata": {},
   "outputs": [],
   "source": [
    "\n",
    "# Plus Equals with a single value:\n",
    "miles = 80\n",
    "miles += 20 # miles is now 100\n",
    "\n",
    "# Plus Equals with more than one value:\n",
    "snow_level = 10\n",
    "snow_level += 20 + 10 + 40 # snow_level is now 80\n",
    "print(snow_level)"
   ]
  },
  {
   "cell_type": "markdown",
   "metadata": {},
   "source": [
    "## Multi-line Strings\n",
    "Python strings are very flexible, but if we try to create a string that occupies multiple lines we find ourselves face-to-face with a SyntaxError. Python offers a solution: multi-line strings. By using three quote-marks (\"\"\" or ''') instead of one, we tell the program that the string doesn’t end until the next triple-quote. This method is useful if the string being defined contains a lot of quotation marks and we want to be sure we don’t close it prematurely."
   ]
  },
  {
   "cell_type": "code",
   "execution_count": null,
   "metadata": {},
   "outputs": [],
   "source": [
    "leaves_of_grass = \"\"\"\n",
    "Poets to come! orators, singers, musicians to come!\n",
    "Not to-day is to justify me and answer what I am for,\n",
    "But you, a new brood, native, athletic, continental, greater than\n",
    "  before known,\n",
    "Arouse! for you must justify me.\n",
    "\"\"\""
   ]
  },
  {
   "cell_type": "code",
   "execution_count": null,
   "metadata": {},
   "outputs": [],
   "source": [
    "print(leaves_of_grass)"
   ]
  },
  {
   "cell_type": "markdown",
   "metadata": {},
   "source": [
    "In the above example, we assign a famous poet’s words to a variable. Even though the quote contains multiple linebreaks, the code works!\n",
    "\n",
    "If a multi-line string isn’t assigned a variable or used in an expression it is treated as a comment."
   ]
  },
  {
   "cell_type": "markdown",
   "metadata": {},
   "source": [
    "#### Application\n",
    "\n",
    "1. Assign the string\n",
    "\n",
    "Stranger, if you passing meet me and desire to speak to me, why\n",
    "  should you not speak to me?\n",
    "And why should I not speak to you?\n",
    "\n",
    "to the variable to_you."
   ]
  },
  {
   "cell_type": "code",
   "execution_count": null,
   "metadata": {},
   "outputs": [],
   "source": [
    "# Assign the string here\n",
    "to_you = '''Stranger, if you passing meet me and desire to speak to me, why should you not speak to me?\n",
    "And why should I not speak to you?'''\n",
    "\n",
    "\n",
    "print(to_you)"
   ]
  },
  {
   "cell_type": "markdown",
   "metadata": {},
   "source": [
    "## Review\n",
    "In this lesson, we accomplished a lot of things! We instructed our computers to print messages, we stored these messages as variables, and we learned to update those messages depending on the part of the program we were in. We performed mathematical calculations and explored some of the mathematical expressions that Python offers us. We learned about errors and other valuable skills that will continue to serve us as we develop our programming skills."
   ]
  },
  {
   "cell_type": "markdown",
   "metadata": {},
   "source": [
    "## Challege of the chapter"
   ]
  },
  {
   "cell_type": "markdown",
   "metadata": {},
   "source": [
    "1.\n",
    "Create variables:\n",
    "\n",
    "- my_age\n",
    "- half_my_age\n",
    "- greeting\n",
    "- name\n",
    "- greeting_with_name\n",
    "\n",
    "Assign values to each using your knowledge of division and concatenation!\n",
    "Please put your answer in the cell below."
   ]
  },
  {
   "cell_type": "code",
   "execution_count": null,
   "metadata": {},
   "outputs": [],
   "source": []
  },
  {
   "cell_type": "markdown",
   "metadata": {},
   "source": [
    "## Chapter quiz"
   ]
  },
  {
   "cell_type": "markdown",
   "metadata": {},
   "source": [
    "Question #1: Which of the following defined variables is a string?"
   ]
  },
  {
   "cell_type": "markdown",
   "metadata": {},
   "source": [
    "\n",
    "cool_variable_1 = 23.18\n",
    "\n",
    "cool_variable_2 = 9\n",
    "\n",
    "cool_variable_3 = \"Important Message!\"\n",
    "\n",
    "cool_variable_4 = 14 ** 3\n",
    "\n"
   ]
  },
  {
   "cell_type": "markdown",
   "metadata": {},
   "source": [
    "A. cool_variable_2\n",
    "\n",
    "\n",
    "B. cool_variable_4\n",
    "\n",
    "\n",
    "C. cool_variable_3\n",
    "\n",
    "\n",
    "D. cool_variable_1"
   ]
  },
  {
   "cell_type": "markdown",
   "metadata": {},
   "source": [
    "Question #2: Which function outputs text to the terminal?"
   ]
  },
  {
   "cell_type": "markdown",
   "metadata": {},
   "source": [
    "A. type()\n",
    "\n",
    "\n",
    "B. write()\n",
    "\n",
    "\n",
    "C. print()\n",
    "\n",
    "\n",
    "D. output()"
   ]
  },
  {
   "cell_type": "markdown",
   "metadata": {},
   "source": [
    "Question #3: What is the value of total_cost that gets printed?\n",
    "\n",
    "total_cost = 5\n",
    "\n",
    "total_cost += 10\n",
    "\n",
    "print(total_cost)"
   ]
  },
  {
   "cell_type": "markdown",
   "metadata": {},
   "source": [
    "A. 5\n",
    "\n",
    "\n",
    "B. 15\n",
    "\n",
    "\n",
    "C. 10"
   ]
  },
  {
   "cell_type": "markdown",
   "metadata": {},
   "source": [
    "Question #4: Which of the following will produce a SyntaxError?\n",
    "\n",
    "\n",
    "A. answer = \"Is this an error'\n",
    "\n",
    "B. answer = is_this_an_error\n",
    "\n",
    "C. answer = \"Is this an error\""
   ]
  },
  {
   "cell_type": "markdown",
   "metadata": {},
   "source": [
    "Question #5: What is the output of the following code?\n",
    "\n",
    "cool_number = 12 + 30\n",
    "\n",
    "cool_number * 5\n",
    "\n",
    "print(cool_number)\n",
    "\n",
    "\n",
    "A. 42\n",
    "\n",
    "\n",
    "B. 210\n",
    "\n",
    "\n",
    "C. cool_number"
   ]
  },
  {
   "cell_type": "markdown",
   "metadata": {},
   "source": [
    "Question #6: What is the value of modulo_variable in the following expression?\n",
    "\n",
    "modulo_variable = 14 % 4\n",
    "\n",
    "A. 2\n",
    "\n",
    "\n",
    "B. 3.5\n",
    "\n",
    "\n",
    "C. 56"
   ]
  },
  {
   "cell_type": "markdown",
   "metadata": {},
   "source": [
    "Question #7: What is the value of total_cost that gets printed?\n",
    "\n",
    "total_cost = 5\n",
    "\n",
    "total_cost += 10\n",
    "\n",
    "print(total_cost)\n",
    "\n",
    "\n",
    "A. 10\n",
    "\n",
    "\n",
    "B. 5\n",
    "\n",
    "\n",
    "C. 15"
   ]
  },
  {
   "cell_type": "markdown",
   "metadata": {},
   "source": [
    "Question #8: How do you combine two strings?\n",
    "\n",
    "A. string1.combine(string2)\n",
    "\n",
    "B. string1.concatenate(string2)\n",
    "\n",
    "C. string1 + string2\n"
   ]
  },
  {
   "cell_type": "markdown",
   "metadata": {},
   "source": [
    "Question #9: What is Python syntax for creating a variable and assigning the number 10 to it?\n",
    "\n",
    "\n",
    "A. variable_name == 10\n",
    "\n",
    "\n",
    "B. def variable_name = 10\n",
    "\n",
    "\n",
    "C. new variable_name = 10\n",
    "\n",
    "\n",
    "D. variable_name = 10"
   ]
  },
  {
   "cell_type": "markdown",
   "metadata": {},
   "source": [
    "Question #10: What number is saved to exponented_variable in the following expression?\n",
    "\n",
    "exponented_variable = 2 ** 4\n",
    "\n",
    "A. 16\n",
    "\n",
    "\n",
    "B. 8"
   ]
  },
  {
   "cell_type": "markdown",
   "metadata": {},
   "source": [
    "Question #11: What happens when running the following code?\n",
    "\n",
    "message = What a cool message!\n",
    "print(message)\n",
    "\n",
    "A. “message” is printed.\n",
    "\n",
    "\n",
    "B. Python throws a SyntaxError because the string is not surrounded by quotes.\n",
    "\n",
    "\n",
    "C. “What a cool message!” gets printed to the console."
   ]
  },
  {
   "cell_type": "markdown",
   "metadata": {},
   "source": [
    "## Built - in Types\n",
    "In this documentation, you will learn about the built-in data types of Python. This is helpful if you would like to learn about data types that you can use when programming in Python.\n",
    "\n",
    "https://docs.python.org/3/library/stdtypes.html"
   ]
  },
  {
   "cell_type": "code",
   "execution_count": null,
   "metadata": {},
   "outputs": [],
   "source": []
  }
 ],
 "metadata": {
  "kernelspec": {
   "display_name": "Python 3",
   "language": "python",
   "name": "python3"
  },
  "language_info": {
   "codemirror_mode": {
    "name": "ipython",
    "version": 3
   },
   "file_extension": ".py",
   "mimetype": "text/x-python",
   "name": "python",
   "nbconvert_exporter": "python",
   "pygments_lexer": "ipython3",
   "version": "3.8.3"
  }
 },
 "nbformat": 4,
 "nbformat_minor": 4
}
