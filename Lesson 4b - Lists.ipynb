{
 "cells": [
  {
   "cell_type": "markdown",
   "metadata": {},
   "source": [
    "## Length of a List\n",
    "\n",
    "Often, we’ll need to find the number of items in a list, usually called its length.\n",
    "\n",
    "We can do this using the function len. When we apply len to a list, we get the number of elements in that list:\n",
    "\n",
    "my_list = [1, 2, 3, 4, 5]\n",
    "\n",
    "print(len(my_list))\n",
    "\n",
    "This would yield:\n",
    "\n",
    "5"
   ]
  },
  {
   "cell_type": "markdown",
   "metadata": {},
   "source": [
    "### Applications"
   ]
  },
  {
   "cell_type": "markdown",
   "metadata": {},
   "source": [
    "1.\n",
    "Calculate the length of list1 and save it to the variable list1_len."
   ]
  },
  {
   "cell_type": "code",
   "execution_count": 4,
   "metadata": {},
   "outputs": [
    {
     "name": "stdout",
     "output_type": "stream",
     "text": [
      "9\n"
     ]
    }
   ],
   "source": [
    "list1 = range(2, 20, 2)\n",
    "list1_len = len(list1)\n",
    "print(list1_len)"
   ]
  },
  {
   "cell_type": "code",
   "execution_count": null,
   "metadata": {},
   "outputs": [],
   "source": []
  },
  {
   "cell_type": "markdown",
   "metadata": {},
   "source": [
    "2.\n",
    "Use print to examine list1_len."
   ]
  },
  {
   "cell_type": "code",
   "execution_count": 5,
   "metadata": {},
   "outputs": [
    {
     "name": "stdout",
     "output_type": "stream",
     "text": [
      "9\n"
     ]
    }
   ],
   "source": [
    "print(list1_len)"
   ]
  },
  {
   "cell_type": "markdown",
   "metadata": {},
   "source": [
    "3.\n",
    "Change the range command that generates list1 so that it skips 3 instead of 2 between items.\n",
    "\n",
    "How does this change list1_len?"
   ]
  },
  {
   "cell_type": "code",
   "execution_count": 6,
   "metadata": {},
   "outputs": [
    {
     "name": "stdout",
     "output_type": "stream",
     "text": [
      "6\n"
     ]
    }
   ],
   "source": [
    "list1 = range(2, 20, 3)\n",
    "list1_len = len(list1)\n",
    "print(list1_len)"
   ]
  },
  {
   "cell_type": "markdown",
   "metadata": {},
   "source": [
    "### Selecting List Elements I\n",
    "Chris is interviewing candidates for a job. He will call each candidate in order, represented by a Python list:"
   ]
  },
  {
   "cell_type": "code",
   "execution_count": 8,
   "metadata": {},
   "outputs": [],
   "source": [
    "calls = ['Ali', 'Bob', 'Cam', 'Doug', 'Ellie']"
   ]
  },
  {
   "cell_type": "markdown",
   "metadata": {},
   "source": [
    "First, he’ll call 'Ali', then 'Bob', etc.\n",
    "\n",
    "In Python, we call the order of an element in a list its index.\n",
    "\n",
    "Python lists are zero-indexed. This means that the first element in a list has index 0, rather than 1.\n",
    "\n",
    "Here are the index numbers for that list:"
   ]
  },
  {
   "cell_type": "markdown",
   "metadata": {},
   "source": [
    "- Element\tIndex\n",
    "- 'Ali'\t     0\n",
    "- 'Bob'\t     1\n",
    "- 'Cam'\t     2\n",
    "- 'Doug'\t 3\n",
    "- 'Ellie'\t 4\n",
    "\n",
    "In this example, the element with index 2 is 'Cam'.\n",
    "\n",
    "We can select a single element from a list by using square brackets ([]) and the index of the list item. For example, if we wanted to select the third element from the list, we’d use calls[2]:"
   ]
  },
  {
   "cell_type": "code",
   "execution_count": 14,
   "metadata": {},
   "outputs": [
    {
     "name": "stdout",
     "output_type": "stream",
     "text": [
      "Cam\n"
     ]
    }
   ],
   "source": [
    "print(calls[int(4/2)])"
   ]
  },
  {
   "cell_type": "markdown",
   "metadata": {},
   "source": [
    "Note that when accessing elements of an array, you must use an int as the index. If you use a float, you will get an error. This can be especially tricky when using division. For example print(calls[4/2]) will result in an error, because 4/2 gets evaluated to the float 2.0.\n",
    "\n",
    "To solve this problem, you can force the result of your division to be an int by using the int() function. int() takes a number and cuts off the decimal point. For example, int(5.9) and int(5.0) will both become 5. Therefore, calls[int(4/2)] will result in the same value as calls[2], whereas calls[4/2] will result in an error."
   ]
  },
  {
   "cell_type": "markdown",
   "metadata": {},
   "source": [
    "### Applications\n",
    "1.\n",
    "Use square brackets ([ and ]) to select the element with index 4 from the list employees. Save it to the variable index4."
   ]
  },
  {
   "cell_type": "code",
   "execution_count": 15,
   "metadata": {},
   "outputs": [],
   "source": [
    "employees = ['Michael', 'Dwight', 'Jim', 'Pam', 'Ryan', 'Andy', 'Robert']"
   ]
  },
  {
   "cell_type": "code",
   "execution_count": 16,
   "metadata": {},
   "outputs": [],
   "source": [
    "index4 = employees[4]"
   ]
  },
  {
   "cell_type": "markdown",
   "metadata": {},
   "source": [
    "2.\n",
    "Use print and len to display how many items are in employees."
   ]
  },
  {
   "cell_type": "code",
   "execution_count": 17,
   "metadata": {},
   "outputs": [
    {
     "name": "stdout",
     "output_type": "stream",
     "text": [
      "7\n"
     ]
    }
   ],
   "source": [
    "print(len(employees))"
   ]
  },
  {
   "cell_type": "markdown",
   "metadata": {},
   "source": [
    "3.\n",
    "Paste the following code into script.py:\n",
    "\n",
    "print(employees[8])\n",
    "\n",
    "What happens? Why?"
   ]
  },
  {
   "cell_type": "code",
   "execution_count": 22,
   "metadata": {},
   "outputs": [
    {
     "ename": "IndexError",
     "evalue": "list index out of range",
     "output_type": "error",
     "traceback": [
      "\u001b[1;31m---------------------------------------------------------------------------\u001b[0m",
      "\u001b[1;31mIndexError\u001b[0m                                Traceback (most recent call last)",
      "\u001b[1;32m<ipython-input-22-ddbf1dd23a57>\u001b[0m in \u001b[0;36m<module>\u001b[1;34m\u001b[0m\n\u001b[1;32m----> 1\u001b[1;33m \u001b[0mprint\u001b[0m\u001b[1;33m(\u001b[0m\u001b[0memployees\u001b[0m\u001b[1;33m[\u001b[0m\u001b[1;36m8\u001b[0m\u001b[1;33m]\u001b[0m\u001b[1;33m)\u001b[0m\u001b[1;33m\u001b[0m\u001b[1;33m\u001b[0m\u001b[0m\n\u001b[0m",
      "\u001b[1;31mIndexError\u001b[0m: list index out of range"
     ]
    }
   ],
   "source": [
    "print(employees[8])"
   ]
  },
  {
   "cell_type": "markdown",
   "metadata": {},
   "source": [
    "4.\n",
    "Selecting an element that does not exist produces an IndexError.\n",
    "\n",
    "In the line of code that you pasted, change 8 to a different number so that you don’t get an IndexError."
   ]
  },
  {
   "cell_type": "code",
   "execution_count": 23,
   "metadata": {},
   "outputs": [
    {
     "name": "stdout",
     "output_type": "stream",
     "text": [
      "Robert\n"
     ]
    }
   ],
   "source": [
    "print(employees[6])"
   ]
  },
  {
   "cell_type": "markdown",
   "metadata": {},
   "source": [
    "### Possible Question\n",
    "Can list slicing work without specifying the end?"
   ]
  },
  {
   "cell_type": "markdown",
   "metadata": {},
   "source": [
    "### Possible Answer\n",
    "Yes, it is possible to use a slice without specifying the end. In that case, the slice will return the list from the start point through the end of the list. This would be useful if you wanted to remove a known number of items from the start of the list and keep the remainder.\n",
    "\n",
    "In the following example code, a list is sliced using a defined start and end point and then again specifying only the start.\n"
   ]
  },
  {
   "cell_type": "code",
   "execution_count": 24,
   "metadata": {},
   "outputs": [
    {
     "name": "stdout",
     "output_type": "stream",
     "text": [
      "['green', 'blue', 'yellow']\n",
      "['green', 'blue', 'yellow', 'orange']\n"
     ]
    }
   ],
   "source": [
    "colors = ['red', 'green', 'blue', 'yellow', 'orange']\n",
    "\n",
    "# Values from index 1 to less than 4 = ['green', 'blue', 'yellow']\n",
    "print(colors[1:4])\n",
    "\n",
    "#  Start at index 1 till end = ['green', 'blue', 'yellow', 'orange']\n",
    "print(colors[1:])"
   ]
  },
  {
   "cell_type": "code",
   "execution_count": 25,
   "metadata": {},
   "outputs": [
    {
     "name": "stdout",
     "output_type": "stream",
     "text": [
      "orange\n"
     ]
    }
   ],
   "source": [
    "print(colors[-1])"
   ]
  },
  {
   "cell_type": "markdown",
   "metadata": {},
   "source": [
    "## Selecting List Elements II\n",
    "What if we want to select the last element of a list?\n",
    "\n",
    "We can use the index -1 to select the last item of a list, even when we don’t know how many elements are in a list.\n",
    "\n",
    "Consider the following list with 5 elements:"
   ]
  },
  {
   "cell_type": "code",
   "execution_count": 26,
   "metadata": {},
   "outputs": [],
   "source": [
    "list1 = ['a', 'b', 'c', 'd', 'e']"
   ]
  },
  {
   "cell_type": "markdown",
   "metadata": {},
   "source": [
    "If we select the -1 element, we get the final element, 'e':"
   ]
  },
  {
   "cell_type": "code",
   "execution_count": 27,
   "metadata": {},
   "outputs": [
    {
     "name": "stdout",
     "output_type": "stream",
     "text": [
      "e\n"
     ]
    }
   ],
   "source": [
    "print(list1[-1])"
   ]
  },
  {
   "cell_type": "markdown",
   "metadata": {},
   "source": [
    "This is the same as selecting the element with index 4:"
   ]
  },
  {
   "cell_type": "code",
   "execution_count": 28,
   "metadata": {},
   "outputs": [
    {
     "name": "stdout",
     "output_type": "stream",
     "text": [
      "e\n"
     ]
    }
   ],
   "source": [
    "print(list1[4])"
   ]
  },
  {
   "cell_type": "markdown",
   "metadata": {},
   "source": [
    "### Applications\n",
    "1.\n",
    "Use print and len to display the length of shopping_list."
   ]
  },
  {
   "cell_type": "code",
   "execution_count": 29,
   "metadata": {},
   "outputs": [
    {
     "name": "stdout",
     "output_type": "stream",
     "text": [
      "6\n"
     ]
    }
   ],
   "source": [
    "shopping_list = ['eggs', 'butter', 'milk', 'cucumbers', 'juice', 'cereal']\n",
    "print(len(shopping_list))"
   ]
  },
  {
   "cell_type": "markdown",
   "metadata": {},
   "source": [
    "2.\n",
    "Get the last element of shopping_list using the -1 index. Save this element to the variable last_element."
   ]
  },
  {
   "cell_type": "code",
   "execution_count": 30,
   "metadata": {},
   "outputs": [
    {
     "name": "stdout",
     "output_type": "stream",
     "text": [
      "cereal\n"
     ]
    }
   ],
   "source": [
    "last_element = shopping_list[-1]\n",
    "print(last_element)"
   ]
  },
  {
   "cell_type": "markdown",
   "metadata": {},
   "source": [
    "3.\n",
    "Now select the element with index 5 and save it to the variable element5."
   ]
  },
  {
   "cell_type": "code",
   "execution_count": 31,
   "metadata": {},
   "outputs": [
    {
     "name": "stdout",
     "output_type": "stream",
     "text": [
      "cereal\n"
     ]
    }
   ],
   "source": [
    "element5 = shopping_list[5]\n",
    "print(element5)"
   ]
  },
  {
   "cell_type": "markdown",
   "metadata": {},
   "source": [
    "4.\n",
    "Use print to display both element5 and last_element."
   ]
  },
  {
   "cell_type": "code",
   "execution_count": 32,
   "metadata": {},
   "outputs": [
    {
     "data": {
      "text/plain": [
       "True"
      ]
     },
     "execution_count": 32,
     "metadata": {},
     "output_type": "execute_result"
    }
   ],
   "source": [
    "element5 == last_element"
   ]
  },
  {
   "cell_type": "markdown",
   "metadata": {},
   "source": [
    "### Possible Question\n",
    "Can negative numbers be used for the start or end points of a slice?\n",
    "\n",
    "### Possible answer with an example\n",
    "Yes, negative numbers can be used for the start or end of a list slice. A negative number used for the start of the slice will return a list which contains the number of items starting from the end of the list. A negative number used for the end returns a list which contains items excluding the number of items at the end of the list.\n",
    "\n",
    "The following example shows both cases."
   ]
  },
  {
   "cell_type": "code",
   "execution_count": 33,
   "metadata": {},
   "outputs": [
    {
     "name": "stdout",
     "output_type": "stream",
     "text": [
      "['yellow', 'orange']\n",
      "['red', 'green', 'blue']\n"
     ]
    }
   ],
   "source": [
    "colors = ['red', 'green', 'blue', 'yellow', 'orange']\n",
    "\n",
    "# List containing only last 2 = ['yellow', 'orange']\n",
    "print(colors[-2:])\n",
    "\n",
    "# List excluding last 2 = ['red', 'green', 'blue']\n",
    "print(colors[:-2])"
   ]
  },
  {
   "cell_type": "markdown",
   "metadata": {},
   "source": [
    "## Slicing Lists\n",
    "Suppose we have a list of letters:"
   ]
  },
  {
   "cell_type": "code",
   "execution_count": 34,
   "metadata": {},
   "outputs": [],
   "source": [
    "letters = ['a', 'b', 'c', 'd', 'e', 'f', 'g']"
   ]
  },
  {
   "cell_type": "markdown",
   "metadata": {},
   "source": [
    "Suppose we want to select from b through f.\n",
    "\n",
    "We can do this using the following syntax: letters[start:end], where:\n",
    "\n",
    "start is the index of the first element that we want to include in our selection. In this case, we want to start at b, which has index 1.\n",
    "end is the index of one more than the last index that we want to include. The last element we want is f, which has index 5, so end needs to be 6."
   ]
  },
  {
   "cell_type": "code",
   "execution_count": 35,
   "metadata": {},
   "outputs": [
    {
     "name": "stdout",
     "output_type": "stream",
     "text": [
      "['b', 'c', 'd', 'e', 'f']\n"
     ]
    }
   ],
   "source": [
    "sublist = letters[1:6]\n",
    "print(sublist)"
   ]
  },
  {
   "cell_type": "markdown",
   "metadata": {},
   "source": [
    "This example would yield:\n",
    "['b', 'c', 'd', 'e', 'f']\n",
    "Notice that the element at index 6 (which is g) is not included in our selection."
   ]
  },
  {
   "cell_type": "markdown",
   "metadata": {},
   "source": [
    "### Application\n",
    "1.\n",
    "Use print to examine the variable beginning.\n",
    "\n",
    "How many elements does it contain?"
   ]
  },
  {
   "cell_type": "code",
   "execution_count": 37,
   "metadata": {},
   "outputs": [
    {
     "name": "stdout",
     "output_type": "stream",
     "text": [
      "6\n",
      "['shirt', 'shirt']\n"
     ]
    }
   ],
   "source": [
    "suitcase = ['shirt', 'shirt', 'pants', 'pants', 'pajamas', 'books']\n",
    "print(len(suitcase))\n",
    "beginning = suitcase[0:2]\n",
    "\n",
    "print(beginning)"
   ]
  },
  {
   "cell_type": "markdown",
   "metadata": {},
   "source": [
    "2.\n",
    "Modify beginning, so that it selects the first 4 elements of suitcase"
   ]
  },
  {
   "cell_type": "code",
   "execution_count": 40,
   "metadata": {},
   "outputs": [
    {
     "name": "stdout",
     "output_type": "stream",
     "text": [
      "['shirt', 'shirt', 'pants', 'pants']\n"
     ]
    }
   ],
   "source": [
    "beginning = suitcase[0:4]\n",
    "\n",
    "print(beginning)"
   ]
  },
  {
   "cell_type": "markdown",
   "metadata": {},
   "source": [
    "3.\n",
    "Create a new list called middle that contains the middle two items from suitcase."
   ]
  },
  {
   "cell_type": "code",
   "execution_count": 43,
   "metadata": {},
   "outputs": [
    {
     "name": "stdout",
     "output_type": "stream",
     "text": [
      "['pants', 'pants']\n"
     ]
    }
   ],
   "source": [
    "middle = suitcase[2:4]\n",
    "print(middle)"
   ]
  },
  {
   "cell_type": "code",
   "execution_count": 45,
   "metadata": {},
   "outputs": [
    {
     "name": "stdout",
     "output_type": "stream",
     "text": [
      "['pants', 'pants']\n"
     ]
    }
   ],
   "source": [
    "middle = suitcase[((int(len(suitcase)/2))-1):((int(len(suitcase)/2))+1)]\n",
    "print(middle)"
   ]
  },
  {
   "cell_type": "markdown",
   "metadata": {},
   "source": [
    "### Possible question\n",
    "Why is the end index one higher than the index we want?"
   ]
  },
  {
   "cell_type": "markdown",
   "metadata": {},
   "source": [
    "### Possible answer with an example\n",
    "It is a numbering convention in many (nearly all?) computer languages, and, yes, you could just accept it and move on, but consider: what if you didn’t know how long the list was?"
   ]
  },
  {
   "cell_type": "code",
   "execution_count": 44,
   "metadata": {},
   "outputs": [
    {
     "name": "stdout",
     "output_type": "stream",
     "text": [
      "['b', 'c', 'd', 'e', 'f', 'g']\n"
     ]
    }
   ],
   "source": [
    "letters = ['a', 'b', 'c', 'd', 'e', 'f', 'g']\n",
    "sublist = letters[1:len(letters)]   # no \"magic numbers\" needed!\n",
    "print(sublist)\n"
   ]
  },
  {
   "cell_type": "markdown",
   "metadata": {},
   "source": [
    "## Slicing Lists II\n",
    "If we want to select the first 3 elements of a list, we could use the following code:"
   ]
  },
  {
   "cell_type": "code",
   "execution_count": 46,
   "metadata": {},
   "outputs": [
    {
     "name": "stdout",
     "output_type": "stream",
     "text": [
      "['apple', 'banana', 'cherry']\n"
     ]
    }
   ],
   "source": [
    "fruits = ['apple', 'banana', 'cherry', 'date']\n",
    "print(fruits[0:3])"
   ]
  },
  {
   "cell_type": "markdown",
   "metadata": {},
   "source": [
    "When starting at the beginning of the list, it is also valid to omit the 0:"
   ]
  },
  {
   "cell_type": "code",
   "execution_count": 47,
   "metadata": {},
   "outputs": [
    {
     "name": "stdout",
     "output_type": "stream",
     "text": [
      "['apple', 'banana', 'cherry']\n"
     ]
    }
   ],
   "source": [
    "print(fruits[:3])"
   ]
  },
  {
   "cell_type": "markdown",
   "metadata": {},
   "source": [
    "We can do something similar when selecting the last few items of a list:"
   ]
  },
  {
   "cell_type": "code",
   "execution_count": 48,
   "metadata": {},
   "outputs": [
    {
     "name": "stdout",
     "output_type": "stream",
     "text": [
      "['cherry', 'date']\n"
     ]
    }
   ],
   "source": [
    "print(fruits[2:])"
   ]
  },
  {
   "cell_type": "markdown",
   "metadata": {},
   "source": [
    "We can omit the final index when selecting the final elements from a list.\n",
    "\n",
    "If we want to select the last 3 elements of fruits, we can also use this syntax:"
   ]
  },
  {
   "cell_type": "code",
   "execution_count": 49,
   "metadata": {},
   "outputs": [
    {
     "name": "stdout",
     "output_type": "stream",
     "text": [
      "['banana', 'cherry', 'date']\n"
     ]
    }
   ],
   "source": [
    "print(fruits[-3:])"
   ]
  },
  {
   "cell_type": "markdown",
   "metadata": {},
   "source": [
    "We can use negative indexes to count backward from the last element."
   ]
  },
  {
   "cell_type": "markdown",
   "metadata": {},
   "source": [
    "### Applications"
   ]
  },
  {
   "cell_type": "markdown",
   "metadata": {},
   "source": [
    "1.\n",
    "Create a new list called start containing the first 3 elements of suitcase."
   ]
  },
  {
   "cell_type": "code",
   "execution_count": 50,
   "metadata": {},
   "outputs": [],
   "source": [
    "suitcase = ['shirt', 'shirt', 'pants', 'pants', 'pajamas', 'books']"
   ]
  },
  {
   "cell_type": "code",
   "execution_count": 53,
   "metadata": {},
   "outputs": [
    {
     "name": "stdout",
     "output_type": "stream",
     "text": [
      "['shirt', 'shirt', 'pants']\n"
     ]
    }
   ],
   "source": [
    "start = suitcase[:3]\n",
    "print(start)"
   ]
  },
  {
   "cell_type": "markdown",
   "metadata": {},
   "source": [
    "2.\n",
    "Create a new list called end containing the final two elements of suitcase."
   ]
  },
  {
   "cell_type": "code",
   "execution_count": 55,
   "metadata": {},
   "outputs": [
    {
     "name": "stdout",
     "output_type": "stream",
     "text": [
      "['pajamas', 'books']\n"
     ]
    }
   ],
   "source": [
    "end = suitcase[-2:]\n",
    "print(end)"
   ]
  },
  {
   "cell_type": "markdown",
   "metadata": {},
   "source": [
    "### Possible question\n",
    "Is there a way to find the last item in a list without using the len() function?"
   ]
  },
  {
   "cell_type": "markdown",
   "metadata": {},
   "source": [
    "#### Possible Answer with example\n",
    "The last item in a list can be found using the index value computed by len() - 1 for the list. A short-hand for this is to use an index value of -1. For any list, accessing the index of [-1] will return the last element of the list without needing to use the len() function.\n",
    "\n",
    "In the example below, both print() functions will output orange for the color."
   ]
  },
  {
   "cell_type": "code",
   "execution_count": 56,
   "metadata": {},
   "outputs": [
    {
     "name": "stdout",
     "output_type": "stream",
     "text": [
      "orange\n",
      "orange\n"
     ]
    }
   ],
   "source": [
    "colors = ['red', 'green', 'blue', 'yellow', 'orange']\n",
    "\n",
    "print(colors[-1])\n",
    "\n",
    "print(colors[len(colors) - 1])"
   ]
  },
  {
   "cell_type": "markdown",
   "metadata": {},
   "source": [
    "## Counting elements in a list\n",
    "Suppose we have a list called letters that represents the letters in the word “Mississippi”:"
   ]
  },
  {
   "cell_type": "code",
   "execution_count": 58,
   "metadata": {},
   "outputs": [],
   "source": [
    "letters = ['m', 'i', 's', 's', 'i', 's', 's', 'i', 'p', 'p', 'i']"
   ]
  },
  {
   "cell_type": "markdown",
   "metadata": {},
   "source": [
    "If we want to know how many times i appears in this word, we can use the function count:"
   ]
  },
  {
   "cell_type": "code",
   "execution_count": 59,
   "metadata": {},
   "outputs": [
    {
     "name": "stdout",
     "output_type": "stream",
     "text": [
      "4\n"
     ]
    }
   ],
   "source": [
    "num_i = letters.count('i')\n",
    "print(num_i)"
   ]
  },
  {
   "cell_type": "markdown",
   "metadata": {},
   "source": [
    "This would print out:\n",
    "\n",
    "4"
   ]
  },
  {
   "cell_type": "markdown",
   "metadata": {},
   "source": [
    "### Applications\n",
    "1.\n",
    "Mrs. WIlson’s class is voting for class president. She has saved each student’s vote into the list votes.\n",
    "\n",
    "Use count to determine how many students voted for 'Jake'. Save your answer as jake_votes."
   ]
  },
  {
   "cell_type": "code",
   "execution_count": 60,
   "metadata": {},
   "outputs": [
    {
     "name": "stdout",
     "output_type": "stream",
     "text": [
      "9\n"
     ]
    }
   ],
   "source": [
    "votes = ['Jake', 'Jake', 'Laurie', 'Laurie', 'Laurie', 'Jake', 'Jake', 'Jake', 'Laurie', 'Cassie', 'Cassie', 'Jake', 'Jake', 'Cassie', 'Laurie', 'Cassie', 'Jake', 'Jake', 'Cassie', 'Laurie']\n",
    "\n",
    "jake_votes = votes.count(\"Jake\")\n",
    "print(jake_votes)"
   ]
  },
  {
   "cell_type": "markdown",
   "metadata": {},
   "source": [
    "2.\n",
    "Use print to examine jake_votes."
   ]
  },
  {
   "cell_type": "code",
   "execution_count": 61,
   "metadata": {},
   "outputs": [
    {
     "name": "stdout",
     "output_type": "stream",
     "text": [
      "9\n"
     ]
    }
   ],
   "source": [
    "print(jake_votes)"
   ]
  },
  {
   "cell_type": "markdown",
   "metadata": {},
   "source": [
    "## Sorting Lists I\n",
    "Sometimes, we want to sort a list in either numerical (1, 2, 3, …) or alphabetical (a, b, c, …) order.\n",
    "\n",
    "We can sort a list in place using .sort(). Suppose that we have a list of names"
   ]
  },
  {
   "cell_type": "code",
   "execution_count": 62,
   "metadata": {},
   "outputs": [
    {
     "name": "stdout",
     "output_type": "stream",
     "text": [
      "['Xander', 'Buffy', 'Angel', 'Willow', 'Giles']\n"
     ]
    }
   ],
   "source": [
    "names = ['Xander', 'Buffy', 'Angel', 'Willow', 'Giles']\n",
    "print(names)"
   ]
  },
  {
   "cell_type": "markdown",
   "metadata": {},
   "source": [
    "Now we apply .sort():\n"
   ]
  },
  {
   "cell_type": "code",
   "execution_count": 63,
   "metadata": {},
   "outputs": [
    {
     "name": "stdout",
     "output_type": "stream",
     "text": [
      "['Angel', 'Buffy', 'Giles', 'Willow', 'Xander']\n"
     ]
    }
   ],
   "source": [
    "\n",
    "names.sort()\n",
    "print(names)"
   ]
  },
  {
   "cell_type": "markdown",
   "metadata": {},
   "source": [
    "And we get:\n",
    "\n",
    "['Angel', 'Buffy', 'Giles', 'Willow', 'Xander']\n",
    "\n",
    "Notice that sort goes after our list, names. If we try sort(names), we will get a NameError.\n",
    "\n",
    "sort does not return anything. So, if we try to assign names.sort() to a variable, our new variable would be None:\n",
    "\n"
   ]
  },
  {
   "cell_type": "code",
   "execution_count": 64,
   "metadata": {},
   "outputs": [
    {
     "name": "stdout",
     "output_type": "stream",
     "text": [
      "None\n"
     ]
    }
   ],
   "source": [
    "sorted_names = names.sort()\n",
    "print(sorted_names)\n"
   ]
  },
  {
   "cell_type": "markdown",
   "metadata": {},
   "source": [
    "\n",
    "This prints:\n",
    "\n",
    "None\n",
    "\n",
    "Although sorted_names is None, the line sorted_names = names.sort() still edited names:\n",
    "\n"
   ]
  },
  {
   "cell_type": "code",
   "execution_count": 67,
   "metadata": {},
   "outputs": [
    {
     "name": "stdout",
     "output_type": "stream",
     "text": [
      "['Xander', 'Buffy', 'Angel', 'Willow', 'Giles']\n"
     ]
    }
   ],
   "source": [
    "print(names)"
   ]
  },
  {
   "cell_type": "markdown",
   "metadata": {},
   "source": [
    "### Applications\n",
    "\n",
    "1. Use sort to sort addresses.\n",
    "2. Use print to see how addresses changed."
   ]
  },
  {
   "cell_type": "code",
   "execution_count": 70,
   "metadata": {},
   "outputs": [
    {
     "name": "stdout",
     "output_type": "stream",
     "text": [
      "['10 Downing St.', '12 Grimmauld Place', '1600 Pennsylvania Ave', '221 B Baker St.', '42 Wallaby Way', '742 Evergreen Terrace']\n"
     ]
    }
   ],
   "source": [
    "### Exercise 1 & 2 ###\n",
    "addresses = ['221 B Baker St.', '42 Wallaby Way', '12 Grimmauld Place', '742 Evergreen Terrace', '1600 Pennsylvania Ave', '10 Downing St.']\n",
    "\n",
    "# Sort addresses here:\n",
    "addresses.sort()\n",
    "print(addresses)"
   ]
  },
  {
   "cell_type": "markdown",
   "metadata": {},
   "source": [
    "3.\n",
    "Remove the # in front of the line sort(names). Edit this line so that it runs without producing a NameError."
   ]
  },
  {
   "cell_type": "code",
   "execution_count": 72,
   "metadata": {},
   "outputs": [
    {
     "data": {
      "text/plain": [
       "['Albus', 'Harry', 'Hermione', 'Ron', 'Sirius']"
      ]
     },
     "execution_count": 72,
     "metadata": {},
     "output_type": "execute_result"
    }
   ],
   "source": [
    "### Exercise 3 ###\n",
    "names = ['Ron', 'Hermione', 'Harry', 'Albus', 'Sirius']\n",
    "sorted(names)\n",
    "\n"
   ]
  },
  {
   "cell_type": "markdown",
   "metadata": {},
   "source": [
    "4.\n",
    "Use print to examine sorted_cities. Why is it not the sorted version of cities?"
   ]
  },
  {
   "cell_type": "code",
   "execution_count": 75,
   "metadata": {},
   "outputs": [
    {
     "name": "stdout",
     "output_type": "stream",
     "text": [
      "None\n"
     ]
    }
   ],
   "source": [
    "### Exercise 4 ###\n",
    "cities = ['London', 'Paris', 'Rome', 'Los Angeles', 'New York']\n",
    "\n",
    "sorted_cities = cities.sort()\n",
    "print(sorted_cities)"
   ]
  },
  {
   "cell_type": "markdown",
   "metadata": {},
   "source": [
    "## Sorting Lists II\n",
    "A second way of sorting a list is to use sorted. sorted is different from .sort() in several ways:\n",
    "\n",
    "1. It comes before a list, instead of after.\n",
    "2. It generates a new list.\n",
    "\n",
    "Let’s return to our list of names:"
   ]
  },
  {
   "cell_type": "code",
   "execution_count": 80,
   "metadata": {},
   "outputs": [],
   "source": [
    "names = ['Xander', 'Buffy', 'Angel', 'Willow', 'Giles']"
   ]
  },
  {
   "cell_type": "markdown",
   "metadata": {},
   "source": [
    "Using sorted, we can create a new list, called sorted_names:"
   ]
  },
  {
   "cell_type": "code",
   "execution_count": 82,
   "metadata": {},
   "outputs": [
    {
     "name": "stdout",
     "output_type": "stream",
     "text": [
      "['Angel', 'Buffy', 'Giles', 'Willow', 'Xander']\n"
     ]
    }
   ],
   "source": [
    "sorted_names = sorted(names)\n",
    "print(sorted_names)"
   ]
  },
  {
   "cell_type": "markdown",
   "metadata": {},
   "source": [
    "This yields the list sorted alphabetically:\n",
    "\n",
    "['Angel', 'Buffy', 'Giles', 'Willow', 'Xander']\n",
    "\n",
    "Note that using sorted did not change names:\n"
   ]
  },
  {
   "cell_type": "code",
   "execution_count": 83,
   "metadata": {},
   "outputs": [
    {
     "name": "stdout",
     "output_type": "stream",
     "text": [
      "['Xander', 'Buffy', 'Angel', 'Willow', 'Giles']\n"
     ]
    }
   ],
   "source": [
    "print(names)"
   ]
  },
  {
   "cell_type": "markdown",
   "metadata": {},
   "source": [
    "### Applications\n",
    "1.\n",
    "Use sorted to order games and create a new list called games_sorted."
   ]
  },
  {
   "cell_type": "code",
   "execution_count": 84,
   "metadata": {},
   "outputs": [],
   "source": [
    "games = ['Portal', 'Minecraft', 'Pacman', 'Tetris', 'The Sims', 'Pokemon']\n",
    "games_sorted = sorted(games)"
   ]
  },
  {
   "cell_type": "markdown",
   "metadata": {},
   "source": [
    "2.\n",
    "Use print to inspect games and games_sorted. How are they different?"
   ]
  },
  {
   "cell_type": "code",
   "execution_count": 85,
   "metadata": {},
   "outputs": [
    {
     "name": "stdout",
     "output_type": "stream",
     "text": [
      "['Minecraft', 'Pacman', 'Pokemon', 'Portal', 'Tetris', 'The Sims']\n"
     ]
    }
   ],
   "source": [
    "print(games_sorted)"
   ]
  },
  {
   "cell_type": "markdown",
   "metadata": {},
   "source": [
    "### Possible question\n",
    "What is the difference between sort() and sorted()?\n",
    "\n",
    "### Possible Answer\n",
    "The primary difference between the list sort() function and the sorted() function is that the sort() function will modify the list it is called on. The sorted() function will create a new list containing a sorted version of the list it is given. The sorted() function will not modify the list passed as a parameter. If you want to sort a list but still have the original unsorted version, then you would use the sorted() function. If maintaining the original order of the list is unimportant, then you can call the sort() function on the list.\n",
    "\n",
    "A second important difference is that the sorted() function will return a list so you must assign the returned data to a new variable. The sort() function modifies the list in-place and has no return value.\n",
    "\n",
    "The example below shows the difference in behavior between sort() and sorted(). After being passed to sorted(), the vegetables list remains unchanged. Once the sort() function is called on it, the list is updated."
   ]
  },
  {
   "cell_type": "markdown",
   "metadata": {},
   "source": [
    "useful link (Sorting HOW TO)\n",
    "\n",
    "https://docs.python.org/3/howto/sorting.html#ascending-and-descending"
   ]
  },
  {
   "cell_type": "markdown",
   "metadata": {},
   "source": [
    "## Review\n",
    "In this lesson, we learned how to:\n",
    "\n",
    "- Get the length of a list\n",
    "- Select subsets of a list (called slicing)\n",
    "- Count the number of times that an element appears in a list\n",
    "- Sort a list of items"
   ]
  },
  {
   "cell_type": "markdown",
   "metadata": {},
   "source": [
    "### Applications\n",
    "1.\n",
    "inventory is a list of items that are in the warehouse for Bob’s Furniture. How many items are in the warehouse?\n",
    "\n",
    "Save your answer to inventory_len."
   ]
  },
  {
   "cell_type": "code",
   "execution_count": 3,
   "metadata": {},
   "outputs": [],
   "source": [
    "inventory = ['twin bed',\n",
    "             'twin bed',\n",
    "             'headboard',\n",
    "             'queen bed',\n",
    "             'king bed',\n",
    "             'dresser',\n",
    "             'dresser',\n",
    "             'table',\n",
    "             'table',\n",
    "             'nightstand',\n",
    "             'nightstand',\n",
    "             'king bed',\n",
    "             'king bed',\n",
    "             'twin bed',\n",
    "             'twin bed',\n",
    "             'sheets',\n",
    "             'sheets',\n",
    "             'pillow',\n",
    "             'pillow']\n"
   ]
  },
  {
   "cell_type": "code",
   "execution_count": null,
   "metadata": {},
   "outputs": [],
   "source": []
  },
  {
   "cell_type": "markdown",
   "metadata": {},
   "source": [
    "2.\n",
    "Select the first element in inventory. Save it to the variable first."
   ]
  },
  {
   "cell_type": "code",
   "execution_count": null,
   "metadata": {},
   "outputs": [],
   "source": []
  },
  {
   "cell_type": "markdown",
   "metadata": {},
   "source": [
    "3.\n",
    "Select the last item from inventory and save it to the variable last"
   ]
  },
  {
   "cell_type": "code",
   "execution_count": null,
   "metadata": {},
   "outputs": [],
   "source": []
  },
  {
   "cell_type": "markdown",
   "metadata": {},
   "source": [
    "4.\n",
    "Select items from the inventory starting at index 2 and up to, but not including, index 6.\n",
    "\n",
    "Save your answer to inventory_2_6."
   ]
  },
  {
   "cell_type": "code",
   "execution_count": null,
   "metadata": {},
   "outputs": [],
   "source": []
  },
  {
   "cell_type": "markdown",
   "metadata": {},
   "source": [
    "5.\n",
    "Select the first 3 items of inventory and save it to the variable first_3"
   ]
  },
  {
   "cell_type": "code",
   "execution_count": null,
   "metadata": {},
   "outputs": [],
   "source": []
  },
  {
   "cell_type": "markdown",
   "metadata": {},
   "source": [
    "6.\n",
    "How many 'twin bed's are in inventory? Save your answer to twin_beds."
   ]
  },
  {
   "cell_type": "code",
   "execution_count": null,
   "metadata": {},
   "outputs": [],
   "source": []
  },
  {
   "cell_type": "code",
   "execution_count": null,
   "metadata": {},
   "outputs": [],
   "source": [
    "7.\n",
    "Sort inventory using .sort()."
   ]
  },
  {
   "cell_type": "code",
   "execution_count": null,
   "metadata": {},
   "outputs": [],
   "source": []
  },
  {
   "cell_type": "markdown",
   "metadata": {},
   "source": [
    "### Possible Question\n",
    "Is it possible to sort() a list but do it in reverse order?"
   ]
  },
  {
   "cell_type": "markdown",
   "metadata": {},
   "source": [
    "## Possible answer with an example\n",
    "Yes, you can use .sort() method or sorted() function"
   ]
  },
  {
   "cell_type": "code",
   "execution_count": 9,
   "metadata": {},
   "outputs": [],
   "source": [
    "list1 = [14, 45, 98, 23, 77, 32, 15, 22, 8, 33, 21, 64]\n",
    "\n",
    "list1.sort(reverse=True)\n",
    "\n",
    "sorted(list1)"
   ]
  },
  {
   "cell_type": "markdown",
   "metadata": {},
   "source": [
    "## Quiz\n",
    "\n",
    "1- Which of the following lines of code would select the list ['b', 'c'] from mylist:\n",
    "\n",
    "\n",
    "A. mylist[1,2]\n",
    "\n",
    "B. mylist[1:2]\n",
    "\n",
    "C. mylist[1:3]\n",
    "\n",
    "D. mylist[1,3]"
   ]
  },
  {
   "cell_type": "code",
   "execution_count": null,
   "metadata": {},
   "outputs": [],
   "source": [
    "mylist = ['a', 'b', 'c', 'd', 'e']\n"
   ]
  },
  {
   "cell_type": "markdown",
   "metadata": {},
   "source": [
    "2- Which of the following lines of code would select the letter d from mylist:\n",
    "\n",
    "\n",
    "A- mylist(3)\n",
    "\n",
    "B- mylist[4]\n",
    "\n",
    "C- mylist{4}\n",
    "\n",
    "D- mylist[3]"
   ]
  },
  {
   "cell_type": "markdown",
   "metadata": {},
   "source": [
    "3- Which of the following would be generated by the code snippet?\n",
    "\n",
    "mylist = ['a', 'b', 'c', 'd', 'e', 'f']\n",
    "\n",
    "print(mylist[2:5])\n",
    "\n",
    "A- ['b', 'c', 'd', 'e']\n",
    "\n",
    "B- ['c', 'd', 'e', 'f']\n",
    "\n",
    "C- ['c', 'd', 'e']\n",
    "\n",
    "D- ['b', 'c', 'd']"
   ]
  },
  {
   "cell_type": "markdown",
   "metadata": {},
   "source": [
    "4- Which of the following lines of code will tell us how many times win appears in the list game_schedule?\n",
    "\n",
    "\n",
    "A- 'win'.count(game_schedule)\n",
    "\n",
    "B- count(game_schedule, 'win')\n",
    "\n",
    "C- game_schedule.count('win')"
   ]
  },
  {
   "cell_type": "markdown",
   "metadata": {},
   "source": [
    "5- Which of the following code selects the last three elements of mylist?\n",
    "\n",
    "\n",
    "A- mylist[-3:]\n",
    "\n",
    "B- mylist[:-3]\n",
    "\n",
    "C- mylist[-3, -2, -1]\n",
    "\n",
    "D- mylist[3:]"
   ]
  },
  {
   "cell_type": "markdown",
   "metadata": {},
   "source": [
    "6- Which of the following lines of code would select the letter e from mylist:\n",
    "\n",
    "mylist = ['a', 'b', 'c', 'd', 'e']\n",
    "\n",
    "A- mylist('e')\n",
    "\n",
    "B- mylist['e']\n",
    "\n",
    "C- mylist[-1]\n",
    "\n",
    "D- mylist(-1)"
   ]
  },
  {
   "cell_type": "markdown",
   "metadata": {},
   "source": [
    "\n",
    "7- Which of the following lines of code would select the list ['b', 'c'] from mylist:\n",
    "\n",
    "mylist = ['a', 'b', 'c', 'd', 'e']\n",
    "\n",
    "A- mylist[1:3]\n",
    "\n",
    "B- mylist[1,2]\n",
    "\n",
    "C- mylist[1:2]\n",
    "\n",
    "D- mylist[1,3]"
   ]
  },
  {
   "cell_type": "markdown",
   "metadata": {},
   "source": [
    "8-Which of the following lines of code would select the letter d from mylist:\n",
    "\n",
    "mylist = ['a', 'b', 'c', 'd', 'e']\n",
    "\n",
    "A- mylist(3)\n",
    "\n",
    "B- mylist{4}\n",
    "\n",
    "C- mylist[4]\n",
    "\n",
    "D- mylist[3]"
   ]
  },
  {
   "cell_type": "markdown",
   "metadata": {},
   "source": [
    "9-Which of the following commands will return the length of the list mylist?\n",
    "\n",
    "\n",
    "A- mylist.len()\n",
    "\n",
    "B- length(mylist)\n",
    "\n",
    "C- len(mylist)\n",
    "\n",
    "D- mylist.length()"
   ]
  },
  {
   "cell_type": "markdown",
   "metadata": {},
   "source": [
    "10- Which of the following lines of code will correctly sort mylist?\n",
    "\n",
    "\n",
    "A- sort(mylist)\n",
    "\n",
    "B- mylist.sort\n",
    "\n",
    "C- mylist.sorted()\n",
    "\n",
    "D- mylist.sort()"
   ]
  },
  {
   "cell_type": "code",
   "execution_count": null,
   "metadata": {},
   "outputs": [],
   "source": []
  }
 ],
 "metadata": {
  "kernelspec": {
   "display_name": "Python 3",
   "language": "python",
   "name": "python3"
  },
  "language_info": {
   "codemirror_mode": {
    "name": "ipython",
    "version": 3
   },
   "file_extension": ".py",
   "mimetype": "text/x-python",
   "name": "python",
   "nbconvert_exporter": "python",
   "pygments_lexer": "ipython3",
   "version": "3.8.3"
  }
 },
 "nbformat": 4,
 "nbformat_minor": 4
}
