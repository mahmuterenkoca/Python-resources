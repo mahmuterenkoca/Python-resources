{
 "cells": [
  {
   "cell_type": "markdown",
   "metadata": {},
   "source": [
    "## Loops\n",
    "In this course we’ll learn about structures that let you repeat Python code over and over. You will learn how to understand loops and write them to solve your own problems"
   ]
  },
  {
   "cell_type": "markdown",
   "metadata": {},
   "source": [
    "## Introduction\n",
    "Suppose we want to print() each item from a list of dog_breeds. We would need to use the following code snippet:"
   ]
  },
  {
   "cell_type": "code",
   "execution_count": 1,
   "metadata": {},
   "outputs": [
    {
     "name": "stdout",
     "output_type": "stream",
     "text": [
      "french_bulldog\n",
      "dalmatian\n",
      "shihtzu\n",
      "poodle\n",
      "collie\n"
     ]
    }
   ],
   "source": [
    "dog_breeds = ['french_bulldog', 'dalmatian', 'shihtzu', 'poodle', 'collie']\n",
    " \n",
    "print(dog_breeds[0])\n",
    "print(dog_breeds[1])\n",
    "print(dog_breeds[2])\n",
    "print(dog_breeds[3])\n",
    "print(dog_breeds[4])"
   ]
  },
  {
   "cell_type": "markdown",
   "metadata": {},
   "source": [
    "This seems inefficient. Luckily, Python (and most other programming languages) gives us an easier way of using, or iterating through, every item in a list. We can use loops! A loop is a way of repeating a set of code many times.\n",
    "\n",
    "In this lesson, we’ll be learning about:\n",
    "\n",
    "- Loops that let us move through each item in a list, called for loops\n",
    "- Loops that keep going until we tell them to stop, called while loops\n",
    "- Loops that create new lists, called list comprehensions"
   ]
  },
  {
   "cell_type": "markdown",
   "metadata": {},
   "source": [
    "### Applications\n",
    "Paste the following code into the cell below."
   ]
  },
  {
   "cell_type": "code",
   "execution_count": 2,
   "metadata": {
    "scrolled": true
   },
   "outputs": [
    {
     "name": "stdout",
     "output_type": "stream",
     "text": [
      "french_bulldog\n",
      "dalmatian\n",
      "shihtzu\n",
      "poodle\n",
      "collie\n"
     ]
    }
   ],
   "source": [
    "#This will print each breed in dog_breeds.\n",
    "for breed in dog_breeds:\n",
    "    print(breed)"
   ]
  },
  {
   "cell_type": "code",
   "execution_count": 3,
   "metadata": {},
   "outputs": [
    {
     "name": "stdout",
     "output_type": "stream",
     "text": [
      "french_bulldog\n",
      "dalmatian\n",
      "shihtzu\n",
      "poodle\n",
      "collie\n"
     ]
    }
   ],
   "source": [
    "#This will print each breed in dog_breeds.\n",
    "for x in dog_breeds:\n",
    "    print(x)"
   ]
  },
  {
   "cell_type": "markdown",
   "metadata": {},
   "source": [
    "#### Possible Question\n",
    "\n",
    "What kind of loop operations are available in Python?\n",
    "\n",
    "#### Possible answer\n",
    "\n",
    "There are three types of loops in Python. The for loop iterates over a list. The while loop executes a block of code repeatedly while the provided expression evaluates to True. A list comprehension is a specialized way to construct a new list using a built-in loop over another list."
   ]
  },
  {
   "cell_type": "markdown",
   "metadata": {},
   "source": [
    "## Create a For Loop\n",
    "In the previous exercise, we saw that we can print each item in a list using a for loop. A for loop lets us perform an action on each item in a list. Using each element of a list is known as iterating.\n",
    "\n",
    "This loop prints each breed in dog_breeds:"
   ]
  },
  {
   "cell_type": "code",
   "execution_count": null,
   "metadata": {},
   "outputs": [],
   "source": [
    "dog_breeds = ['french_bulldog', 'dalmation', 'shihtzu', 'poodle', 'collie']\n",
    "for breed in dog_breeds:\n",
    "    print(breed)"
   ]
  },
  {
   "cell_type": "markdown",
   "metadata": {},
   "source": [
    "The general way of writing a for loop is:"
   ]
  },
  {
   "cell_type": "code",
   "execution_count": 4,
   "metadata": {},
   "outputs": [],
   "source": [
    "# for <temporary variable> in <list variable>:\n",
    "#    <action>"
   ]
  },
  {
   "cell_type": "markdown",
   "metadata": {},
   "source": [
    "In our dog breeds example, breed was the temporary variable, dog_breeds was the list variable, and print(breed) was the action performed on every item in the list.\n",
    "\n",
    "Our temporary variable can be named whatever we want and does not need to be defined beforehand. Each of the following code snippets does the exact same thing as our example:"
   ]
  },
  {
   "cell_type": "markdown",
   "metadata": {},
   "source": [
    "In our dog breeds example, breed was the temporary variable, dog_breeds was the list variable, and print(breed) was the action performed on every item in the list.\n",
    "\n",
    "Our temporary variable can be named whatever we want and does not need to be defined beforehand. Each of the following code snippets does the exact same thing as our example:"
   ]
  },
  {
   "cell_type": "code",
   "execution_count": 5,
   "metadata": {},
   "outputs": [
    {
     "name": "stdout",
     "output_type": "stream",
     "text": [
      "french_bulldog\n",
      "dalmatian\n",
      "shihtzu\n",
      "poodle\n",
      "collie\n"
     ]
    }
   ],
   "source": [
    "for i in dog_breeds:\n",
    "    print(i)"
   ]
  },
  {
   "cell_type": "code",
   "execution_count": 6,
   "metadata": {},
   "outputs": [
    {
     "name": "stdout",
     "output_type": "stream",
     "text": [
      "french_bulldog\n",
      "dalmatian\n",
      "shihtzu\n",
      "poodle\n",
      "collie\n"
     ]
    }
   ],
   "source": [
    "for dog in dog_breeds:\n",
    "    print(dog)"
   ]
  },
  {
   "cell_type": "markdown",
   "metadata": {},
   "source": [
    "Notice that in all of these examples the print statement is indented. Everything in the same level of indentation after the for loop declaration is included in the for loop, and run every iteration.\n",
    "\n",
    "If we forget to indent, we’ll get an IndentationError."
   ]
  },
  {
   "cell_type": "markdown",
   "metadata": {},
   "source": [
    "### Applications"
   ]
  },
  {
   "cell_type": "markdown",
   "metadata": {},
   "source": [
    "1.\n",
    "Run the code. You should get an IndentationError because the print(game) line is not indented."
   ]
  },
  {
   "cell_type": "markdown",
   "metadata": {},
   "source": [
    "2.\n",
    "Indent line 6 so that you don’t get an IndentationError when you run the code."
   ]
  },
  {
   "cell_type": "code",
   "execution_count": 7,
   "metadata": {},
   "outputs": [
    {
     "ename": "IndentationError",
     "evalue": "expected an indented block (<ipython-input-7-e8dabf1b79d3>, line 6)",
     "output_type": "error",
     "traceback": [
      "\u001b[1;36m  File \u001b[1;32m\"<ipython-input-7-e8dabf1b79d3>\"\u001b[1;36m, line \u001b[1;32m6\u001b[0m\n\u001b[1;33m    print(game)\u001b[0m\n\u001b[1;37m    ^\u001b[0m\n\u001b[1;31mIndentationError\u001b[0m\u001b[1;31m:\u001b[0m expected an indented block\n"
     ]
    }
   ],
   "source": [
    "board_games = ['Settlers of Catan', 'Carcassone', 'Power Grid', 'Agricola', 'Scrabble']\n",
    "\n",
    "sport_games = ['football', 'football - American', 'hockey', 'baseball', 'cricket']\n",
    "\n",
    "for game in board_games:\n",
    "print(game)"
   ]
  },
  {
   "cell_type": "markdown",
   "metadata": {},
   "source": [
    "3.\n",
    "Write a loop that prints each sport in sport_games."
   ]
  },
  {
   "cell_type": "code",
   "execution_count": 8,
   "metadata": {},
   "outputs": [
    {
     "name": "stdout",
     "output_type": "stream",
     "text": [
      "football\n",
      "football - American\n",
      "hockey\n",
      "baseball\n",
      "cricket\n"
     ]
    }
   ],
   "source": [
    "#code here\n",
    "\n",
    "sport_games = ['football', 'football - American', 'hockey', 'baseball', 'cricket']\n",
    "\n",
    "for game in sport_games:\n",
    "    print(game)\n"
   ]
  },
  {
   "cell_type": "code",
   "execution_count": 9,
   "metadata": {},
   "outputs": [
    {
     "name": "stdout",
     "output_type": "stream",
     "text": [
      "footballfootball\n",
      "football - Americanfootball - American\n",
      "hockeyhockey\n",
      "baseballbaseball\n",
      "cricketcricket\n"
     ]
    }
   ],
   "source": [
    "sport_games = ['football', 'football - American', 'hockey', 'baseball', 'cricket']\n",
    "\n",
    "for game in sport_games:\n",
    "    print(game*2)\n"
   ]
  },
  {
   "cell_type": "markdown",
   "metadata": {},
   "source": [
    "### Possible Question\n",
    "In this exercise 3, the code for the for loop has to be indented. Why does it have to be?\n",
    "\n",
    "### Possible Answer\n",
    "Indentation in Python is used to identify lines of code which are executed together. The block of code that is part of for loop has to be indented so that Python knows what to execute for each iteration of the loop. The point at which the indentation ends identifies the code that is NOT part of the for loop.\n",
    "\n",
    "In the following code example, the print() call which outputs “In loop” will be repeated as part of the for loop but the next immediate line containing the print() which outputs “Not in loop” will execute only once."
   ]
  },
  {
   "cell_type": "code",
   "execution_count": 10,
   "metadata": {},
   "outputs": [
    {
     "name": "stdout",
     "output_type": "stream",
     "text": [
      "In loop\n",
      "In loop\n",
      "In loop\n",
      "In loop\n",
      "In loop\n",
      "Not in loop\n"
     ]
    }
   ],
   "source": [
    "#Example\n",
    "for x in range(5):\n",
    "    print(\"In loop\")\n",
    "print(\"Not in loop\")"
   ]
  },
  {
   "cell_type": "markdown",
   "metadata": {},
   "source": [
    "## Using Range in Loops\n",
    "Previously, we iterated through an existing list.\n",
    "\n",
    "Often we won’t be iterating through a specific list, we’ll just want to do a certain action multiple times. For example, if we wanted to print out a \"WARNING!\" message three times, we would want to say something like:"
   ]
  },
  {
   "cell_type": "code",
   "execution_count": null,
   "metadata": {},
   "outputs": [],
   "source": [
    "# for i in <a list of length 3>:\n",
    "#    print(\"WARNING!\")"
   ]
  },
  {
   "cell_type": "markdown",
   "metadata": {},
   "source": [
    "Notice that we need to iterate through a list of length 3, but we don’t care what’s in the list. To create these lists of length n, we can use the range function. range takes in a number n as input, and returns a list from 0 to n-1. For example:"
   ]
  },
  {
   "cell_type": "code",
   "execution_count": 14,
   "metadata": {},
   "outputs": [
    {
     "name": "stdout",
     "output_type": "stream",
     "text": [
      "[0, 1, 2, 3, 4, 5]\n",
      "[0, 1]\n"
     ]
    }
   ],
   "source": [
    "zero_thru_five = range(6)\n",
    "print(list(zero_thru_five))\n",
    "# zero_thru_five is now [0, 1, 2, 3, 4, 5]\n",
    "\n",
    "zero_thru_one = range(2)\n",
    "print(list(zero_thru_one))\n",
    "# zero_thru_one is now [0, 1]"
   ]
  },
  {
   "cell_type": "markdown",
   "metadata": {},
   "source": [
    "So, an easy way to accomplish our \"WARNING!\" example would be:\n"
   ]
  },
  {
   "cell_type": "code",
   "execution_count": 15,
   "metadata": {},
   "outputs": [
    {
     "name": "stdout",
     "output_type": "stream",
     "text": [
      "WARNING!\n",
      "WARNING!\n",
      "WARNING!\n"
     ]
    }
   ],
   "source": [
    "for i in range(3):\n",
    "    print(\"WARNING!\")"
   ]
  },
  {
   "cell_type": "markdown",
   "metadata": {},
   "source": [
    "### Applications\n",
    "1.\n",
    "Use the range function in a for loop to print out promise 5 times."
   ]
  },
  {
   "cell_type": "code",
   "execution_count": 16,
   "metadata": {},
   "outputs": [
    {
     "name": "stdout",
     "output_type": "stream",
     "text": [
      "I will not chew gum in class\n",
      "I will not chew gum in class\n",
      "I will not chew gum in class\n",
      "I will not chew gum in class\n",
      "I will not chew gum in class\n"
     ]
    }
   ],
   "source": [
    "promise = \"I will not chew gum in class\"\n",
    "\n",
    "# code here\n",
    "for a in range(5):\n",
    "    print(promise)\n"
   ]
  },
  {
   "cell_type": "markdown",
   "metadata": {},
   "source": [
    "2. Use the range function in a for loop to print out the square of each number from 1 thru 10"
   ]
  },
  {
   "cell_type": "code",
   "execution_count": 20,
   "metadata": {},
   "outputs": [
    {
     "name": "stdout",
     "output_type": "stream",
     "text": [
      "1\n",
      "4\n",
      "9\n",
      "16\n",
      "25\n",
      "36\n",
      "49\n",
      "64\n",
      "81\n",
      "100\n"
     ]
    }
   ],
   "source": [
    "# code here\n",
    "\n",
    "for i in range(1,11):\n",
    "    print(i**2)"
   ]
  },
  {
   "cell_type": "code",
   "execution_count": 21,
   "metadata": {},
   "outputs": [
    {
     "name": "stdout",
     "output_type": "stream",
     "text": [
      "1\n",
      "4\n",
      "9\n",
      "16\n",
      "25\n",
      "36\n",
      "49\n",
      "64\n",
      "81\n",
      "100\n"
     ]
    }
   ],
   "source": [
    "for i in range(10):\n",
    "    print((i+1)**2)"
   ]
  },
  {
   "cell_type": "code",
   "execution_count": 22,
   "metadata": {},
   "outputs": [
    {
     "name": "stdout",
     "output_type": "stream",
     "text": [
      "1\n",
      "4\n",
      "9\n",
      "16\n",
      "25\n",
      "36\n",
      "49\n",
      "64\n",
      "81\n",
      "100\n"
     ]
    }
   ],
   "source": [
    "for i in range(1, 11):\n",
    "    print(i*i)\n"
   ]
  },
  {
   "cell_type": "markdown",
   "metadata": {},
   "source": [
    "## Infinite Loops\n",
    "We’ve iterated through lists that have a discrete beginning and end. However, let’s consider this example:"
   ]
  },
  {
   "cell_type": "code",
   "execution_count": null,
   "metadata": {},
   "outputs": [],
   "source": [
    "my_favorite_numbers = [4, 8, 15, 16, 42]\n",
    " \n",
    "for number in my_favorite_numbers:\n",
    "    my_favorite_numbers.append(1)"
   ]
  },
  {
   "cell_type": "markdown",
   "metadata": {},
   "source": [
    "What happens here? Every time we enter the loop, we add a 1 to the end of the list that we are iterating through. As a result, we never make it to the end of the list! It keeps growing!\n",
    "\n",
    "A loop that never terminates is called an infinite loop. These are very dangerous for your code!\n",
    "\n",
    "A program that hits an infinite loop often becomes completely unusable. The best course of action is to never write an infinite loop.\n",
    "\n",
    "Note: If you accidentally stumble into an infinite loop while developing on your own machine, you can end the loop by using control + c to terminate the program. If you’re writing code in our online editor, you’ll need to refresh the page to get out of an infinite loop!"
   ]
  },
  {
   "cell_type": "markdown",
   "metadata": {},
   "source": [
    "### Applications\n",
    "1.\n",
    "Suppose we have two lists of students, students_period_A and students_period_B. We want to combine all students into students_period_B.\n",
    "\n",
    "Write a for loop that goes through each student in students_period_A and adds it to the end of students_period_B."
   ]
  },
  {
   "cell_type": "code",
   "execution_count": 24,
   "metadata": {},
   "outputs": [
    {
     "name": "stdout",
     "output_type": "stream",
     "text": [
      "['Dora', 'Minerva', 'Alexa', 'Obie', 'Alex', 'Briana', 'Cheri', 'Daniele']\n"
     ]
    }
   ],
   "source": [
    "students_period_A = [\"Alex\", \"Briana\", \"Cheri\", \"Daniele\"]\n",
    "students_period_B = [\"Dora\", \"Minerva\", \"Alexa\", \"Obie\"]\n",
    "#code here\n",
    "\n",
    "for i in students_period_A:\n",
    "    students_period_B.append(i)\n",
    "    \n",
    "print(students_period_B)"
   ]
  },
  {
   "cell_type": "markdown",
   "metadata": {},
   "source": [
    "2.\n",
    "Inside the for loop, after appending student to students_period_B, print student."
   ]
  },
  {
   "cell_type": "code",
   "execution_count": 25,
   "metadata": {},
   "outputs": [
    {
     "name": "stdout",
     "output_type": "stream",
     "text": [
      "['Dora', 'Minerva', 'Alexa', 'Obie', 'Alex', 'Briana', 'Cheri', 'Daniele']\n"
     ]
    }
   ],
   "source": [
    "#code here\n",
    "print(students_period_B)"
   ]
  },
  {
   "cell_type": "markdown",
   "metadata": {},
   "source": [
    "3.\n",
    "Let’s suppose you made a typo in the body of your for loop. Oh no! We will go through a few steps to see what happens when you end up with an infinite loop and how you fix it:\n",
    "\n",
    "Inside the for loop, change the object of the append statement from students_period_B to students_period_A.\n",
    "\n",
    "Run this code. What do you notice happens? Over the run button, notice the loading circle is continuing without anything happening. This is an infinite loop! To end this program we must refresh the page. (Note: The reason this loop is infinite is that we’re adding each student in students_period_A to students_period_A which would create a never-ending list of all the student names.)\n",
    "\n",
    "After refreshing your page, you should see that the run button is back. Now get rid of the change we made that caused an infinite loop by changing the object of the append statement back to student_period_B.\n",
    "\n",
    "Run your code again. This time your loop should not be infinite, and it should run to completion.\n",
    "\n"
   ]
  },
  {
   "cell_type": "code",
   "execution_count": 26,
   "metadata": {},
   "outputs": [],
   "source": [
    "# code here\n",
    "for i in students_period_A:\n",
    "    students_period_B.append(i)"
   ]
  },
  {
   "cell_type": "markdown",
   "metadata": {},
   "source": [
    "4.\n",
    "Great job! We have now seen what happens when you run an infinite loop and how we can fix them! Revel in the safety of your code, and how it doesn’t crash your browser. Run it one final time to make sure it is working as expected."
   ]
  },
  {
   "cell_type": "code",
   "execution_count": null,
   "metadata": {},
   "outputs": [],
   "source": [
    "# code here\n"
   ]
  },
  {
   "cell_type": "markdown",
   "metadata": {},
   "source": [
    "## Break\n",
    "We often want to use a for loop to search through a list for some value:"
   ]
  },
  {
   "cell_type": "code",
   "execution_count": 27,
   "metadata": {},
   "outputs": [
    {
     "name": "stdout",
     "output_type": "stream",
     "text": [
      "Knit Dress is on sale!\n"
     ]
    }
   ],
   "source": [
    "items_on_sale = [\"blue_shirt\", \"striped_socks\", \"knit_dress\", \"red_headband\", \"dinosaur_onesie\"]\n",
    " \n",
    "# we want to check if the item with ID \"knit_dress\" is on sale:\n",
    "for item in items_on_sale:\n",
    "    if item == \"knit_dress\":\n",
    "        print(\"Knit Dress is on sale!\")"
   ]
  },
  {
   "cell_type": "markdown",
   "metadata": {},
   "source": [
    "This code goes through each item in items_on_sale and checks for a match. After we find that \"knit_dress\" is in the list items_on_sale, we don’t need to go through the rest of the items_on_sale list. Since it’s only 5 elements long, iterating through the entire list is not a big deal in this case. But what if items_on_sale had 1000 items after \"knit_dress\"? What if it had 100,000 items after \"knit_dress\"?\n",
    "\n",
    "You can stop a for loop from inside the loop by using break. When the program hits a break statement, control returns to the code outside of the for loop. For example:"
   ]
  },
  {
   "cell_type": "code",
   "execution_count": 28,
   "metadata": {},
   "outputs": [
    {
     "name": "stdout",
     "output_type": "stream",
     "text": [
      "Checking the sale list!\n",
      "blue_shirt\n",
      "striped_socks\n",
      "knit_dress\n",
      "End of search!\n"
     ]
    }
   ],
   "source": [
    "items_on_sale = [\"blue_shirt\", \"striped_socks\", \"knit_dress\", \"red_headband\", \"dinosaur_onesie\"]\n",
    " \n",
    "print(\"Checking the sale list!\")\n",
    "for item in items_on_sale:\n",
    "    print(item)\n",
    "    if item == \"knit_dress\":\n",
    "        break\n",
    "print(\"End of search!\")"
   ]
  },
  {
   "cell_type": "markdown",
   "metadata": {},
   "source": [
    "This would produce the output:\n",
    "\n",
    "Checking the sale list!\n",
    "blue_shirt\n",
    "striped_socks\n",
    "knit_dress\n",
    "End of search!\n",
    "We didn’t need to check \"red_headband\" or \"dinosaur_onesie\" at all!"
   ]
  },
  {
   "cell_type": "markdown",
   "metadata": {},
   "source": [
    "#### Applications\n",
    "1.\n",
    "You have a list of dog breeds you can adopt, dog_breeds_available_for_adoption. Using a for loop, iterate through the dog_breeds_available_for_adoption list and print out each dog breed."
   ]
  },
  {
   "cell_type": "code",
   "execution_count": 30,
   "metadata": {},
   "outputs": [
    {
     "name": "stdout",
     "output_type": "stream",
     "text": [
      "french_bulldog\n",
      "dalmatian\n",
      "shihtzu\n",
      "poodle\n",
      "collie\n"
     ]
    }
   ],
   "source": [
    "dog_breeds_available_for_adoption = ['french_bulldog', 'dalmatian', 'shihtzu', 'poodle', 'collie']\n",
    "dog_breed_I_want = 'dalmatian'\n",
    "# code here\n",
    "for i in dog_breeds_available_for_adoption:\n",
    "    print(i)"
   ]
  },
  {
   "cell_type": "markdown",
   "metadata": {},
   "source": [
    "2.\n",
    "Inside your for loop, after you print each dog breed, check if it is equal to dog_breed_I_want. If so, print \"They have the dog I want!\""
   ]
  },
  {
   "cell_type": "code",
   "execution_count": 34,
   "metadata": {},
   "outputs": [
    {
     "name": "stdout",
     "output_type": "stream",
     "text": [
      "french_bulldog\n",
      "dalmatian\n",
      "They have the dog I want\n"
     ]
    }
   ],
   "source": [
    "dog_breeds_available_for_adoption = ['french_bulldog', 'dalmatian', 'shihtzu', 'poodle', 'collie']\n",
    "dog_breed_I_want = 'dalmatian'\n",
    "# code here\n",
    "for i in dog_breeds_available_for_adoption:\n",
    "    print(i)\n",
    "    if i == dog_breed_I_want:\n",
    "        print(\"They have the dog I want\")\n",
    "        break"
   ]
  },
  {
   "cell_type": "markdown",
   "metadata": {},
   "source": [
    "3.\n",
    "Add a break statement when your loop has found dog_breed_I_want, so that the rest of the list does not need to be checked."
   ]
  },
  {
   "cell_type": "code",
   "execution_count": 35,
   "metadata": {},
   "outputs": [
    {
     "name": "stdout",
     "output_type": "stream",
     "text": [
      "french_bulldog\n",
      "dalmatian\n",
      "They have the dog I want\n"
     ]
    }
   ],
   "source": [
    "dog_breeds_available_for_adoption = ['french_bulldog', 'dalmatian', 'shihtzu', 'poodle', 'collie']\n",
    "dog_breed_I_want = 'dalmatian'\n",
    "# code here\n",
    "for i in dog_breeds_available_for_adoption:\n",
    "    print(i)\n",
    "    if i == dog_breed_I_want:\n",
    "        print(\"They have the dog I want\")\n",
    "        break"
   ]
  },
  {
   "cell_type": "markdown",
   "metadata": {},
   "source": [
    "## Continue\n",
    "When we’re iterating through lists, we may want to skip some values. Let’s say we want to print out all of the numbers in a list, unless they’re negative. We can use continue to move to the next i in the list:"
   ]
  },
  {
   "cell_type": "code",
   "execution_count": 37,
   "metadata": {},
   "outputs": [
    {
     "name": "stdout",
     "output_type": "stream",
     "text": [
      "1\n",
      "2\n",
      "4\n",
      "5\n",
      "2\n",
      "0\n"
     ]
    }
   ],
   "source": [
    "big_number_list = [1, 2, -1, 4, -5, 5, 2, -9, 0]\n",
    " \n",
    "for i in big_number_list:\n",
    "    if i < 0:\n",
    "        continue\n",
    "    print(i)"
   ]
  },
  {
   "cell_type": "markdown",
   "metadata": {},
   "source": [
    "Every time there was a negative number, the continue keyword moved the index to the next value in the list, without executing the code in the rest of the for loop."
   ]
  },
  {
   "cell_type": "markdown",
   "metadata": {},
   "source": [
    "#### Applications"
   ]
  },
  {
   "cell_type": "markdown",
   "metadata": {},
   "source": [
    "1.\n",
    "Your computer is the doorman at a bar in a country where the drinking age is 21.\n",
    "\n",
    "Loop through the ages list. If an entry is less than 21, skip it and move to the next entry. Otherwise, print the age."
   ]
  },
  {
   "cell_type": "code",
   "execution_count": 45,
   "metadata": {},
   "outputs": [
    {
     "name": "stdout",
     "output_type": "stream",
     "text": [
      "21\n",
      "35\n",
      "38\n",
      "34\n",
      "26\n",
      "21\n",
      "67\n",
      "41\n"
     ]
    }
   ],
   "source": [
    "ages = [21, 35, 12, 38, 34, 26, 21, 19, 67, 41, 17]\n",
    "\n",
    "#code here\n",
    "for age in ages:\n",
    "    if age < 21 :\n",
    "        continue\n",
    "    print(age)\n",
    "        "
   ]
  },
  {
   "cell_type": "markdown",
   "metadata": {},
   "source": [
    "## While Loops\n",
    "We now have seen and used a lot of examples of for loops. There is another type of loop we can also use, called a while loop. The while loop performs a set of code until some condition is reached.\n",
    "\n",
    "While loops can be used to iterate through lists, just like for loops:"
   ]
  },
  {
   "cell_type": "code",
   "execution_count": 46,
   "metadata": {},
   "outputs": [
    {
     "name": "stdout",
     "output_type": "stream",
     "text": [
      "bulldog\n",
      "dalmation\n",
      "shihtzu\n",
      "poodle\n",
      "collie\n"
     ]
    }
   ],
   "source": [
    "dog_breeds = ['bulldog', 'dalmation', 'shihtzu', 'poodle', 'collie']\n",
    " \n",
    "index = 0\n",
    "while index < len(dog_breeds):\n",
    "    print(dog_breeds[index])\n",
    "    index += 1"
   ]
  },
  {
   "cell_type": "markdown",
   "metadata": {},
   "source": [
    "Every time the condition of the while loop (in this case, index < len(dog_breeds)) is satisfied, the code inside the while loop runs.\n",
    "\n",
    "While loops can be useful when you don’t know how many iterations it will take to satisfy a condition."
   ]
  },
  {
   "cell_type": "markdown",
   "metadata": {},
   "source": [
    "#### Applications\n",
    "1.\n",
    "You are adding students to a Poetry class, the size of which is capped at 6. While the length of the students_in_poetry list is less than 6, use .pop() to take a student off the all_students list and add it to the students_in_poetry list."
   ]
  },
  {
   "cell_type": "code",
   "execution_count": 47,
   "metadata": {},
   "outputs": [
    {
     "name": "stdout",
     "output_type": "stream",
     "text": [
      "['Alex', 'Briana', 'Cheri', 'Daniele']\n",
      "['Loki', 'Arius', 'Obie', 'Alexa', 'Minerva', 'Dora']\n"
     ]
    }
   ],
   "source": [
    "all_students = [\"Alex\", \"Briana\", \"Cheri\", \"Daniele\", \"Dora\", \"Minerva\", \"Alexa\", \"Obie\", \"Arius\", \"Loki\"]\n",
    "students_in_poetry = []\n",
    "\n",
    "#code here\n",
    "while len(students_in_poetry)<6:\n",
    "    student = all_students.pop()\n",
    "    students_in_poetry.append(student)\n",
    "\n",
    "print(all_students)\n",
    "print(students_in_poetry)\n",
    "    "
   ]
  },
  {
   "cell_type": "code",
   "execution_count": 49,
   "metadata": {},
   "outputs": [
    {
     "name": "stdout",
     "output_type": "stream",
     "text": [
      "Loki\n",
      "['Alex', 'Briana', 'Cheri', 'Daniele', 'Dora', 'Minerva', 'Alexa', 'Obie', 'Arius']\n"
     ]
    }
   ],
   "source": [
    "all_students = [\"Alex\", \"Briana\", \"Cheri\", \"Daniele\", \"Dora\", \"Minerva\", \"Alexa\", \"Obie\", \"Arius\", \"Loki\"]\n",
    "print(all_students.pop())\n",
    "print(all_students)"
   ]
  },
  {
   "cell_type": "markdown",
   "metadata": {},
   "source": [
    "## Nested Loops\n",
    "We have seen how we can go through the elements of a list. What if we have a list made up of multiple lists? How can we loop through all of the individual elements?\n",
    "\n",
    "Suppose we are in charge of a science class, that is split into three project teams:"
   ]
  },
  {
   "cell_type": "code",
   "execution_count": 51,
   "metadata": {},
   "outputs": [],
   "source": [
    "project_teams = [[\"Ava\", \"Samantha\", \"James\"], \n",
    "                 [\"Lucille\", \"Zed\"], \n",
    "                 [\"Edgar\", \"Gabriel\"]]"
   ]
  },
  {
   "cell_type": "markdown",
   "metadata": {},
   "source": [
    "If we want to go through each student, we have to put one loop inside another:"
   ]
  },
  {
   "cell_type": "code",
   "execution_count": 52,
   "metadata": {},
   "outputs": [
    {
     "name": "stdout",
     "output_type": "stream",
     "text": [
      "Ava\n",
      "Samantha\n",
      "James\n",
      "Lucille\n",
      "Zed\n",
      "Edgar\n",
      "Gabriel\n"
     ]
    }
   ],
   "source": [
    "for team in project_teams:\n",
    "    for student in team:\n",
    "        print(student)"
   ]
  },
  {
   "cell_type": "code",
   "execution_count": 53,
   "metadata": {},
   "outputs": [
    {
     "name": "stdout",
     "output_type": "stream",
     "text": [
      "['Ava', 'Samantha', 'James']\n",
      "['Lucille', 'Zed']\n",
      "['Edgar', 'Gabriel']\n"
     ]
    }
   ],
   "source": [
    "for team in project_teams:\n",
    "    print(team)"
   ]
  },
  {
   "cell_type": "markdown",
   "metadata": {},
   "source": [
    "#### Applications\n"
   ]
  },
  {
   "cell_type": "code",
   "execution_count": 55,
   "metadata": {},
   "outputs": [],
   "source": [
    "sales_data = [[12, 17, 22], [2, 10, 3], [5, 12, 13]]\n",
    "\n"
   ]
  },
  {
   "cell_type": "markdown",
   "metadata": {},
   "source": [
    "1.\n",
    "We have provided the list sales_data that shows the numbers of different flavors of ice cream sold at three different locations of the fictional shop, Gilbert and Ilbert’s Scoop Shop. We want to sum up the total number of scoops sold. Start by defining a variable scoops_sold and set it to zero."
   ]
  },
  {
   "cell_type": "code",
   "execution_count": 57,
   "metadata": {},
   "outputs": [
    {
     "name": "stdout",
     "output_type": "stream",
     "text": [
      "12\n",
      "29\n",
      "51\n",
      "[12, 17, 22]\n",
      "53\n",
      "63\n",
      "66\n",
      "[2, 10, 3]\n",
      "71\n",
      "83\n",
      "96\n",
      "[5, 12, 13]\n"
     ]
    }
   ],
   "source": [
    "scoops_sold = 0\n",
    "\n",
    "for location in sales_data:\n",
    "    for i in location:\n",
    "        scoops_sold += i\n",
    "        print(scoops_sold)\n",
    "    print(location)"
   ]
  },
  {
   "cell_type": "markdown",
   "metadata": {},
   "source": [
    "2.\n",
    "Go through the sales_data list. Call each inner list location, and print out each location list."
   ]
  },
  {
   "cell_type": "markdown",
   "metadata": {},
   "source": [
    "3.\n",
    "Within the sales_data loop, go through each location list and add the element to your scoops_sold variable.\n",
    "\n",
    "By the end, you should have the sum of every number in the sales_data nested list."
   ]
  },
  {
   "cell_type": "markdown",
   "metadata": {},
   "source": [
    "4. Print out the value of scoops_sold.\n",
    "\n"
   ]
  },
  {
   "cell_type": "markdown",
   "metadata": {},
   "source": [
    "## List Comprehensions\n",
    "Let’s say we have scraped a certain website and gotten these words:"
   ]
  },
  {
   "cell_type": "code",
   "execution_count": 59,
   "metadata": {},
   "outputs": [],
   "source": [
    "words = [\"@coolguy35\",\n",
    "         \"#nofilter\", \n",
    "         \"@kewldawg54\", \n",
    "         \"reply\", \n",
    "         \"timestamp\", \n",
    "         \"@matchamom\", \n",
    "         \"follow\", \n",
    "         \"#updog\"]"
   ]
  },
  {
   "cell_type": "markdown",
   "metadata": {},
   "source": [
    "We want to make a new list, called usernames, that has all of the strings in words with an '@' as the first character. We know we can do this with a for loop:"
   ]
  },
  {
   "cell_type": "code",
   "execution_count": 61,
   "metadata": {},
   "outputs": [
    {
     "name": "stdout",
     "output_type": "stream",
     "text": [
      "['@coolguy35', '@kewldawg54', '@matchamom']\n"
     ]
    }
   ],
   "source": [
    "usernames = []\n",
    " \n",
    "for word in words:\n",
    "    if word[0] == '@':\n",
    "        usernames.append(word)\n",
    "        \n",
    "print(usernames)"
   ]
  },
  {
   "cell_type": "markdown",
   "metadata": {},
   "source": [
    "First, we created a new empty list, usernames, and as we looped through the words list, we added every word that matched our criterion. Now, the usernames list looks like this:"
   ]
  },
  {
   "cell_type": "code",
   "execution_count": null,
   "metadata": {},
   "outputs": [],
   "source": [
    "print(usernames)\n",
    "[\"@coolguy35\", \"@kewldawg54\", \"@matchamom\"]"
   ]
  },
  {
   "cell_type": "markdown",
   "metadata": {},
   "source": [
    "Python has a convenient shorthand to create lists like this with one line:"
   ]
  },
  {
   "cell_type": "code",
   "execution_count": 63,
   "metadata": {},
   "outputs": [
    {
     "name": "stdout",
     "output_type": "stream",
     "text": [
      "['@coolguy35', '@kewldawg54', '@matchamom']\n"
     ]
    }
   ],
   "source": [
    "usernames = [word for word in words if word[0] == '@']\n",
    "\n",
    "print(usernames)"
   ]
  },
  {
   "cell_type": "code",
   "execution_count": 71,
   "metadata": {},
   "outputs": [
    {
     "name": "stdout",
     "output_type": "stream",
     "text": [
      "['@coolguy35', '@kewldawg54', '@matchamom']\n"
     ]
    }
   ],
   "source": [
    "words = [\"@coolguy35\",\n",
    "         \"#nofilter\", \n",
    "         \"@kewldawg54\", \n",
    "         \"reply\", \n",
    "         \"timestamp\", \n",
    "         \"@matchamom\", \n",
    "         \"follow\", \n",
    "         \"#updog\"]\n",
    "\n",
    "usernames = [word for word in words if word[0] == '@']\n",
    "\n",
    "print(usernames)"
   ]
  },
  {
   "cell_type": "markdown",
   "metadata": {},
   "source": [
    "This is called a list comprehension. It will produce the same output as the for loop did:"
   ]
  },
  {
   "cell_type": "code",
   "execution_count": null,
   "metadata": {},
   "outputs": [],
   "source": [
    "[\"@coolguy35\", \"@kewldawg54\", \"@matchamom\"]"
   ]
  },
  {
   "cell_type": "markdown",
   "metadata": {},
   "source": [
    "This list comprehension:\n",
    "\n",
    "1. Takes an element in words\n",
    "2. Assigns that element to a variable called word\n",
    "3. Checks if word[0] == '@', and if so, it adds word to the new list, usernames. If not, nothing happens.\n",
    "4. Repeats steps 1-3 for all of the strings in words\n",
    "\n",
    "</Note>: if we hadn’t done any checking (let’s say we had omitted if word[0] == '@'), the new list would be just a copy of words:\n",
    "\n",
    "\n"
   ]
  },
  {
   "cell_type": "code",
   "execution_count": 65,
   "metadata": {},
   "outputs": [
    {
     "name": "stdout",
     "output_type": "stream",
     "text": [
      "['@coolguy35', '#nofilter', '@kewldawg54', 'reply', 'timestamp', 'matchamom@', 'follow', '#updog']\n"
     ]
    }
   ],
   "source": [
    "usernames = [word for word in words]\n",
    "print(usernames)\n",
    "#usernames is now [\"@coolguy35\", \"#nofilter\", \"@kewldawg54\", \"reply\", \"timestamp\", \"@matchamom\", \"follow\", \"#updog\"]"
   ]
  },
  {
   "cell_type": "markdown",
   "metadata": {},
   "source": [
    "#### Applications\n",
    "1.\n",
    "We have defined a list heights of visitors to a theme park. In order to ride the Topsy Turvy Tumbletron roller coaster, you need to be above 161 centimeters. Using a list comprehension, create a new list called can_ride_coaster that has every element from heights that is greater than 161."
   ]
  },
  {
   "cell_type": "code",
   "execution_count": 67,
   "metadata": {},
   "outputs": [
    {
     "name": "stdout",
     "output_type": "stream",
     "text": [
      "[164, 170, 163, 163]\n"
     ]
    }
   ],
   "source": [
    "heights = [161, 164, 156, 144, 158, 170, 163, 163, 157]\n",
    "\n",
    "can_ride_coaster = [height for height in heights if height > 161]\n",
    "\n",
    "print(can_ride_coaster)\n"
   ]
  },
  {
   "cell_type": "code",
   "execution_count": 68,
   "metadata": {},
   "outputs": [],
   "source": [
    "heights = [161, 164, 156, 144, 158, 170, 163, 163, 157]\n",
    "\n",
    "can_ride_coaster = []\n",
    "\n",
    "for h in heights:\n",
    "    if h > 161:\n",
    "        can_ride_coaster.append(h)\n",
    "\n",
    "print(can_ride_coaster)"
   ]
  },
  {
   "cell_type": "markdown",
   "metadata": {},
   "source": [
    "2.\n",
    "Print can_ride_coaster."
   ]
  },
  {
   "cell_type": "code",
   "execution_count": 69,
   "metadata": {},
   "outputs": [
    {
     "name": "stdout",
     "output_type": "stream",
     "text": [
      "[164, 170, 163, 163]\n"
     ]
    }
   ],
   "source": [
    "print(can_ride_coaster)"
   ]
  },
  {
   "cell_type": "markdown",
   "metadata": {},
   "source": [
    "#### Possible Question\n",
    "When using a list comprehension with an if, is it possible to have an else clause?"
   ]
  },
  {
   "cell_type": "markdown",
   "metadata": {},
   "source": [
    "#### Possible Answer\n",
    "Yes, an else clause can be used with an if in a list comprehension. The following code example shows the use of an else in a simple list comprehension. The if/else is placed in front of the for component of the list comprehension.\n"
   ]
  },
  {
   "cell_type": "code",
   "execution_count": 70,
   "metadata": {},
   "outputs": [
    {
     "name": "stdout",
     "output_type": "stream",
     "text": [
      "['No', 'No', 'Yes', 'No', 'No', 'Yes', 'No', 'No', 'Yes', 'No', 'No', 'Yes', 'No', 'No', 'Yes', 'No', 'No', 'Yes', 'No']\n"
     ]
    }
   ],
   "source": [
    "divbythree = [  \"Yes\" if number % 3 == 0 else \"No\" for number in range(1,20)]\n",
    "print(divbythree)"
   ]
  },
  {
   "cell_type": "markdown",
   "metadata": {},
   "source": [
    "## More List Comprehensions\n",
    "Let’s say we’re working with the usernames list from the last exercise:"
   ]
  },
  {
   "cell_type": "code",
   "execution_count": 72,
   "metadata": {},
   "outputs": [
    {
     "name": "stdout",
     "output_type": "stream",
     "text": [
      "['@coolguy35', '@kewldawg54', '@matchamom']\n"
     ]
    },
    {
     "data": {
      "text/plain": [
       "['@coolguy35', '@kewldawg54', '@matchamom']"
      ]
     },
     "execution_count": 72,
     "metadata": {},
     "output_type": "execute_result"
    }
   ],
   "source": [
    "print(usernames)\n",
    "[\"@coolguy35\", \"@kewldawg54\", \"@matchamom\"]"
   ]
  },
  {
   "cell_type": "markdown",
   "metadata": {},
   "source": [
    "We want to create a new list with the string \" please follow me!\" added to the end of each username. We want to call this new list messages. We can use a list comprehension to make this list with one line:"
   ]
  },
  {
   "cell_type": "code",
   "execution_count": 74,
   "metadata": {},
   "outputs": [
    {
     "name": "stdout",
     "output_type": "stream",
     "text": [
      "['@coolguy35 please follow me!', '@kewldawg54 please follow me!', '@matchamom please follow me!']\n"
     ]
    }
   ],
   "source": [
    "messages = [user + \" please follow me!\" for user in usernames]\n",
    "print(messages)"
   ]
  },
  {
   "cell_type": "markdown",
   "metadata": {},
   "source": [
    "This list comprehension:\n",
    "\n",
    "1. Takes a string in usernames\n",
    "2. Assigns that string to a variable called user\n",
    "3. Adds “ please follow me!” to user\n",
    "4. Appends that concatenation to the new list called messages\n",
    "5. Repeats steps 1-4 for all of the strings in usernames\n",
    "\n",
    "Now, messages contains these values:"
   ]
  },
  {
   "cell_type": "markdown",
   "metadata": {},
   "source": [
    "[\"@coolguy35 please follow me!\", \"@kewldawg54 please follow me!\", \"@matchamom please follow me!\"]"
   ]
  },
  {
   "cell_type": "markdown",
   "metadata": {},
   "source": [
    "Being able to create lists with modified values is especially useful when working with numbers. Let’s say we have this list:"
   ]
  },
  {
   "cell_type": "code",
   "execution_count": 75,
   "metadata": {},
   "outputs": [],
   "source": [
    "my_upvotes = [192, 34, 22, 175, 75, 101, 97]"
   ]
  },
  {
   "cell_type": "markdown",
   "metadata": {},
   "source": [
    "We want to add 100 to each value. We can accomplish this goal in one line:"
   ]
  },
  {
   "cell_type": "code",
   "execution_count": 76,
   "metadata": {},
   "outputs": [
    {
     "name": "stdout",
     "output_type": "stream",
     "text": [
      "[292, 134, 122, 275, 175, 201, 197]\n"
     ]
    }
   ],
   "source": [
    "updated_upvotes = [vote_value + 100 for vote_value in my_upvotes]\n",
    "print(updated_upvotes)"
   ]
  },
  {
   "cell_type": "markdown",
   "metadata": {},
   "source": [
    "This list comprehension:\n",
    "\n",
    "1. Takes a number in my_upvotes\n",
    "2. Assigns that number to a variable called vote_value\n",
    "3. Adds 100 to vote_value\n",
    "4. Appends that sum to the new list updated_upvotes\n",
    "5. Repeats steps 1-4 for all of the numbers in my_upvotes\n",
    "\n",
    "Now, updated_upvotes contains these values:\n",
    "    \n",
    "[292, 134, 122, 275, 175, 201, 197]"
   ]
  },
  {
   "cell_type": "markdown",
   "metadata": {},
   "source": [
    "#### Applications"
   ]
  },
  {
   "cell_type": "markdown",
   "metadata": {},
   "source": [
    "1.\n",
    "We have provided a list of temperatures in celsius. Using a list comprehension, create a new list called fahrenheit that converts each element in the celsius list to fahrenheit.\n",
    "\n",
    "*Note: * To convert, use the formula:\n",
    "\n",
    "temperature_in_fahrenheit = temperature_in_celsius * 9/5 + 32\n",
    "\n",
    "2.\n",
    "Print fahrenheit."
   ]
  },
  {
   "cell_type": "code",
   "execution_count": 77,
   "metadata": {},
   "outputs": [],
   "source": [
    "celsius = [0, 10, 15, 32, -5, 27, 3]\n",
    "\n"
   ]
  },
  {
   "cell_type": "code",
   "execution_count": 83,
   "metadata": {},
   "outputs": [
    {
     "name": "stdout",
     "output_type": "stream",
     "text": [
      "[32.0, 50.0, 59.0, 89.6, 23.0, 80.6, 37.4]\n"
     ]
    }
   ],
   "source": [
    "# You can even use functions embeded in the new list you created, uncomment the codes below\n",
    "\n",
    "def temperature_in_fahrenheit(temperature_in_celsius):\n",
    "    return temperature_in_celsius * 9/5 + 32\n",
    "\n",
    "fahrenheit = [temperature_in_fahrenheit(temp) for temp in celsius]\n",
    "\n",
    "print(fahrenheit)"
   ]
  },
  {
   "cell_type": "markdown",
   "metadata": {},
   "source": [
    "## Review\n",
    "Good job! In this lesson, you learned\n",
    "\n",
    "1. how to write a for loop\n",
    "2. how to use range in a loop\n",
    "3. what infinite loops are and how to avoid them\n",
    "4. how to skip values in a loop\n",
    "5. how to write a while loop\n",
    "6. how to make lists with one line\n",
    "\n",
    "Let’s get some more practice with these concepts!"
   ]
  },
  {
   "cell_type": "code",
   "execution_count": null,
   "metadata": {},
   "outputs": [],
   "source": []
  },
  {
   "cell_type": "markdown",
   "metadata": {},
   "source": [
    "#### Applications\n",
    "1.\n",
    "Create a list called single_digits that consists of the numbers 0-9 (inclusive).\n",
    "\n",
    "2.\n",
    "Create a for loop that goes through single_digits and prints out each one.\n",
    "\n",
    "3.\n",
    "Before the loop, create a list called squares. Assign it to be an empty list to begin with.\n",
    "\n",
    "4.\n",
    "Inside the loop that iterates through single_digits, append the squared value of each element of single_digits to the list squares. You can do this before or after printing the element.\n",
    "\n",
    "5.\n",
    "After the for loop, print out squares\n",
    "\n",
    "6.\n",
    "Create the list cubes using a list comprehension on the single_digits list. Each element of cubes should be an element of single_digits taken to the third power.\n",
    "\n",
    "7.\n",
    "Print cubes.\n",
    "\n",
    "Good job!"
   ]
  },
  {
   "cell_type": "code",
   "execution_count": 86,
   "metadata": {},
   "outputs": [
    {
     "name": "stdout",
     "output_type": "stream",
     "text": [
      "[0, 1, 4, 9, 16, 25, 36, 49, 64, 81]\n",
      "[0, 1, 8, 27, 64, 125, 216, 343, 512, 729]\n"
     ]
    }
   ],
   "source": [
    "single_digits = list(range(10))\n",
    "\n",
    "squares = []\n",
    "for digit in single_digits:\n",
    "    squares.append(digit**2)\n",
    "    \n",
    "print(squares)\n",
    "\n",
    "cubes =[]\n",
    "for digit in single_digits:\n",
    "    cubes.append(digit**3)\n",
    "\n",
    "print(cubes)\n",
    "\n"
   ]
  },
  {
   "cell_type": "code",
   "execution_count": 85,
   "metadata": {},
   "outputs": [
    {
     "name": "stdout",
     "output_type": "stream",
     "text": [
      "[0, 1, 4, 9, 16, 25, 36, 49, 64, 81]\n"
     ]
    }
   ],
   "source": [
    "squares = [digit ** 2 for digit in single_digits]\n",
    "print(squares)"
   ]
  },
  {
   "cell_type": "markdown",
   "metadata": {},
   "source": [
    "## Looping Techniques\n",
    "This is an additional document that you might want to utilize from."
   ]
  },
  {
   "cell_type": "markdown",
   "metadata": {},
   "source": [
    "https://docs.python.org/3/tutorial/datastructures.html#looping-techniques"
   ]
  },
  {
   "cell_type": "markdown",
   "metadata": {},
   "source": [
    "# Quiz\n",
    "\n",
    "1. What would be the output of the following code:\n",
    "\n",
    "#drink_choices = [\"coffee\", \"tea\", \"water\", \"juice\", \"soda\"]\n",
    "#for drink in drink_choices:\n",
    "#print(drink)\n",
    "\n",
    "A.[“coffee”, “tea”, “water”, “juice”, “soda”]\n",
    "\n",
    "\n",
    "B.drink\n",
    "\n",
    "\n",
    "C.coffee\n",
    "\n",
    "\n",
    "D. \n",
    "coffee\n",
    "\n",
    "tea\n",
    "\n",
    "water\n",
    "\n",
    "juice\n",
    "\n",
    "soda"
   ]
  },
  {
   "cell_type": "code",
   "execution_count": 88,
   "metadata": {},
   "outputs": [
    {
     "name": "stdout",
     "output_type": "stream",
     "text": [
      "coffee\n",
      "tea\n",
      "water\n",
      "juice\n",
      "soda\n"
     ]
    }
   ],
   "source": [
    "drink_choices = [\"coffee\", \"tea\", \"water\", \"juice\", \"soda\"]\n",
    "for drink in drink_choices:\n",
    "    print(drink)"
   ]
  },
  {
   "cell_type": "markdown",
   "metadata": {},
   "source": [
    "2. What would be the output of the following code:"
   ]
  },
  {
   "cell_type": "code",
   "execution_count": 89,
   "metadata": {},
   "outputs": [
    {
     "name": "stdout",
     "output_type": "stream",
     "text": [
      "1\n",
      "1\n"
     ]
    }
   ],
   "source": [
    "numbers = [1, 1, 2, 3]\n",
    "for number in numbers:\n",
    "    if number % 2 == 0:\n",
    "        break\n",
    "    print(number)"
   ]
  },
  {
   "cell_type": "markdown",
   "metadata": {},
   "source": [
    "A.\n",
    "1\n",
    "1\n",
    "\n",
    "B.\n",
    "2\n",
    "\n",
    "C.\n",
    "1\n",
    "1\n",
    "2\n",
    "3\n",
    "\n",
    "D.\n",
    "1\n",
    "1\n",
    "3"
   ]
  },
  {
   "cell_type": "markdown",
   "metadata": {},
   "source": [
    "3. What would be the output of the following code:\n",
    "\n"
   ]
  },
  {
   "cell_type": "code",
   "execution_count": 90,
   "metadata": {},
   "outputs": [
    {
     "name": "stdout",
     "output_type": "stream",
     "text": [
      "1\n",
      "1\n",
      "3\n",
      "5\n",
      "3\n",
      "5\n"
     ]
    }
   ],
   "source": [
    "numbers = [1, 1, 2, 3, 4, 5, 6, 3, 5]\n",
    "for number in numbers:\n",
    "    if number % 2 == 0:\n",
    "        continue\n",
    "    print(number)"
   ]
  },
  {
   "cell_type": "markdown",
   "metadata": {},
   "source": [
    "A.\n",
    "2\n",
    "\n",
    "B.\n",
    "1\n",
    "1\n",
    "3\n",
    "\n",
    "C.\n",
    "1\n",
    "1\n",
    "2\n",
    "\n",
    "D.\n",
    "1\n",
    "1"
   ]
  },
  {
   "cell_type": "markdown",
   "metadata": {},
   "source": [
    "1. What would be the output of the following code:\n",
    "\n"
   ]
  },
  {
   "cell_type": "code",
   "execution_count": null,
   "metadata": {},
   "outputs": [],
   "source": [
    "#for i in range(3):\n",
    "#    print(5)"
   ]
  },
  {
   "cell_type": "code",
   "execution_count": 94,
   "metadata": {},
   "outputs": [
    {
     "name": "stdout",
     "output_type": "stream",
     "text": [
      "5\n",
      "5\n",
      "5\n"
     ]
    }
   ],
   "source": [
    "for i in range(3):\n",
    "    print(5)"
   ]
  },
  {
   "cell_type": "markdown",
   "metadata": {},
   "source": [
    "5. Fill in the blank with the appropriate while condition in order to print the numbers 1 through 10 in order:\n",
    "\n"
   ]
  },
  {
   "cell_type": "code",
   "execution_count": 96,
   "metadata": {},
   "outputs": [
    {
     "name": "stdout",
     "output_type": "stream",
     "text": [
      "1\n",
      "2\n",
      "3\n",
      "4\n",
      "5\n",
      "6\n",
      "7\n",
      "8\n",
      "9\n",
      "10\n"
     ]
    }
   ],
   "source": [
    "i = 1\n",
    "while i <= 10:\n",
    "    print(i)\n",
    "    i += 1"
   ]
  },
  {
   "cell_type": "markdown",
   "metadata": {},
   "source": [
    "A. while i > 10:\n",
    "\n",
    "\n",
    "B. while i == range(11):\n",
    "\n",
    "\n",
    "C. while i < 10:\n",
    "\n",
    "\n",
    "D. while i <= 10:"
   ]
  },
  {
   "cell_type": "markdown",
   "metadata": {},
   "source": [
    "6. Which of these list comprehensions will create a list equal to desired_list?\n"
   ]
  },
  {
   "cell_type": "code",
   "execution_count": 100,
   "metadata": {},
   "outputs": [
    {
     "name": "stdout",
     "output_type": "stream",
     "text": [
      "[10, 8, 20]\n"
     ]
    }
   ],
   "source": [
    "my_list = [5, 10, -2, 8, 20]\n",
    "#desired_list = [10, 8, 20]\n",
    "print([i for i in my_list if i > 5])"
   ]
  },
  {
   "cell_type": "markdown",
   "metadata": {},
   "source": [
    "A. [i for i in my_list if i > 5]\n",
    "\n",
    "B. [i + 5 for i in my_list]\n",
    "\n",
    "C. [i for i in my_list]\n",
    "\n",
    "D. [i for i in my_list if i > 10]"
   ]
  },
  {
   "cell_type": "markdown",
   "metadata": {},
   "source": [
    "7. Which of these list comprehensions will create a list equal to desired_list?"
   ]
  },
  {
   "cell_type": "code",
   "execution_count": 31,
   "metadata": {},
   "outputs": [],
   "source": [
    "#desired_list = [-1, 0, 1, 2, 3]"
   ]
  },
  {
   "cell_type": "markdown",
   "metadata": {},
   "source": [
    "A. [i for i in range(5)]\n",
    "\n",
    "\n",
    "B. range(5)\n",
    "\n",
    "\n",
    "C. [i-1 for i in range(5)]"
   ]
  },
  {
   "cell_type": "markdown",
   "metadata": {},
   "source": [
    "8.What would be the output of the following code:"
   ]
  },
  {
   "cell_type": "code",
   "execution_count": 103,
   "metadata": {},
   "outputs": [
    {
     "name": "stdout",
     "output_type": "stream",
     "text": [
      "0\n",
      "1\n",
      "2\n"
     ]
    }
   ],
   "source": [
    "for i in range(3):\n",
    "    print(i)"
   ]
  },
  {
   "cell_type": "markdown",
   "metadata": {},
   "source": [
    "A.\n",
    "i\n",
    "i\n",
    "i\n",
    "i\n",
    "\n",
    "B.\n",
    "1\n",
    "2\n",
    "3\n",
    "\n",
    "C.\n",
    "i\n",
    "i\n",
    "i\n",
    "\n",
    "D.\n",
    "0\n",
    "1\n",
    "2"
   ]
  },
  {
   "cell_type": "markdown",
   "metadata": {},
   "source": [
    "9. What would be the output of the following code:"
   ]
  },
  {
   "cell_type": "code",
   "execution_count": 104,
   "metadata": {},
   "outputs": [
    {
     "name": "stdout",
     "output_type": "stream",
     "text": [
      "hello!\n",
      "hello!\n",
      "hello!\n",
      "hello!\n"
     ]
    }
   ],
   "source": [
    "numbers = [2, 4, 6, 8]\n",
    "for number in numbers:\n",
    "    print(\"hello!\")"
   ]
  },
  {
   "cell_type": "code",
   "execution_count": 107,
   "metadata": {},
   "outputs": [
    {
     "name": "stdout",
     "output_type": "stream",
     "text": [
      "h e l l o ! h e l l o !\n",
      "h e l l o ! h e l l o ! h e l l o ! h e l l o !\n",
      "h e l l o ! h e l l o ! h e l l o ! h e l l o ! h e l l o ! h e l l o !\n",
      "h e l l o ! h e l l o ! h e l l o ! h e l l o ! h e l l o ! h e l l o ! h e l l o ! h e l l o !\n"
     ]
    }
   ],
   "source": [
    "numbers = [2, 4, 6, 8]\n",
    "for number in numbers:\n",
    "    print(*\"hello!\" * number) \n",
    "\n",
    "# This might be an interesting one to understand it"
   ]
  },
  {
   "cell_type": "markdown",
   "metadata": {},
   "source": [
    "A. hello!\n",
    "\n",
    "\n",
    "B.\n",
    "hello!\n",
    "hello!\n",
    "hello!\n",
    "hello!\n",
    "\n",
    "\n",
    "C.. 2 hello! 4 hello! 6 hello! 8 hello!\n",
    "\n",
    "\n",
    "D. 2 4 6 8"
   ]
  },
  {
   "cell_type": "code",
   "execution_count": 37,
   "metadata": {},
   "outputs": [],
   "source": [
    "#numbers = [2, 4, 6, 8]\n",
    "#for number in numbers:\n",
    "#    print(\"hello!\")"
   ]
  },
  {
   "cell_type": "code",
   "execution_count": null,
   "metadata": {},
   "outputs": [],
   "source": []
  }
 ],
 "metadata": {
  "kernelspec": {
   "display_name": "Python 3",
   "language": "python",
   "name": "python3"
  },
  "language_info": {
   "codemirror_mode": {
    "name": "ipython",
    "version": 3
   },
   "file_extension": ".py",
   "mimetype": "text/x-python",
   "name": "python",
   "nbconvert_exporter": "python",
   "pygments_lexer": "ipython3",
   "version": "3.8.3"
  }
 },
 "nbformat": 4,
 "nbformat_minor": 4
}
