{
 "cells": [
  {
   "cell_type": "markdown",
   "metadata": {},
   "source": [
    "## Learn about how to create new lists in one line of Python!\n",
    "\n",
    "#### List Comprehension\n",
    "When doing data analysis, we often work with lists of numbers and need to modify and perform computations on them efficiently. Let’s say we are working with this list of temperatures, in Celsius, representing some results of a science experiment:"
   ]
  },
  {
   "cell_type": "code",
   "execution_count": 1,
   "metadata": {},
   "outputs": [],
   "source": [
    "temperatures = [-5, 29, 26, -7, 1, 18, 12, 31]"
   ]
  },
  {
   "cell_type": "markdown",
   "metadata": {},
   "source": [
    "What if we found out that our lab thermometer was actually consistently reporting 20 degrees lower than it should have been? We want to add 20 to each temperature in the list. We could do this by hand and just write out a new list:"
   ]
  },
  {
   "cell_type": "code",
   "execution_count": 2,
   "metadata": {},
   "outputs": [],
   "source": [
    "temperatures_adjusted = [15, 49, 46, 13, 21, 38, 32, 51]"
   ]
  },
  {
   "cell_type": "markdown",
   "metadata": {},
   "source": [
    "But that method is time-consuming and prone to errors. And what if our list was thousands of temperatures long? It wouldn’t be practical. It can be helpful to perform a function on all values of a list. Python can help us do this with list comprehensions. We can use this syntax to perform a list comprehension that would yield the same output:"
   ]
  },
  {
   "cell_type": "code",
   "execution_count": 4,
   "metadata": {},
   "outputs": [
    {
     "name": "stdout",
     "output_type": "stream",
     "text": [
      "[15, 49, 46, 13, 21, 38, 32, 51]\n"
     ]
    }
   ],
   "source": [
    "temperatures = [-5, 29, 26, -7, 1, 18, 12, 31]\n",
    "temperatures_adjusted = [temp + 20 for temp in temperatures]\n",
    "# temperatures_adjusted is now [15, 49, 46, 13, 21, 38, 32, 51]\n",
    "print(temperatures_adjusted)"
   ]
  },
  {
   "cell_type": "markdown",
   "metadata": {},
   "source": [
    "This list comprehension:\n",
    "\n",
    "1. takes each element in temperatures\n",
    "2. names that element temp\n",
    "3. stores the value of temp + 20 in a new list called temperatures_adjusted\n",
    "4. repeats steps 1-3 for every value in temperatures\n",
    "\n",
    "Note that if we hadn’t done any mathematical operations on temp, the new list would be just a copy of temperatures:"
   ]
  },
  {
   "cell_type": "code",
   "execution_count": 5,
   "metadata": {},
   "outputs": [
    {
     "name": "stdout",
     "output_type": "stream",
     "text": [
      "[-5, 29, 26, -7, 1, 18, 12, 31]\n"
     ]
    }
   ],
   "source": [
    "temperatures = [-5, 29, 26, -7, 1, 18, 12, 31]\n",
    "temperatures_new = [temp for temp in temperatures]\n",
    "print(temperatures_new)\n",
    "# temperatures_new is now [-5, 29, 26, -7, 1, 18, 12, 31]"
   ]
  },
  {
   "cell_type": "markdown",
   "metadata": {},
   "source": [
    "We can do more complicated mathematical operations like multiplication and division in our list comprehensions. This is how we would convert the temperatures list into Fahrenheit:"
   ]
  },
  {
   "cell_type": "code",
   "execution_count": 12,
   "metadata": {},
   "outputs": [
    {
     "name": "stdout",
     "output_type": "stream",
     "text": [
      "[23.0, 84.2, 78.8, 19.4, 33.8, 64.4, 53.6, 87.8]\n"
     ]
    }
   ],
   "source": [
    "temperatures = [-5, 29, 26, -7, 1, 18, 12, 31]\n",
    "temperatures_F = [round((9.0/5.0)*temp + 32, 1) for temp in temperatures]\n",
    "print(temperatures_F)\n",
    "# temperatures_F is now [23.0, 84.2, 78.8, 19.4, 33.8, 64.4, 53.6, 87.8]"
   ]
  },
  {
   "attachments": {
    "image.png": {
     "image/png": "[encoded data removed]"
    }
   },
   "cell_type": "markdown",
   "metadata": {},
   "source": [
    "List comprehensions can be useful in many different scenarios. For example, consider having to create multiple lists of the x-values for a bar chart, where we are displaying values side-by-side like this:\n",
    "\n",
    "https://content.codecademy.com/courses/matplotlib/rainfall.png\n",
    "![image.png](attachment:image.png)\n",
    "For this chart, we had two datasets that we wanted to plot at two different sets of x-values. The bars have a width of 0.8 (a standard for the graphing library Matplotlib, and we want the bars to be touching. We would want the first blue bar to be at x = 0.0, and the first orange bar to be at x=0.8, so that the bars are touching. The second blue bar would go at x=2.0, and the second orange bar at x=2.8, and so on.\n",
    "\n",
    "Instead of calculating each one of these by hand, we can use a list comprehension:"
   ]
  },
  {
   "cell_type": "code",
   "execution_count": 14,
   "metadata": {},
   "outputs": [
    {
     "name": "stdout",
     "output_type": "stream",
     "text": [
      "[0, 2, 4, 6, 8]\n",
      "[0.8, 2.8, 4.8, 6.8, 8.8]\n"
     ]
    }
   ],
   "source": [
    "x_values_1 = [2*index for index in range(5)]\n",
    "print(x_values_1)\n",
    "# [0.0, 2.0, 4.0, 6.0, 8.0] \n",
    "\n",
    "x_values_2 = [2*index + 0.8 for index in range(5)]\n",
    "print(x_values_2)\n",
    "# [0.8, 2.8, 4.8, 6.8, 8.8]"
   ]
  },
  {
   "cell_type": "markdown",
   "metadata": {},
   "source": [
    "To calculate x_values_2, we went through the list range(5), which is [0, 1, 2, 3, 4]. We picked out each element, called it index, and then calculated 2*index + 0.8. The answer for each index was then stored in the x_values_2 list. The x-tick labels (the ones that say 2000, 2001, 2002, etc) were placed at each midpoint of the two bars. How did we calculate those x-values? The midpoint of 0.0 and 0.8 is 0.4, so that’s where the first tick should be. The midpoint of 2.0 and 2.8 is 2.4, so that’s where the second tick should be. Using a list comprehension:"
   ]
  },
  {
   "cell_type": "code",
   "execution_count": 17,
   "metadata": {},
   "outputs": [
    {
     "name": "stdout",
     "output_type": "stream",
     "text": [
      "[(0, 0.8), (2, 2.8), (4, 4.8), (6, 6.8), (8, 8.8)]\n",
      "[0.4, 2.4, 4.4, 6.4, 8.4]\n"
     ]
    }
   ],
   "source": [
    "zipped = zip(x_values_1, x_values_2)\n",
    "print(list(zipped))\n",
    "\n",
    "x_values_midpoints = [(x1 + x2)/2.0 for (x1, x2) in zip(x_values_1, x_values_2)]\n",
    "print(x_values_midpoints)\n",
    "# [0.4, 2.4, 4.4, 6.4, 8.4]"
   ]
  },
  {
   "cell_type": "markdown",
   "metadata": {},
   "source": [
    "To be able to go through two lists (x_values_1 and x_values_2) in one list comprehension, we used the built-in Python function zip, which puts the elements of two lists together into one list. For example,"
   ]
  },
  {
   "cell_type": "code",
   "execution_count": 18,
   "metadata": {},
   "outputs": [
    {
     "name": "stdout",
     "output_type": "stream",
     "text": [
      "[(1, 4), (2, 6), (3, 8)]\n"
     ]
    }
   ],
   "source": [
    "print(list(zip([1, 2, 3], [4, 6, 8])))\n"
   ]
  },
  {
   "cell_type": "markdown",
   "metadata": {},
   "source": [
    "yields:\n",
    "\n",
    "[(1, 4), (2, 6), (3, 8)]\n",
    "Lastly, we can use list comprehension to iterate through a nested list. For example, if we have a list of (x,y) coordinate pairs and we want to perform a calculation on all of them based on a particular formula, we can use list comprehension to achieve our goal    \n",
    "    \n",
    "    "
   ]
  },
  {
   "cell_type": "code",
   "execution_count": 19,
   "metadata": {},
   "outputs": [
    {
     "name": "stdout",
     "output_type": "stream",
     "text": [
      "[3, 8, 9, 8]\n"
     ]
    }
   ],
   "source": [
    "xy = [[1, 3], [2, 4], [3, 3], [4, 2]]\n",
    "z = [x * y for (x, y) in xy]\n",
    "print(z)"
   ]
  },
  {
   "cell_type": "markdown",
   "metadata": {},
   "source": [
    "yields:\n",
    "\n",
    "[3, 8, 9, 8]\n",
    "The above example is useful in plotting a three-dimensional graph using values from the x and y axes to derive values for the z-axis.\n",
    "\n",
    "The list comprehension is a concise and powerful tool to modify Python lists in one line."
   ]
  },
  {
   "cell_type": "code",
   "execution_count": null,
   "metadata": {},
   "outputs": [],
   "source": []
  }
 ],
 "metadata": {
  "kernelspec": {
   "display_name": "Python 3",
   "language": "python",
   "name": "python3"
  },
  "language_info": {
   "codemirror_mode": {
    "name": "ipython",
    "version": 3
   },
   "file_extension": ".py",
   "mimetype": "text/x-python",
   "name": "python",
   "nbconvert_exporter": "python",
   "pygments_lexer": "ipython3",
   "version": "3.8.3"
  }
 },
 "nbformat": 4,
 "nbformat_minor": 4
}
