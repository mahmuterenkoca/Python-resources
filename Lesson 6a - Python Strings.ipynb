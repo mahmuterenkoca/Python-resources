{
 "cells": [
  {
   "cell_type": "markdown",
   "metadata": {},
   "source": [
    "## Introduction\n",
    "Words and sentences are fundamental to how we communicate, so it follows that we’d want our computers to be able to work with words and sentences as well.\n",
    "\n",
    "In Python, the way we store something like a word, a sentence, or even a whole paragraph is as a string. A string is a sequence of characters contained within a pair of 'single quotes' or \"double quotes\". A string can be any length and can contain any letters, numbers, symbols, and spaces.\n",
    "\n",
    "In this lesson, you will learn more about strings and how they are treated in Python. You will learn how to slice strings, select specific characters from strings, search strings for characters, iterate through strings, and use strings in conditional statements.\n",
    "\n",
    "Let’s get started."
   ]
  },
  {
   "cell_type": "markdown",
   "metadata": {},
   "source": [
    "#### Application\n",
    "\n",
    "1.\n",
    "Save your favorite word as a string to the variable favorite_word.\n",
    "\n",
    "2.\n",
    "Print favorite_word."
   ]
  },
  {
   "cell_type": "code",
   "execution_count": 1,
   "metadata": {},
   "outputs": [
    {
     "name": "stdout",
     "output_type": "stream",
     "text": [
      "Hello!\n"
     ]
    }
   ],
   "source": [
    "# CODE HERE\n",
    "\n",
    "favorite_word = \"Hello!\"\n",
    "print(favorite_word)\n"
   ]
  },
  {
   "cell_type": "markdown",
   "metadata": {},
   "source": [
    "## They're all Lists!\n",
    "A string can be thought of as a list of characters.\n",
    "\n",
    "Like any other list, each character in a string has an index. Consider the string"
   ]
  },
  {
   "cell_type": "code",
   "execution_count": 2,
   "metadata": {},
   "outputs": [],
   "source": [
    "favorite_fruit = \"blueberry\""
   ]
  },
  {
   "cell_type": "markdown",
   "metadata": {},
   "source": [
    "We can select specific letters from this string using the index. Let’s look at the first letter of the string."
   ]
  },
  {
   "cell_type": "code",
   "execution_count": 3,
   "metadata": {},
   "outputs": [
    {
     "name": "stdout",
     "output_type": "stream",
     "text": [
      "l\n"
     ]
    }
   ],
   "source": [
    "print(favorite_fruit[1])\n",
    "# => 'l'"
   ]
  },
  {
   "cell_type": "markdown",
   "metadata": {},
   "source": [
    "Whoops, is that the first letter you expected? Notice that the letter at index 1 of \"blueberry\" isn’t b, it’s l. This is because the indices of a string start at 0. b is located at the zero index and we could select it using:"
   ]
  },
  {
   "cell_type": "code",
   "execution_count": 4,
   "metadata": {},
   "outputs": [
    {
     "name": "stdout",
     "output_type": "stream",
     "text": [
      "b\n"
     ]
    }
   ],
   "source": [
    "print(favorite_fruit[0])\n",
    "# =>'b'"
   ]
  },
  {
   "cell_type": "markdown",
   "metadata": {},
   "source": [
    "It’s important to note that indices of strings must be integers. If you were to try to select a non-integer index we would get a TypeError:"
   ]
  },
  {
   "cell_type": "code",
   "execution_count": 5,
   "metadata": {},
   "outputs": [
    {
     "ename": "TypeError",
     "evalue": "string indices must be integers",
     "output_type": "error",
     "traceback": [
      "\u001b[1;31m---------------------------------------------------------------------------\u001b[0m",
      "\u001b[1;31mTypeError\u001b[0m                                 Traceback (most recent call last)",
      "\u001b[1;32m<ipython-input-5-60d1e5ed3d03>\u001b[0m in \u001b[0;36m<module>\u001b[1;34m\u001b[0m\n\u001b[1;32m----> 1\u001b[1;33m \u001b[0mprint\u001b[0m\u001b[1;33m(\u001b[0m\u001b[0mfavorite_fruit\u001b[0m\u001b[1;33m[\u001b[0m\u001b[1;36m5.2\u001b[0m\u001b[1;33m]\u001b[0m\u001b[1;33m)\u001b[0m\u001b[1;33m\u001b[0m\u001b[1;33m\u001b[0m\u001b[0m\n\u001b[0m\u001b[0;32m      2\u001b[0m \u001b[1;31m# => Traceback (most recent call last):\u001b[0m\u001b[1;33m\u001b[0m\u001b[1;33m\u001b[0m\u001b[1;33m\u001b[0m\u001b[0m\n\u001b[0;32m      3\u001b[0m \u001b[1;31m# =>  File \"<stdin>\", line 1, in <module>\u001b[0m\u001b[1;33m\u001b[0m\u001b[1;33m\u001b[0m\u001b[1;33m\u001b[0m\u001b[0m\n\u001b[0;32m      4\u001b[0m \u001b[1;31m# =>  TypeError: string indices must be integers, not float\u001b[0m\u001b[1;33m\u001b[0m\u001b[1;33m\u001b[0m\u001b[1;33m\u001b[0m\u001b[0m\n",
      "\u001b[1;31mTypeError\u001b[0m: string indices must be integers"
     ]
    }
   ],
   "source": [
    "print(favorite_fruit[5.2])\n",
    "# => Traceback (most recent call last):\n",
    "# =>  File \"<stdin>\", line 1, in <module>\n",
    "# =>  TypeError: string indices must be integers, not float"
   ]
  },
  {
   "cell_type": "markdown",
   "metadata": {},
   "source": [
    "####  APPLICATIONS"
   ]
  },
  {
   "cell_type": "markdown",
   "metadata": {},
   "source": [
    "1. \n",
    "One of the most common things that are represented by strings are names. Save your name as a string to the variable my_name.\n",
    "\n",
    "2.\n",
    "Select the first letter of the variable my_name and save it to first_initial."
   ]
  },
  {
   "cell_type": "code",
   "execution_count": 6,
   "metadata": {},
   "outputs": [
    {
     "name": "stdout",
     "output_type": "stream",
     "text": [
      "M\n"
     ]
    }
   ],
   "source": [
    "# Code Here\n",
    "\n",
    "my_name = \"Mahmut\"\n",
    "first_initial = my_name[0]\n",
    "print(first_initial)"
   ]
  },
  {
   "cell_type": "markdown",
   "metadata": {},
   "source": [
    "## Cut Me a Slice of String\n",
    "Not only can we select a single character from a string, we can select entire chunks of characters from a string. We can do this with the following syntax:\n",
    "\n",
    "\n",
    "This is called slicing a string. When we slice a string we are creating a new string that starts at (and includes) the first_index and ends at (but excludes) the last_index. Let’s look at some examples of this. Recall our favorite fruit:\n",
    "\n",
    "favorite_fruit = 'blueberry'\n",
    "\n",
    "print(favorite_fruit)\n",
    "# => 'blueberry'\n",
    "The indices of this string are shown in the diagram below.\n",
    "\n"
   ]
  },
  {
   "cell_type": "code",
   "execution_count": null,
   "metadata": {},
   "outputs": [],
   "source": [
    "# string_name[first_index:last_index]"
   ]
  },
  {
   "cell_type": "markdown",
   "metadata": {},
   "source": [
    "This is called slicing a string. When we slice a string we are creating a new string that starts at (and includes) the first_index and ends at (but excludes) the last_index. Let’s look at some examples of this. Recall our favorite fruit:"
   ]
  },
  {
   "cell_type": "code",
   "execution_count": 7,
   "metadata": {},
   "outputs": [
    {
     "name": "stdout",
     "output_type": "stream",
     "text": [
      "blueberry\n"
     ]
    }
   ],
   "source": [
    "favorite_fruit = 'blueberry'\n",
    "print(favorite_fruit)\n",
    "# => 'blueberry'\n",
    "\n"
   ]
  },
  {
   "cell_type": "code",
   "execution_count": null,
   "metadata": {},
   "outputs": [],
   "source": [
    "The indices of this string are shown in the diagram below."
   ]
  },
  {
   "attachments": {
    "image.png": {
     "image/png": "[encoded data removed]"
    }
   },
   "cell_type": "markdown",
   "metadata": {},
   "source": [
    "![image.png](attachment:image.png)"
   ]
  },
  {
   "cell_type": "markdown",
   "metadata": {},
   "source": [
    "Let’s say we wanted a new string that contains the letters eberr. We could slice favorite_fruit as follows:\n"
   ]
  },
  {
   "cell_type": "code",
   "execution_count": 8,
   "metadata": {},
   "outputs": [
    {
     "name": "stdout",
     "output_type": "stream",
     "text": [
      "eberr\n"
     ]
    }
   ],
   "source": [
    "print(favorite_fruit[3:8])"
   ]
  },
  {
   "cell_type": "markdown",
   "metadata": {},
   "source": [
    "Notice how the character at the first index, e, is INCLUDED, but the character at the last index, y, is EXCLUDED. If you look for the indices 3 and 8 in the diagram, you can see how the y is outside that range.\n",
    "\n",
    "We can also have open-ended selections. If we remove the first index, the slice starts at the beginning of the string and if we remove the second index the slice continues to the end of the string."
   ]
  },
  {
   "cell_type": "code",
   "execution_count": 9,
   "metadata": {},
   "outputs": [
    {
     "name": "stdout",
     "output_type": "stream",
     "text": [
      "blue\n",
      "berry\n"
     ]
    }
   ],
   "source": [
    "print(favorite_fruit[:4])\n",
    "\n",
    "print (favorite_fruit[4:])\n"
   ]
  },
  {
   "cell_type": "markdown",
   "metadata": {},
   "source": [
    "Again, notice how the b from berry is excluded from the first example and included in the second example.\n",
    "\n"
   ]
  },
  {
   "cell_type": "markdown",
   "metadata": {},
   "source": [
    "## Applications\n",
    "1.\n",
    "You’re a programmer working for Copeland’s Corporate Company. At this company, each employee’s user name is generated by taking the first five letters of their last name.\n",
    "\n",
    "A new employee, Rodrigo Villanueva, is starting today and you need to create his account. His first_name and last_name are stored as strings below.\n",
    "\n",
    "Create a variable new_account by slicing the first five letters of his last_name."
   ]
  },
  {
   "cell_type": "code",
   "execution_count": 10,
   "metadata": {},
   "outputs": [
    {
     "name": "stdout",
     "output_type": "stream",
     "text": [
      "Villa\n"
     ]
    }
   ],
   "source": [
    "first_name = \"Rodrigo\"\n",
    "last_name = \"Villanueva\"\n",
    "\n",
    "# Code Here\n",
    "\n",
    "new_account = last_name[:5]\n",
    "print(new_account)"
   ]
  },
  {
   "cell_type": "markdown",
   "metadata": {},
   "source": [
    "## Concatenating Strings\n",
    "You can also concatenate two existing strings together into a new string. Consider the following two strings."
   ]
  },
  {
   "cell_type": "code",
   "execution_count": 11,
   "metadata": {},
   "outputs": [],
   "source": [
    "fruit_prefix = \"blue\"\n",
    "fruit_suffix = \"berries\""
   ]
  },
  {
   "cell_type": "markdown",
   "metadata": {},
   "source": [
    "We can create a new string by concatenating them together as follows:"
   ]
  },
  {
   "cell_type": "code",
   "execution_count": 12,
   "metadata": {},
   "outputs": [
    {
     "name": "stdout",
     "output_type": "stream",
     "text": [
      "blueberries\n"
     ]
    }
   ],
   "source": [
    "favorite_fruit = fruit_prefix + fruit_suffix\n",
    "print(favorite_fruit)"
   ]
  },
  {
   "cell_type": "markdown",
   "metadata": {},
   "source": [
    "Notice that there are no spaces added here. You have to manually add in the spaces when concatenating strings if you want to include them."
   ]
  },
  {
   "cell_type": "code",
   "execution_count": 13,
   "metadata": {},
   "outputs": [
    {
     "name": "stdout",
     "output_type": "stream",
     "text": [
      "My favorite fruit isblueberries\n",
      "My favorite fruit is blueberries\n"
     ]
    }
   ],
   "source": [
    "fruit_sentence = \"My favorite fruit is\" + favorite_fruit\n",
    "print(fruit_sentence)\n",
    "# => \"My favorite fruit isblueberries\"\n",
    " \n",
    "fruit_sentence = \"My favorite fruit is \" + favorite_fruit\n",
    "print(fruit_sentence)\n",
    "# => \"My favorite fruit is blueberries\""
   ]
  },
  {
   "cell_type": "markdown",
   "metadata": {},
   "source": [
    "It’s subtle, but notice that in the first example, there is no space between “is” and “blueberries”."
   ]
  },
  {
   "cell_type": "markdown",
   "metadata": {},
   "source": [
    "### Applications\n",
    "1.\n",
    "Copeland’s Corporate Company has realized that their policy of using the first five letters of an employee’s last name as a user name isn’t ideal when they have multiple employees with the same last name.\n",
    "\n",
    "Write a function called account_generator that takes two inputs, first_name and last_name and concatenates the first three letters of each and then returns the new account name.\n",
    "\n",
    "2.\n",
    "Test your function on the first_name and last_name provided in script.py and save it to the variable new_account"
   ]
  },
  {
   "cell_type": "code",
   "execution_count": 14,
   "metadata": {},
   "outputs": [
    {
     "data": {
      "text/plain": [
       "'JulBle'"
      ]
     },
     "execution_count": 14,
     "metadata": {},
     "output_type": "execute_result"
    }
   ],
   "source": [
    "first_name = \"Julie\"\n",
    "last_name = \"Blevins\"\n",
    "\n",
    "def account_generator(first_name, last_name):\n",
    "    new_account = first_name[:3] + last_name[:3]\n",
    "    return new_account\n",
    "\n",
    "account_generator(first_name, last_name)"
   ]
  },
  {
   "cell_type": "code",
   "execution_count": null,
   "metadata": {},
   "outputs": [],
   "source": []
  },
  {
   "cell_type": "code",
   "execution_count": 15,
   "metadata": {},
   "outputs": [
    {
     "name": "stdout",
     "output_type": "stream",
     "text": [
      "first name:Mahmut\n",
      "last name:Koca\n"
     ]
    },
    {
     "data": {
      "text/plain": [
       "'MahKoc'"
      ]
     },
     "execution_count": 15,
     "metadata": {},
     "output_type": "execute_result"
    }
   ],
   "source": [
    "first_name = input(\"first name:\")\n",
    "last_name = input(\"last name:\")\n",
    "\n",
    "def account_generator(first_name, last_name):\n",
    "    return first_name[:3] + last_name[:3]\n",
    "\n",
    "account_generator(first_name, last_name)"
   ]
  },
  {
   "cell_type": "markdown",
   "metadata": {},
   "source": [
    "## More and More String Slicing (How Long is that String?)\n",
    "Python comes with some built-in functions for working with strings. One of the most commonly used of these functions is len(). len() returns the number of characters in a string"
   ]
  },
  {
   "cell_type": "code",
   "execution_count": 16,
   "metadata": {},
   "outputs": [
    {
     "name": "stdout",
     "output_type": "stream",
     "text": [
      "9\n"
     ]
    }
   ],
   "source": [
    "favorite_fruit = \"blueberry\"\n",
    "length = len(favorite_fruit)\n",
    "print(length)\n",
    "# => 9"
   ]
  },
  {
   "cell_type": "markdown",
   "metadata": {},
   "source": [
    "If you are taking the length of a sentence the spaces are counted as well.\n",
    "\n"
   ]
  },
  {
   "cell_type": "code",
   "execution_count": 17,
   "metadata": {},
   "outputs": [
    {
     "name": "stdout",
     "output_type": "stream",
     "text": [
      "18\n"
     ]
    }
   ],
   "source": [
    "fruit_sentence = \"I love blueberries\"\n",
    "print(len(fruit_sentence))\n",
    "# => 18"
   ]
  },
  {
   "cell_type": "markdown",
   "metadata": {},
   "source": [
    "len() comes in handy when we are trying to select characters from the end of a string. What is the index of the last character,\"y\", of favorite_fruit from above? You can try to run the following code:"
   ]
  },
  {
   "cell_type": "code",
   "execution_count": 18,
   "metadata": {},
   "outputs": [
    {
     "ename": "IndexError",
     "evalue": "string index out of range",
     "output_type": "error",
     "traceback": [
      "\u001b[1;31m---------------------------------------------------------------------------\u001b[0m",
      "\u001b[1;31mIndexError\u001b[0m                                Traceback (most recent call last)",
      "\u001b[1;32m<ipython-input-18-8bf7e8aec0db>\u001b[0m in \u001b[0;36m<module>\u001b[1;34m\u001b[0m\n\u001b[1;32m----> 1\u001b[1;33m \u001b[0mlast_char\u001b[0m \u001b[1;33m=\u001b[0m \u001b[0mfavorite_fruit\u001b[0m\u001b[1;33m[\u001b[0m\u001b[0mlen\u001b[0m\u001b[1;33m(\u001b[0m\u001b[0mfavorite_fruit\u001b[0m\u001b[1;33m)\u001b[0m\u001b[1;33m]\u001b[0m\u001b[1;33m\u001b[0m\u001b[1;33m\u001b[0m\u001b[0m\n\u001b[0m\u001b[0;32m      2\u001b[0m \u001b[0mprint\u001b[0m\u001b[1;33m(\u001b[0m\u001b[0mlast_char\u001b[0m\u001b[1;33m)\u001b[0m\u001b[1;33m\u001b[0m\u001b[1;33m\u001b[0m\u001b[0m\n\u001b[0;32m      3\u001b[0m \u001b[1;31m# => IndexError\u001b[0m\u001b[1;33m\u001b[0m\u001b[1;33m\u001b[0m\u001b[1;33m\u001b[0m\u001b[0m\n",
      "\u001b[1;31mIndexError\u001b[0m: string index out of range"
     ]
    }
   ],
   "source": [
    "last_char = favorite_fruit[len(favorite_fruit)]\n",
    "print(last_char)\n",
    "# => IndexError"
   ]
  },
  {
   "cell_type": "markdown",
   "metadata": {},
   "source": [
    "Why does this generate an IndexError? Because the indices start at 0, so the final character in favorite_fruit has an index of 8. len(favorite_fruit) returns 9 and, because there is no value at that index, an IndexError occurs.\n",
    "\n",
    "Instead, the last character in a string has an index that is len(string_name) - 1."
   ]
  },
  {
   "cell_type": "code",
   "execution_count": 19,
   "metadata": {},
   "outputs": [
    {
     "name": "stdout",
     "output_type": "stream",
     "text": [
      "y\n"
     ]
    }
   ],
   "source": [
    "last_char = favorite_fruit[len(favorite_fruit)-1]\n",
    "print(last_char)\n",
    "# => 'y'"
   ]
  },
  {
   "cell_type": "markdown",
   "metadata": {},
   "source": [
    "You could also slice the last several characters of a string using len():"
   ]
  },
  {
   "cell_type": "code",
   "execution_count": 22,
   "metadata": {},
   "outputs": [
    {
     "name": "stdout",
     "output_type": "stream",
     "text": [
      "erry\n"
     ]
    }
   ],
   "source": [
    "length = len(favorite_fruit)\n",
    "last_chars = favorite_fruit[length-4:]\n",
    "print(last_chars)\n",
    "# => 'erry'"
   ]
  },
  {
   "cell_type": "markdown",
   "metadata": {},
   "source": [
    "Using a len() statement as the starting index and omitting the final index lets you slice n characters from the end of a string, where n is the amount you subtract from len()."
   ]
  },
  {
   "cell_type": "markdown",
   "metadata": {},
   "source": [
    "## Application\n",
    "\n",
    "1.\n",
    "Copeland’s Corporate Company also wants to update how they generate temporary passwords for new employees.\n",
    "\n",
    "Write a function called password_generator that takes two inputs, first_name and last_name and then concatenate the last three letters of each and returns them as a string.\n",
    "\n",
    "2.\n",
    "Test your function on the provided first_name and last_name and save it to the variable temp_password."
   ]
  },
  {
   "cell_type": "code",
   "execution_count": 24,
   "metadata": {},
   "outputs": [
    {
     "name": "stdout",
     "output_type": "stream",
     "text": [
      "ikouki\n"
     ]
    }
   ],
   "source": [
    "first_name = \"Reiko\"\n",
    "last_name = \"Matsuki\"\n",
    "\n",
    "# Code Here\n",
    "\n",
    "def password_generator(first_name, last_name):\n",
    "    temp_password = first_name[len(first_name)-3:] + last_name[len(last_name)-3:]\n",
    "    return temp_password\n",
    "\n",
    "temp_password = password_generator(first_name, last_name)\n",
    "print(temp_password)"
   ]
  },
  {
   "cell_type": "markdown",
   "metadata": {},
   "source": [
    "## Negative Indices\n",
    "In the previous exercise, we used len() to get a slice of characters at the end of a string.\n",
    "\n",
    "There’s a much easier way to do this — we can use negative indices! Negative indices count backward from the end of the string, so string_name[-1] is the last character of the string, string_name[-2] is the second last character of the string, etc.\n",
    "\n",
    "Here are some examples:"
   ]
  },
  {
   "cell_type": "code",
   "execution_count": 27,
   "metadata": {},
   "outputs": [
    {
     "name": "stdout",
     "output_type": "stream",
     "text": [
      "y\n",
      "r\n",
      "rry\n"
     ]
    }
   ],
   "source": [
    "favorite_fruit = 'blueberry'\n",
    "print(favorite_fruit[-1])\n",
    "# => 'y'\n",
    " \n",
    "print(favorite_fruit[-2])\n",
    "# => 'r'\n",
    " \n",
    "print(favorite_fruit[-3:])\n",
    "# => 'rry'"
   ]
  },
  {
   "cell_type": "markdown",
   "metadata": {},
   "source": [
    "Notice that we are able to slice the last three characters of ‘blueberry’ by having a starting index of -3 and omitting a final index."
   ]
  },
  {
   "cell_type": "markdown",
   "metadata": {},
   "source": [
    "## Applications\n",
    "1.\n",
    "Use negative indices to find the second to last character in company_motto. Save this to the variable second_to_last.\n",
    "\n",
    "2.\n",
    "Use negative indices to create a slice of the last 4 characters in company_motto. Save this to the variable final_word."
   ]
  },
  {
   "cell_type": "code",
   "execution_count": 36,
   "metadata": {},
   "outputs": [
    {
     "name": "stdout",
     "output_type": "stream",
     "text": [
      "f\n",
      "life\n"
     ]
    }
   ],
   "source": [
    "company_motto = \"Copeland's Corporate Company helps you capably cope with the constant cacophony of daily life\"\n",
    "\n",
    "# Code Here\n",
    "\n",
    "second_to_last = company_motto[-2]\n",
    "print(second_to_last)\n",
    "\n",
    "final_word = company_motto[-4:]\n",
    "\n",
    "print(final_word)"
   ]
  },
  {
   "cell_type": "markdown",
   "metadata": {},
   "source": [
    "## Strings are Immutable\n",
    "So far in this lesson, we’ve been selecting characters from strings, slicing strings, and concatenating strings. Each time we perform one of these operations we are creating an entirely new string.\n",
    "\n",
    "This is because strings are immutable. This means that we cannot change a string once it is created. We can use it to create other strings, but we cannot change the string itself.\n",
    "\n",
    "This property, generally, is known as mutability. Data types that are mutable can be changed, and data types, like strings, that are immutable cannot be changed."
   ]
  },
  {
   "cell_type": "markdown",
   "metadata": {},
   "source": [
    "### Applications\n",
    "1.\n",
    "The most recent hire at Copeland’s Corporate Company is a fellow named Rob Daily. Unfortunately, Human Resources seem to have made a bit of a typo and sent over the wrong first_name.\n",
    "\n",
    "Try changing the first character of first_name by running\n",
    "\n"
   ]
  },
  {
   "cell_type": "code",
   "execution_count": 38,
   "metadata": {},
   "outputs": [
    {
     "data": {
      "text/plain": [
       "False"
      ]
     },
     "execution_count": 38,
     "metadata": {},
     "output_type": "execute_result"
    }
   ],
   "source": [
    "first_name = \"Bob\"\n",
    "last_name = \"Daily\"\n",
    "\n",
    "#Unncommet the following code\n",
    "#first_name[0] == \"R\""
   ]
  },
  {
   "cell_type": "markdown",
   "metadata": {},
   "source": [
    "2.\n",
    "Oh right! Strings are immutable, so we can’t change an individual character. Okay, that’s no problem we can still fix this!\n",
    "\n",
    "Delete the code you just wrote for step 1.\n",
    "\n",
    "Then, concatenate the string \"R\" with a slice of first_name that includes everything but the first character, \"B\", and save it to a new string fixed_first_name."
   ]
  },
  {
   "cell_type": "code",
   "execution_count": 39,
   "metadata": {},
   "outputs": [
    {
     "name": "stdout",
     "output_type": "stream",
     "text": [
      "Rob\n"
     ]
    }
   ],
   "source": [
    "fixed_first_name = \"R\" + first_name[1:]\n",
    "print(fixed_first_name)"
   ]
  },
  {
   "cell_type": "markdown",
   "metadata": {},
   "source": [
    "## Escape Characters\n",
    "Occasionally when working with strings, you’ll find that you want to include characters that already have a special meaning in python. For example let’s say I create the string"
   ]
  },
  {
   "cell_type": "code",
   "execution_count": 40,
   "metadata": {},
   "outputs": [
    {
     "ename": "SyntaxError",
     "evalue": "invalid syntax (<ipython-input-40-782b2112887f>, line 1)",
     "output_type": "error",
     "traceback": [
      "\u001b[1;36m  File \u001b[1;32m\"<ipython-input-40-782b2112887f>\"\u001b[1;36m, line \u001b[1;32m1\u001b[0m\n\u001b[1;33m    favorite_fruit_conversation = \"He said, \"blueberries are my favorite!\"\"\u001b[0m\n\u001b[1;37m                                             ^\u001b[0m\n\u001b[1;31mSyntaxError\u001b[0m\u001b[1;31m:\u001b[0m invalid syntax\n"
     ]
    }
   ],
   "source": [
    "favorite_fruit_conversation = \"He said, \"blueberries are my favorite!\"\""
   ]
  },
  {
   "cell_type": "markdown",
   "metadata": {},
   "source": [
    "We’ll have accidentally ended the string before we wanted to by including the \" character. The way we can do this is by introducing escape characters. By adding a backslash in front of the special character we want to escape, \\\", we can include it in a string."
   ]
  },
  {
   "cell_type": "code",
   "execution_count": 41,
   "metadata": {},
   "outputs": [
    {
     "name": "stdout",
     "output_type": "stream",
     "text": [
      "He said, \"blueberries are my favorite!\"\n"
     ]
    }
   ],
   "source": [
    "favorite_fruit_conversation = \"He said, \\\"blueberries are my favorite!\\\"\"\n",
    "print(favorite_fruit_conversation)"
   ]
  },
  {
   "cell_type": "code",
   "execution_count": 42,
   "metadata": {},
   "outputs": [
    {
     "name": "stdout",
     "output_type": "stream",
     "text": [
      "He said, 'blueberries are my favorite!'\n"
     ]
    }
   ],
   "source": [
    "favorite_fruit_conversation = \"He said, 'blueberries are my favorite!'\"\n",
    "print(favorite_fruit_conversation)"
   ]
  },
  {
   "cell_type": "markdown",
   "metadata": {},
   "source": [
    "## Applications\n",
    "\n",
    "1.\n",
    "When Rob Daily (remember him? From the last exercise?) set up his account he set his password to be\n",
    "\n",
    "\n",
    "theycallme\"crazy\"91\n",
    "\n",
    "His password was causing some errors in the system because of the \" marks. Rewrite his password using escape characters and save it to the variable password."
   ]
  },
  {
   "cell_type": "code",
   "execution_count": 43,
   "metadata": {},
   "outputs": [
    {
     "name": "stdout",
     "output_type": "stream",
     "text": [
      "theycallme\"crazy\"91\n"
     ]
    }
   ],
   "source": [
    "password = \"theycallme\\\"crazy\\\"91\"\n",
    "print(password)"
   ]
  },
  {
   "cell_type": "code",
   "execution_count": 45,
   "metadata": {},
   "outputs": [
    {
     "name": "stdout",
     "output_type": "stream",
     "text": [
      "theycallme\"crazy\"91\n"
     ]
    }
   ],
   "source": [
    "crazy = \"\\\"crazy\\\"\"\n",
    "password = \"theycallme\"+crazy+\"91\"\n",
    "print(password)"
   ]
  },
  {
   "cell_type": "markdown",
   "metadata": {},
   "source": [
    "## Iterating through Strings\n",
    "Now you know enough about strings that we can start doing the really fun stuff!\n",
    "\n",
    "Because strings are lists, that means we can iterate through a string using for or while loops. This opens up a whole range of possibilities of ways we can manipulate and analyze strings. Let’s take a look at an example."
   ]
  },
  {
   "cell_type": "code",
   "execution_count": 46,
   "metadata": {},
   "outputs": [],
   "source": [
    "def print_each_letter(word):\n",
    "    for letter in word:\n",
    "        print(letter)"
   ]
  },
  {
   "cell_type": "markdown",
   "metadata": {},
   "source": [
    "This code will iterate through each letter in a given word and will print it to the terminal.\n",
    "\n"
   ]
  },
  {
   "cell_type": "code",
   "execution_count": 47,
   "metadata": {},
   "outputs": [
    {
     "name": "stdout",
     "output_type": "stream",
     "text": [
      "b\n",
      "l\n",
      "u\n",
      "e\n"
     ]
    }
   ],
   "source": [
    "favorite_color = \"blue\"\n",
    "print_each_letter(favorite_color)\n",
    "# => 'b'\n",
    "# => 'l'\n",
    "# => 'u'\n",
    "# => 'e'"
   ]
  },
  {
   "cell_type": "markdown",
   "metadata": {},
   "source": [
    "Let’s try a couple of problems where we need to iterate through a string."
   ]
  },
  {
   "cell_type": "markdown",
   "metadata": {},
   "source": [
    "## Applications\n",
    "1.\n",
    "Let’s replicate a function you are already familiar with, len().\n",
    "\n",
    "Write a new function called get_length() that takes a string as an input and returns the number of characters in that string. Do this by iterating through the string, don’t cheat and use len()!"
   ]
  },
  {
   "cell_type": "code",
   "execution_count": 50,
   "metadata": {},
   "outputs": [
    {
     "data": {
      "text/plain": [
       "36"
      ]
     },
     "execution_count": 50,
     "metadata": {},
     "output_type": "execute_result"
    }
   ],
   "source": [
    "\n",
    "def get_length(word):\n",
    "    counter = 0\n",
    "    for letter in word:\n",
    "        counter += 1\n",
    "    return counter    \n",
    "\n",
    "get_length(\"jsafjaskfjbnaskfbjaskbfksabfksabfksa\")"
   ]
  },
  {
   "cell_type": "markdown",
   "metadata": {},
   "source": [
    "## Strings and Conditionals (Part One)\n",
    "Now that we are iterating through strings, we can really explore the potential of strings. When we iterate through a string we do something with each character. By including conditional statements inside of these iterations, we can start to do some really cool stuff.\n",
    "\n",
    "Take a look at the following code:"
   ]
  },
  {
   "cell_type": "code",
   "execution_count": 52,
   "metadata": {},
   "outputs": [
    {
     "name": "stdout",
     "output_type": "stream",
     "text": [
      "2\n"
     ]
    }
   ],
   "source": [
    "favorite_fruit = \"blueberry\"\n",
    "counter = 0\n",
    "for character in favorite_fruit:\n",
    "    if character == \"b\":\n",
    "        counter = counter + 1\n",
    "\n",
    "print(counter)"
   ]
  },
  {
   "cell_type": "markdown",
   "metadata": {},
   "source": [
    "This code will count the number of bs in the string “blueberry” (hint: it’s two). Let’s take a moment and break down what exactly this code is doing.\n",
    "\n",
    "First, we define our string, favorite_fruit, and a variable called counter, which we set equal to zero. Then the for loop will iterate through each character in favorite_fruit and compare it to the letter b.\n",
    "\n",
    "Each time a character equals b the code will increase the variable counter by one. Then, once all characters have been checked, the code will print the counter, telling us how many bs were in “blueberry”. This is a great example of how iterating through a string can be used to solve a specific application, in this case counting a certain letter in a word."
   ]
  },
  {
   "cell_type": "markdown",
   "metadata": {},
   "source": [
    "## Applications\n",
    "1.\n",
    "Write a function called letter_check that takes two inputs, word and letter.\n",
    "\n",
    "This function should return True if the word contains the letter and False if it does not."
   ]
  },
  {
   "cell_type": "code",
   "execution_count": 58,
   "metadata": {},
   "outputs": [
    {
     "data": {
      "text/plain": [
       "True"
      ]
     },
     "execution_count": 58,
     "metadata": {},
     "output_type": "execute_result"
    }
   ],
   "source": [
    "def letter_check(word, letter):\n",
    "    for character in word:\n",
    "        if character == letter:\n",
    "            return True\n",
    "    return False    \n",
    "    \n",
    "    \n",
    "letter_check(\"mahmut\", \"t\")"
   ]
  },
  {
   "cell_type": "markdown",
   "metadata": {},
   "source": [
    "## Strings and Conditionals (Part Two)\n",
    "There’s an even easier way than iterating through the entire string to determine if a character is in a string. We can do this type of check more efficiently using in. in checks if one string is part of another string.\n",
    "\n",
    "Here is what the syntax of in looks like:"
   ]
  },
  {
   "cell_type": "code",
   "execution_count": null,
   "metadata": {},
   "outputs": [],
   "source": [
    "#letter in word\n"
   ]
  },
  {
   "cell_type": "markdown",
   "metadata": {},
   "source": [
    "Here, letter in word is a boolean expression that is True if the string letter is in the string word. Here are some examples:"
   ]
  },
  {
   "cell_type": "code",
   "execution_count": 59,
   "metadata": {},
   "outputs": [
    {
     "name": "stdout",
     "output_type": "stream",
     "text": [
      "True\n",
      "False\n"
     ]
    }
   ],
   "source": [
    "print(\"e\" in \"blueberry\")\n",
    "# => True\n",
    "print(\"a\" in \"blueberry\")\n",
    "# => False"
   ]
  },
  {
   "cell_type": "markdown",
   "metadata": {},
   "source": [
    "In fact, this method is more powerful than the function you wrote in the last exercise because it not only works with letters, but with entire strings as well."
   ]
  },
  {
   "cell_type": "code",
   "execution_count": 60,
   "metadata": {},
   "outputs": [
    {
     "name": "stdout",
     "output_type": "stream",
     "text": [
      "True\n",
      "False\n"
     ]
    }
   ],
   "source": [
    "print(\"blue\" in \"blueberry\")\n",
    "# => True\n",
    "print(\"blue\" in \"strawberry\")\n",
    "# => False"
   ]
  },
  {
   "cell_type": "markdown",
   "metadata": {},
   "source": [
    "## Applications\n",
    "1.\n",
    "Write a function called contains that takes two arguments, big_string and little_string and returns True if big_string contains little_string.\n",
    "\n",
    "For example contains(\"watermelon\", \"melon\") should return True and contains(\"watermelon\", \"berry\") should return False."
   ]
  },
  {
   "cell_type": "code",
   "execution_count": 61,
   "metadata": {},
   "outputs": [],
   "source": [
    "def contains(big_string, little_string):\n",
    "    return little_string in big_string"
   ]
  },
  {
   "cell_type": "code",
   "execution_count": 64,
   "metadata": {},
   "outputs": [
    {
     "data": {
      "text/plain": [
       "True"
      ]
     },
     "execution_count": 64,
     "metadata": {},
     "output_type": "execute_result"
    }
   ],
   "source": [
    "contains(\"Mahmut Koca\", \"Koca\")"
   ]
  },
  {
   "cell_type": "code",
   "execution_count": 63,
   "metadata": {},
   "outputs": [
    {
     "data": {
      "text/plain": [
       "False"
      ]
     },
     "execution_count": 63,
     "metadata": {},
     "output_type": "execute_result"
    }
   ],
   "source": [
    "contains(\"Mahmut Koca\", \"Kaya\")"
   ]
  },
  {
   "cell_type": "markdown",
   "metadata": {},
   "source": [
    "## Review\n",
    "Great work! I hope you are now starting to see the potential of strings and how they can be used to solve a huge variety of problems.\n",
    "\n",
    "In this lesson you learned:\n",
    "\n",
    "- A string is a list of characters.\n",
    "- A character can be selected from a string using its index string_name[index]. These indices start at 0.\n",
    "- A ‘slice’ can be selected from a string. These can be between two indices or can be open-ended, selecting all of the string from a point.\n",
    "- Strings can be concatenated to make larger strings.\n",
    "len() can be used to determine the number of characters in a string.\n",
    "- Strings can be iterated through using for loops.\n",
    "- Iterating through strings opens up a huge potential for applications, especially when combined with conditional statements.\n",
    "\n",
    "Let’s put your new skills to the test!\n",
    "\n",
    "## Applications\n",
    "1.\n",
    "Copeland’s Corporate Company has finalized what they want their username and temporary password creation to be and have enlisted your help, once again, to build the function to generate them. In this exercise, you will create two functions, username_generator and password_generator.\n",
    "\n",
    "Let’s start with username_generator. Create a function called username_generator take two inputs, first_name and last_name and returns a username. The username should be a slice of the first three letters of their first name and the first four letters of their last name. If their first name is less than three letters or their last name is less than four letters it should use their entire names.\n",
    "\n",
    "For example, if the employee’s name is Abe Simpson the function should generate the username AbeSimp."
   ]
  },
  {
   "cell_type": "code",
   "execution_count": 65,
   "metadata": {},
   "outputs": [],
   "source": [
    "def username_generator(first_name, last_name):\n",
    "    if len(first_name)<3:\n",
    "        username = first_name\n",
    "    else:\n",
    "        username = first_name[:3]\n",
    "        \n",
    "    if len(last_name)<4:\n",
    "        username += last_name\n",
    "    else:\n",
    "        username += last_name[:4]\n",
    "    return username"
   ]
  },
  {
   "cell_type": "code",
   "execution_count": 70,
   "metadata": {},
   "outputs": [],
   "source": [
    "def username_generator(first_name, last_name):\n",
    "    username = first_name[:3] + last_name[:4]\n",
    "    if len(first_name) < 3 or len(last_name) < 4:\n",
    "        username = first_name + last_name\n",
    "    return username"
   ]
  },
  {
   "cell_type": "code",
   "execution_count": 76,
   "metadata": {},
   "outputs": [
    {
     "data": {
      "text/plain": [
       "'AliKoa'"
      ]
     },
     "execution_count": 76,
     "metadata": {},
     "output_type": "execute_result"
    }
   ],
   "source": [
    "username_generator(\"Ali\", \"Koa\")"
   ]
  },
  {
   "cell_type": "markdown",
   "metadata": {},
   "source": [
    "2.\n",
    "Great work! Now for the temporary password, they want the function to take the input user name and shift all of the letters by one to the right, so the last letter of the username ends up as the first letter and so forth. For example, if the username is AbeSimp, then the temporary password generated should be pAbeSim.\n",
    "\n",
    "Start by defining the function password_generator so that it takes one input, username and in it define an empty string named password."
   ]
  },
  {
   "cell_type": "markdown",
   "metadata": {},
   "source": [
    "3.\n",
    "Inside password_generator create a for loop that iterates through the indices username by going from 0 to len(username).\n",
    "\n",
    "To shift the letters right, at each letter the for loop should add the previous letter to the string password."
   ]
  },
  {
   "cell_type": "code",
   "execution_count": 79,
   "metadata": {},
   "outputs": [
    {
     "data": {
      "text/plain": [
       "'pAbeSim'"
      ]
     },
     "execution_count": 79,
     "metadata": {},
     "output_type": "execute_result"
    }
   ],
   "source": [
    "def password_generator(username):\n",
    "    for i in username:\n",
    "        return username[-1]+username[:-1]\n",
    "    \n",
    "password_generator(\"AbeSimp\")"
   ]
  },
  {
   "cell_type": "code",
   "execution_count": 80,
   "metadata": {},
   "outputs": [
    {
     "data": {
      "text/plain": [
       "'pAbeShim'"
      ]
     },
     "execution_count": 80,
     "metadata": {},
     "output_type": "execute_result"
    }
   ],
   "source": [
    "def password_generator(username):\n",
    "    return  username[len(username)-1] +username[0:-1]\n",
    "\n",
    "password_generator(\"AbeShimp\")"
   ]
  },
  {
   "cell_type": "code",
   "execution_count": 81,
   "metadata": {},
   "outputs": [
    {
     "name": "stdout",
     "output_type": "stream",
     "text": [
      "first name: Abe\n",
      "last name: Simp\n"
     ]
    },
    {
     "data": {
      "text/plain": [
       "'pAbeSim'"
      ]
     },
     "execution_count": 81,
     "metadata": {},
     "output_type": "execute_result"
    }
   ],
   "source": [
    "first_name = input(\"first name: \")\n",
    "last_name = input(\"last name: \")\n",
    "\n",
    "def password_generator(first_name, last_name):\n",
    "    return last_name[-1] + first_name + last_name[:len(last_name)-1]\n",
    "\n",
    "password_generator(first_name, last_name)"
   ]
  },
  {
   "cell_type": "code",
   "execution_count": 83,
   "metadata": {},
   "outputs": [
    {
     "data": {
      "text/plain": [
       "'pAbeSim'"
      ]
     },
     "execution_count": 83,
     "metadata": {},
     "output_type": "execute_result"
    }
   ],
   "source": [
    "gec=\"\"\n",
    "def password_generator(username):\n",
    "    for i in username:\n",
    "        gec=username[-1]+username[:-1]\n",
    "        return gec\n",
    "password_generator(\"AbeSimp\")"
   ]
  },
  {
   "cell_type": "markdown",
   "metadata": {},
   "source": [
    "## Quiz"
   ]
  },
  {
   "cell_type": "markdown",
   "metadata": {},
   "source": [
    "1- What code would select the letter “p” from the string good_fruit = \"Raspberry\"?\n",
    "\n",
    "\n",
    "A. good_fruit(4)\n",
    "\n",
    "B. good_fruit[4]\n",
    "\n",
    "C. good_fruit[3]\n",
    "\n",
    "D. good_fruit(3)"
   ]
  },
  {
   "cell_type": "code",
   "execution_count": 84,
   "metadata": {},
   "outputs": [
    {
     "name": "stdout",
     "output_type": "stream",
     "text": [
      "p\n"
     ]
    }
   ],
   "source": [
    "good_fruit = \"Raspberry\"\n",
    "print(good_fruit[3])"
   ]
  },
  {
   "cell_type": "markdown",
   "metadata": {},
   "source": [
    "2- Given the string least_favorite_fruit = \"cantaloupe\", what piece of code would create a string that was equal to \"lou\"?\n",
    "\n",
    "\n",
    "A. least_favorite_fruit[5:8]\n",
    "\n",
    "B. least_favorite_fruit[4:7]\n",
    "\n",
    "C. least_favorite_fruit[5:7]\n",
    "\n",
    "D. least_favorite_fruit[6:8]"
   ]
  },
  {
   "cell_type": "code",
   "execution_count": 85,
   "metadata": {},
   "outputs": [
    {
     "name": "stdout",
     "output_type": "stream",
     "text": [
      "lou\n"
     ]
    }
   ],
   "source": [
    "least_favorite_fruit = \"cantaloupe\"\n",
    "print(least_favorite_fruit[5:8])"
   ]
  },
  {
   "cell_type": "markdown",
   "metadata": {},
   "source": [
    "3. What will the following code print to terminal?\n"
   ]
  },
  {
   "cell_type": "code",
   "execution_count": 86,
   "metadata": {},
   "outputs": [
    {
     "name": "stdout",
     "output_type": "stream",
     "text": [
      "w\n",
      "t\n",
      "r\n",
      "e\n",
      "o\n"
     ]
    }
   ],
   "source": [
    "def print_some_characters(word):\n",
    "    for i in range(len(word)):\n",
    "        if i % 2 == 0:\n",
    "            print(word[i])\n",
    " \n",
    "print_some_characters(\"watermelon\")"
   ]
  },
  {
   "cell_type": "markdown",
   "metadata": {},
   "source": [
    "\n",
    "\n",
    "A) \n",
    "\n",
    "a\n",
    "\n",
    "e\n",
    "\n",
    "m\n",
    "\n",
    "l\n",
    "\n",
    "n\n",
    "\n",
    "B) \n",
    "\n",
    "t\n",
    "\n",
    "r\n",
    "\n",
    "e\n",
    "\n",
    "o\n",
    "\n",
    "\n",
    "C) \n",
    "\n",
    "t\n",
    "\n",
    "D) \n",
    "\n",
    "w\n",
    "\n",
    "t\n",
    "\n",
    "r\n",
    "\n",
    "e\n",
    "\n",
    "o\n"
   ]
  },
  {
   "cell_type": "markdown",
   "metadata": {},
   "source": [
    "4.\n",
    "Which of the following expressions is False?\n",
    "\n",
    "\n",
    "A. \"a\" in \"banana\"\n",
    "\n",
    "B.  \"cran\" in \"cranberry\"\n",
    "\n",
    "C. \"cherry\" in \"cherry\"\n",
    "\n",
    "D. \"s\" in \"watermelon\""
   ]
  },
  {
   "cell_type": "code",
   "execution_count": 87,
   "metadata": {},
   "outputs": [
    {
     "data": {
      "text/plain": [
       "False"
      ]
     },
     "execution_count": 87,
     "metadata": {},
     "output_type": "execute_result"
    }
   ],
   "source": [
    "\"s\" in \"watermelon\""
   ]
  },
  {
   "cell_type": "markdown",
   "metadata": {},
   "source": [
    "5. Consider the following function. What would it print to the terminal?\n",
    "\n",
    "\n",
    "\n"
   ]
  },
  {
   "cell_type": "code",
   "execution_count": 89,
   "metadata": {},
   "outputs": [
    {
     "name": "stdout",
     "output_type": "stream",
     "text": [
      "My favorite icecream is chocolate.\n"
     ]
    }
   ],
   "source": [
    "def tell_me_about_icecream(favorite_icecream):\n",
    "  response = \"My favorite icecream is \" + favorite_icecream + \".\"\n",
    "  print(response)\n",
    " \n",
    "tell_me_about_icecream(\"chocolate\")"
   ]
  },
  {
   "cell_type": "markdown",
   "metadata": {},
   "source": [
    "A. response\n",
    "\n",
    "\n",
    "B. My favorite icecream ischocolate.\n",
    "\n",
    "\n",
    "C. My favorite icecream is chocolate.\n",
    "\n",
    "\n",
    "D. My favorite icecream is + chocolate +."
   ]
  },
  {
   "cell_type": "markdown",
   "metadata": {},
   "source": [
    "6. What character will be selected from the string cool_fruit = \"watermelon\" using the code cool_fruit[len(cool_fruit) - 2]?\n",
    "\n",
    "\n",
    "A. “n”\n",
    "\n",
    "\n",
    "B. This code will throw an IndexError.\n",
    "\n",
    "\n",
    "C. “o”\n",
    "\n",
    "\n",
    "D. “l”"
   ]
  },
  {
   "cell_type": "code",
   "execution_count": 90,
   "metadata": {},
   "outputs": [],
   "source": [
    "cool_fruit = \"watermelon\""
   ]
  },
  {
   "cell_type": "code",
   "execution_count": 91,
   "metadata": {},
   "outputs": [
    {
     "data": {
      "text/plain": [
       "'o'"
      ]
     },
     "execution_count": 91,
     "metadata": {},
     "output_type": "execute_result"
    }
   ],
   "source": [
    "cool_fruit[len(cool_fruit) - 2]"
   ]
  },
  {
   "cell_type": "code",
   "execution_count": null,
   "metadata": {},
   "outputs": [],
   "source": []
  },
  {
   "cell_type": "code",
   "execution_count": null,
   "metadata": {},
   "outputs": [],
   "source": []
  },
  {
   "cell_type": "code",
   "execution_count": null,
   "metadata": {},
   "outputs": [],
   "source": []
  }
 ],
 "metadata": {
  "kernelspec": {
   "display_name": "Python 3",
   "language": "python",
   "name": "python3"
  },
  "language_info": {
   "codemirror_mode": {
    "name": "ipython",
    "version": 3
   },
   "file_extension": ".py",
   "mimetype": "text/x-python",
   "name": "python",
   "nbconvert_exporter": "python",
   "pygments_lexer": "ipython3",
   "version": "3.8.3"
  }
 },
 "nbformat": 4,
 "nbformat_minor": 4
}
