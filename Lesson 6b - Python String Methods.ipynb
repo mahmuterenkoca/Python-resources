{
 "cells": [
  {
   "cell_type": "markdown",
   "metadata": {},
   "source": [
    "## Introduction\n",
    "Do you have a gigantic string that you need to parse for information? Do you need to sanitize a users input to work in a function? Do you need to be able to generate outputs with variable values? All of these things can be accomplished with string methods!\n",
    "\n",
    "Python comes with built-in string methods that gives you the power to perform complicated tasks on strings very quickly and efficiently. These string methods allow you to change the case of a string, split a string into many smaller strings, join many small strings together into a larger string, and allow you to neatly combine changing variables with string outputs.\n",
    "\n",
    "In the previous lesson, you worked with len(), which was a function that determined the number of characters in a string. This, while similar, was NOT a string method. String methods all have the same syntax:"
   ]
  },
  {
   "cell_type": "code",
   "execution_count": null,
   "metadata": {},
   "outputs": [],
   "source": [
    "# string_name.string_method(arguments)"
   ]
  },
  {
   "cell_type": "markdown",
   "metadata": {},
   "source": [
    "Unlike len(), which is called with a string as it’s argument, a string method is called at the end of a string and each one has its own method specific arguments."
   ]
  },
  {
   "cell_type": "markdown",
   "metadata": {},
   "source": [
    "### String Methods\n",
    "The diagram shows all of the string methods you can expect to learn in this lesson. Take a quick look at them and then let’s get started!"
   ]
  },
  {
   "cell_type": "code",
   "execution_count": null,
   "metadata": {},
   "outputs": [],
   "source": [
    "\"Hello world\".upper()"
   ]
  },
  {
   "cell_type": "code",
   "execution_count": null,
   "metadata": {},
   "outputs": [],
   "source": [
    "\"HelLo World\".lower()"
   ]
  },
  {
   "cell_type": "code",
   "execution_count": null,
   "metadata": {},
   "outputs": [],
   "source": [
    "\"Hello world\".title()"
   ]
  },
  {
   "cell_type": "code",
   "execution_count": null,
   "metadata": {
    "scrolled": false
   },
   "outputs": [],
   "source": [
    "\"Hello world\". split()"
   ]
  },
  {
   "cell_type": "code",
   "execution_count": null,
   "metadata": {
    "scrolled": false
   },
   "outputs": [],
   "source": [
    "\" \".join([\"Hello\", \"world\"]) "
   ]
  },
  {
   "cell_type": "code",
   "execution_count": null,
   "metadata": {},
   "outputs": [],
   "source": [
    "\"Hello world\".replace(\"He\", \"Ja\")"
   ]
  },
  {
   "cell_type": "code",
   "execution_count": null,
   "metadata": {},
   "outputs": [],
   "source": [
    "\"    Hello world              \".strip()"
   ]
  },
  {
   "cell_type": "code",
   "execution_count": null,
   "metadata": {},
   "outputs": [],
   "source": [
    "\"{} {}{}\".format(\"Hello\", \"world\", \"!\")"
   ]
  },
  {
   "cell_type": "markdown",
   "metadata": {},
   "source": [
    "### Possible Question\n",
    "In the context of this lesson 5, can we call more than one string method in a single statement?\n",
    "\n",
    "### Possible Answer with an answer\n",
    "Yes, you can call multiple methods, one after the other in the same statement. This is sometimes referred to as “method chaining”. When you chain methods, it applies each method from left to right. The following methods will apply to whatever return value the previous method provided.\n",
    "\n",
    "For example,\n",
    "\n"
   ]
  },
  {
   "cell_type": "code",
   "execution_count": null,
   "metadata": {},
   "outputs": [],
   "source": [
    "words = 'HeLlO WoRlD'.lower().title().split()\n",
    "\n",
    "print(words)\n",
    "# ['Hello', 'World']"
   ]
  },
  {
   "cell_type": "markdown",
   "metadata": {},
   "source": [
    "## Formatting Methods\n",
    "There are three string methods that can change the casing of a string. These are .lower(), .upper(), and .title().\n",
    "\n",
    "- .lower() returns the string with all lowercase characters.\n",
    "- .upper() returns the string with all uppercase characters.\n",
    "- .title() returns the string in title case, which means the first letter of each word is capitalized.\n",
    "\n",
    "Here’s an example of .lower() in action:"
   ]
  },
  {
   "cell_type": "code",
   "execution_count": null,
   "metadata": {},
   "outputs": [],
   "source": [
    "favorite_song = 'SmOoTH'\n",
    "favorite_song_lowercase = favorite_song.lower()\n",
    "print(favorite_song_lowercase)\n",
    "# => 'smooth'"
   ]
  },
  {
   "cell_type": "code",
   "execution_count": null,
   "metadata": {},
   "outputs": [],
   "source": []
  },
  {
   "cell_type": "markdown",
   "metadata": {},
   "source": [
    "Every character was changed to lowercase! It’s important to remember that string methods can only create new strings, they do not change the original string."
   ]
  },
  {
   "cell_type": "code",
   "execution_count": null,
   "metadata": {},
   "outputs": [],
   "source": [
    "print(favorite_song)\n",
    "# => 'SmOoTH'"
   ]
  },
  {
   "cell_type": "markdown",
   "metadata": {},
   "source": [
    "See, it’s still the same! These string methods are great for sanitizing user input and standardizing the formatting of your strings."
   ]
  },
  {
   "cell_type": "markdown",
   "metadata": {},
   "source": [
    "### Applications\n",
    "1.\n",
    "You’re a programmer working for an organization that is trying to digitize and store poetry called Preserve the Verse.\n",
    "\n",
    "You’ve been given two strings, the title of a poem and it’s author, and have been asked to reformat them slightly to fit the conventions of the organization’s database.\n",
    "\n",
    "Make poem_title have title case and save it to poem_title_fixed."
   ]
  },
  {
   "cell_type": "code",
   "execution_count": null,
   "metadata": {},
   "outputs": [],
   "source": [
    "poem_title = \"spring storm\"\n",
    "poem_author = \"William Carlos Williams\"\n",
    "\n",
    "# code here\n",
    "poem_title_fixed = poem_title.title()"
   ]
  },
  {
   "cell_type": "markdown",
   "metadata": {},
   "source": [
    "2.\n",
    "Print poem_title and poem_title_fixed.\n",
    "\n",
    "How did the string change?"
   ]
  },
  {
   "cell_type": "code",
   "execution_count": null,
   "metadata": {},
   "outputs": [],
   "source": [
    "print(poem_title)\n",
    "print(poem_title_fixed)"
   ]
  },
  {
   "cell_type": "markdown",
   "metadata": {},
   "source": [
    "3.\n",
    "The organization’s database also needs the author’s name to be uppercase only.\n",
    "\n",
    "Make poem_author uppercase and save it to poem_author_fixed."
   ]
  },
  {
   "cell_type": "code",
   "execution_count": null,
   "metadata": {},
   "outputs": [],
   "source": [
    "poem_author_fixed = poem_author.upper()"
   ]
  },
  {
   "cell_type": "markdown",
   "metadata": {},
   "source": [
    "4.\n",
    "Print poem_author and poem_author_fixed.\n",
    "\n",
    "Again, how did the string change?"
   ]
  },
  {
   "cell_type": "code",
   "execution_count": null,
   "metadata": {},
   "outputs": [],
   "source": [
    "print(poem_author)\n",
    "print(poem_author_fixed)"
   ]
  },
  {
   "cell_type": "markdown",
   "metadata": {},
   "source": [
    "### Splitting Strings\n",
    ".upper(), .lower(), and .title() all are performed on an existing string and produce a string in return. Let’s take a look at a string method that returns a different object entirely!\n",
    "\n",
    ".split() is performed on a string, takes one argument, and returns a list of substrings found between the given argument (which in the case of .split() is known as the delimiter). The following syntax should be used:"
   ]
  },
  {
   "cell_type": "code",
   "execution_count": null,
   "metadata": {},
   "outputs": [],
   "source": [
    "# string_name.split(delimiter)\n"
   ]
  },
  {
   "cell_type": "markdown",
   "metadata": {},
   "source": [
    "If you do not provide an argument for .split() it will default to splitting at spaces.\n",
    "\n",
    "For example, consider the following strings:"
   ]
  },
  {
   "cell_type": "code",
   "execution_count": null,
   "metadata": {},
   "outputs": [],
   "source": [
    "man_its_a_hot_one = \"Like seven inches from the midday sun\"\n",
    "print(man_its_a_hot_one.split())\n",
    "# => ['Like', 'seven', 'inches', 'from', 'the', 'midday', 'sun']"
   ]
  },
  {
   "cell_type": "code",
   "execution_count": null,
   "metadata": {},
   "outputs": [],
   "source": [
    "print(man_its_a_hot_one.split(\"i\"))"
   ]
  },
  {
   "cell_type": "markdown",
   "metadata": {},
   "source": [
    ".split returned a list with each word in the string. Important to note: if we run .split() on a string with no spaces, we will get the same string in return."
   ]
  },
  {
   "cell_type": "code",
   "execution_count": null,
   "metadata": {},
   "outputs": [],
   "source": [
    "name = \"JonhDavid\"\n",
    "print(name.split(\"a\"))"
   ]
  },
  {
   "cell_type": "markdown",
   "metadata": {},
   "source": [
    "### Applications\n",
    "1.\n",
    "In the code editor is a string of the first line of the poem Spring Storm by William Carlos Williams.\n",
    "\n",
    "Use .split() to create a list called line_one_words that contains each word in this line of poetry."
   ]
  },
  {
   "cell_type": "code",
   "execution_count": null,
   "metadata": {},
   "outputs": [],
   "source": [
    "line_one = \"The sky has given over\"\n",
    "\n",
    "# code here\n",
    "line_one.split(\" \")"
   ]
  },
  {
   "cell_type": "code",
   "execution_count": null,
   "metadata": {},
   "outputs": [],
   "source": [
    "line_one.split()"
   ]
  },
  {
   "cell_type": "markdown",
   "metadata": {},
   "source": [
    "## Splitting Strings II\n",
    "If we provide an argument for .split() we can dictate the character we want our string to be split on. This argument should be provided as a string itself.\n",
    "\n",
    "Consider the following example:"
   ]
  },
  {
   "cell_type": "code",
   "execution_count": null,
   "metadata": {},
   "outputs": [],
   "source": [
    "greatest_guitarist = \"santana\"\n",
    "print(greatest_guitarist.split('n'))\n",
    "# => ['sa', 'ta', 'a']"
   ]
  },
  {
   "cell_type": "markdown",
   "metadata": {},
   "source": [
    "We provided 'n' as the argument for .split() so our string “santana” got split at each 'n' character into a list of three strings.\n",
    "\n",
    "What do you think happens if we split the same string at 'a'?"
   ]
  },
  {
   "cell_type": "code",
   "execution_count": null,
   "metadata": {},
   "outputs": [],
   "source": [
    "print(greatest_guitarist.split('a'))\n",
    "# => ['s', 'nt', 'n', ' ']"
   ]
  },
  {
   "cell_type": "markdown",
   "metadata": {},
   "source": [
    "Notice that there is an unexpected extra '' string in this list. When you split a string on a character that it also ends with, you’ll end up with an empty string at the end of the list.\n",
    "\n",
    "You can use any string as the argument for .split(), making it a versatile and powerful tool."
   ]
  },
  {
   "cell_type": "markdown",
   "metadata": {},
   "source": [
    "### Applitions\n",
    "1.\n",
    "Your boss at the Poetry organization sent over a bunch of author names that he wants you to prepare for importing into the database. Annoyingly, he sent them over as a long string with the names separated by commas.\n",
    "\n",
    "Using .split() and the provided string, create a list called author_names containing each individual author name as it’s own string.\n",
    "\n"
   ]
  },
  {
   "cell_type": "code",
   "execution_count": null,
   "metadata": {},
   "outputs": [],
   "source": [
    "authors = \"Audre Lorde,Gabriela Mistral,Jean Toomer,An Qi,Walt Whitman,Shel Silverstein,Carmen Boullosa,Kamala Suraiyya,Langston Hughes,Adrienne Rich,Nikki Giovanni\"\n",
    "\n",
    "#code here\n",
    "author_names = print(authors.split(\",\"))\n",
    "print(author_names)"
   ]
  },
  {
   "cell_type": "markdown",
   "metadata": {},
   "source": [
    "2.\n",
    "Great work, but now it turns out they didn’t want poet’s first names (why didn’t they just say that the first time!?)\n",
    "\n",
    "Create another list called author_last_names that only contains the last names of the poets in the provided string."
   ]
  },
  {
   "cell_type": "code",
   "execution_count": null,
   "metadata": {},
   "outputs": [],
   "source": [
    "author_last_names = []\n",
    "\n",
    "for name in author_names:\n",
    "    author_last_names.append(name.split()[-1])\n",
    "    \n",
    "print(author_last_names)"
   ]
  },
  {
   "cell_type": "markdown",
   "metadata": {},
   "source": [
    "## Splitting Strings III\n",
    "We can also split strings using escape sequences. Escape sequences are used to indicate that we want to split by something in a string that is not necessarily a character. The two escape sequences we will cover here are\n",
    "\n",
    "- \\n Newline\n",
    "- \\t Horizontal Tab\n",
    "Newline or \\n will allow us to split a multi-line string by line breaks and \\t will allow us to split a string by tabs. \\t is particularly useful when dealing with certain datasets because it is not uncommon for data points to be separated by tabs.\n",
    "\n",
    "Let’s take a look at an example of splitting by an escape sequence:"
   ]
  },
  {
   "cell_type": "code",
   "execution_count": 1,
   "metadata": {},
   "outputs": [
    {
     "name": "stdout",
     "output_type": "stream",
     "text": [
      "['And if you said, \"This life ain\\'t good enough.\"', 'I would give my world to lift you up', 'I could change my life to better suit your mood', \"Because you're so smooth\"]\n"
     ]
    }
   ],
   "source": [
    "smooth_chorus = \\\n",
    "\"\"\"And if you said, \"This life ain't good enough.\"\n",
    "I would give my world to lift you up\n",
    "I could change my life to better suit your mood\n",
    "Because you're so smooth\"\"\"\n",
    " \n",
    "chorus_lines = smooth_chorus.split('\\n')\n",
    " \n",
    "print(chorus_lines)"
   ]
  },
  {
   "cell_type": "markdown",
   "metadata": {},
   "source": [
    "This code is splitting the multi-line string at the newlines (\\n) which exist at the end of each line and saving it to a new list called chorus_lines. Then it prints chorus_lines which will produce the output"
   ]
  },
  {
   "cell_type": "markdown",
   "metadata": {},
   "source": [
    "['And if you said, \"This life ain\\'t good enough.\"', 'I would give my world to lift you up', 'I could change my life to better suit your mood', \"Because you're so smooth\"]"
   ]
  },
  {
   "cell_type": "markdown",
   "metadata": {},
   "source": [
    "The new list contains each line of the original string as it’s own smaller string. Also, notice that Python automatically escaped the ' character when it created the new list."
   ]
  },
  {
   "cell_type": "markdown",
   "metadata": {},
   "source": [
    "#### Application\n",
    "1.\n",
    "The organization has sent you over the full text for William Carlos Williams poem Spring Storm. They want you to break the poem up into its individual lines.\n",
    "\n",
    "Create a list called spring_storm_lines that contains a string for each line of Spring Storm."
   ]
  },
  {
   "cell_type": "code",
   "execution_count": 2,
   "metadata": {},
   "outputs": [
    {
     "name": "stdout",
     "output_type": "stream",
     "text": [
      "['The sky has given over ', 'its bitterness. ', 'Out of the dark change ', 'all day long ', 'rain falls and falls ', 'as if it would never end. ', 'Still the snow keeps ', 'its hold on the ground. ', 'But water, water ', 'from a thousand runnels! ', 'It collects swiftly, ', 'dappled with black ', 'cuts a way for itself ', 'through green ice in the gutters. ', 'Drop after drop it falls ', 'from the withered grass-stems ', 'of the overhanging embankment.']\n"
     ]
    }
   ],
   "source": [
    "spring_storm_text = \\\n",
    "\"\"\"The sky has given over \n",
    "its bitterness. \n",
    "Out of the dark change \n",
    "all day long \n",
    "rain falls and falls \n",
    "as if it would never end. \n",
    "Still the snow keeps \n",
    "its hold on the ground. \n",
    "But water, water \n",
    "from a thousand runnels! \n",
    "It collects swiftly, \n",
    "dappled with black \n",
    "cuts a way for itself \n",
    "through green ice in the gutters. \n",
    "Drop after drop it falls \n",
    "from the withered grass-stems \n",
    "of the overhanging embankment.\"\"\"\n",
    "\n",
    "# Code Here\n",
    "spring_storm_line = spring_storm_text.split(\"\\n\")\n",
    "print(spring_storm_line)"
   ]
  },
  {
   "cell_type": "markdown",
   "metadata": {},
   "source": [
    "## Joining Strings\n",
    "Now that you’ve learned to break strings apart using .split(), let’s learn to put them back together using .join(). .join() is essentially the opposite of .split(), it joins a list of strings together with a given delimiter. The syntax of .join() is:"
   ]
  },
  {
   "cell_type": "code",
   "execution_count": null,
   "metadata": {},
   "outputs": [],
   "source": [
    "# 'delimiter'.join(list_you_want_to_join)"
   ]
  },
  {
   "cell_type": "markdown",
   "metadata": {},
   "source": [
    "Now this may seem a little weird, because with .split() the argument was the delimiter, but now the argument is the list. This is because join is still a string method, which means it has to act on a string. The string .join() acts on is the delimiter you want to join with, therefore the list you want to join has to be the argument.\n",
    "\n",
    "This can be a bit confusing, so let’s take a look at an example."
   ]
  },
  {
   "cell_type": "code",
   "execution_count": 5,
   "metadata": {},
   "outputs": [
    {
     "name": "stdout",
     "output_type": "stream",
     "text": [
      "My Spanish Harlem Mona Lisa\n"
     ]
    }
   ],
   "source": [
    "my_munequita = ['My', 'Spanish', 'Harlem', 'Mona', 'Lisa']\n",
    "print(' '.join(my_munequita))\n",
    "# => 'My Spanish Harlem Mona Lisa'"
   ]
  },
  {
   "cell_type": "markdown",
   "metadata": {},
   "source": [
    "We take the list of strings, my_munequita, and we joined it together with our delimiter, ' ', which is a space. The space is important if you are trying to build a sentence from words, otherwise, we would have ended up with:"
   ]
  },
  {
   "cell_type": "code",
   "execution_count": 6,
   "metadata": {},
   "outputs": [
    {
     "name": "stdout",
     "output_type": "stream",
     "text": [
      "MySpanishHarlemMonaLisa\n"
     ]
    }
   ],
   "source": [
    "print(''.join(my_munequita))\n",
    "# => 'MySpanishHarlemMonaLisa'"
   ]
  },
  {
   "cell_type": "markdown",
   "metadata": {},
   "source": [
    "#### Applications\n",
    "1.\n",
    "You’ve been provided with a list of words from the first line of Jean Toomer’s poem Reapers.\n",
    "\n",
    "Use .join() to combine these words into a sentence and save that sentence as the string reapers_line_one."
   ]
  },
  {
   "cell_type": "code",
   "execution_count": 7,
   "metadata": {},
   "outputs": [
    {
     "name": "stdout",
     "output_type": "stream",
     "text": [
      "Black reapers with the sound of steel on stones\n"
     ]
    }
   ],
   "source": [
    "reapers_line_one_words = [\"Black\", \"reapers\", \"with\", \"the\", \"sound\", \"of\", \"steel\", \"on\", \"stones\"]\n",
    "\n",
    "#code here\n",
    "reapers_line_one = (' '.join(reapers_line_one_words))\n",
    "print(reapers_line_one)"
   ]
  },
  {
   "cell_type": "code",
   "execution_count": null,
   "metadata": {},
   "outputs": [],
   "source": []
  },
  {
   "cell_type": "markdown",
   "metadata": {},
   "source": [
    "#### Possible Question\n",
    "If you do a join() after a split() using the same delimiter, does this result in the original string?"
   ]
  },
  {
   "cell_type": "markdown",
   "metadata": {},
   "source": [
    "#### Possible Answer\n",
    "Yes, this should result in the original string. This is because join() and split() are essentially inverses of each other.\n",
    "\n",
    "When we split, it returns a list of substrings that the delimiter was separating. And, when we join on the same delimiter, it merely places that delimiter back where the splits were performed, resulting the same string.\n",
    "\n"
   ]
  },
  {
   "cell_type": "code",
   "execution_count": 10,
   "metadata": {},
   "outputs": [
    {
     "name": "stdout",
     "output_type": "stream",
     "text": [
      "['', 'A', 'B', 'C', 'D']\n",
      "*A*B*C*D\n"
     ]
    }
   ],
   "source": [
    "original = \"*A*B*C*D\"\n",
    "\n",
    "splitted = original.split(\"*\")\n",
    "print(splitted)\n",
    "joined = \"*\".join(splitted)\n",
    "\n",
    "print(joined) # *A*B*C*D"
   ]
  },
  {
   "cell_type": "markdown",
   "metadata": {},
   "source": [
    "## Joining Strings II\n",
    "In the last exercise, we joined together a list of words using a space as the delimiter to create a sentence. In fact, you can use any string as a delimiter to join together a list of strings. For example, if we have the list"
   ]
  },
  {
   "cell_type": "code",
   "execution_count": 11,
   "metadata": {},
   "outputs": [],
   "source": [
    "santana_songs = ['Oye Como Va', 'Smooth', 'Black Magic Woman', 'Samba Pa Ti', 'Maria Maria']"
   ]
  },
  {
   "cell_type": "markdown",
   "metadata": {},
   "source": [
    "We could join this list together with ANY string. One often used string is a comma , because then we can create a string of comma separated variables, or CSV."
   ]
  },
  {
   "cell_type": "code",
   "execution_count": 12,
   "metadata": {},
   "outputs": [
    {
     "name": "stdout",
     "output_type": "stream",
     "text": [
      "Oye Como Va,Smooth,Black Magic Woman,Samba Pa Ti,Maria Maria\n"
     ]
    }
   ],
   "source": [
    "santana_songs_csv = ','.join(santana_songs)\n",
    "print(santana_songs_csv)\n",
    "# => 'Oye Como Va,Smooth,Black Magic Woman,Samba Pa Ti,Maria Maria'"
   ]
  },
  {
   "cell_type": "markdown",
   "metadata": {},
   "source": [
    "You’ll often find data stored in CSVs because it is an efficient, simple file type used by popular programs like Excel or Google Spreadsheets.\n",
    "\n",
    "You can also join using escape sequences as the delimiter. Consider the following example:"
   ]
  },
  {
   "cell_type": "code",
   "execution_count": 16,
   "metadata": {},
   "outputs": [
    {
     "name": "stdout",
     "output_type": "stream",
     "text": [
      "Well I'm from the barrio\n",
      "You hear my rhythm on your radio\n",
      "You feel the turning of the world so soft and slow\n",
      "Turning you 'round and 'round\n"
     ]
    }
   ],
   "source": [
    "smooth_fifth_verse_lines = ['Well I\\'m from the barrio', 'You hear my rhythm on your radio', 'You feel the turning of the world so soft and slow', 'Turning you \\'round and \\'round']\n",
    " \n",
    "smooth_fifth_verse = '\\n'.join(smooth_fifth_verse_lines)\n",
    " \n",
    "print(smooth_fifth_verse)"
   ]
  },
  {
   "cell_type": "code",
   "execution_count": 17,
   "metadata": {},
   "outputs": [
    {
     "name": "stdout",
     "output_type": "stream",
     "text": [
      "Well I'm from the barrio\n",
      "You hear my rhythm on your radio\n",
      "You feel the turning of the world so soft and slow\n",
      "Turning you 'round and 'round\n"
     ]
    }
   ],
   "source": [
    "print(\"Well I'm from the barrio\\nYou hear my rhythm on your radio\\nYou feel the turning of the world so soft and slow\\nTurning you 'round and 'round\")"
   ]
  },
  {
   "cell_type": "markdown",
   "metadata": {},
   "source": [
    "This code is taking the list of strings and joining them using a newline \\n as the delimiter. Then it prints the result and produces the output:"
   ]
  },
  {
   "cell_type": "markdown",
   "metadata": {},
   "source": [
    "Well I'm from the barrio\n",
    "\n",
    "You hear my rhythm on your radio\n",
    "\n",
    "You feel the turning of the world so soft and slow\n",
    "\n",
    "Turning you 'round and 'round"
   ]
  },
  {
   "cell_type": "markdown",
   "metadata": {},
   "source": [
    "### Application\n",
    "1.\n",
    "You’ve been given a list, winter_trees_lines, that contains all the lines to William Carlos Williams poem, Winter Trees. You’ve been asked to join together the strings in the list together into a single string that can be used to display the full poem. Name this string winter_trees_full.\n",
    "\n",
    "Print your result to the terminal. Make sure that each line of the poem appears on a new line in your string."
   ]
  },
  {
   "cell_type": "code",
   "execution_count": 20,
   "metadata": {},
   "outputs": [
    {
     "name": "stdout",
     "output_type": "stream",
     "text": [
      "All the complicated details\n",
      "of the attiring and\n",
      "the disattiring are completed!\n",
      "A liquid moon\n",
      "moves gently among\n",
      "the long branches.\n",
      "Thus having prepared their buds\n",
      "against a sure winter\n",
      "the wise trees\n",
      "stand sleeping in the cold.\n"
     ]
    }
   ],
   "source": [
    "winter_trees_lines = ['All the complicated details', 'of the attiring and', 'the disattiring are completed!', 'A liquid moon', 'moves gently among', 'the long branches.', 'Thus having prepared their buds', 'against a sure winter', 'the wise trees', 'stand sleeping in the cold.']\n",
    "\n",
    "# code here\n",
    "winter_trees_full = \"\\n\".join(winter_trees_lines)\n",
    "print(winter_trees_full)"
   ]
  },
  {
   "cell_type": "markdown",
   "metadata": {},
   "source": [
    "## .strip()\n",
    "When working with strings that come from real data, you will often find that the strings aren’t super clean. You’ll find lots of extra whitespace, unnecessary linebreaks, and rogue tabs.\n",
    "\n",
    "Python provides a great method for cleaning strings: .strip(). Stripping a string removes all whitespace characters from the beginning and end. Consider the following example:"
   ]
  },
  {
   "cell_type": "code",
   "execution_count": 22,
   "metadata": {},
   "outputs": [
    {
     "name": "stdout",
     "output_type": "stream",
     "text": [
      "Rob Thomas\n"
     ]
    }
   ],
   "source": [
    "featuring = \"           rob thomas                 \"\n",
    "print(featuring.strip().title())\n",
    "# => 'rob thomas'"
   ]
  },
  {
   "cell_type": "markdown",
   "metadata": {},
   "source": [
    "All the whitespace on either side of the string has been stripped, but the whitespace in the middle has been preserved.\n",
    "\n",
    "You can also use .strip() with a character argument, which will strip that character from either end of the string."
   ]
  },
  {
   "cell_type": "code",
   "execution_count": 27,
   "metadata": {},
   "outputs": [
    {
     "name": "stdout",
     "output_type": "stream",
     "text": [
      "ROB THOMAS\n"
     ]
    }
   ],
   "source": [
    "featuring = \"!!!    rob thomas       !!!!!\"\n",
    "print(featuring.strip('!').strip().upper())\n",
    "# => 'rob thomas"
   ]
  },
  {
   "cell_type": "markdown",
   "metadata": {},
   "source": [
    "By including the argument '!' we are able to strip all of the ! characters from either side of the string. Notice that now that we’ve included an argument we are no longer stripping whitespace, we are ONLY stripping the argument."
   ]
  },
  {
   "cell_type": "markdown",
   "metadata": {},
   "source": [
    "#### Application\n",
    "1.\n",
    "They sent over another list containing all the lines to the Audre Lorde poem, Love, Maybe. They want you to join together all of the lines into a single string that can be used to display the poem again, but this time, you’ve noticed that the list contains a ton of unnecessary whitespace that doesn’t appear in the actual poem.\n",
    "\n",
    "First, use .strip() on each line in the list to remove the unnecessary whitespace and save it as a new list love_maybe_lines_stripped."
   ]
  },
  {
   "cell_type": "code",
   "execution_count": 29,
   "metadata": {},
   "outputs": [
    {
     "name": "stdout",
     "output_type": "stream",
     "text": [
      "['Always', 'in the middle of our bloodiest battles', 'you lay down your arms', 'like flowering mines', '', 'to conquer me home.']\n"
     ]
    }
   ],
   "source": [
    "ove_maybe_lines = ['Always    ', '     in the middle of our bloodiest battles  ', 'you lay down your arms', '           like flowering mines    ','\\n' ,'   to conquer me home.    ']\n",
    "\n",
    "#Code here\n",
    "love_maybe_lines_stripped = []\n",
    "\n",
    "for i in ove_maybe_lines:\n",
    "    love_maybe_lines_stripped.append(i.strip())\n",
    "    \n",
    "print(love_maybe_lines_stripped)\n",
    "\n"
   ]
  },
  {
   "cell_type": "markdown",
   "metadata": {},
   "source": [
    "2.\n",
    ".join() the lines in love_maybe_lines_stripped together into one large multi-line string, love_maybe_full, that can be printed to display the poem.\n",
    "\n",
    "Each line of the poem should show up on its own line."
   ]
  },
  {
   "cell_type": "code",
   "execution_count": 30,
   "metadata": {},
   "outputs": [],
   "source": [
    "love_maybe_full = \"\\n\".join(love_maybe_lines_stripped)"
   ]
  },
  {
   "cell_type": "markdown",
   "metadata": {},
   "source": [
    "3.\n",
    "Print love_maybe_full."
   ]
  },
  {
   "cell_type": "code",
   "execution_count": 33,
   "metadata": {},
   "outputs": [
    {
     "name": "stdout",
     "output_type": "stream",
     "text": [
      "Always\n",
      "in the middle of our bloodiest battles\n",
      "you lay down your arms\n",
      "like flowering mines\n",
      "\n",
      "to conquer me home.\n"
     ]
    }
   ],
   "source": [
    "print(love_maybe_full)"
   ]
  },
  {
   "cell_type": "markdown",
   "metadata": {},
   "source": [
    "## Replace\n",
    "The next string method we will cover is .replace(). Replace takes two arguments and replaces all instances of the first argument in a string with the second argument. The syntax is as follows"
   ]
  },
  {
   "cell_type": "code",
   "execution_count": null,
   "metadata": {},
   "outputs": [],
   "source": [
    "# string_name.replace(character_being_replaced, new_character)\n"
   ]
  },
  {
   "cell_type": "code",
   "execution_count": 34,
   "metadata": {},
   "outputs": [
    {
     "name": "stdout",
     "output_type": "stream",
     "text": [
      "You_got_the_kind_of_loving_that_can_be_so_smooth\n"
     ]
    }
   ],
   "source": [
    "with_spaces = \"You got the kind of loving that can be so smooth\"\n",
    "with_underscores = with_spaces.replace(' ', '_')\n",
    "print(with_underscores)\n",
    "# 'You_got_the_kind_of_loving_that_can_be_so_smooth'"
   ]
  },
  {
   "cell_type": "markdown",
   "metadata": {},
   "source": [
    "Here we used .replace() to change every instance of a space in the string above to be an underscore instead."
   ]
  },
  {
   "cell_type": "markdown",
   "metadata": {},
   "source": [
    "#### Application\n",
    "1.\n",
    "The poetry organization has sent over the bio for Jean Toomer as it currently exists on their site. Notice that there was a mistake with his last name and all instances of Toomer are lacking one o.\n",
    "\n",
    "Use .replace() to change all instances of Tomer in the bio to Toomer. Save the updated bio to the string toomer_bio_fixed."
   ]
  },
  {
   "cell_type": "code",
   "execution_count": 35,
   "metadata": {},
   "outputs": [
    {
     "name": "stdout",
     "output_type": "stream",
     "text": [
      "\n",
      "Nathan Pinchback Toomer, who adopted the name Jean Toomer early in his literary career, was born in Washington, D.C. in 1894. Jean is the son of Nathan Toomer was a mixed-race freedman, born into slavery in 1839 in Chatham County, North Carolina. Jean Toomer is most well known for his first book Cane, which vividly portrays the life of African-Americans in southern farmlands.\n",
      "\n"
     ]
    }
   ],
   "source": [
    "toomer_bio = \\\n",
    "\"\"\"\n",
    "Nathan Pinchback Tomer, who adopted the name Jean Tomer early in his literary career, was born in Washington, D.C. in 1894. Jean is the son of Nathan Tomer was a mixed-race freedman, born into slavery in 1839 in Chatham County, North Carolina. Jean Tomer is most well known for his first book Cane, which vividly portrays the life of African-Americans in southern farmlands.\n",
    "\"\"\"\n",
    "toomer_bio_fixed = toomer_bio.replace('Tomer', 'Toomer')\n",
    "print(toomer_bio_fixed)"
   ]
  },
  {
   "cell_type": "markdown",
   "metadata": {},
   "source": [
    "## .find()\n",
    "Another interesting string method is .find(). .find() takes a string as an argument and searching the string it was run on for that string. It then returns the first index value where that string is located.\n",
    "\n",
    "Here’s an example:"
   ]
  },
  {
   "cell_type": "code",
   "execution_count": 37,
   "metadata": {},
   "outputs": [
    {
     "name": "stdout",
     "output_type": "stream",
     "text": [
      "4\n",
      "t\n"
     ]
    }
   ],
   "source": [
    "print('smooth'.find('t'))\n",
    "# => '4'\n",
    "smooth =\"smooth\"\n",
    "print(smooth[4])"
   ]
  },
  {
   "cell_type": "markdown",
   "metadata": {},
   "source": [
    "We searched the string 'smooth' for the string 't' and found that it was at the fourth index spot, so .find() returned 4.\n",
    "\n",
    "You can also search for larger strings, and .find() will return the index value of the first character of that string."
   ]
  },
  {
   "cell_type": "code",
   "execution_count": 42,
   "metadata": {},
   "outputs": [
    {
     "name": "stdout",
     "output_type": "stream",
     "text": [
      "2\n",
      "oo\n"
     ]
    }
   ],
   "source": [
    "print(\"smooth\".find('oo'))\n",
    "# => '2'\n",
    "smooth =\"smooth\"\n",
    "print(smooth[2:4])"
   ]
  },
  {
   "cell_type": "markdown",
   "metadata": {},
   "source": [
    "Notice here that 2 is the index of the first o."
   ]
  },
  {
   "cell_type": "markdown",
   "metadata": {},
   "source": [
    "#### Application\n",
    "1.\n",
    "In the code editor is the first line of Gabriela Mistral’s poem God Wills It.\n",
    "\n",
    "At what index place does the word “disown” appear? Save that index place to the variable disown_placement."
   ]
  },
  {
   "cell_type": "code",
   "execution_count": 43,
   "metadata": {},
   "outputs": [
    {
     "name": "stdout",
     "output_type": "stream",
     "text": [
      "20\n"
     ]
    }
   ],
   "source": [
    "god_wills_it_line_one = \"The very earth will disown you\"\n",
    "\n",
    "#code here\n",
    "disown_placement = god_wills_it_line_one.find(\"disown\")\n",
    "print(disown_placement)"
   ]
  },
  {
   "cell_type": "markdown",
   "metadata": {},
   "source": [
    "## .format()\n",
    "\n",
    "Python also provides a handy string method for including variables in strings. This method is .format(). .format() takes variables as an argument and includes them in the string that it is run on. You include {} marks as placeholders for where those variables will be imported.\n",
    "\n",
    "Consider the following function:"
   ]
  },
  {
   "cell_type": "code",
   "execution_count": 44,
   "metadata": {},
   "outputs": [],
   "source": [
    "def favorite_song_statement(song, artist):\n",
    "    return \"My favorite song is {} by {}.\".format(song, artist)"
   ]
  },
  {
   "cell_type": "markdown",
   "metadata": {},
   "source": [
    "The function favorite_song_statement takes two arguments, song and artist, then returns a string that includes both of the arguments and prints a sentence. Note: .format() can take as many arguments as there are {} in the string it is run on, which in this case is two.\n",
    "\n",
    "Here’s an example of the function being run:"
   ]
  },
  {
   "cell_type": "code",
   "execution_count": 45,
   "metadata": {},
   "outputs": [
    {
     "name": "stdout",
     "output_type": "stream",
     "text": [
      "My favorite song is Smooth by Santana.\n"
     ]
    }
   ],
   "source": [
    "print(favorite_song_statement(\"Smooth\", \"Santana\"))\n",
    "# => \"My favorite song is Smooth by Santana\""
   ]
  },
  {
   "cell_type": "markdown",
   "metadata": {},
   "source": [
    "Now you may be asking yourself, I could have written this function using string concatenation instead of .format(), why is this method better? The answer is legibility and reusability. It is much easier to picture the end result .format() than it is to picture the end result of string concatenation and legibility is everything. You can also reuse the same base string with different variables, allowing you to cut down on unnecessary, hard to interpret code."
   ]
  },
  {
   "cell_type": "markdown",
   "metadata": {},
   "source": [
    "## Application\n",
    "1.\n",
    "Write a function called poem_title_card that takes two inputs: the first input should be title and the second poet. The function should use .format() to return the following string:\n",
    "\n",
    " The poem \"[TITLE]\" is written by [POET].\n",
    "\n",
    "For example, if the function is given the inputs\n",
    "\n"
   ]
  },
  {
   "cell_type": "code",
   "execution_count": 51,
   "metadata": {},
   "outputs": [
    {
     "name": "stdout",
     "output_type": "stream",
     "text": [
      "The poem \"I Hear America Singing\" is written by \"Walt Whitman\".\n"
     ]
    }
   ],
   "source": [
    "def poem_title_card(title, poet):\n",
    "    return \"The poem \\\"{}\\\" is written by \\\"{}\\\".\".format(title, poet)\n",
    "\n",
    "print(poem_title_card(\"I Hear America Singing\", \"Walt Whitman\"))\n",
    "\n"
   ]
  },
  {
   "cell_type": "markdown",
   "metadata": {},
   "source": [
    "It should return the string\n",
    "\n",
    "The poem \"I Hear America Singing\" is written by Walt Whitman"
   ]
  },
  {
   "cell_type": "markdown",
   "metadata": {},
   "source": [
    "## .format() II\n",
    ".format() can be made even more legible for other people reading your code by including keywords. Previously with .format(), you had to make sure that your variables appeared as arguments in the same order that you wanted them to appear in the string, which just added unnecessary complications when writing code.\n",
    "\n",
    "By including keywords in the string and in the arguments, you can remove that ambiguity. Let’s look at an example."
   ]
  },
  {
   "cell_type": "code",
   "execution_count": 53,
   "metadata": {},
   "outputs": [
    {
     "data": {
      "text/plain": [
       "'My favorite song is hey! by john.'"
      ]
     },
     "execution_count": 53,
     "metadata": {},
     "output_type": "execute_result"
    }
   ],
   "source": [
    "def favorite_song_statement(song, artist):\n",
    "    return \"My favorite song is {song} by {artist}.\".format(song=song, artist=artist)\n",
    "\n",
    "song = \"hey!\"\n",
    "artist = \"john\"\n",
    "\n",
    "favorite_song_statement(song, artist)"
   ]
  },
  {
   "cell_type": "markdown",
   "metadata": {},
   "source": [
    "Now it is clear to anyone reading the string what it supposed to return, they don’t even need to look at the arguments of .format() in order to get a clear understanding of what is supposed to happen. You can even reverse the order of artist and song in the code above and it will work the same way. This makes writing AND reading the code much easier."
   ]
  },
  {
   "cell_type": "markdown",
   "metadata": {},
   "source": [
    "## Application\n",
    "1.\n",
    "The function poem_description is supposed to use .format() to print out some quick information about a poem, but it seems to be causing some errors currently.\n",
    "\n",
    "Fix the function by using keywords in the .format() method."
   ]
  },
  {
   "cell_type": "code",
   "execution_count": 56,
   "metadata": {},
   "outputs": [
    {
     "name": "stdout",
     "output_type": "stream",
     "text": [
      "The poem My Beard by Shel Silverstein was originally published in Where the Sidewalk Ends in 1974.\n"
     ]
    }
   ],
   "source": [
    "def poem_description(publishing_date, author, title, original_work):\n",
    "    poem_desc = \"The poem {title} by {author} was originally published in {original_work} in {publishing_date}.\".format(title, author, original_work, publishing_date,)\n",
    "    return poem_desc\n",
    "\n",
    "#code here\n",
    "author = \"Shel Silverstein\"\n",
    "title = \"My Beard\"\n",
    "original_work = \"Where the Sidewalk Ends\"\n",
    "publishing_date = \"1974\"\n",
    "\n",
    "\n",
    "def poem_description(publishing_date, author, title, original_work):\n",
    "    poem_desc = \"The poem {title} by {author} was originally published in {original_work} in {publishing_date}.\".format(title = title, author = author, original_work = original_work, publishing_date = publishing_date)\n",
    "    return poem_desc\n",
    "\n",
    "print(poem_description(publishing_date, author, title, original_work))"
   ]
  },
  {
   "cell_type": "markdown",
   "metadata": {},
   "source": [
    "2.\n",
    "Run poem_description with the following arguments and save the results to the variable my_beard_description:"
   ]
  },
  {
   "cell_type": "code",
   "execution_count": 57,
   "metadata": {},
   "outputs": [
    {
     "name": "stdout",
     "output_type": "stream",
     "text": [
      "The poem My Beard by Shel Silverstein was originally published in Where the Sidewalk Ends in 1974.\n"
     ]
    }
   ],
   "source": [
    "author = \"Shel Silverstein\"\n",
    "title = \"My Beard\"\n",
    "original_work = \"Where the Sidewalk Ends\"\n",
    "publishing_date = \"1974\"\n",
    "\n",
    "#code here\n",
    "print(poem_description(publishing_date, author, title, original_work))"
   ]
  },
  {
   "cell_type": "markdown",
   "metadata": {},
   "source": [
    "## Review\n",
    "Excellent work! This lesson has shown you the vast variety of string methods and their power. Whatever the problem you are trying to solve, if you are working with strings then string methods are likely going to be part of the solution.\n",
    "\n",
    "Over this lesson you’ve learned:\n",
    "\n",
    "- .upper(), .title(), and .lower() adjust the casing of your string.\n",
    "- .split() takes a string and creates a list of substrings.\n",
    "- .join() takes a list of strings and creates a string.\n",
    "- .strip() cleans off whitespace, or other noise from the beginning and end of a string.\n",
    "- .replace() replaces all instances of a character/string in a string with another character/string.\n",
    "- .find() searches a string for a character/string and returns the index value that character/string is found at.\n",
    "- .format() allows you to interpolate a string with variables.\n",
    "\n",
    "Well I’ve been stringing you along for long enough, let’s get some more practice in!\n",
    "\n"
   ]
  },
  {
   "cell_type": "markdown",
   "metadata": {},
   "source": [
    "## Quiz"
   ]
  },
  {
   "cell_type": "markdown",
   "metadata": {},
   "source": [
    "1. Which of the following answer choices best describes the function of the string method .find()?\n",
    "\n",
    "\n",
    "A. Find searches a string for its argument and returns a string of all the characters that come before the argument.\n",
    "\n",
    "\n",
    "B.Find searches a string for its first argument and replaces it with its second argument.\n",
    "\n",
    "\n",
    "C. Find searches a string for its argument returns the index location of that argument.\n",
    "\n",
    "\n",
    "D. Find searches a string for its argument and True or False."
   ]
  },
  {
   "cell_type": "markdown",
   "metadata": {},
   "source": [
    "2. Given the following block of code, what is stored in the string split_hairs?"
   ]
  },
  {
   "cell_type": "code",
   "execution_count": 60,
   "metadata": {},
   "outputs": [
    {
     "name": "stdout",
     "output_type": "stream",
     "text": [
      "['Go ', 'he', 'd, m', 'ke my d', 'y.']\n"
     ]
    }
   ],
   "source": [
    "dirty_harry = \"Go ahead, make my day.\"\n",
    "split_hairs = dirty_harry.split(\"a\")\n",
    "print(split_hairs)"
   ]
  },
  {
   "cell_type": "markdown",
   "metadata": {},
   "source": [
    "A. [\"Go\", \"ahead,\", \"make\", \"my\", \"day.\"]\n",
    "\n",
    "B. [\"Go \", \"he\", \"d, m\", \"ke my d\", \"y.\"]\n",
    "\n",
    "C. [\"Go head, mke my dy\", \"a\"]\n",
    "\n",
    "D. [\"Go a\", \"head, ma\", \"ke my da\", \"y.\"]"
   ]
  },
  {
   "cell_type": "markdown",
   "metadata": {},
   "source": [
    "3. Given the string hello_jerry = \"Hi, my name is Jerry\", which of the following lines of code will produce the string \"Hi, My Name Is Jerry\"?\n",
    "\n",
    "\n",
    "A. hello_jerry.title()\n",
    "\n",
    "B. hello_jerry.lower()\n",
    "\n",
    "C. hello_jerry.namecase()\n",
    "\n",
    "D. hello_jerry.upper()\n"
   ]
  },
  {
   "cell_type": "markdown",
   "metadata": {},
   "source": [
    "4. Consider the string user_name = \"::::::::Eloise :::::::::::\". \n",
    "What line of code would clean this string and produce the string user_name_fixed = \"Eloise\"?\n",
    "\n",
    "\n",
    "A. user_name_fixed = user_name.strip()\n",
    "\n",
    "B. user_name_fixed = user_name.strip().strip(\":\")\n",
    "\n",
    "C. user_name_fixed = user_name.strip(\":\").strip()\n",
    "\n",
    "D. user_name_fixed = user_name.strip(\":\")"
   ]
  },
  {
   "cell_type": "code",
   "execution_count": 64,
   "metadata": {},
   "outputs": [
    {
     "data": {
      "text/plain": [
       "'Eloise'"
      ]
     },
     "execution_count": 64,
     "metadata": {},
     "output_type": "execute_result"
    }
   ],
   "source": [
    "user_name = \"::::::::Eloise :::::::::::\"\n",
    "user_name_fixed = user_name.strip(\":\").strip()\n",
    "user_name_fixed"
   ]
  },
  {
   "cell_type": "markdown",
   "metadata": {},
   "source": [
    "5. Given the list greeting = [\"Hello\", \"my\", \"name\", \"is\", \"Earl\"] what line of code would produce a string that contains `”Hello_my_name_is_Earl”.\n",
    "\n",
    "\n",
    "A. greeting.join()\n",
    "\n",
    "B. greeting.join(\"_\")\n",
    "\n",
    "C. \" \".join(greeting, \"_\")\n",
    "\n",
    "D. \"_\".join(greeting)"
   ]
  },
  {
   "cell_type": "code",
   "execution_count": 65,
   "metadata": {},
   "outputs": [
    {
     "name": "stdout",
     "output_type": "stream",
     "text": [
      "Hello_my_name_is_Earl\n"
     ]
    }
   ],
   "source": [
    "greeting = [\"Hello\", \"my\", \"name\", \"is\", \"Earl\"]\n",
    "print(\"_\".join(greeting))"
   ]
  },
  {
   "cell_type": "markdown",
   "metadata": {},
   "source": [
    "6. Given the poem (When You Are Old, by W. B. Yeats) saved as multiline string as shown in the code block, what code could we use to create a list that contains a string of each line in the poem?\n",
    "\n",
    "when_you_are_old = \\\n",
    "\n",
    "\"\"\"When you are old and grey and full of sleep,\n",
    "\n",
    "And nodding by the fire, take down this book,\n",
    "\n",
    "And slowly read, and dream of the soft look\n",
    "\n",
    "Your eyes had once, and of their shadows deep;\n",
    "\n",
    " \n",
    "How many loved your moments of glad grace,\n",
    "\n",
    "And loved your beauty with love false or true,\n",
    "\n",
    "But one man loved the pilgrim soul in you,\n",
    "\n",
    "And loved the sorrows of your changing face;\n",
    "\n",
    " \n",
    "And bending down beside the glowing bars,\n",
    "\n",
    "Murmur, a little sadly, how Love fled\n",
    "\n",
    "And paced upon the mountains overhead\n",
    "\n",
    "And hid his face amid a crowd of stars.\"\"\"\n",
    "\n",
    "\n",
    "A. list_of_lines = \"\\n\".join(when_you_are_old)\n",
    "\n",
    "\n",
    "B. list_of_lines = when_you_are_old.strip()\n",
    "\n",
    "\n",
    "C.\n",
    "\n",
    "list_of_lines = []\n",
    "\n",
    "for line in when_you_are_old:\n",
    "\n",
    "  list_of_lines.append(line)\n",
    "\n",
    "D.\n",
    "\n",
    "list_of_lines = when_you_are_old.split(\"\\n\")\n"
   ]
  },
  {
   "cell_type": "code",
   "execution_count": 66,
   "metadata": {
    "scrolled": true
   },
   "outputs": [
    {
     "name": "stdout",
     "output_type": "stream",
     "text": [
      "['When you are old and grey and full of sleep,', 'And nodding by the fire, take down this book,', 'And slowly read, and dream of the soft look', 'Your eyes had once, and of their shadows deep;', 'How many loved your moments of glad grace,', 'And loved your beauty with love false or true,', 'But one man loved the pilgrim soul in you,', 'And loved the sorrows of your changing face;', 'And bending down beside the glowing bars,', 'Murmur, a little sadly, how Love fled', 'And paced upon the mountains overhead', 'And hid his face amid a crowd of stars.']\n"
     ]
    }
   ],
   "source": [
    "when_you_are_old = \\\n",
    "\"\"\"When you are old and grey and full of sleep,\n",
    "And nodding by the fire, take down this book,\n",
    "And slowly read, and dream of the soft look\n",
    "Your eyes had once, and of their shadows deep;\n",
    "How many loved your moments of glad grace,\n",
    "And loved your beauty with love false or true,\n",
    "But one man loved the pilgrim soul in you,\n",
    "And loved the sorrows of your changing face;\n",
    "And bending down beside the glowing bars,\n",
    "Murmur, a little sadly, how Love fled\n",
    "And paced upon the mountains overhead\n",
    "And hid his face amid a crowd of stars.\"\"\"\n",
    "\n",
    "list_of_lines = when_you_are_old.split(\"\\n\")\n",
    "print(list_of_lines)"
   ]
  },
  {
   "cell_type": "code",
   "execution_count": 67,
   "metadata": {},
   "outputs": [
    {
     "name": "stdout",
     "output_type": "stream",
     "text": [
      "When you are old and grey and full of sleep,\n",
      "And nodding by the fire, take down this book,\n",
      "And slowly read, and dream of the soft look\n",
      "Your eyes had once, and of their shadows deep;\n",
      "How many loved your moments of glad grace,\n",
      "And loved your beauty with love false or true,\n",
      "But one man loved the pilgrim soul in you,\n",
      "And loved the sorrows of your changing face;\n",
      "And bending down beside the glowing bars,\n",
      "Murmur, a little sadly, how Love fled\n",
      "And paced upon the mountains overhead\n",
      "And hid his face amid a crowd of stars.\n"
     ]
    }
   ],
   "source": [
    "list_of_lines = when_you_are_old.strip()\n",
    "print(list_of_lines)"
   ]
  },
  {
   "cell_type": "markdown",
   "metadata": {},
   "source": [
    "#### Application \n",
    "1.\n",
    "Preserve the Verse has one final task for you. They have delivered you a string that contains a list of poems, titled highlighted_poems, they want to highlight on the site, but they need your help to parse the string into something that can display the name, title, and publication date of the highlighted poems on the site.\n",
    "\n",
    "First, start by printing highlighted_poems to the terminal and see how it displays."
   ]
  },
  {
   "cell_type": "code",
   "execution_count": null,
   "metadata": {},
   "outputs": [],
   "source": [
    "highlighted_poems = \"Afterimages:Audre Lorde:1997,  The Shadow:William Carlos Williams:1915, Ecstasy:Gabriela Mistral:1925,   Georgia Dusk:Jean Toomer:1923,   Parting Before Daybreak:An Qi:2014, The Untold Want:Walt Whitman:1871, Mr. Grumpledump's Song:Shel Silverstein:2004, Angel Sound Mexico City:Carmen Boullosa:2013, In Love:Kamala Suraiyya:1965, Dream Variations:Langston Hughes:1994, Dreamwood:Adrienne Rich:1987\"\n",
    "\n"
   ]
  },
  {
   "cell_type": "markdown",
   "metadata": {},
   "source": [
    "2.\n",
    "The information for each poem is separated by commas, and within this information is the title of the poem, the author, and the date of publication.\n",
    "\n",
    "Start by splitting highlighted_poems at the commas and saving it to highlighted_poems_list."
   ]
  },
  {
   "cell_type": "code",
   "execution_count": null,
   "metadata": {},
   "outputs": [],
   "source": []
  },
  {
   "cell_type": "markdown",
   "metadata": {},
   "source": [
    "3. Print highlighted_poems_list, how does the structure of the data look now?"
   ]
  },
  {
   "cell_type": "code",
   "execution_count": null,
   "metadata": {},
   "outputs": [],
   "source": []
  },
  {
   "cell_type": "markdown",
   "metadata": {},
   "source": [
    "4.\n",
    "Notice that there is inconsistent whitespace in highlighted_poems_list. Let’s clean that up.\n",
    "\n",
    "Start by creating a new empty list, highlighted_poems_stripped.\n",
    "\n",
    "Then, iterate through highlighted_poems_list using a for loop and for each poem strip away the whitespace and append it to your new list, highlighted_poems_stripped."
   ]
  },
  {
   "cell_type": "code",
   "execution_count": null,
   "metadata": {},
   "outputs": [],
   "source": []
  },
  {
   "cell_type": "markdown",
   "metadata": {},
   "source": [
    "5.\n",
    "Print highlighted_poems_stripped.\n",
    "\n",
    "Looks good! All the whitespace is cleaned up."
   ]
  },
  {
   "cell_type": "code",
   "execution_count": null,
   "metadata": {},
   "outputs": [],
   "source": []
  },
  {
   "cell_type": "markdown",
   "metadata": {},
   "source": [
    "6.\n",
    "Next we want to break up all the information for each poem into it’s own list, so we end up with a list of lists.\n",
    "\n",
    "Create a new empty list called highlighted_poems_details."
   ]
  },
  {
   "cell_type": "code",
   "execution_count": null,
   "metadata": {},
   "outputs": [],
   "source": []
  },
  {
   "cell_type": "markdown",
   "metadata": {},
   "source": [
    "7.\n",
    "Iterate through highlighted_poems_stripped and split each string around the : characters and append the new lists into highlighted_poems_details."
   ]
  },
  {
   "cell_type": "code",
   "execution_count": null,
   "metadata": {},
   "outputs": [],
   "source": []
  },
  {
   "cell_type": "markdown",
   "metadata": {},
   "source": [
    "8.\n",
    "Great! Now we want to separate out all of the titles, the poets, and the publication dates into their own lists.\n",
    "\n",
    "Create three new empty lists, titles, poets, and dates."
   ]
  },
  {
   "cell_type": "code",
   "execution_count": null,
   "metadata": {},
   "outputs": [],
   "source": []
  },
  {
   "cell_type": "markdown",
   "metadata": {},
   "source": [
    "9.\n",
    "Iterate through highlighted_poems_details and for each list in the list append the appropriate elements into the lists titles, poets, and dates.\n",
    "\n",
    "For example, for the poem The Shadow (1915) by William Carlos Williams your code should be adding \"The Shadow\" to titles, \"William Carlos Williams\" to poets, and \"1915\" to dates."
   ]
  },
  {
   "cell_type": "code",
   "execution_count": null,
   "metadata": {},
   "outputs": [],
   "source": []
  },
  {
   "cell_type": "markdown",
   "metadata": {},
   "source": [
    "10.\n",
    "Finally, write a for loop that uses .format() to print out the following string for each poem:\n",
    "\n",
    "The poem TITLE was published by POET in DATE."
   ]
  },
  {
   "cell_type": "code",
   "execution_count": null,
   "metadata": {},
   "outputs": [],
   "source": []
  },
  {
   "cell_type": "code",
   "execution_count": null,
   "metadata": {},
   "outputs": [],
   "source": []
  }
 ],
 "metadata": {
  "kernelspec": {
   "display_name": "Python 3",
   "language": "python",
   "name": "python3"
  },
  "language_info": {
   "codemirror_mode": {
    "name": "ipython",
    "version": 3
   },
   "file_extension": ".py",
   "mimetype": "text/x-python",
   "name": "python",
   "nbconvert_exporter": "python",
   "pygments_lexer": "ipython3",
   "version": "3.8.3"
  }
 },
 "nbformat": 4,
 "nbformat_minor": 4
}
