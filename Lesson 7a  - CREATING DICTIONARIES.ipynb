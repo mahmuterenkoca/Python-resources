{
 "cells": [
  {
   "cell_type": "markdown",
   "metadata": {},
   "source": [
    "## What is a Dictionary?\n",
    "A dictionary is an unordered set of key: value pairs.\n",
    "\n",
    "Suppose we want to store the prices of various items sold at a cafe:\n",
    "\n",
    "Oatmeal is 3 dollars\n",
    "\n",
    "Avocado Toast is 6 dollars\n",
    "\n",
    "Carrot Juice is 5 dollars\n",
    "\n",
    "Blueberry Muffin is 2 dollars\n",
    "\n",
    "In Python, we can create a dictionary called menu to store this data:"
   ]
  },
  {
   "cell_type": "code",
   "execution_count": 1,
   "metadata": {},
   "outputs": [],
   "source": [
    "menu = {\"oatmeal\": 3, \"avocado toast\": 6, \"carrot juice\": 5, \"blueberry muffin\": 2}\n",
    "\n",
    "# dict = {key:value, key2:value2}"
   ]
  },
  {
   "cell_type": "markdown",
   "metadata": {},
   "source": [
    "Notice that:\n",
    "\n",
    "- A dictionary begins and ends with curly braces ({ and }).\n",
    "- Each item consists of a key (i.e., “oatmeal”) and a value (i.e., 3)\n",
    "- Each key: value pair (i.e., \"oatmeal\": 3 or \"avocado toast\": 6) is separated by a comma (,)\n",
    "- It’s considered good practice to insert a space () after each comma, but your code will still run without the space.\n",
    "- Dictionaries provide us with a way to map pieces of data to each other, so that we can quickly find values that are associated with one another."
   ]
  },
  {
   "cell_type": "markdown",
   "metadata": {},
   "source": [
    "## Application\n",
    "1.\n",
    "You have a dictionary of temperature sensors in your house and what temperatures they read. You’ve just added a sensor to your \"pantry\", and it reads 22 degrees. Add this pair to the dictionary on line 1."
   ]
  },
  {
   "cell_type": "code",
   "execution_count": 2,
   "metadata": {},
   "outputs": [
    {
     "name": "stdout",
     "output_type": "stream",
     "text": [
      "{'living room': 21, 'kitchen': 23, 'bedroom': 20, 'pantry': 22}\n"
     ]
    }
   ],
   "source": [
    "sensors =  {\"living room\": 21, \"kitchen\": 23, \"bedroom\": 20, \"pantry\": 22}\n",
    "\n",
    "print(sensors)"
   ]
  },
  {
   "cell_type": "markdown",
   "metadata": {},
   "source": [
    "2.\n",
    "Remove the # in front of the definition of the dictionary num_cameras, which represents the number of cameras in each area around your house. If you run this code, you’ll get an error:\n",
    "\n",
    "SyntaxError: invalid syntax"
   ]
  },
  {
   "cell_type": "code",
   "execution_count": 5,
   "metadata": {},
   "outputs": [
    {
     "name": "stdout",
     "output_type": "stream",
     "text": [
      "{'backyard': 6, 'garage': 2, 'driveway': 1}\n"
     ]
    }
   ],
   "source": [
    "num_cameras = {\"backyard\": 6, \"garage\": 2, \"driveway\": 1}\n",
    "print(num_cameras)"
   ]
  },
  {
   "cell_type": "markdown",
   "metadata": {},
   "source": [
    "## Make a Dictionary\n",
    "In the previous exercise we saw a dictionary that maps strings to numbers (i.e., \"oatmeal\": 3). However, the keys can be numbers as well. For example, if we were mapping restaurant bill subtotals to the bill total after tip, a dictionary could look like:\n",
    "\n"
   ]
  },
  {
   "cell_type": "code",
   "execution_count": 6,
   "metadata": {},
   "outputs": [
    {
     "name": "stdout",
     "output_type": "stream",
     "text": [
      "{20: 24, 10: 12, 5: 6, 15: 18}\n"
     ]
    }
   ],
   "source": [
    "subtotal_to_total = {20: 24, 10: 12, 5: 6, 15: 18}\n",
    "print(subtotal_to_total)"
   ]
  },
  {
   "cell_type": "markdown",
   "metadata": {},
   "source": [
    "Values can be any type. You can use a string, a number, a list, or even another dictionary as the value associated with a key!\n",
    "\n",
    "For example:"
   ]
  },
  {
   "cell_type": "code",
   "execution_count": null,
   "metadata": {},
   "outputs": [],
   "source": [
    "students_in_classes = {\"software design\": [\"Aaron\", \"Delila\", \"Samson\"], \"cartography\": [\"Christopher\", \"Juan\", \"Marco\"], \"philosophy\": [\"Frederica\", \"Manuel\"]}\n",
    "#The list [\"Aaron\", \"Delila\", \"Samson\"], which is the value for the key \"software design\", represents the students in that class.\n",
    "\n"
   ]
  },
  {
   "cell_type": "markdown",
   "metadata": {},
   "source": [
    "You can also mix and match key and value types. For example:"
   ]
  },
  {
   "cell_type": "code",
   "execution_count": null,
   "metadata": {},
   "outputs": [],
   "source": [
    "person = {\"name\": \"Shuri\", \"age\": 18, \"siblings\": [\"T'Chaka\", \"Ramonda\"]}"
   ]
  },
  {
   "cell_type": "markdown",
   "metadata": {},
   "source": [
    "## Application\n",
    "1.\n",
    "Create a dictionary called translations that maps the following words in English to their definitions in Sindarin (the language of the elves):\n",
    "\n",
    "English\tSindarin\n",
    "\n",
    "mountain\torod\n",
    "\n",
    "bread\tbass\n",
    "\n",
    "friend\tmellon\n",
    "\n",
    "horse\troch\n"
   ]
  },
  {
   "cell_type": "code",
   "execution_count": 7,
   "metadata": {},
   "outputs": [
    {
     "name": "stdout",
     "output_type": "stream",
     "text": [
      "{'mountain': 'orod', 'bread': 'bass', 'friend': 'mellon', 'horse': 'roch'}\n"
     ]
    }
   ],
   "source": [
    "translations ={\"mountain\": \"orod\", \"bread\": \"bass\", \"friend\": \"mellon\", \"horse\": \"roch\"}\n",
    "print(translations)"
   ]
  },
  {
   "cell_type": "markdown",
   "metadata": {},
   "source": [
    "## Invalid Keys\n",
    "We can have a list or a dictionary as a value of an item in a dictionary, but we cannot use these data types as keys of the dictionary. If we try to, we will get a TypeError. For example:\n",
    "\n",
    "powers = {[1, 2, 4, 8, 16]: 2, [1, 3, 9, 27, 81]: 3}\n",
    "will yield:\n",
    "\n",
    "TypeError: unhashable type: 'list'\n",
    "The word “unhashable” in this context means that this ‘list’ is an object that can be changed. Dictionaries in Python rely on each key having a hash value, a specific identifier for the key. If the key can change, that hash value would not be reliable. So the keys must always be unchangeable, hashable data types, like numbers or strings."
   ]
  },
  {
   "cell_type": "code",
   "execution_count": 9,
   "metadata": {},
   "outputs": [
    {
     "ename": "TypeError",
     "evalue": "unhashable type: 'list'",
     "output_type": "error",
     "traceback": [
      "\u001b[1;31m---------------------------------------------------------------------------\u001b[0m",
      "\u001b[1;31mTypeError\u001b[0m                                 Traceback (most recent call last)",
      "\u001b[1;32m<ipython-input-9-f883aed62092>\u001b[0m in \u001b[0;36m<module>\u001b[1;34m\u001b[0m\n\u001b[1;32m----> 1\u001b[1;33m \u001b[0mpowers\u001b[0m \u001b[1;33m=\u001b[0m \u001b[1;33m{\u001b[0m\u001b[1;33m[\u001b[0m\u001b[1;36m1\u001b[0m\u001b[1;33m,\u001b[0m \u001b[1;36m2\u001b[0m\u001b[1;33m,\u001b[0m \u001b[1;36m4\u001b[0m\u001b[1;33m,\u001b[0m \u001b[1;36m8\u001b[0m\u001b[1;33m,\u001b[0m \u001b[1;36m16\u001b[0m\u001b[1;33m]\u001b[0m\u001b[1;33m:\u001b[0m \u001b[1;36m2\u001b[0m\u001b[1;33m,\u001b[0m \u001b[1;33m[\u001b[0m\u001b[1;36m1\u001b[0m\u001b[1;33m,\u001b[0m \u001b[1;36m3\u001b[0m\u001b[1;33m,\u001b[0m \u001b[1;36m9\u001b[0m\u001b[1;33m,\u001b[0m \u001b[1;36m27\u001b[0m\u001b[1;33m,\u001b[0m \u001b[1;36m81\u001b[0m\u001b[1;33m]\u001b[0m\u001b[1;33m:\u001b[0m \u001b[1;36m3\u001b[0m\u001b[1;33m}\u001b[0m\u001b[1;33m\u001b[0m\u001b[1;33m\u001b[0m\u001b[0m\n\u001b[0m\u001b[0;32m      2\u001b[0m \u001b[1;31m# keys can not be lists\u001b[0m\u001b[1;33m\u001b[0m\u001b[1;33m\u001b[0m\u001b[1;33m\u001b[0m\u001b[0m\n",
      "\u001b[1;31mTypeError\u001b[0m: unhashable type: 'list'"
     ]
    }
   ],
   "source": [
    "powers = {[1, 2, 4, 8, 16]: 2, [1, 3, 9, 27, 81]: 3}\n",
    "# keys can not be lists\n"
   ]
  },
  {
   "cell_type": "markdown",
   "metadata": {},
   "source": [
    "## Application\n",
    "1.\n",
    "Run the code. You should get an error:\n",
    "\n",
    "TypeError: unhashable type\n",
    "Make the code run without errors by flipping the items in the dictionary so that the strings are the keys and the lists are the values"
   ]
  },
  {
   "cell_type": "code",
   "execution_count": 10,
   "metadata": {},
   "outputs": [
    {
     "ename": "TypeError",
     "evalue": "unhashable type: 'list'",
     "output_type": "error",
     "traceback": [
      "\u001b[1;31m---------------------------------------------------------------------------\u001b[0m",
      "\u001b[1;31mTypeError\u001b[0m                                 Traceback (most recent call last)",
      "\u001b[1;32m<ipython-input-10-2381a100e724>\u001b[0m in \u001b[0;36m<module>\u001b[1;34m\u001b[0m\n\u001b[1;32m----> 1\u001b[1;33m children = {[\"Johannes\", \"Rosmarie\", \"Eleonore\"]: \"von Trapp\", \n\u001b[0m\u001b[0;32m      2\u001b[0m             [\"Sonny\", \"Fredo\", \"Michael\"]: \"Corleone\"}\n",
      "\u001b[1;31mTypeError\u001b[0m: unhashable type: 'list'"
     ]
    }
   ],
   "source": [
    "children = {[\"Johannes\", \"Rosmarie\", \"Eleonore\"]: \"von Trapp\", \n",
    "            [\"Sonny\", \"Fredo\", \"Michael\"]: \"Corleone\"}"
   ]
  },
  {
   "cell_type": "markdown",
   "metadata": {},
   "source": [
    "## Empty Dictionary\n",
    "A dictionary doesn’t have to contain anything. You can create an empty dictionary:\n",
    "\n",
    "empty_dict = {}\n",
    "\n",
    "We can create an empty dictionary when we plan to fill it later based on some other input. We will explore ways to fill a dictionary in the next exercise."
   ]
  },
  {
   "cell_type": "markdown",
   "metadata": {},
   "source": [
    "## Application\n",
    "1.\n",
    "Create an empty dictionary called my_empty_dictionary."
   ]
  },
  {
   "cell_type": "code",
   "execution_count": 13,
   "metadata": {},
   "outputs": [
    {
     "name": "stdout",
     "output_type": "stream",
     "text": [
      "{}\n"
     ]
    }
   ],
   "source": [
    "my_empty_dictionary = {}\n",
    "print(my_empty_dictionary)"
   ]
  },
  {
   "cell_type": "markdown",
   "metadata": {},
   "source": [
    "## Question\n",
    "Is it possible to determine whether a dictionary is empty?\n",
    "\n",
    "## Answer\n",
    "Yes, there are several ways to check if a dictionary is empty. The more standard Python method is to use a Boolean evaluation on the dictionary. An empty dictionary (or other containers) will evaluate to a Boolean False. You can do that by testing just the dictionary variable or using the bool() function. Both methods are shown in the following code example.\n",
    "\n"
   ]
  },
  {
   "cell_type": "code",
   "execution_count": 14,
   "metadata": {},
   "outputs": [
    {
     "name": "stdout",
     "output_type": "stream",
     "text": [
      "dict1 is Empty\n"
     ]
    }
   ],
   "source": [
    "\n",
    "dict1 = {}\n",
    "\n",
    "if len(dict1) == 0:\n",
    "    print(\"dict1 is Empty\")"
   ]
  },
  {
   "cell_type": "markdown",
   "metadata": {},
   "source": [
    "## Add A Key\n",
    "To add a single key : value pair to a dictionary, we can use the syntax:\n",
    "\n"
   ]
  },
  {
   "cell_type": "code",
   "execution_count": 15,
   "metadata": {},
   "outputs": [
    {
     "name": "stdout",
     "output_type": "stream",
     "text": [
      "{'oatmeal': 3, 'avocado toast': 6, 'carrot juice': 5, 'blueberry muffin': 2, 'cheesecake': 8}\n"
     ]
    }
   ],
   "source": [
    "# my_dict[\"new_key\"] = \"new_value\"\n",
    "#For example, if we had our menu object from the first exercise:\n",
    "\n",
    "menu = {\"oatmeal\": 3, \"avocado toast\": 6, \"carrot juice\": 5, \"blueberry muffin\": 2}\n",
    "\n",
    "# and we wanted to add a new item, \"cheesecake\" for 8 dollars, we could use:\n",
    "\n",
    "menu[\"cheesecake\"] = 8\n",
    "\n",
    "print(menu)\n",
    "\n",
    "#Now, menu looks like:\n",
    "\n",
    "#{\"oatmeal\": 3, \"avocado toast\": 6, \"carrot juice\": 5, \"blueberry muffin\": 2, \"cheesecake\": 8}"
   ]
  },
  {
   "cell_type": "markdown",
   "metadata": {},
   "source": [
    "## Applications\n",
    "1.\n",
    "Create an empty dictionary called animals_in_zoo."
   ]
  },
  {
   "cell_type": "code",
   "execution_count": 16,
   "metadata": {},
   "outputs": [],
   "source": [
    "animals_in_zoo = {}"
   ]
  },
  {
   "cell_type": "markdown",
   "metadata": {},
   "source": [
    "2.\n",
    "Walking around the zoo, you see 8 zebras. Add \"zebras\" to animals_in_zoo as a key with a value of 8."
   ]
  },
  {
   "cell_type": "code",
   "execution_count": 17,
   "metadata": {},
   "outputs": [],
   "source": [
    "animals_in_zoo[\"zebra\"] = 8"
   ]
  },
  {
   "cell_type": "markdown",
   "metadata": {},
   "source": [
    "3.\n",
    "The primate house was bananas! Add \"monkeys\" to animals_in_zoo as a key with a value of 12."
   ]
  },
  {
   "cell_type": "code",
   "execution_count": 18,
   "metadata": {},
   "outputs": [],
   "source": [
    "animals_in_zoo[\"monkey\"] = 12"
   ]
  },
  {
   "cell_type": "markdown",
   "metadata": {},
   "source": [
    "4.\n",
    "As you leave the zoo, you are saddened that you did not see any dinosaurs. Add \"dinosaurs\" to animals_in_zoo as a key with a value of 0."
   ]
  },
  {
   "cell_type": "code",
   "execution_count": 22,
   "metadata": {},
   "outputs": [],
   "source": [
    "animals_in_zoo[\"dinosaurs\"]= 0"
   ]
  },
  {
   "cell_type": "markdown",
   "metadata": {},
   "source": [
    "5.\n",
    "Print animals_in_zoo."
   ]
  },
  {
   "cell_type": "code",
   "execution_count": 23,
   "metadata": {},
   "outputs": [
    {
     "name": "stdout",
     "output_type": "stream",
     "text": [
      "{'zebra': 8, 'monkey': 12, 'dinosaurs': 0}\n"
     ]
    }
   ],
   "source": [
    "print(animals_in_zoo)"
   ]
  },
  {
   "cell_type": "markdown",
   "metadata": {},
   "source": [
    "## Possible Question\n",
    "#Can an empty key be used to insert a value into a dictionary?"
   ]
  },
  {
   "cell_type": "markdown",
   "metadata": {},
   "source": [
    "## Possible Answer\n",
    "Just because a key doesn’t have a useful meaning, it can still be inserted into a dictionary as long as Python is able to compute a hash value for it. The following code example shows three keys which Python will accept without reporting an error. These keys are unlikely to be useful but are accepted by Python without complaint and could result in unexpected behavior.\n",
    "\n"
   ]
  },
  {
   "cell_type": "code",
   "execution_count": 24,
   "metadata": {},
   "outputs": [
    {
     "name": "stdout",
     "output_type": "stream",
     "text": [
      "{None: 100, '': 200, False: 300}\n"
     ]
    }
   ],
   "source": [
    "mydict = {}\n",
    "\n",
    "mykey = None\n",
    "mydict[mykey] = 100\n",
    "\n",
    "mykey = ''\n",
    "mydict[mykey] = 200\n",
    "\n",
    "mykey = False\n",
    "mydict[mykey] = 300\n",
    "\n",
    "print(mydict)"
   ]
  },
  {
   "cell_type": "markdown",
   "metadata": {},
   "source": [
    "## Add Multiple Keys\n",
    "If we wanted to add multiple key : value pairs to a dictionary at once, we can use the .update() method.\n",
    "\n",
    "Looking at our sensors object from the first exercise:\n",
    "\n"
   ]
  },
  {
   "cell_type": "code",
   "execution_count": 25,
   "metadata": {},
   "outputs": [
    {
     "name": "stdout",
     "output_type": "stream",
     "text": [
      "{'living room': 21, 'kitchen': 23, 'bedroom': 20, 'pantry': 22, 'guest room': 25, 'patio': 34}\n"
     ]
    }
   ],
   "source": [
    "sensors =  {\"living room\": 21, \"kitchen\": 23, \"bedroom\": 20}\n",
    "#If we wanted to add 3 new rooms, we could use:\n",
    "\n",
    "sensors.update({\"pantry\": 22, \"guest room\": 25, \"patio\": 34})\n",
    "\n",
    "print(sensors)\n",
    "#which would add all three items to the sensors dictionary. Now, sensors looks like:\n",
    "\n",
    "#{\"living room\": 21, \"kitchen\": 23, \"bedroom\": 20, \"pantry\": 22, \"guest room\": 25, \"patio\": 34}"
   ]
  },
  {
   "cell_type": "markdown",
   "metadata": {},
   "source": [
    "## Applications\n",
    "1.\n",
    "In one line of code, add two new users to the user_ids dictionary:\n",
    "\n",
    "theLooper, with an id of 138475\n",
    "stringQueen, with an id of 85739"
   ]
  },
  {
   "cell_type": "code",
   "execution_count": 32,
   "metadata": {},
   "outputs": [],
   "source": [
    "user_ids = {\"teraCoder\": 9018293, \"proProgrammer\": 119238}"
   ]
  },
  {
   "cell_type": "code",
   "execution_count": 33,
   "metadata": {},
   "outputs": [],
   "source": [
    "user_ids.update({\"theLooper\": 138475, \"stringQueen\": 85739})"
   ]
  },
  {
   "cell_type": "markdown",
   "metadata": {},
   "source": [
    "2.\n",
    "Print user_ids."
   ]
  },
  {
   "cell_type": "code",
   "execution_count": 34,
   "metadata": {},
   "outputs": [
    {
     "name": "stdout",
     "output_type": "stream",
     "text": [
      "{'teraCoder': 9018293, 'proProgrammer': 119238, 'theLooper': 138475, 'stringQueen': 85739}\n"
     ]
    }
   ],
   "source": [
    "print(user_ids)"
   ]
  },
  {
   "cell_type": "markdown",
   "metadata": {},
   "source": [
    "## Possible Question\n",
    "If the dictionary update() is called with no parameters OR an empty dictionary, will the update erase the existing contents of the dictionary?\n",
    "\n",
    "## Possible Answer\n",
    "NO, calling update() with no parameters or with an empty dictionary will not change any of the existing key/values in the dictionary. The following code example shows both types of empty updates. The existing dictionary remains unchanged.\n",
    "\n"
   ]
  },
  {
   "cell_type": "code",
   "execution_count": 35,
   "metadata": {},
   "outputs": [
    {
     "name": "stdout",
     "output_type": "stream",
     "text": [
      "{'San Francisco': 75, 'Chicago': 100}\n"
     ]
    }
   ],
   "source": [
    "cities = dict()\n",
    "\n",
    "cities.update({\"San Francisco\": 75, \"Chicago\": 100})\n",
    "cities.update()\n",
    "cities.update({})\n",
    "\n",
    "print(cities)"
   ]
  },
  {
   "cell_type": "markdown",
   "metadata": {},
   "source": [
    "## Overwrite Values\n",
    "We know that we can add a key by using syntax like:\n",
    "\n"
   ]
  },
  {
   "cell_type": "markdown",
   "metadata": {},
   "source": [
    "menu['avocado toast'] = 7\n",
    "\n",
    "which will create a key 'avocado toast' and set the value to 7. But what if we already have an 'avocado toast' entry in the menu dictionary?\n",
    "\n",
    "In that case, our value assignment would overwrite the existing value attached to the key 'avocado toast'.\n",
    "\n",
    "menu = {\"oatmeal\": 3, \"avocado toast\": 6, \"carrot juice\": 5, \"blueberry muffin\": 2}\n",
    "\n",
    "menu[\"oatmeal\"] = 5\n",
    "\n",
    "print(menu)\n",
    "\n",
    "\n",
    "would yield:\n",
    "\n",
    "{\"oatmeal\": 5, \"avocado toast\": 6, \"carrot juice\": 5, \"blueberry muffin\": 2}\n",
    "\n",
    "Notice the value of \"oatmeal\" has now changed to 5.\n"
   ]
  },
  {
   "cell_type": "code",
   "execution_count": 39,
   "metadata": {},
   "outputs": [
    {
     "name": "stdout",
     "output_type": "stream",
     "text": [
      "{'oatmeal': 5, 'avocado toast': 6, 'carrot juice': 5, 'blueberry muffin': 2}\n"
     ]
    }
   ],
   "source": [
    "menu = {\"oatmeal\": 3, \"avocado toast\": 6, \"carrot juice\": 5, \"blueberry muffin\": 2}\n",
    "\n",
    "menu[\"oatmeal\"] = 5\n",
    "\n",
    "print(menu)"
   ]
  },
  {
   "cell_type": "markdown",
   "metadata": {},
   "source": [
    "## Application\n",
    "1.\n",
    "Add the key \"Supporting Actress\" and set the value to \"Viola Davis\"."
   ]
  },
  {
   "cell_type": "code",
   "execution_count": 40,
   "metadata": {},
   "outputs": [
    {
     "name": "stdout",
     "output_type": "stream",
     "text": [
      "{'Best Picture': 'La La Land', 'Best Actor': 'Casey Affleck', 'Best Actress': 'Emma Stone', 'Animated Feature': 'Zootopia', 'Supporting Actress': 'Viola Davis'}\n"
     ]
    }
   ],
   "source": [
    "oscar_winners = {\"Best Picture\": \"La La Land\", \n",
    "                 \"Best Actor\": \"Casey Affleck\", \n",
    "                 \"Best Actress\": \"Emma Stone\", \n",
    "                 \"Animated Feature\": \"Zootopia\"}\n",
    "# code here\n",
    "oscar_winners [\"Supporting Actress\"]=\"Viola Davis\"\n",
    "print(oscar_winners)\n",
    "\n",
    "\n",
    "# oscar_winners.update({key:value})"
   ]
  },
  {
   "cell_type": "markdown",
   "metadata": {},
   "source": [
    "2.\n",
    "Without changing the definition of the dictionary oscar_winners, change the value associated with the key \"Best Picture\" to \"Moonlight\"."
   ]
  },
  {
   "cell_type": "code",
   "execution_count": 43,
   "metadata": {},
   "outputs": [
    {
     "name": "stdout",
     "output_type": "stream",
     "text": [
      "{'Best Picture': 'Moonlight', 'Best Actor': 'Casey Affleck', 'Best Actress': 'Emma Stone', 'Animated Feature': 'Zootopia', 'Supporting Actress': 'Viola Davis'}\n"
     ]
    }
   ],
   "source": [
    "oscar_winners[\"Best Picture\"] = \"Moonlight\"\n",
    "print(oscar_winners)"
   ]
  },
  {
   "cell_type": "markdown",
   "metadata": {},
   "source": [
    "## List Comprehensions to Dictionaries\n",
    "Let’s say we have two lists that we want to combine into a dictionary, like a list of students and a list of their heights, in inches:"
   ]
  },
  {
   "cell_type": "code",
   "execution_count": 44,
   "metadata": {},
   "outputs": [],
   "source": [
    "names = ['Jenny', 'Alexus', 'Sam', 'Grace']\n",
    "heights = [61, 70, 67, 64]"
   ]
  },
  {
   "cell_type": "markdown",
   "metadata": {},
   "source": [
    "Python allows you to create a dictionary using a list comprehension, with this syntax:"
   ]
  },
  {
   "cell_type": "code",
   "execution_count": 46,
   "metadata": {},
   "outputs": [
    {
     "name": "stdout",
     "output_type": "stream",
     "text": [
      "{'Jenny': 61, 'Alexus': 70, 'Sam': 67, 'Grace': 64}\n"
     ]
    }
   ],
   "source": [
    "students = {key:value for key, value in zip(names, heights)}\n",
    "#students is now {'Jenny': 61, 'Alexus': 70, 'Sam': 67, 'Grace': 64}\n",
    "\n",
    "print(students)"
   ]
  },
  {
   "cell_type": "markdown",
   "metadata": {},
   "source": [
    "Remember that zip() combines two lists into a zipped list of pairs. This list comprehension:\n",
    "\n",
    "1. Takes a pair from the zipped list of pairs from names and heights\n",
    "2. Names the elements in the pair key (the one originally from the names list) and value (the one originally from the heights list)\n",
    "3. Creates a key : value item in the students dictionary\n",
    "4. Repeats steps 1-3 for the entire list of pairs\n",
    "\n",
    "#### Applications\n",
    "1.\n",
    "You have two lists, representing some drinks sold at a coffee shop and the milligrams of caffeine in each. First, create a variable called zipped_drinks that is a zipped list of pairs between the drinks list and the caffeine list."
   ]
  },
  {
   "cell_type": "code",
   "execution_count": 48,
   "metadata": {},
   "outputs": [
    {
     "name": "stdout",
     "output_type": "stream",
     "text": [
      "[('espresso', 64), ('chai', 40), ('decaf', 0), ('drip', 120)]\n"
     ]
    }
   ],
   "source": [
    "drinks = [\"espresso\", \"chai\", \"decaf\", \"drip\"]\n",
    "caffeine = [64, 40, 0, 120]\n",
    "\n",
    "#code here\n",
    "zipped_drinks = list(zip(drinks, caffeine))\n",
    "print(zipped_drinks)"
   ]
  },
  {
   "cell_type": "markdown",
   "metadata": {},
   "source": [
    "2.\n",
    "Create a dictionary called drinks_to_caffeine by using a list comprehension that goes through the zipped_drinks list and turns each pair into a key:value item."
   ]
  },
  {
   "cell_type": "code",
   "execution_count": 51,
   "metadata": {},
   "outputs": [
    {
     "name": "stdout",
     "output_type": "stream",
     "text": [
      "{'espresso': 64, 'chai': 40, 'decaf': 0, 'drip': 120}\n"
     ]
    }
   ],
   "source": [
    "#code here\n",
    "drinks_to_caffeine = {key:value for key, value in zipped_drinks}\n",
    "print(drinks_to_caffeine)"
   ]
  },
  {
   "cell_type": "markdown",
   "metadata": {},
   "source": [
    "## Review\n",
    "So far we have learned:\n",
    "\n",
    "- How to create a dictionary\n",
    "- How to add elements to a dictionary\n",
    "- How to update elements in a dictionary\n",
    "- How to use a list comprehension to create a dictionary from two lists\n",
    "\n",
    "Let’s practice these skills!"
   ]
  },
  {
   "cell_type": "markdown",
   "metadata": {},
   "source": [
    "1.\n",
    "We are building a music streaming service. We have provided two lists, representing songs in a user’s library and the amount of times each song has been played.\n",
    "\n",
    "Using a list comprehension, create a dictionary called plays that goes through zip(songs, playcounts) and creates a song:playcount pair for each song in songs and each playcount in playcounts."
   ]
  },
  {
   "cell_type": "code",
   "execution_count": 52,
   "metadata": {},
   "outputs": [],
   "source": [
    "songs = [\"Like a Rolling Stone\", \"Satisfaction\", \"Imagine\", \"What's Going On\", \"Respect\", \"Good Vibrations\"]\n",
    "playcounts = [78, 29, 44, 21, 89, 5]\n",
    "\n",
    "#code here\n",
    "plays={songs:playcounts for songs, playcounts in zip(songs, playcounts) }\n",
    "\n"
   ]
  },
  {
   "cell_type": "code",
   "execution_count": null,
   "metadata": {},
   "outputs": [],
   "source": [
    "2.\n",
    "Print plays."
   ]
  },
  {
   "cell_type": "code",
   "execution_count": 53,
   "metadata": {},
   "outputs": [
    {
     "name": "stdout",
     "output_type": "stream",
     "text": [
      "{'Like a Rolling Stone': 78, 'Satisfaction': 29, 'Imagine': 44, \"What's Going On\": 21, 'Respect': 89, 'Good Vibrations': 5}\n"
     ]
    }
   ],
   "source": [
    "#code here\n",
    "print(plays)"
   ]
  },
  {
   "cell_type": "markdown",
   "metadata": {},
   "source": [
    "3.\n",
    "After printing plays, add a new entry to it. The entry should be for the song \"Purple Haze\" and the playcount is 1.\n"
   ]
  },
  {
   "cell_type": "code",
   "execution_count": 55,
   "metadata": {},
   "outputs": [
    {
     "name": "stdout",
     "output_type": "stream",
     "text": [
      "{'Like a Rolling Stone': 78, 'Satisfaction': 29, 'Imagine': 44, \"What's Going On\": 21, 'Respect': 89, 'Good Vibrations': 5, 'Purple Haze': 1}\n"
     ]
    }
   ],
   "source": [
    "#code here\n",
    "plays.update({\"Purple Haze\": 1})\n",
    "print(plays)"
   ]
  },
  {
   "cell_type": "markdown",
   "metadata": {},
   "source": [
    "4.\n",
    "This user has caught Aretha Franklin fever and listened to “Respect” 5 more times. Update the value for \"Respect\" to be 94 in the plays dictionary.\n"
   ]
  },
  {
   "cell_type": "code",
   "execution_count": 56,
   "metadata": {},
   "outputs": [
    {
     "name": "stdout",
     "output_type": "stream",
     "text": [
      "{'Like a Rolling Stone': 78, 'Satisfaction': 29, 'Imagine': 44, \"What's Going On\": 21, 'Respect': 94, 'Good Vibrations': 5, 'Purple Haze': 1}\n"
     ]
    }
   ],
   "source": [
    "#code here\n",
    "plays[\"Respect\"] = 94\n",
    "print(plays)"
   ]
  },
  {
   "cell_type": "markdown",
   "metadata": {},
   "source": [
    "5.\n",
    "Create a dictionary called library that has two key: value pairs:\n",
    "- key \"The Best Songs\" with a value of plays, the dictionary you created\n",
    "- key \"Sunday Feelings\" with a value of an empty dictionary\n"
   ]
  },
  {
   "cell_type": "code",
   "execution_count": 58,
   "metadata": {},
   "outputs": [
    {
     "name": "stdout",
     "output_type": "stream",
     "text": [
      "{'The Best Songs': {'Like a Rolling Stone': 78, 'Satisfaction': 29, 'Imagine': 44, \"What's Going On\": 21, 'Respect': 94, 'Good Vibrations': 5, 'Purple Haze': 1}, 'Sunday Feelings': {}}\n"
     ]
    }
   ],
   "source": [
    "#code here\n",
    "library = {\"The Best Songs\": plays, \"Sunday Feelings\": {}}\n",
    "print(library)"
   ]
  },
  {
   "cell_type": "markdown",
   "metadata": {},
   "source": [
    "6.\n",
    "Print library."
   ]
  },
  {
   "cell_type": "code",
   "execution_count": null,
   "metadata": {},
   "outputs": [],
   "source": [
    "#code here"
   ]
  },
  {
   "cell_type": "markdown",
   "metadata": {},
   "source": [
    "## Possible question\n",
    "Is it possible to statically define a dictionary which contains another dictionary without using another variable?\n"
   ]
  },
  {
   "cell_type": "markdown",
   "metadata": {},
   "source": [
    "#### Possible Answer\n",
    "Yes, when you define the dictionary you simply define another dictionary inside the {} brackets. The following code example shows a population dictionary which contains dictionaries for each state that contains cities and population numbers.\n",
    "\n",
    "population = {\"California\": {\"Los Angeles\": 3971883,\n",
    "                             \"San Diego\": 1394928,\n",
    "                             \"San Jose\": 1026908},\n",
    "              \"Texas\": {\"Houston\": 2296224,\n",
    "                        \"San Antonio\": 1469845}\n",
    "              }"
   ]
  },
  {
   "cell_type": "markdown",
   "metadata": {},
   "source": [
    "### Additional Document on Dictionaries\n",
    "\n",
    "https://docs.python.org/3/tutorial/datastructures.html#dictionaries"
   ]
  },
  {
   "cell_type": "markdown",
   "metadata": {},
   "source": [
    "## Quiz"
   ]
  },
  {
   "cell_type": "markdown",
   "metadata": {},
   "source": [
    "1. Which of these is an invalid dictionary (will result in a TypeError when trying to run)?\n",
    "\n",
    "\n",
    "A. {[\"apple\", \"orange\"]: \"fruit\", [\"broccoli\"]: \"vegetable\", [\"salt\", \"paprika\", \"saffron\"]: \"spice\"}\n",
    "\n",
    "B. All of these are valid\n",
    "\n",
    "\n",
    "C. {\"fruit\": \"apple\", \"vegetable\": 100, \"spice\": [\"salt\", \"paprika\", \"saffron\"]}\n",
    "\n",
    "D. {2: [\"apple\", \"orange\"], 1: [\"broccoli\"], 3: [\"salt\", \"paprika\", \"saffron\"]}\n"
   ]
  },
  {
   "cell_type": "code",
   "execution_count": 59,
   "metadata": {},
   "outputs": [
    {
     "ename": "TypeError",
     "evalue": "unhashable type: 'list'",
     "output_type": "error",
     "traceback": [
      "\u001b[1;31m---------------------------------------------------------------------------\u001b[0m",
      "\u001b[1;31mTypeError\u001b[0m                                 Traceback (most recent call last)",
      "\u001b[1;32m<ipython-input-59-457ba05d818d>\u001b[0m in \u001b[0;36m<module>\u001b[1;34m\u001b[0m\n\u001b[1;32m----> 1\u001b[1;33m \u001b[1;33m{\u001b[0m\u001b[1;33m[\u001b[0m\u001b[1;34m\"apple\"\u001b[0m\u001b[1;33m,\u001b[0m \u001b[1;34m\"orange\"\u001b[0m\u001b[1;33m]\u001b[0m\u001b[1;33m:\u001b[0m \u001b[1;34m\"fruit\"\u001b[0m\u001b[1;33m,\u001b[0m \u001b[1;33m[\u001b[0m\u001b[1;34m\"broccoli\"\u001b[0m\u001b[1;33m]\u001b[0m\u001b[1;33m:\u001b[0m \u001b[1;34m\"vegetable\"\u001b[0m\u001b[1;33m,\u001b[0m \u001b[1;33m[\u001b[0m\u001b[1;34m\"salt\"\u001b[0m\u001b[1;33m,\u001b[0m \u001b[1;34m\"paprika\"\u001b[0m\u001b[1;33m,\u001b[0m \u001b[1;34m\"saffron\"\u001b[0m\u001b[1;33m]\u001b[0m\u001b[1;33m:\u001b[0m \u001b[1;34m\"spice\"\u001b[0m\u001b[1;33m}\u001b[0m\u001b[1;33m\u001b[0m\u001b[1;33m\u001b[0m\u001b[0m\n\u001b[0m",
      "\u001b[1;31mTypeError\u001b[0m: unhashable type: 'list'"
     ]
    }
   ],
   "source": [
    "{[\"apple\", \"orange\"]: \"fruit\", [\"broccoli\"]: \"vegetable\", [\"salt\", \"paprika\", \"saffron\"]: \"spice\"}"
   ]
  },
  {
   "cell_type": "markdown",
   "metadata": {},
   "source": [
    "2. What will the following code output?\n"
   ]
  },
  {
   "cell_type": "code",
   "execution_count": null,
   "metadata": {},
   "outputs": [],
   "source": [
    "\n",
    "#conference_rooms = [\"executive\", \"hopper\", \"lovelace\", \"pod\", \"snooze booth\"]\n",
    "#capacity = [7, 20, 6, 2, 1]\n",
    "#room_dict = {key:value for key, value in zip(conference_rooms, capacity)}\n",
    " \n",
    "#print(room_dict)\n",
    " "
   ]
  },
  {
   "cell_type": "markdown",
   "metadata": {},
   "source": [
    "\n",
    "\n",
    "A. [(\"executive\", 7), (\"hopper\", 20), (\"lovelace\", 6), (\"pod\", 2), (\"snooze booth\", 1)}\n",
    "\n",
    "B. [\"executive\", 7, \"hopper\", 20, \"lovelace\", 6, \"pod\", 2, \"snooze booth\", 1]\n",
    "\n",
    "C. {7: \"executive\", 20: \"hopper\", 6: \"lovelace\", 2: \"pod\", 1: \"snooze booth\"}\n",
    "\n",
    "D. {\"executive\": 7, \"hopper\": 20, \"lovelace\": 6, \"pod\": 2, \"snooze booth\": 1}\n"
   ]
  },
  {
   "cell_type": "markdown",
   "metadata": {},
   "source": [
    "3. Which of these dictionaries has integers as the keys and strings as the values?\n",
    "\n",
    "\n",
    "A. zipcodes = {35801: \"Alabama\", 99501: \"Alaska\", 97201: \"Oregon\", 05751: \"Vermont\", 07039: \"New Jersey\"}\n",
    "\n",
    "B. zipcodes = {35801: [\"Huntsville\", \"Montgomery\"], 99501: [\"Anchorage\"], 97201: [\"Portland\", \"Salem\"], 05751: [\"Burlington\", \"Montpelier\", \"Rutland\"], 07039: [\"Hoboken\"]}\n",
    "\n",
    "C. zipcodes = {\"Alabama\":35801,\"Alaska\":99501, \"Oregon\":97201, \"Vermont\":05751, \"New Jersey\":07039}\n",
    "\n",
    "D. zipcodes = {35801: \"Alabama\", \"No Value\": \"N/A\", \"APO\": \"Overseas\"}\n"
   ]
  },
  {
   "cell_type": "markdown",
   "metadata": {},
   "source": [
    "4. What is the line of code to initialize an empty dictionary called thesaurus?\n",
    "\n",
    "\n",
    "A. thesaurus = {}\n",
    "\n",
    "B. thesaurus = []\n",
    "\n",
    "C. thesaurus = empty_dict()\n",
    "\n",
    "D. thesaurus = new Dictionary()\n"
   ]
  },
  {
   "cell_type": "markdown",
   "metadata": {},
   "source": [
    "5. What is the value of inventory after this code is run?"
   ]
  },
  {
   "cell_type": "code",
   "execution_count": 60,
   "metadata": {},
   "outputs": [
    {
     "name": "stdout",
     "output_type": "stream",
     "text": [
      "{'iron spear': 12, 'invisible knife': 40, 'needle of ambition': 10, 'stone glove': 20, 'mithril shield': 25}\n"
     ]
    }
   ],
   "source": [
    "inventory = {\"iron spear\": 12, \"invisible knife\": 30, \"needle of ambition\": 10, \"stone glove\": 20}\n",
    " \n",
    "inventory[\"invisible knife\"] = 40\n",
    "inventory[\"mithril shield\"] = 25\n",
    "\n",
    "print(inventory)"
   ]
  },
  {
   "cell_type": "markdown",
   "metadata": {},
   "source": [
    "\n",
    "\n",
    "A.  {\"iron spear\": 12, \"invisible knife\": 70, \"needle of ambition\": 10, \"stone glove\": 20, \"mithril shield\": 25}\n",
    "\n",
    "B.  {\"iron spear\": 12, \"invisible knife\": 40, \"needle of ambition\": 10, \"stone glove\": 20, \"mithril shield\": 25}\n",
    "\n",
    "C.  {\"iron spear\": 12, \"invisible knife\": 70, \"needle of ambition\": 10, \"stone glove\": 20}\n",
    "\n",
    "D.  {\"iron spear\": 12, \"invisible knife\": 30, \"needle of ambition\": 10, \"stone glove\": 20, \"invisible knife\": 40, \"mithril shield\": 25}\n"
   ]
  },
  {
   "cell_type": "code",
   "execution_count": null,
   "metadata": {},
   "outputs": [],
   "source": []
  }
 ],
 "metadata": {
  "kernelspec": {
   "display_name": "Python 3",
   "language": "python",
   "name": "python3"
  },
  "language_info": {
   "codemirror_mode": {
    "name": "ipython",
    "version": 3
   },
   "file_extension": ".py",
   "mimetype": "text/x-python",
   "name": "python",
   "nbconvert_exporter": "python",
   "pygments_lexer": "ipython3",
   "version": "3.8.3"
  }
 },
 "nbformat": 4,
 "nbformat_minor": 4
}
