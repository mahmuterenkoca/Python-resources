{
 "cells": [
  {
   "cell_type": "markdown",
   "metadata": {},
   "source": [
    "## Using Dictionaries\n",
    "Now that we know how to create a dictionary, we can start using already created dictionaries to solve problems.\n",
    "\n",
    "In this lesson, you’ll learn how to:\n",
    "\n",
    "Use a key to get a value from a dictionary\n",
    "Check for existence of keys\n",
    "Find the length of a dictionary\n",
    "Iterate through keys and values in dictionaries"
   ]
  },
  {
   "cell_type": "markdown",
   "metadata": {},
   "source": [
    "## Get A Key\n",
    "Once you have a dictionary, you can access the values in it by providing the key. For example, let’s imagine we have a dictionary that maps buildings to their heights, in meters:"
   ]
  },
  {
   "cell_type": "code",
   "execution_count": 2,
   "metadata": {},
   "outputs": [],
   "source": [
    "building_heights = {\"Burj Khalifa\": 828, \n",
    "                    \"Shanghai Tower\": 632, \n",
    "                    \"Abraj Al Bait\": 601, \n",
    "                    \"Ping An\": 599, \n",
    "                    \"Lotte World Tower\": 554.5, \n",
    "                    \"One World Trade\": 541.3}"
   ]
  },
  {
   "cell_type": "markdown",
   "metadata": {},
   "source": [
    "Then we can access the data in it like this:"
   ]
  },
  {
   "cell_type": "code",
   "execution_count": 3,
   "metadata": {},
   "outputs": [
    {
     "name": "stdout",
     "output_type": "stream",
     "text": [
      "828\n"
     ]
    }
   ],
   "source": [
    "print(building_heights[\"Burj Khalifa\"])"
   ]
  },
  {
   "cell_type": "code",
   "execution_count": 4,
   "metadata": {},
   "outputs": [
    {
     "name": "stdout",
     "output_type": "stream",
     "text": [
      "599\n"
     ]
    }
   ],
   "source": [
    "print(building_heights[\"Ping An\"])\n"
   ]
  },
  {
   "cell_type": "markdown",
   "metadata": {},
   "source": [
    "## Applications\n",
    "1.\n",
    "We have provided a dictionary that maps the elements of astrology to the zodiac signs. Print out the list of zodiac signs associated with the \"earth\" element."
   ]
  },
  {
   "cell_type": "code",
   "execution_count": 5,
   "metadata": {},
   "outputs": [
    {
     "name": "stdout",
     "output_type": "stream",
     "text": [
      "['Taurus', 'Virgo', 'Capricorn']\n"
     ]
    }
   ],
   "source": [
    "zodiac_elements = {\"water\": [\"Cancer\", \"Scorpio\", \"Pisces\"], \n",
    "                   \"fire\": [\"Aries\", \"Leo\", \"Sagittarius\"], \n",
    "                   \"earth\": [\"Taurus\", \"Virgo\", \"Capricorn\"], \n",
    "                   \"air\":[\"Gemini\", \"Libra\", \"Aquarius\"]}\n",
    "\n",
    "# code here\n",
    "print(zodiac_elements[\"earth\"])"
   ]
  },
  {
   "cell_type": "markdown",
   "metadata": {},
   "source": [
    "2. Print out the list of the \"fire\" signs.\n",
    "\n"
   ]
  },
  {
   "cell_type": "code",
   "execution_count": 6,
   "metadata": {},
   "outputs": [
    {
     "name": "stdout",
     "output_type": "stream",
     "text": [
      "['Aries', 'Leo', 'Sagittarius']\n"
     ]
    }
   ],
   "source": [
    "# code here\n",
    "print(zodiac_elements[\"fire\"])"
   ]
  },
  {
   "cell_type": "code",
   "execution_count": 10,
   "metadata": {},
   "outputs": [
    {
     "name": "stdout",
     "output_type": "stream",
     "text": [
      "['Aries', 'Leo', 'Sagittarius']\n"
     ]
    }
   ],
   "source": [
    "print(zodiac_elements[\"fire\"])"
   ]
  },
  {
   "cell_type": "markdown",
   "metadata": {},
   "source": [
    "## Get an Invalid Key\n",
    "Let’s say we have our dictionary of building heights from the last exercise:"
   ]
  },
  {
   "cell_type": "code",
   "execution_count": 12,
   "metadata": {},
   "outputs": [],
   "source": [
    "building_heights = {\"Burj Khalifa\": 828, \n",
    "                    \"Shanghai Tower\": 632, \n",
    "                    \"Abraj Al Bait\": 601, \n",
    "                    \"Ping An\": 599, \n",
    "                    \"Lotte World Tower\": 554.5, \n",
    "                    \"One World Trade\": 541.3}\n"
   ]
  },
  {
   "cell_type": "markdown",
   "metadata": {},
   "source": [
    "What if we wanted to know the height of the Landmark 81 in Ho Chi Minh City? We could try:\n",
    "\n"
   ]
  },
  {
   "cell_type": "code",
   "execution_count": 8,
   "metadata": {},
   "outputs": [
    {
     "ename": "KeyError",
     "evalue": "'Landmark 81'",
     "output_type": "error",
     "traceback": [
      "\u001b[1;31m---------------------------------------------------------------------------\u001b[0m",
      "\u001b[1;31mKeyError\u001b[0m                                  Traceback (most recent call last)",
      "\u001b[1;32m<ipython-input-8-39bd00ea61b7>\u001b[0m in \u001b[0;36m<module>\u001b[1;34m\u001b[0m\n\u001b[1;32m----> 1\u001b[1;33m \u001b[0mprint\u001b[0m\u001b[1;33m(\u001b[0m\u001b[0mbuilding_heights\u001b[0m\u001b[1;33m[\u001b[0m\u001b[1;34m\"Landmark 81\"\u001b[0m\u001b[1;33m]\u001b[0m\u001b[1;33m)\u001b[0m\u001b[1;33m\u001b[0m\u001b[1;33m\u001b[0m\u001b[0m\n\u001b[0m",
      "\u001b[1;31mKeyError\u001b[0m: 'Landmark 81'"
     ]
    }
   ],
   "source": [
    "print(building_heights[\"Landmark 81\"])\n"
   ]
  },
  {
   "cell_type": "markdown",
   "metadata": {},
   "source": [
    "But \"Landmark 81\" does not exist as a key in the building_heights dictionary! So this will throw a KeyError:\n",
    "\n",
    "KeyError: 'Landmark 81'\n",
    "\n",
    "One way to avoid this error is to first check if the key exists in the dictionary:"
   ]
  },
  {
   "cell_type": "code",
   "execution_count": 13,
   "metadata": {},
   "outputs": [],
   "source": [
    "key_to_check = \"Landmark 81\"\n",
    " \n",
    "if key_to_check in building_heights:\n",
    "    print(building_heights[\"Landmark 81\"])"
   ]
  },
  {
   "cell_type": "markdown",
   "metadata": {},
   "source": [
    "This will not throw an error, because key_to_check in building_heights will return False, and so we never try to access the key.\n",
    "\n"
   ]
  },
  {
   "cell_type": "markdown",
   "metadata": {},
   "source": [
    "## Applications\n",
    "1.\n",
    "Run the code. It should throw a KeyError! \"energy\" does not exist as one of the elements."
   ]
  },
  {
   "cell_type": "code",
   "execution_count": 14,
   "metadata": {},
   "outputs": [
    {
     "ename": "KeyError",
     "evalue": "'energy'",
     "output_type": "error",
     "traceback": [
      "\u001b[1;31m---------------------------------------------------------------------------\u001b[0m",
      "\u001b[1;31mKeyError\u001b[0m                                  Traceback (most recent call last)",
      "\u001b[1;32m<ipython-input-14-d536d76b6bc7>\u001b[0m in \u001b[0;36m<module>\u001b[1;34m\u001b[0m\n\u001b[0;32m      4\u001b[0m                    \"air\":[\"Gemini\", \"Libra\", \"Aquarius\"]}\n\u001b[0;32m      5\u001b[0m \u001b[1;33m\u001b[0m\u001b[0m\n\u001b[1;32m----> 6\u001b[1;33m \u001b[0mprint\u001b[0m\u001b[1;33m(\u001b[0m\u001b[0mzodiac_elements\u001b[0m\u001b[1;33m[\u001b[0m\u001b[1;34m\"energy\"\u001b[0m\u001b[1;33m]\u001b[0m\u001b[1;33m)\u001b[0m\u001b[1;33m\u001b[0m\u001b[1;33m\u001b[0m\u001b[0m\n\u001b[0m",
      "\u001b[1;31mKeyError\u001b[0m: 'energy'"
     ]
    }
   ],
   "source": [
    "zodiac_elements = {\"water\": [\"Cancer\", \"Scorpio\", \"Pisces\"], \n",
    "                   \"fire\": [\"Aries\", \"Leo\", \"Sagittarius\"], \n",
    "                   \"earth\": [\"Taurus\", \"Virgo\", \"Capricorn\"], \n",
    "                   \"air\":[\"Gemini\", \"Libra\", \"Aquarius\"]}\n",
    "\n",
    "print(zodiac_elements[\"energy\"])\n"
   ]
  },
  {
   "cell_type": "markdown",
   "metadata": {},
   "source": [
    "2.\n",
    "Add the key \"energy\" to the zodiac_elements. It should map to a value of \"Not a Zodiac element\". Run the code. Did this resolve the KeyError?"
   ]
  },
  {
   "cell_type": "code",
   "execution_count": 15,
   "metadata": {},
   "outputs": [
    {
     "name": "stdout",
     "output_type": "stream",
     "text": [
      "{'water': ['Cancer', 'Scorpio', 'Pisces'], 'fire': ['Aries', 'Leo', 'Sagittarius'], 'earth': ['Taurus', 'Virgo', 'Capricorn'], 'air': ['Gemini', 'Libra', 'Aquarius'], 'energy': 'Not a Zodiac element'}\n"
     ]
    }
   ],
   "source": [
    "#code here\n",
    "zodiac_elements[\"energy\"]= \"Not a Zodiac element\"\n",
    "print(zodiac_elements)"
   ]
  },
  {
   "cell_type": "markdown",
   "metadata": {},
   "source": [
    "#### Possible question"
   ]
  },
  {
   "cell_type": "markdown",
   "metadata": {},
   "source": [
    "Will an error always occur when trying to access a key that doesn’t exist?"
   ]
  },
  {
   "cell_type": "markdown",
   "metadata": {},
   "source": [
    "#### Possible Answer\n",
    "Yes, an error will always be generated so care must be taken to check that the key exists OR exception handling must be used to handle an exception generated by the invalid key. If iterating over the keys in a dictionary provided by the keys() function, then it is safe to assume the key exists."
   ]
  },
  {
   "cell_type": "markdown",
   "metadata": {},
   "source": [
    "## Try/Except to Get a Key\n",
    "We saw that we can avoid KeyErrors by checking if a key is in a dictionary first. Another method we could use is a try/except:"
   ]
  },
  {
   "cell_type": "code",
   "execution_count": 17,
   "metadata": {},
   "outputs": [
    {
     "name": "stdout",
     "output_type": "stream",
     "text": [
      "That key doesn't exist!\n",
      "828\n"
     ]
    }
   ],
   "source": [
    "key_to_check = \"Landmark 81\"\n",
    "try:\n",
    "    print(building_heights[key_to_check])\n",
    "except KeyError:\n",
    "    print(\"That key doesn't exist!\")\n",
    "    \n",
    "    \n",
    "print(building_heights[\"Burj Khalifa\"])"
   ]
  },
  {
   "cell_type": "code",
   "execution_count": 19,
   "metadata": {},
   "outputs": [
    {
     "name": "stdout",
     "output_type": "stream",
     "text": [
      "That key doesn't exist!\n"
     ]
    }
   ],
   "source": [
    "key_to_check = \"Landmark 81\"\n",
    "if key_to_check in building_heights:\n",
    "    print(building_heights[\"Landmark 81\"])\n",
    "else:\n",
    "    print(\"That key doesn't exist!\")"
   ]
  },
  {
   "cell_type": "markdown",
   "metadata": {},
   "source": [
    "When we try to access a key that doesn’t exist, the program will go into the except block and print \"That key doesn't exist!\"."
   ]
  },
  {
   "cell_type": "markdown",
   "metadata": {},
   "source": [
    "#### Application\n",
    "1.\n",
    "Use a try block to try to print the caffeine level of \"matcha\". If there is a KeyError, print \"Unknown Caffeine Level\"."
   ]
  },
  {
   "cell_type": "code",
   "execution_count": 21,
   "metadata": {},
   "outputs": [],
   "source": [
    "caffeine_level = {\"espresso\": 64, \"chai\": 40, \"decaf\": 0, \"drip\": 120}"
   ]
  },
  {
   "cell_type": "code",
   "execution_count": 22,
   "metadata": {},
   "outputs": [
    {
     "name": "stdout",
     "output_type": "stream",
     "text": [
      "Unknown Caffeine Level\n"
     ]
    }
   ],
   "source": [
    "#Code here\n",
    "key_to_check = \"matcha\"\n",
    "try:\n",
    "    print(caffeine_level[key_to_check])\n",
    "except KeyError:\n",
    "    print(\"Unknown Caffeine Level\")\n",
    " "
   ]
  },
  {
   "cell_type": "markdown",
   "metadata": {},
   "source": [
    "2.\n",
    "Above the try block, add \"matcha\" to the dictionary with a value of 30."
   ]
  },
  {
   "cell_type": "code",
   "execution_count": 23,
   "metadata": {},
   "outputs": [
    {
     "name": "stdout",
     "output_type": "stream",
     "text": [
      "{'espresso': 64, 'chai': 40, 'decaf': 0, 'drip': 120, 'matcha': 30}\n"
     ]
    }
   ],
   "source": [
    "#Code here\n",
    "caffeine_level[\"matcha\"] = 30\n",
    "print(caffeine_level)"
   ]
  },
  {
   "cell_type": "markdown",
   "metadata": {},
   "source": [
    "#### Possible question\n",
    "How can I determine the invalid key when handling a KeyError exception?\n",
    "\n",
    "#### Possible Answer with an example\n",
    "Yes, the invalid key can be determined from the KeyError exception. The KeyError class has variables which can be examined for the key, but the simplest method is to use the str() function to convert the KeyError into a string which will contain the key. The following example shows an attempt to access a key not in the dictionary resulting in an exception.\n"
   ]
  },
  {
   "cell_type": "code",
   "execution_count": 26,
   "metadata": {},
   "outputs": [
    {
     "name": "stdout",
     "output_type": "stream",
     "text": [
      "Key 'Utah' does not exist\n"
     ]
    }
   ],
   "source": [
    "population = {\"California\": {\"Los Angeles\": 3971883,\n",
    "                             \"San Diego\": 1394928,\n",
    "                             \"San Jose\": 1026908},\n",
    "              \"Texas\": {\"Houston\": 2296224,\n",
    "                        \"San Antonio\": 1469845}\n",
    "              }\n",
    "\n",
    "\n",
    "\n",
    "try:\n",
    "    utah_list = population['Utah']\n",
    "\n",
    "except KeyError as k:\n",
    "    print(\"Key \" + str(k) + \" does not exist\")"
   ]
  },
  {
   "cell_type": "markdown",
   "metadata": {},
   "source": [
    "## Safely Get a Key\n",
    "We saw in the last exercise that we had to add a key:value pair to a dictionary in order to avoid a KeyError. This solution is not sustainable. We can’t predict every key a user may call and add all of those placeholder values to our dictionary!\n",
    "\n",
    "Dictionaries have a .get() method to search for a value instead of the my_dict[key] notation we have been using. If the key you are trying to .get() does not exist, it will return None by default:"
   ]
  },
  {
   "cell_type": "code",
   "execution_count": 30,
   "metadata": {},
   "outputs": [
    {
     "name": "stdout",
     "output_type": "stream",
     "text": [
      "632\n",
      "None\n"
     ]
    }
   ],
   "source": [
    "building_heights = {\"Burj Khalifa\": 828, \n",
    "                    \"Shanghai Tower\": 632, \n",
    "                    \"Abraj Al Bait\": 601, \n",
    "                    \"Ping An\": 599, \n",
    "                    \"Lotte World Tower\": 554.5, \n",
    "                    \"One World Trade\": 541.3}\n",
    " \n",
    "#this line will return 632:\n",
    "print(building_heights.get(\"Shanghai Tower\"))\n",
    " \n",
    "#this line will return None:\n",
    "print(building_heights.get(\"My House\"))"
   ]
  },
  {
   "cell_type": "markdown",
   "metadata": {},
   "source": [
    "You can also specify a value to return if the key doesn’t exist. For example, we might want to return a building height of 0 if our desired building is not in the dictionary:"
   ]
  },
  {
   "cell_type": "code",
   "execution_count": 33,
   "metadata": {},
   "outputs": [
    {
     "data": {
      "text/plain": [
       "632"
      ]
     },
     "execution_count": 33,
     "metadata": {},
     "output_type": "execute_result"
    }
   ],
   "source": [
    "building_heights.get('Shanghai Tower', 0)\n",
    "##632"
   ]
  },
  {
   "cell_type": "code",
   "execution_count": 35,
   "metadata": {},
   "outputs": [
    {
     "data": {
      "text/plain": [
       "'This key does not exist'"
      ]
     },
     "execution_count": 35,
     "metadata": {},
     "output_type": "execute_result"
    }
   ],
   "source": [
    "building_heights.get('Mt Olympus', \"\")\n",
    "#0"
   ]
  },
  {
   "cell_type": "code",
   "execution_count": 37,
   "metadata": {},
   "outputs": [
    {
     "name": "stdout",
     "output_type": "stream",
     "text": [
      "Ping An\n"
     ]
    }
   ],
   "source": [
    "print(building_heights.get('Mt Olympus',\"Ping An\"))"
   ]
  },
  {
   "cell_type": "code",
   "execution_count": 38,
   "metadata": {},
   "outputs": [
    {
     "data": {
      "text/plain": [
       "'No Value'"
      ]
     },
     "execution_count": 38,
     "metadata": {},
     "output_type": "execute_result"
    }
   ],
   "source": [
    "building_heights.get('Kilimanjaro', 'No Value')\n",
    "#'No Value"
   ]
  },
  {
   "cell_type": "markdown",
   "metadata": {},
   "source": [
    "#### Applications\n",
    "\n",
    "1.\n",
    "Use .get() to get the value of \"teraCoder\"‘s user ID, with 100000 as a default value if the user doesn’t exist. Store it in a variable called tc_id. Print tc_id to the console."
   ]
  },
  {
   "cell_type": "code",
   "execution_count": 40,
   "metadata": {},
   "outputs": [],
   "source": [
    "user_ids = {\"teraCoder\": 100019, \"pythonGuy\": 182921, \"samTheJavaMaam\": 123112, \"lyleLoop\": 102931, \"keysmithKeith\": 129384}"
   ]
  },
  {
   "cell_type": "code",
   "execution_count": 41,
   "metadata": {},
   "outputs": [
    {
     "name": "stdout",
     "output_type": "stream",
     "text": [
      "100019\n"
     ]
    }
   ],
   "source": [
    "# code here\n",
    "tc_id = user_ids.get(\"teraCoder\", 100000)\n",
    "print(tc_id)"
   ]
  },
  {
   "cell_type": "markdown",
   "metadata": {},
   "source": [
    "2.\n",
    "Use .get() to get the value of \"superStackSmash\"‘s user ID, with 100000 as a default value if the user doesn’t exist. Store it in a variable called stack_id. Print stack_id to the console."
   ]
  },
  {
   "cell_type": "code",
   "execution_count": 42,
   "metadata": {},
   "outputs": [
    {
     "name": "stdout",
     "output_type": "stream",
     "text": [
      "100000\n"
     ]
    }
   ],
   "source": [
    "# code here\n",
    "\n",
    "stack_id = user_ids.get(\"superStackSmash\", 100000)\n",
    "print(stack_id)"
   ]
  },
  {
   "cell_type": "markdown",
   "metadata": {},
   "source": [
    "## Delete a Key\n",
    "Sometimes we want to get a key and remove it from the dictionary. Imagine we were running a raffle, and we have this dictionary mapping ticket numbers to prizes:"
   ]
  },
  {
   "cell_type": "code",
   "execution_count": 43,
   "metadata": {},
   "outputs": [],
   "source": [
    "raffle = {223842: \"Teddy Bear\", 872921: \"Concert Tickets\", 320291: \"Gift Basket\", 412123: \"Necklace\", 298787: \"Pasta Maker\"}"
   ]
  },
  {
   "cell_type": "markdown",
   "metadata": {},
   "source": [
    "When we get a ticket number, we want to return the prize and also remove that pair from the dictionary, since the prize has been given away. We can use .pop() to do this. Just like with .get(), we can provide a default value to return if the key does not exist in the dictionary:"
   ]
  },
  {
   "cell_type": "code",
   "execution_count": 44,
   "metadata": {},
   "outputs": [
    {
     "data": {
      "text/plain": [
       "'Gift Basket'"
      ]
     },
     "execution_count": 44,
     "metadata": {},
     "output_type": "execute_result"
    }
   ],
   "source": [
    "raffle.pop(320291, \"No Prize\")\n"
   ]
  },
  {
   "cell_type": "code",
   "execution_count": 45,
   "metadata": {},
   "outputs": [
    {
     "name": "stdout",
     "output_type": "stream",
     "text": [
      "{223842: 'Teddy Bear', 872921: 'Concert Tickets', 412123: 'Necklace', 298787: 'Pasta Maker'}\n"
     ]
    }
   ],
   "source": [
    "print(raffle)"
   ]
  },
  {
   "cell_type": "code",
   "execution_count": 51,
   "metadata": {},
   "outputs": [
    {
     "data": {
      "text/plain": [
       "'no prize'"
      ]
     },
     "execution_count": 51,
     "metadata": {},
     "output_type": "execute_result"
    }
   ],
   "source": [
    "raffle.pop(100000, \"no prize\")\n"
   ]
  },
  {
   "cell_type": "code",
   "execution_count": 47,
   "metadata": {},
   "outputs": [
    {
     "name": "stdout",
     "output_type": "stream",
     "text": [
      "{223842: 'Teddy Bear', 872921: 'Concert Tickets', 412123: 'Necklace', 298787: 'Pasta Maker'}\n"
     ]
    }
   ],
   "source": [
    "print(raffle)"
   ]
  },
  {
   "cell_type": "code",
   "execution_count": 48,
   "metadata": {},
   "outputs": [
    {
     "data": {
      "text/plain": [
       "'Concert Tickets'"
      ]
     },
     "execution_count": 48,
     "metadata": {},
     "output_type": "execute_result"
    }
   ],
   "source": [
    "raffle.pop(872921, \"No Prize\")\n"
   ]
  },
  {
   "cell_type": "code",
   "execution_count": 49,
   "metadata": {},
   "outputs": [
    {
     "name": "stdout",
     "output_type": "stream",
     "text": [
      "{223842: 'Teddy Bear', 412123: 'Necklace', 298787: 'Pasta Maker'}\n"
     ]
    }
   ],
   "source": [
    "print(raffle)"
   ]
  },
  {
   "cell_type": "markdown",
   "metadata": {},
   "source": [
    ".pop() works to delete items from a dictionary, when you know the key value."
   ]
  },
  {
   "cell_type": "markdown",
   "metadata": {},
   "source": [
    "#### Applications\n",
    "1.\n",
    "You are designing the video game Big Rock Adventure. We have provided a dictionary of items that are in the player’s inventory which add points to their health meter. In one line, add the corresponding value of the key \"stamina grains\" to the health_points variable and remove the item \"stamina grains\" from the dictionary. If the key does not exist, add 0 to health_points."
   ]
  },
  {
   "cell_type": "code",
   "execution_count": 52,
   "metadata": {},
   "outputs": [],
   "source": [
    "available_items = {\"health potion\": 10, \n",
    "                   \"cake of the cure\": 5, \n",
    "                   \"green elixir\": 20, \n",
    "                   \"strength sandwich\": 25, \n",
    "                   \"stamina grains\": 15, \n",
    "                   \"power stew\": 30}\n",
    "\n",
    "health_points = 20"
   ]
  },
  {
   "cell_type": "code",
   "execution_count": 53,
   "metadata": {},
   "outputs": [
    {
     "name": "stdout",
     "output_type": "stream",
     "text": [
      "35\n"
     ]
    }
   ],
   "source": [
    "#Code here\n",
    "health_points += available_items.pop(\"stamina grains\",0)\n",
    "print(health_points)"
   ]
  },
  {
   "cell_type": "code",
   "execution_count": 54,
   "metadata": {},
   "outputs": [
    {
     "name": "stdout",
     "output_type": "stream",
     "text": [
      "{'health potion': 10, 'cake of the cure': 5, 'green elixir': 20, 'strength sandwich': 25, 'power stew': 30}\n"
     ]
    }
   ],
   "source": [
    "print(available_items)"
   ]
  },
  {
   "cell_type": "markdown",
   "metadata": {},
   "source": [
    "2.\n",
    "In one line, add the value of \"power stew\" to health_points and remove the item from the dictionary. If the key does not exist, add 0 to health_points."
   ]
  },
  {
   "cell_type": "code",
   "execution_count": 55,
   "metadata": {},
   "outputs": [
    {
     "name": "stdout",
     "output_type": "stream",
     "text": [
      "65\n"
     ]
    }
   ],
   "source": [
    "#Code here\n",
    "health_points += available_items.pop(\"power stew\",0)\n",
    "print(health_points)"
   ]
  },
  {
   "cell_type": "code",
   "execution_count": 57,
   "metadata": {},
   "outputs": [
    {
     "name": "stdout",
     "output_type": "stream",
     "text": [
      "{'health potion': 10, 'cake of the cure': 5, 'green elixir': 20, 'strength sandwich': 25}\n"
     ]
    }
   ],
   "source": [
    "print(available_items)"
   ]
  },
  {
   "cell_type": "markdown",
   "metadata": {},
   "source": [
    "3.\n",
    "In one line, add the value of \"mystic bread\" to health_points and remove the item from the dictionary. If the key does not exist, add 0 to health_points."
   ]
  },
  {
   "cell_type": "code",
   "execution_count": 58,
   "metadata": {},
   "outputs": [
    {
     "name": "stdout",
     "output_type": "stream",
     "text": [
      "65\n"
     ]
    }
   ],
   "source": [
    "#Code here\n",
    "health_points += available_items.pop(\"mystic bread\",0)\n",
    "print(health_points)"
   ]
  },
  {
   "cell_type": "markdown",
   "metadata": {},
   "source": [
    "4. Print available_items and health_points.\n",
    "\n"
   ]
  },
  {
   "cell_type": "code",
   "execution_count": 59,
   "metadata": {},
   "outputs": [
    {
     "name": "stdout",
     "output_type": "stream",
     "text": [
      "{'health potion': 10, 'cake of the cure': 5, 'green elixir': 20, 'strength sandwich': 25}\n"
     ]
    }
   ],
   "source": [
    "print(available_items)"
   ]
  },
  {
   "cell_type": "markdown",
   "metadata": {},
   "source": [
    "#### Possible Question\n",
    "Does the dictionary pop() method return an error if the key is not present?\n",
    "\n",
    "\n",
    "#### Possible Answer\n",
    "Yes, if the pop() method is called on a key that is not present in the dictionary and NO default value is provided in the pop() call, then the method will raise a KeyError exception."
   ]
  },
  {
   "cell_type": "code",
   "execution_count": 61,
   "metadata": {},
   "outputs": [
    {
     "data": {
      "text/plain": [
       "0"
      ]
     },
     "execution_count": 61,
     "metadata": {},
     "output_type": "execute_result"
    }
   ],
   "source": [
    "available_items.pop(\"mystic bread\", 0)"
   ]
  },
  {
   "cell_type": "markdown",
   "metadata": {},
   "source": [
    "## Get All Keys\n",
    "Sometimes we want to operate on all of the keys in a dictionary. For example, if we have a dictionary of students in a math class and their grades:"
   ]
  },
  {
   "cell_type": "code",
   "execution_count": 63,
   "metadata": {},
   "outputs": [],
   "source": [
    "test_scores = {\"Grace\":[80, 72, 90], \n",
    "               \"Jeffrey\":[88, 68, 81], \n",
    "               \"Sylvia\":[80, 82, 84], \n",
    "               \"Pedro\":[98, 96, 95], \n",
    "               \"Martin\":[78, 80, 78], \n",
    "               \"Dina\":[64, 60, 75]}\n",
    "\n"
   ]
  },
  {
   "cell_type": "markdown",
   "metadata": {},
   "source": [
    "We want to get a roster of the students in the class, without including their grades. We can do this with the built-in list() function:"
   ]
  },
  {
   "cell_type": "code",
   "execution_count": 64,
   "metadata": {},
   "outputs": [
    {
     "name": "stdout",
     "output_type": "stream",
     "text": [
      "['Grace', 'Jeffrey', 'Sylvia', 'Pedro', 'Martin', 'Dina']\n"
     ]
    }
   ],
   "source": [
    "print(list(test_scores))"
   ]
  },
  {
   "cell_type": "markdown",
   "metadata": {},
   "source": [
    "Dictionaries also have a .keys() method that returns a dict_keys object. A dict_keys object is a view object, which provides a look at the current state of the dictionary, without the user being able to modify anything. The dict_keys object returned by .keys() is a set of the keys in the dictionary. You cannot add or remove elements from a dict_keys object, but it can be used in the place of a list for iteration:"
   ]
  },
  {
   "cell_type": "code",
   "execution_count": 65,
   "metadata": {},
   "outputs": [
    {
     "name": "stdout",
     "output_type": "stream",
     "text": [
      "Grace\n",
      "Jeffrey\n",
      "Sylvia\n",
      "Pedro\n",
      "Martin\n",
      "Dina\n"
     ]
    }
   ],
   "source": [
    "for student in test_scores.keys():\n",
    "    print(student)"
   ]
  },
  {
   "cell_type": "markdown",
   "metadata": {},
   "source": [
    "will yield:\n",
    "\n",
    "\"Grace\"\n",
    "\n",
    "\"Jeffrey\"\n",
    "\n",
    "\"Sylvia\"\n",
    "\n",
    "\"Pedro\"\n",
    "\n",
    "\"Martin\"\n",
    "\n",
    "\"Dina\""
   ]
  },
  {
   "cell_type": "markdown",
   "metadata": {},
   "source": [
    "## Applications \n",
    "1.\n",
    "Create a variable called users and assign it to be a dict_keys object of all of the keys of the user_ids dictionary."
   ]
  },
  {
   "cell_type": "code",
   "execution_count": 67,
   "metadata": {},
   "outputs": [],
   "source": [
    "user_ids = {\"teraCoder\": 100019, \n",
    "            \"pythonGuy\": 182921, \n",
    "            \"samTheJavaMaam\": 123112, \n",
    "            \"lyleLoop\": 102931, \n",
    "            \"keysmithKeith\": 129384}\n",
    "\n",
    "num_exercises = {\"functions\": 10, \n",
    "                 \"syntax\": 13, \n",
    "                 \"control flow\": 15, \n",
    "                 \"loops\": 22, \"lists\": 19, \n",
    "                 \"classes\": 18, \n",
    "                 \"dictionaries\": 18}\n"
   ]
  },
  {
   "cell_type": "code",
   "execution_count": 68,
   "metadata": {},
   "outputs": [],
   "source": [
    "#Code here\n",
    "users = user_ids.keys()\n"
   ]
  },
  {
   "cell_type": "code",
   "execution_count": null,
   "metadata": {},
   "outputs": [],
   "source": [
    "for users in user_ids.keys():\n",
    "    print(users)"
   ]
  },
  {
   "cell_type": "markdown",
   "metadata": {},
   "source": [
    "2.\n",
    "Create a variable called lessons and assign it to be a dict_keys object of all of the keys of the num_exercises dictionary."
   ]
  },
  {
   "cell_type": "code",
   "execution_count": 70,
   "metadata": {},
   "outputs": [],
   "source": [
    "#Code here\n",
    "lessons = num_exercises.keys()\n"
   ]
  },
  {
   "cell_type": "code",
   "execution_count": null,
   "metadata": {},
   "outputs": [],
   "source": [
    "3.\n",
    "Print users to the console."
   ]
  },
  {
   "cell_type": "code",
   "execution_count": 71,
   "metadata": {},
   "outputs": [
    {
     "name": "stdout",
     "output_type": "stream",
     "text": [
      "dict_keys(['teraCoder', 'pythonGuy', 'samTheJavaMaam', 'lyleLoop', 'keysmithKeith'])\n"
     ]
    }
   ],
   "source": [
    "#Code here\n",
    "print(users)"
   ]
  },
  {
   "cell_type": "code",
   "execution_count": null,
   "metadata": {},
   "outputs": [],
   "source": [
    "4.\n",
    "Print lessons to the console."
   ]
  },
  {
   "cell_type": "code",
   "execution_count": 74,
   "metadata": {},
   "outputs": [
    {
     "name": "stdout",
     "output_type": "stream",
     "text": [
      "['classes', 'control flow', 'dictionaries', 'functions', 'lists', 'loops', 'syntax']\n"
     ]
    }
   ],
   "source": [
    "#Code here\n",
    "print(sorted(lessons))"
   ]
  },
  {
   "cell_type": "markdown",
   "metadata": {},
   "source": [
    "#### Possiblle question\n",
    "Does the dictionary keys() function return the keys in any specific order?\n",
    "\n",
    "#### Possible answer\n",
    "\n",
    "No, there is no guaranteed order for the list of keys returned by the keys() function. In most cases, the key list is returned in the same order as the insertion, however, that behavior is NOT guaranteed and should not be depended on by your program. A common practice is to pass keys() to the sorted() function to ensure that the list of keys is sorted before iteration."
   ]
  },
  {
   "cell_type": "markdown",
   "metadata": {},
   "source": [
    "## Get All Values \n",
    "Dictionaries have a .values() method that returns a dict_values object (just like a dict_keys object but for values!) with all of the values in the dictionary. It can be used in the place of a list for iteration:"
   ]
  },
  {
   "cell_type": "code",
   "execution_count": 77,
   "metadata": {},
   "outputs": [
    {
     "name": "stdout",
     "output_type": "stream",
     "text": [
      "[80, 72, 90]\n",
      "[88, 68, 81]\n",
      "[80, 82, 84]\n",
      "[98, 96, 95]\n",
      "[78, 80, 78]\n",
      "[64, 60, 75]\n"
     ]
    }
   ],
   "source": [
    "test_scores = {\"Grace\":[80, 72, 90], \n",
    "               \"Jeffrey\":[88, 68, 81], \n",
    "               \"Sylvia\":[80, 82, 84], \n",
    "               \"Pedro\":[98, 96, 95], \n",
    "               \"Martin\":[78, 80, 78], \n",
    "               \"Dina\":[64, 60, 75]}\n",
    " \n",
    "for score_list in test_scores.values():\n",
    "    print(score_list)"
   ]
  },
  {
   "cell_type": "markdown",
   "metadata": {},
   "source": [
    "There is no built-in function to get all of the values as a list, but if you really want to, you can use:"
   ]
  },
  {
   "cell_type": "code",
   "execution_count": 78,
   "metadata": {},
   "outputs": [
    {
     "data": {
      "text/plain": [
       "[[80, 72, 90],\n",
       " [88, 68, 81],\n",
       " [80, 82, 84],\n",
       " [98, 96, 95],\n",
       " [78, 80, 78],\n",
       " [64, 60, 75]]"
      ]
     },
     "execution_count": 78,
     "metadata": {},
     "output_type": "execute_result"
    }
   ],
   "source": [
    "list(test_scores.values())"
   ]
  },
  {
   "cell_type": "markdown",
   "metadata": {},
   "source": [
    "However, for most purposes, the dict_list object will act the way you want a list to act."
   ]
  },
  {
   "cell_type": "markdown",
   "metadata": {},
   "source": [
    "#### Applications\n",
    "1.\n",
    "Create a variable called total_exercises and set it equal to 0."
   ]
  },
  {
   "cell_type": "code",
   "execution_count": 87,
   "metadata": {},
   "outputs": [],
   "source": [
    "num_exercises = {\"functions\": 10, \n",
    "                 \"syntax\": 13, \n",
    "                 \"control flow\": 15, \n",
    "                 \"loops\": 22, \n",
    "                 \"lists\": 19, \n",
    "                 \"classes\": 18, \n",
    "                 \"dictionaries\": 18}"
   ]
  },
  {
   "cell_type": "code",
   "execution_count": 93,
   "metadata": {},
   "outputs": [],
   "source": [
    "#code here\n",
    "total_exercises = 0"
   ]
  },
  {
   "cell_type": "markdown",
   "metadata": {},
   "source": [
    "2.\n",
    "Iterate through the values in the num_exercises list and add each value to the total_exercises variable."
   ]
  },
  {
   "cell_type": "code",
   "execution_count": 94,
   "metadata": {},
   "outputs": [],
   "source": [
    "#code here\n",
    "for exercises in num_exercises.values():\n",
    "    total_exercises += exercises\n",
    "    "
   ]
  },
  {
   "cell_type": "markdown",
   "metadata": {},
   "source": [
    "3. \n",
    "Print the total_exercises variable to the console."
   ]
  },
  {
   "cell_type": "code",
   "execution_count": 95,
   "metadata": {},
   "outputs": [
    {
     "name": "stdout",
     "output_type": "stream",
     "text": [
      "92\n"
     ]
    }
   ],
   "source": [
    "#code here\n",
    "print(total_exercises)"
   ]
  },
  {
   "cell_type": "markdown",
   "metadata": {},
   "source": [
    "#### Possible question\n",
    "Can the data from the dictionary values() be used for thing other than iteration?\n",
    "\n",
    "#### Possible answer with an example\n",
    "\n",
    "\n",
    "The results from values() are not just for iteration. They can be used in any way that a list can. In the following example code, the values from a dictionary are passed to functions which can determine the minimum, maximum, and total values of the data."
   ]
  },
  {
   "cell_type": "code",
   "execution_count": 96,
   "metadata": {},
   "outputs": [
    {
     "name": "stdout",
     "output_type": "stream",
     "text": [
      "6393719\n",
      "3971883\n",
      "1026908\n"
     ]
    }
   ],
   "source": [
    "cities = {\"Los Angeles\": 3971883,\n",
    "          \"San Diego\": 1394928,\n",
    "          \"San Jose\": 1026908}\n",
    "\n",
    "print(sum(cities.values()))\n",
    "print(max(cities.values()))\n",
    "print(min(cities.values()))"
   ]
  },
  {
   "cell_type": "markdown",
   "metadata": {},
   "source": [
    "## Get All Items\n",
    "You can get both the keys and the values with the .items() method. Like .keys() and .values(), it returns a dict_list object. Each element of the dict_list returned by .items() is a tuple consisting of:"
   ]
  },
  {
   "cell_type": "code",
   "execution_count": 97,
   "metadata": {},
   "outputs": [],
   "source": [
    "#(key, value)\n"
   ]
  },
  {
   "cell_type": "markdown",
   "metadata": {},
   "source": [
    "so to iterate through, you can use this syntax:"
   ]
  },
  {
   "cell_type": "code",
   "execution_count": 98,
   "metadata": {},
   "outputs": [
    {
     "name": "stdout",
     "output_type": "stream",
     "text": [
      "Apple has a value of 184 billion dollars. \n",
      "Google has a value of 141.7 billion dollars. \n",
      "Microsoft has a value of 80 billion dollars. \n",
      "Coca-Cola has a value of 69.7 billion dollars. \n",
      "Amazon has a value of 64.8 billion dollars. \n"
     ]
    }
   ],
   "source": [
    "biggest_brands = {\"Apple\": 184, \"Google\": 141.7, \"Microsoft\": 80, \"Coca-Cola\": 69.7, \"Amazon\": 64.8}\n",
    " \n",
    "for company, value in biggest_brands.items():\n",
    "    print(company + \" has a value of \" + str(value) + \" billion dollars. \")"
   ]
  },
  {
   "cell_type": "markdown",
   "metadata": {},
   "source": [
    "#### Applications\n",
    "1.\n",
    "Use a for loop to iterate through the items of pct_women_in_occupation. For each key : value pair, print out a string that looks like:\n",
    "\n",
    "Women make up [value] percent of [key]s."
   ]
  },
  {
   "cell_type": "code",
   "execution_count": 99,
   "metadata": {},
   "outputs": [],
   "source": [
    "pct_women_in_occupation = {\"CEO\": 28, \n",
    "                           \"Engineering Manager\": 9, \n",
    "                           \"Pharmacist\": 58, \n",
    "                           \"Physician\": 40, \n",
    "                           \"Lawyer\": 37, \n",
    "                           \"Aerospace Engineer\": 9}"
   ]
  },
  {
   "cell_type": "code",
   "execution_count": 102,
   "metadata": {},
   "outputs": [
    {
     "name": "stdout",
     "output_type": "stream",
     "text": [
      "Women make up 28 percent of CEOs.\n",
      "Women make up 9 percent of Engineering Managers.\n",
      "Women make up 58 percent of Pharmacists.\n",
      "Women make up 40 percent of Physicians.\n",
      "Women make up 37 percent of Lawyers.\n",
      "Women make up 9 percent of Aerospace Engineers.\n"
     ]
    }
   ],
   "source": [
    "for key, value in pct_women_in_occupation.items():\n",
    "    print(\"Women make up \" + str(value)+ \" percent of \" + str(key) +\"s.\")"
   ]
  },
  {
   "cell_type": "markdown",
   "metadata": {},
   "source": [
    "## Review\n",
    "In this lesson, you’ve learned how to go through dictionaries and access keys and values in different ways. Specifically you have seen how to:\n",
    "\n",
    "- Use a key to get a value from a dictionary\n",
    "- Check for existence of keys\n",
    "- Find the length of a dictionary\n",
    "- Remove a key: value pair from a dictionary\n",
    "- Iterate through keys and values in dictionaries"
   ]
  },
  {
   "cell_type": "markdown",
   "metadata": {},
   "source": [
    "## Aplications\n",
    "1.\n",
    "We have provided a pack of tarot cards, tarot. You are going to do a three card spread of your past, present, and future.\n",
    "\n",
    "Create an empty dictionary called spread."
   ]
  },
  {
   "cell_type": "code",
   "execution_count": 103,
   "metadata": {},
   "outputs": [],
   "source": [
    "tarot = { 1:\"The Magician\", 2:\"The High Priestess\", 3:\"The Empress\", \n",
    "         4:\"The Emperor\", 5:\"The Hierophant\", 6:\"The Lovers\", \n",
    "         7:\"The Chariot\", 8:\"Strength\", 9:\"The Hermit\", \n",
    "         10:\"Wheel of Fortune\", 11:\"Justice\", 12:\"The Hanged Man\", \n",
    "         13:\"Death\", 14:\"Temperance\", 15:\"The Devil\", \n",
    "         16:\"The Tower\", 17:\"The Star\", 18:\"The Moon\", \n",
    "         19:\"The Sun\", 20:\"Judgement\", 21:\"The World\", 22: \"The Fool\"}"
   ]
  },
  {
   "cell_type": "code",
   "execution_count": 104,
   "metadata": {},
   "outputs": [],
   "source": [
    "spread = {}"
   ]
  },
  {
   "cell_type": "markdown",
   "metadata": {},
   "source": [
    "2. The first card you draw is card 13. Pop the value assigned to the key 13 out of the tarot dictionary and assign it as the value of the \"past\" key of spread.\n",
    "\n"
   ]
  },
  {
   "cell_type": "code",
   "execution_count": 105,
   "metadata": {},
   "outputs": [],
   "source": [
    "# code here\n",
    "spread[\"past\"] = tarot.pop(13)"
   ]
  },
  {
   "cell_type": "markdown",
   "metadata": {},
   "source": [
    "3. The second card you draw is card 22. Pop the value assigned to the key 22 out of the tarot dictionary and assign it as the value of the \"present\" key of spread.\n",
    "\n"
   ]
  },
  {
   "cell_type": "code",
   "execution_count": 106,
   "metadata": {},
   "outputs": [],
   "source": [
    "# code here\n",
    "spread[\"present\"] = tarot.pop(22)"
   ]
  },
  {
   "cell_type": "markdown",
   "metadata": {},
   "source": [
    "4. The third card you draw is card 10. Pop the value assigned to the key 10 out of the tarot dictionary and assign it as the value of the \"future\" key of spread.\n",
    "\n"
   ]
  },
  {
   "cell_type": "code",
   "execution_count": 107,
   "metadata": {},
   "outputs": [],
   "source": [
    "# code here\n",
    "spread[\"future\"] = tarot.pop(10)"
   ]
  },
  {
   "cell_type": "code",
   "execution_count": 108,
   "metadata": {},
   "outputs": [
    {
     "name": "stdout",
     "output_type": "stream",
     "text": [
      "{'past': 'Death', 'present': 'The Fool', 'future': 'Wheel of Fortune'}\n"
     ]
    }
   ],
   "source": [
    "print(spread)"
   ]
  },
  {
   "cell_type": "markdown",
   "metadata": {},
   "source": [
    "5. Iterate through the items in the spread dictionary and for each key: value pair, print out a string that says:\n",
    "        \n",
    "Your {key} is the {value} card."
   ]
  },
  {
   "cell_type": "code",
   "execution_count": 111,
   "metadata": {
    "scrolled": true
   },
   "outputs": [
    {
     "name": "stdout",
     "output_type": "stream",
     "text": [
      "Your past is the Death\n",
      "Your present is the The Fool\n",
      "Your future is the Wheel of Fortune\n"
     ]
    }
   ],
   "source": [
    "for key, value in spread.items():\n",
    "    print(\"Your\",key, \"is the\" , value)"
   ]
  },
  {
   "cell_type": "code",
   "execution_count": 114,
   "metadata": {},
   "outputs": [
    {
     "name": "stdout",
     "output_type": "stream",
     "text": [
      "Your past is the Death card.\n",
      "Your present is the The Fool card.\n",
      "Your future is the Wheel of Fortune card.\n"
     ]
    }
   ],
   "source": [
    "for tense,match in spread.items():\n",
    "    print(\"Your \" + str(tense) + \" is the \" + str(match) + \" card.\" )"
   ]
  },
  {
   "cell_type": "markdown",
   "metadata": {},
   "source": [
    "Congratulations! You have learned about how to modify and use dictionaries.\n"
   ]
  },
  {
   "cell_type": "markdown",
   "metadata": {},
   "source": [
    "## Quiz"
   ]
  },
  {
   "cell_type": "markdown",
   "metadata": {},
   "source": [
    "1. What is the output of the following code?\n"
   ]
  },
  {
   "cell_type": "code",
   "execution_count": 115,
   "metadata": {},
   "outputs": [
    {
     "name": "stdout",
     "output_type": "stream",
     "text": [
      "Best Picture\n",
      "Best Actor\n",
      "Best Actress\n",
      "Animated Feature\n"
     ]
    }
   ],
   "source": [
    "oscars = {\"Best Picture\": \"Moonlight\", \"Best Actor\": \"Casey Affleck\", \"Best Actress\": \"Emma Stone\", \"Animated Feature\": \"Zootopia\"}\n",
    " \n",
    "for element in oscars:\n",
    "    print(element)"
   ]
  },
  {
   "cell_type": "markdown",
   "metadata": {},
   "source": [
    "A.\n",
    "\n",
    "(\"Best Picture\", \"Moonlight\")\n",
    "\n",
    "(\"Best Actor\", \"Casey Affleck\")\n",
    "\n",
    "(\"Best Actress\", \"Emma Stone\")\n",
    "\n",
    "(\"Animated Feature\", \"Zootopia\")\n",
    "\n",
    "B\n",
    "\n",
    "\"Moonlight\"\n",
    "\n",
    "\"Casey Affleck\"\n",
    "\n",
    "\"Emma Stone\"\n",
    "\n",
    "\"Zootopia\"\n",
    "\n",
    "C.\n",
    "\n",
    "\"Best Picture\" : \"Moonlight\"\n",
    "    \n",
    "\"Best Actor\": \"Casey Affleck\"\n",
    "    \n",
    "\"Best Actress\": \"Emma Stone\"\n",
    "    \n",
    "\"Animated Feature\": \"Zootopia\"\n",
    "\n",
    "D.\n",
    "    \n",
    "\"Best Picture\"\n",
    "\n",
    "\"Best Actor\"\n",
    "\n",
    "\"Best Actress\"\n",
    "\n",
    "\"Animated Feature\""
   ]
  },
  {
   "cell_type": "markdown",
   "metadata": {},
   "source": [
    "2. What will the following code output?"
   ]
  },
  {
   "cell_type": "code",
   "execution_count": 116,
   "metadata": {},
   "outputs": [
    {
     "name": "stdout",
     "output_type": "stream",
     "text": [
      "True\n"
     ]
    }
   ],
   "source": [
    "inventory = {\"iron spear\": 12, \n",
    "             \"invisible knife\": 30, \n",
    "             \"needle of ambition\": 10, \n",
    "             \"stone glove\": 20, \n",
    "             \"the peacemaker\": 65, \n",
    "             \"demonslayer\": 50}\n",
    " \n",
    "print(\"the peacemaker\" in inventory)"
   ]
  },
  {
   "cell_type": "markdown",
   "metadata": {},
   "source": [
    "A. 65\n",
    "\n",
    "A. KeyError\n",
    "\n",
    "C. True\n",
    "\n",
    "D. False"
   ]
  },
  {
   "cell_type": "markdown",
   "metadata": {},
   "source": [
    "3. What is the output of the following code?\n"
   ]
  },
  {
   "cell_type": "code",
   "execution_count": 118,
   "metadata": {},
   "outputs": [
    {
     "name": "stdout",
     "output_type": "stream",
     "text": [
      "{223842: 'Teddy Bear', 872921: 'Concert Tickets', 320291: 'Gift Basket', 412123: 'Necklace', 298787: 'Pasta Maker'}\n"
     ]
    }
   ],
   "source": [
    "raffle = {223842: \"Teddy Bear\", \n",
    "          872921: \"Concert Tickets\", \n",
    "          320291: \"Gift Basket\", \n",
    "          412123: \"Necklace\", \n",
    "          298787: \"Pasta Maker\"}\n",
    " \n",
    "raffle.pop(561721, \"No Value\")\n",
    "print(raffle)"
   ]
  },
  {
   "cell_type": "markdown",
   "metadata": {},
   "source": [
    "A. {223842: 'Teddy Bear', 872921: 'Concert Tickets', 320291: 'Gift Basket', 412123: 'Necklace', 298787: 'Pasta Maker', 561721: 'No Value'}\n",
    "\n",
    "B. 'No Value'\n",
    "\n",
    "C. KeyError\n",
    "\n",
    "D. {223842: 'Teddy Bear', 872921: 'Concert Tickets', 320291: 'Gift Basket', 412123: 'Necklace', 298787: 'Pasta Maker'}"
   ]
  },
  {
   "cell_type": "code",
   "execution_count": 119,
   "metadata": {},
   "outputs": [
    {
     "name": "stdout",
     "output_type": "stream",
     "text": [
      "Moonlight\n",
      "Casey Affleck\n",
      "Emma Stone\n",
      "Zootopia\n"
     ]
    }
   ],
   "source": [
    "oscars = {\"Best Picture\": \"Moonlight\", \n",
    "          \"Best Actor\": \"Casey Affleck\", \n",
    "          \"Best Actress\": \"Emma Stone\", \n",
    "          \"Animated Feature\": \"Zootopia\"}\n",
    " \n",
    "for element in oscars.values():\n",
    "    print(element)"
   ]
  },
  {
   "cell_type": "markdown",
   "metadata": {},
   "source": [
    "4. What will the code above output?\n",
    "\n",
    "A. [\"hot dog\", \"apple slices\", \"orange juice\"]\n",
    "\n",
    "B.[\"hamburger\", \"fries\"]\n",
    "\n",
    "C. [\"veggie burger\", \"salad\", \"soda\"]\n",
    "\n",
    "D. KeyError\n"
   ]
  },
  {
   "cell_type": "markdown",
   "metadata": {},
   "source": [
    "What is the output of the code above?\n",
    "\n",
    "A. \n",
    "\n",
    "\"Best Picture\"\n",
    "\n",
    "\"Best Actor\"\n",
    "\n",
    "\"Best Actress\"\n",
    "\n",
    "\"Animated Feature\"\n",
    "\n",
    "B.\n",
    "\n",
    "(\"Best Picture\", \"Moonlight\")\n",
    "\n",
    "(\"Best Actor\", \"Casey Affleck\")\n",
    "\n",
    "(\"Best Actress\", \"Emma Stone\")\n",
    "\n",
    "(\"Animated Feature\", \"Zootopia\")\n",
    "\n",
    "C.\n",
    "\n",
    "\"Best Picture\" : \"Moonlight\"\n",
    "    \n",
    "\"Best Actor\": \"Casey Affleck\"\n",
    "    \n",
    "\"Best Actress\": \"Emma Stone\"\n",
    "    \n",
    "\"Animated Feature\": \"Zootopia\"\n",
    "    \n",
    "D.\n",
    "    \n",
    "\"Moonlight\"\n",
    "\n",
    "\"Casey Affleck\"\n",
    "\n",
    "\"Emma Stone\"\n",
    "\n",
    "\"Zootopia\"\n"
   ]
  },
  {
   "cell_type": "code",
   "execution_count": 121,
   "metadata": {},
   "outputs": [
    {
     "name": "stdout",
     "output_type": "stream",
     "text": [
      "['hamburger', 'fries', 'soda']\n"
     ]
    }
   ],
   "source": [
    "combo_meals = {1: [\"hamburger\", \"fries\"], \n",
    "               2: [\"hamburger\", \"fries\", \"soda\"], \n",
    "               4: [\"veggie burger\", \"salad\", \"soda\"], \n",
    "               6: [\"hot dog\", \"apple slices\", \"orange juice\"]}\n",
    "print(combo_meals[2])"
   ]
  },
  {
   "cell_type": "markdown",
   "metadata": {},
   "source": [
    "5.What will the code above output?\n",
    "\n",
    "A.\n",
    "[\"hamburger\", \"fries\", \"soda\"]\n",
    "\n",
    "B. \n",
    "[\"veggie burger\", \"salad\", \"soda\"]\n",
    "\n",
    "C.\n",
    "KeyError\n",
    "\n",
    "D.\n",
    "\"soda\""
   ]
  },
  {
   "cell_type": "code",
   "execution_count": 124,
   "metadata": {},
   "outputs": [
    {
     "name": "stdout",
     "output_type": "stream",
     "text": [
      "False\n"
     ]
    }
   ],
   "source": [
    "inventory = {\"iron spear\": 12, \n",
    "             \"invisible knife\": 30, \n",
    "             \"needle of ambition\": 10, \n",
    "             \"stone glove\": 20, \n",
    "             \"the peacemaker\": 65, \n",
    "             \"demonslayer\": 50}\n",
    " \n",
    "print(12 in inventory)"
   ]
  },
  {
   "cell_type": "code",
   "execution_count": 127,
   "metadata": {},
   "outputs": [
    {
     "name": "stdout",
     "output_type": "stream",
     "text": [
      "True\n"
     ]
    }
   ],
   "source": [
    "print(12 in inventory.values())"
   ]
  },
  {
   "cell_type": "markdown",
   "metadata": {},
   "source": [
    "6. What does the code above output?\n",
    "\n",
    "A. True\n",
    "\n",
    "B. KeyError\n",
    "\n",
    "C. False\n",
    "\n",
    "D. \"iron spear\"\n"
   ]
  },
  {
   "cell_type": "code",
   "execution_count": 128,
   "metadata": {},
   "outputs": [
    {
     "name": "stdout",
     "output_type": "stream",
     "text": [
      "20\n"
     ]
    }
   ],
   "source": [
    "inventory = {\"iron spear\": 12, \n",
    "             \"invisible knife\": 30, \n",
    "             \"needle of ambition\": 10, \n",
    "             \"stone glove\": 20, \n",
    "             \"the peacemaker\": 65, \n",
    "             \"demonslayer\": 50}\n",
    "print(inventory.get(\"stone glove\", 30))"
   ]
  },
  {
   "cell_type": "markdown",
   "metadata": {},
   "source": [
    "7. What will the following code output?\n",
    "\n",
    "A. 20\n",
    "\n",
    "B. 10\n",
    "\n",
    "C. 30\n",
    "\n",
    "D. (\"stone glove\", 20)"
   ]
  },
  {
   "cell_type": "code",
   "execution_count": 131,
   "metadata": {},
   "outputs": [
    {
     "name": "stdout",
     "output_type": "stream",
     "text": [
      "There is not any meal listed\n"
     ]
    }
   ],
   "source": [
    "combo_meals = {1: [\"hamburger\", \"fries\"], \n",
    "               2: [\"hamburger\", \"fries\", \"soda\"], \n",
    "               4: [\"veggie burger\", \"salad\", \"soda\"], \n",
    "               6: [\"hot dog\", \"apple slices\", \"orange juice\"]}\n",
    "print(combo_meals.get(3,\"There is not any meal listed\"))"
   ]
  },
  {
   "cell_type": "markdown",
   "metadata": {},
   "source": [
    "8. What will the code above output?\n",
    "\n",
    "A. KeyError\n",
    "\n",
    "B. \"fries\"\n",
    "\n",
    "C. [\"hot dog\", \"apple slices\", \"orange juice\"]\n",
    "\n",
    "D. [\"veggie burger\", \"salad\", \"soda\"]"
   ]
  },
  {
   "cell_type": "code",
   "execution_count": null,
   "metadata": {},
   "outputs": [],
   "source": []
  }
 ],
 "metadata": {
  "kernelspec": {
   "display_name": "Python 3",
   "language": "python",
   "name": "python3"
  },
  "language_info": {
   "codemirror_mode": {
    "name": "ipython",
    "version": 3
   },
   "file_extension": ".py",
   "mimetype": "text/x-python",
   "name": "python",
   "nbconvert_exporter": "python",
   "pygments_lexer": "ipython3",
   "version": "3.8.3"
  }
 },
 "nbformat": 4,
 "nbformat_minor": 4
}
