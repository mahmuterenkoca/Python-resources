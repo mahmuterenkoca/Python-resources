{
 "cells": [
  {
   "cell_type": "markdown",
   "metadata": {},
   "source": [
    "## Types\n",
    "Python equips us with many different ways to store data. A float is a different kind of number from an int, and we store different data in a list than we do in a dict. These are known as different types. We can check the type of a Python variable using the type() function."
   ]
  },
  {
   "cell_type": "code",
   "execution_count": 20,
   "metadata": {},
   "outputs": [
    {
     "name": "stdout",
     "output_type": "stream",
     "text": [
      "<class 'str'>\n",
      "<class 'int'>\n"
     ]
    }
   ],
   "source": [
    "a_string = \"Cool String\"\n",
    "an_int = 12\n",
    " \n",
    "print(type(a_string))\n",
    "\n",
    " \n",
    "print(type(an_int))\n"
   ]
  },
  {
   "cell_type": "markdown",
   "metadata": {},
   "source": [
    "Above, we defined two variables, and checked the type of these two variables. A variable’s type determines what you can do with it and how you can use it. You can’t .get() something from an integer, just as you can’t add two dictionaries together using +. This is because those operations are defined at the type level."
   ]
  },
  {
   "cell_type": "markdown",
   "metadata": {},
   "source": [
    "#### Applications\n",
    "1.\n",
    "Call type() on the integer 5 and print the results."
   ]
  },
  {
   "cell_type": "code",
   "execution_count": 21,
   "metadata": {},
   "outputs": [
    {
     "name": "stdout",
     "output_type": "stream",
     "text": [
      "<class 'int'>\n"
     ]
    }
   ],
   "source": [
    "print(type(5))"
   ]
  },
  {
   "cell_type": "markdown",
   "metadata": {},
   "source": [
    "2.\n",
    "Define a dictionary my_dict."
   ]
  },
  {
   "cell_type": "code",
   "execution_count": 22,
   "metadata": {},
   "outputs": [],
   "source": [
    "my_dict = {\"Hello\":\"Ola\"}"
   ]
  },
  {
   "cell_type": "markdown",
   "metadata": {},
   "source": [
    "3.\n",
    "Print out the type() of my_dict."
   ]
  },
  {
   "cell_type": "code",
   "execution_count": 23,
   "metadata": {},
   "outputs": [
    {
     "name": "stdout",
     "output_type": "stream",
     "text": [
      "<class 'dict'>\n"
     ]
    }
   ],
   "source": [
    "print(type(my_dict))"
   ]
  },
  {
   "cell_type": "markdown",
   "metadata": {},
   "source": [
    "4.\n",
    "Define a list called my_list."
   ]
  },
  {
   "cell_type": "code",
   "execution_count": 25,
   "metadata": {},
   "outputs": [],
   "source": [
    "my_list = [1,12,13]"
   ]
  },
  {
   "cell_type": "markdown",
   "metadata": {},
   "source": [
    "5.\n",
    "Print out the type() of my_list."
   ]
  },
  {
   "cell_type": "code",
   "execution_count": 26,
   "metadata": {},
   "outputs": [
    {
     "name": "stdout",
     "output_type": "stream",
     "text": [
      "<class 'list'>\n"
     ]
    }
   ],
   "source": [
    "print(type(my_list))"
   ]
  },
  {
   "cell_type": "markdown",
   "metadata": {},
   "source": [
    "## Class\n",
    "A class is a template for a data type. It describes the kinds of information that class will hold and how a programmer will interact with that data. Define a class using the class keyword. PEP 8 Style Guide for Python Code recommends capitalizing the names of classes to make them easier to identify.\n",
    "\n",
    "\n",
    "Here is the link to PEP 8 Style Guide for Python Code \n",
    "https://www.python.org/dev/peps/pep-0008/#class-names"
   ]
  },
  {
   "cell_type": "code",
   "execution_count": 34,
   "metadata": {},
   "outputs": [],
   "source": [
    "class CoolClass:\n",
    "    pass"
   ]
  },
  {
   "cell_type": "markdown",
   "metadata": {},
   "source": [
    "In the above example we created a class and named it CoolClass. We used the pass keyword in Python to indicate that the body of the class was intentionally left blank so we don’t cause an IndentationError. We’ll learn about all the things we can put in the body of a class in the next few exercises."
   ]
  },
  {
   "cell_type": "markdown",
   "metadata": {},
   "source": [
    "#### Applications\n",
    "1.\n",
    "Define an empty class called Facade. We’ll chip away at it soon!"
   ]
  },
  {
   "cell_type": "code",
   "execution_count": 30,
   "metadata": {},
   "outputs": [],
   "source": [
    "class Facade:\n",
    "    pass"
   ]
  },
  {
   "cell_type": "markdown",
   "metadata": {},
   "source": [
    "#### Possible Question\n",
    "What does the pass keyword do?\n",
    "\n",
    "#### Possible Answer\n",
    "The pass keyword performs no function in Python other than being a legal keyword. The most common use of pass is as a placeholder for code that is not yet present in a program but where something is required to prevent an 'IndentationError' from being reported such as after the definition of a class or function. It can also be used after for, while and if to act as a placeholder for missing code."
   ]
  },
  {
   "cell_type": "markdown",
   "metadata": {},
   "source": [
    "#### Possible Question\n",
    "What is the difference between a `class` and `type`?\n",
    "\n",
    "#### Possible answer\n",
    "All values are objects. Value and object is for most purposes synonymous in python. Objects are instances of types. 5 is an instance of int A class defines a type."
   ]
  },
  {
   "cell_type": "markdown",
   "metadata": {},
   "source": [
    "## Instantiation\n",
    "A class doesn’t accomplish anything simply by being defined. A class must be instantiated. In other words, we must create an instance of the class, in order to breathe life into the schematic.\n",
    "\n",
    "Instantiating a class looks a lot like calling a function. We would be able to create an instance of our defined CoolClass as follows:"
   ]
  },
  {
   "cell_type": "code",
   "execution_count": 35,
   "metadata": {},
   "outputs": [],
   "source": [
    "cool_instance = CoolClass()"
   ]
  },
  {
   "cell_type": "markdown",
   "metadata": {},
   "source": [
    "Above, we created an object by adding parentheses to the name of the class. We then assigned that new instance to the variable cool_instance for safe-keeping so we can access our instance of CoolClass at a later time"
   ]
  },
  {
   "cell_type": "markdown",
   "metadata": {},
   "source": [
    "#### Applications\n",
    "1.\n",
    "In the cell below we see our Facade class from last exercise. Make a Facade instance and save it to the variable facade_1."
   ]
  },
  {
   "cell_type": "code",
   "execution_count": 32,
   "metadata": {},
   "outputs": [
    {
     "name": "stdout",
     "output_type": "stream",
     "text": [
      "<class '__main__.Facade'>\n"
     ]
    }
   ],
   "source": [
    "class Facade:\n",
    "    pass\n",
    "\n",
    "facade_1 = Facade()\n",
    "\n",
    "print(type(facade_1))"
   ]
  },
  {
   "cell_type": "markdown",
   "metadata": {},
   "source": [
    "## Object-Oriented Programming\n",
    "A class instance is also called an object. The pattern of defining classes and creating objects to represent the responsibilities of a program is known as Object Oriented Programming or OOP.\n",
    "\n",
    "Instantiation takes a class and turns it into an object, the type() function does the opposite of that. When called with an object, it returns the class that the object is an instance of."
   ]
  },
  {
   "cell_type": "code",
   "execution_count": 36,
   "metadata": {},
   "outputs": [
    {
     "name": "stdout",
     "output_type": "stream",
     "text": [
      "<class '__main__.CoolClass'>\n"
     ]
    }
   ],
   "source": [
    "print(type(cool_instance))"
   ]
  },
  {
   "cell_type": "markdown",
   "metadata": {},
   "source": [
    "We then print out the type() of cool_instance and it shows us that this object is of type __main__.CoolClass.\n",
    "\n",
    "In Python __main__ means “this current file that we’re running” and so one could read the output from type() to mean “the class CoolClass that was defined here, in the script you’re currently running.”"
   ]
  },
  {
   "cell_type": "markdown",
   "metadata": {},
   "source": [
    "#### Applications\n",
    "1.\n",
    "In cell below, we see facade_1 from last exercise. Try calling type() on facade_1 and saving it to the variable facade_1_type."
   ]
  },
  {
   "cell_type": "code",
   "execution_count": 38,
   "metadata": {},
   "outputs": [
    {
     "name": "stdout",
     "output_type": "stream",
     "text": [
      "<class '__main__.Facade'>\n"
     ]
    }
   ],
   "source": [
    "class Facade:\n",
    "    pass\n",
    "\n",
    "facade_1 = Facade()\n",
    "\n",
    "facade_1_type = type(facade_1)\n",
    "print(facade_1_type)"
   ]
  },
  {
   "cell_type": "markdown",
   "metadata": {},
   "source": [
    "## Class Variables\n",
    "When we want the same data to be available to every instance of a class we use a class variable. A class variable is a variable that’s the same for every instance of the class.\n",
    "\n",
    "You can define a class variable by including it in the indented part of your class definition, and you can access all of an object’s class variables with object.variable syntax."
   ]
  },
  {
   "cell_type": "code",
   "execution_count": 39,
   "metadata": {},
   "outputs": [
    {
     "name": "stdout",
     "output_type": "stream",
     "text": [
      "Rockstar\n"
     ]
    }
   ],
   "source": [
    "class Musician:\n",
    "    title = \"Rockstar\"\n",
    "    \n",
    "    \n",
    "drummer = Musician()\n",
    "print(drummer.title)\n"
   ]
  },
  {
   "cell_type": "markdown",
   "metadata": {},
   "source": [
    "Above we defined the class Musician, then instantiated drummer to be an object of type Musician. We then printed out the drummer’s .title attribute, which is a class variable that we defined as the string “Rockstar”.\n",
    "\n",
    "If we defined another musician, like guitarist = Musician() they would have the same .title attribute."
   ]
  },
  {
   "cell_type": "markdown",
   "metadata": {},
   "source": [
    "#### Applications\n",
    "1.\n",
    "You are digitizing grades for Jan van Eyck High School and Conservatory. At Jan van High, as the students call it, 65 is the minimum passing grade.\n",
    "\n",
    "Create a Grade class with a class attribute minimum_passing equal to 65."
   ]
  },
  {
   "cell_type": "code",
   "execution_count": 42,
   "metadata": {},
   "outputs": [
    {
     "name": "stdout",
     "output_type": "stream",
     "text": [
      "65\n"
     ]
    }
   ],
   "source": [
    "class Grade:\n",
    "    minimum_grade = 65\n",
    "    \n",
    "    \n",
    "    \n",
    "grade = Grade()\n",
    "print(grade.minimum_grade)"
   ]
  },
  {
   "cell_type": "markdown",
   "metadata": {},
   "source": [
    "#### Possible Question\n",
    "Can a class variable be any data type?\n",
    "\n",
    "#### Possible answer\n",
    "Yes, a class variable can be any defined data type including instances of other classes."
   ]
  },
  {
   "cell_type": "markdown",
   "metadata": {},
   "source": [
    "## Methods\n",
    "Methods are functions that are defined as part of a class. The first argument in a method is always the object that is calling the method. Convention recommends that we name this first argument self. Methods always have at least this one argument.\n",
    "\n",
    "We define methods similarly to functions, except that they are indented to be part of the class"
   ]
  },
  {
   "cell_type": "code",
   "execution_count": 43,
   "metadata": {},
   "outputs": [
    {
     "name": "stdout",
     "output_type": "stream",
     "text": [
      "Dogs experience 7 years for every 1 human year.\n"
     ]
    }
   ],
   "source": [
    "class Dog:\n",
    "    dog_time_dilation = 7\n",
    " \n",
    "    def time_explanation(self):\n",
    "        print(\"Dogs experience {} years for every 1 human year.\".format(self.dog_time_dilation))\n",
    "        \n",
    "\n",
    "pipi_pitbull = Dog()\n",
    "\n",
    "pipi_pitbull.time_explanation()\n"
   ]
  },
  {
   "cell_type": "markdown",
   "metadata": {},
   "source": [
    "Above we created a Dog class with a time_explanation method that takes one argument, self, which refers to the object calling the function. We created a Dog named pipi_pitbull and called the .time_explanation() method on our new object for Pipi.\n",
    "\n",
    "Notice we didn’t pass any arguments when we called .time_explanation(), but were able to refer to self in the function body. When you call a method it automatically passes the object calling the method as the first argument."
   ]
  },
  {
   "cell_type": "markdown",
   "metadata": {},
   "source": [
    "#### Applications\n",
    "1.\n",
    "At Jan van High, the students are constantly calling the school rules into question. Create a Rules class so that we can explain the rules."
   ]
  },
  {
   "cell_type": "markdown",
   "metadata": {},
   "source": [
    "2.\n",
    "Give Rules a method washing_brushes that returns the string .\n",
    "\n",
    "\"Point bristles towards the basin while washing your brushes.\""
   ]
  },
  {
   "cell_type": "code",
   "execution_count": 44,
   "metadata": {},
   "outputs": [],
   "source": [
    "class Rules:\n",
    "    def washing_brushes(self):\n",
    "        print(\"Point bristles towards the basin while washing your brushes.\")\n",
    "        "
   ]
  },
  {
   "cell_type": "code",
   "execution_count": 45,
   "metadata": {},
   "outputs": [
    {
     "name": "stdout",
     "output_type": "stream",
     "text": [
      "Point bristles towards the basin while washing your brushes.\n"
     ]
    }
   ],
   "source": [
    "remember = Rules()\n",
    "remember.washing_brushes()"
   ]
  },
  {
   "cell_type": "markdown",
   "metadata": {},
   "source": [
    "#### Possible Question\n",
    "Does the first parameter to a class method always need to be named self?\n",
    "\n",
    "#### Possible Answer\n",
    "self is not a reserved or special keyword in Python. It is, however, a strongly encouraged practice to always name the variable referencing the current object as self. This will make your code easier to understand by other people as it will follow the common naming convention."
   ]
  },
  {
   "cell_type": "markdown",
   "metadata": {},
   "source": [
    "## Methods with Arguments\n",
    "Methods can also take more arguments than just self:"
   ]
  },
  {
   "cell_type": "code",
   "execution_count": 47,
   "metadata": {},
   "outputs": [
    {
     "name": "stdout",
     "output_type": "stream",
     "text": [
      "16.09\n"
     ]
    }
   ],
   "source": [
    "class DistanceConverter:\n",
    "    kms_in_a_mile = 1.609\n",
    "    def how_many_kms(self, miles):\n",
    "        return miles * self.kms_in_a_mile\n",
    "    \n",
    "    \n",
    "converter = DistanceConverter()\n",
    "\n",
    "kms_in_5_miles = converter.how_many_kms(10)\n",
    "\n",
    "print(kms_in_5_miles)\n"
   ]
  },
  {
   "cell_type": "markdown",
   "metadata": {},
   "source": [
    "Above we defined a DistanceConverter class, instantiated it, and used it to convert 5 miles into kilometers. Notice again that even though how_many_kms takes two arguments in its definition, we only pass miles, because self is implicitly passed (and refers to the object converter)."
   ]
  },
  {
   "cell_type": "markdown",
   "metadata": {},
   "source": [
    "#### Applications\n",
    "1.\n",
    "It’s March 14th (known in some places as Pi day) at Jan van High, and you’re feeling awfully festive. You decide to create a program that calculates the area of a circle.\n",
    "\n",
    "Create a Circle class with class variable pi. Set pi to the approximation 3.14."
   ]
  },
  {
   "cell_type": "markdown",
   "metadata": {},
   "source": [
    "2.\n",
    "Give Circle an area method that takes two parameters: self and radius.\n",
    "\n",
    "Return the area as given by this formula:\n",
    "\n",
    "area = pi * radius ** 2"
   ]
  },
  {
   "cell_type": "code",
   "execution_count": 48,
   "metadata": {},
   "outputs": [],
   "source": [
    "class Circle:\n",
    "    pi = 3.14\n",
    "    def area(self,radius):\n",
    "        return self.pi * radius ** 2\n",
    "    "
   ]
  },
  {
   "cell_type": "markdown",
   "metadata": {},
   "source": [
    "3.\n",
    "Create an instance of Circle. Save it into the variable circle.\n"
   ]
  },
  {
   "cell_type": "markdown",
   "metadata": {},
   "source": [
    "4.\n",
    "You go to measure several circles you happen to find around.\n",
    "\n",
    "A medium pizza that is 12 inches across.\n",
    "Your teaching table which is 36 inches across.\n",
    "The Round Room auditorium, which is 11,460 inches across.\n",
    "You save the areas of these three things into pizza_area, teaching_table_area, and round_room_area.\n",
    "\n",
    "Remember that the radius of a circle is half the diameter. We gave three diameters here, so halve them before you calculate the given circle’s area."
   ]
  },
  {
   "cell_type": "code",
   "execution_count": 52,
   "metadata": {},
   "outputs": [
    {
     "name": "stdout",
     "output_type": "stream",
     "text": [
      "The 12 inches pizza area 113.04\n",
      "1017.36\n",
      "103095306.0\n"
     ]
    }
   ],
   "source": [
    "circle = Circle()\n",
    "pizza_area = circle.area(12/2)\n",
    "teaching_table_area = circle.area(36/2)\n",
    "round_room_area = circle.area(11460/2)\n",
    "\n",
    "print(\"The 12 inches pizza area \" + str(pizza_area))\n",
    "print(teaching_table_area)\n",
    "print(round_room_area)"
   ]
  },
  {
   "cell_type": "markdown",
   "metadata": {},
   "source": [
    "## Constructors\n",
    "There are several methods that we can define in a Python class that have special behavior. These methods are sometimes called “magic,” because they behave differently from regular methods. Another popular term is dunder methods, so-named because they have two underscores (double-underscore abbreviated to “dunder”) on either side of them.\n",
    "\n",
    "The first dunder method we’re going to use is the __ init __ () method (note the two underscores before and after the word “init”). This method is used to initialize a newly created object. It is called every time the class is instantiated.\n",
    "\n",
    "Methods that are used to prepare an object being instantiated are called constructors. The word “constructor” is used to describe similar features in other object-oriented programming languages but programmers who refer to a constructor in Python are usually talking about the __ init __ () method.\n",
    "\n"
   ]
  },
  {
   "cell_type": "code",
   "execution_count": 54,
   "metadata": {},
   "outputs": [
    {
     "name": "stdout",
     "output_type": "stream",
     "text": [
      "HELLO?!\n",
      "HELLO?!\n"
     ]
    }
   ],
   "source": [
    "class Shouter:\n",
    "    def __init__(self):\n",
    "        print(\"HELLO?!\")\n",
    "        \n",
    "        \n",
    "shout1 = Shouter()\n",
    "\n",
    " \n",
    "shout2 = Shouter()\n"
   ]
  },
  {
   "cell_type": "markdown",
   "metadata": {},
   "source": [
    "Above we created a class called Shouter and every time we create an instance of Shouter the program prints out a shout. Don’t worry, this doesn’t hurt the computer at all.\n",
    "\n",
    "Pay careful attention to the instantiation syntax we use. Shouter() looks a lot like a function call, doesn’t it? If it’s a function, can we pass parameters to it? We absolutely can, and those parameters will be received by the __ init __ () method."
   ]
  },
  {
   "cell_type": "code",
   "execution_count": 57,
   "metadata": {},
   "outputs": [
    {
     "name": "stdout",
     "output_type": "stream",
     "text": [
      "SHOUT\n",
      "SHOUT\n",
      "LET IT ALL OUT\n"
     ]
    }
   ],
   "source": [
    "class Shouter:\n",
    "    def __init__(self, phrase):\n",
    "        # make sure phrase is a string\n",
    "        if type(phrase) == str:\n",
    " \n",
    "            # then shout it out\n",
    "            print(phrase.upper())\n",
    "        \n",
    "        \n",
    "        \n",
    "shout1 = Shouter(\"shout\")\n",
    " \n",
    "shout2 = Shouter(\"shout\")\n",
    " \n",
    "shout3 = Shouter(\"let it all out\")\n",
    "\n"
   ]
  },
  {
   "cell_type": "markdown",
   "metadata": {},
   "source": [
    "Above we’ve updated our Shouter class to take the additional parameter phrase. When we created each of our objects we passed an argument to the constructor. The constructor takes the argument phrase and, if it’s a string, prints out the all-caps version of phrase."
   ]
  },
  {
   "cell_type": "markdown",
   "metadata": {},
   "source": [
    "#### Applications\n",
    "1.\n",
    "Add a constructor to our Circle class.\n",
    "\n",
    "Since we seem more frequently to know the diameter of a circle, it should take the argument diameter.\n",
    "\n",
    "It doesn’t need to do anything yet, just write pass in the body of the constructor.\n",
    "\n",
    "2. Now have the constructor print out the message \"New circle with diameter: {diameter}\" when a new circle is created.\n",
    "Create a circle teaching_table with diameter 36."
   ]
  },
  {
   "cell_type": "code",
   "execution_count": 63,
   "metadata": {},
   "outputs": [
    {
     "name": "stdout",
     "output_type": "stream",
     "text": [
      "New circle with diameter: 36\n"
     ]
    }
   ],
   "source": [
    "class Circle:\n",
    "    pi = 3.14\n",
    "  \n",
    "  # Add constructor here:\n",
    "    def __init__(self,diameter):\n",
    "        print(\"New circle with diameter: {diameter}\".format(diameter = diameter))\n",
    "    \n",
    "    \n",
    "teaching_table = Circle(36)\n",
    "\n",
    "    \n",
    "    "
   ]
  },
  {
   "cell_type": "markdown",
   "metadata": {},
   "source": [
    "#### Possible question\n",
    "Is it possible to return a value from the __ init __ () method in a class?\n",
    "\n",
    "#### Possible Answer\n",
    "The __ init __ () method should either have no return statement at all (the most common and preferred usage) or it may have a return statement that returns the value None. If the method attempts to return a value other than None, Python will report the error “TypeError: __ init __ () should return None”. If the method needs to report an error condition, then an exception should be raised."
   ]
  },
  {
   "cell_type": "markdown",
   "metadata": {},
   "source": [
    "#### Possible question\n",
    "What does instantiate mean in the context of this lesson?\n",
    "\n",
    "#### Possible Answer\n",
    "A class is like a set of attributes and methods which everything under the class follows. Think about strings and lists which are also “classes”, it’s just python has created rules for us in advance that each class has its specific “built-in” operations. Now we can create our own classes, we need to give them our own rules. Therefore, we have class variables and methods to set rules for the classes we created. After we defined a certain class, when we want something to be considered as that class we created (again, think about str(), int(), etc) , we need to tell python that “this is SomeClass”, so we “instantiate” it and make it an “instance” of that class so that this something later falls under this class and can be applied with various methods we created in the class block.\n",
    "Again, this is only my own understanding as a fellow learner and I don’t think it is the exact definition.\n",
    "\n",
    "Also I have a question, what’s so special about the “dunds” there? The “def” process here seems to be the same as what we learnt in the previous lessons where we just define the methods with any name we want."
   ]
  },
  {
   "cell_type": "markdown",
   "metadata": {},
   "source": [
    "## Instance Variables\n",
    "We’ve learned so far that a class is a schematic for a data type and an object is an instance of a class, but why is there such a strong need to differentiate the two if each object can only have the methods and class variables the class has? This is because each instance of a class can hold different kinds of data.\n",
    "\n",
    "The data held by an object is referred to as an instance variable. Instance variables aren’t shared by all instances of a class — they are variables that are specific to the object they are attached to.\n",
    "\n",
    "Let’s say that we have the following class definition:"
   ]
  },
  {
   "cell_type": "code",
   "execution_count": 64,
   "metadata": {},
   "outputs": [],
   "source": [
    "class FakeDict:\n",
    "    pass"
   ]
  },
  {
   "cell_type": "markdown",
   "metadata": {},
   "source": [
    "We can instantiate two different objects from this class, fake_dict1 and fake_dict2, and assign instance variables to these objects using the same attribute notation that was used for accessing class variables."
   ]
  },
  {
   "cell_type": "code",
   "execution_count": 65,
   "metadata": {},
   "outputs": [
    {
     "name": "stdout",
     "output_type": "stream",
     "text": [
      "This works! This too!\n"
     ]
    }
   ],
   "source": [
    "fake_dict1 = FakeDict()\n",
    "fake_dict2 = FakeDict()\n",
    " \n",
    "fake_dict1.fake_key = \"This works!\"\n",
    "fake_dict2.fake_key = \"This too!\"\n",
    " \n",
    "# Let's join the two strings together!\n",
    "\n",
    "working_string = \"{} {}\".format(fake_dict1.fake_key, fake_dict2.fake_key)\n",
    "print(working_string)\n"
   ]
  },
  {
   "cell_type": "markdown",
   "metadata": {},
   "source": [
    "#### Applications\n",
    "1.\n",
    "In script.py we have defined a Store class. Create two objects from this store class, named alternative_rocks and isabelles_ices."
   ]
  },
  {
   "cell_type": "code",
   "execution_count": 67,
   "metadata": {},
   "outputs": [],
   "source": [
    "class Store:\n",
    "    pass\n",
    "\n",
    "\n",
    "alternative_rocks = Store()\n",
    "isabelles_ices = Store()"
   ]
  },
  {
   "cell_type": "markdown",
   "metadata": {},
   "source": [
    "2.\n",
    "Give them both instance attributes called store_name. Set alternative_rocks‘s store_name to \"Alternative Rocks\". Set isabelles_ices‘s store_name to \"Isabelle's Ices\"."
   ]
  },
  {
   "cell_type": "code",
   "execution_count": 70,
   "metadata": {},
   "outputs": [],
   "source": [
    "alternative_rocks.store_name = \"Alternative Rocks\"\n",
    "isabelles_ices.store_name = \"Isabelle's Ices\""
   ]
  },
  {
   "cell_type": "markdown",
   "metadata": {},
   "source": [
    "## Attribute Functions\n",
    "Instance variables and class variables are both accessed similarly in Python. This is no mistake, they are both considered attributes of an object. If we attempt to access an attribute that is neither a class variable nor an instance variable of the object Python will throw an AttributeError."
   ]
  },
  {
   "cell_type": "code",
   "execution_count": 73,
   "metadata": {},
   "outputs": [
    {
     "name": "stdout",
     "output_type": "stream",
     "text": [
      "This text gets printed!\n"
     ]
    }
   ],
   "source": [
    "class NoCustomAttributes:\n",
    "    pass\n",
    " \n",
    "attributeless = NoCustomAttributes()\n",
    " \n",
    "try:\n",
    "    attributeless.fake_attribute\n",
    "except AttributeError:\n",
    "    print(\"This text gets printed!\")"
   ]
  },
  {
   "cell_type": "markdown",
   "metadata": {},
   "source": [
    "What if we aren’t sure if an object has an attribute or not? hasattr() will return True if an object has a given attribute and False otherwise. If we want to get the actual value of the attribute, getattr() is a Python function that will return the value of a given object and attribute. In this function, we can also supply a third argument that will be the default if the object does not have the given attribute.\n",
    "\n",
    "The syntax and parameters for these functions look like this:\n",
    "\n",
    "hasattr(object, “attribute”) has two parameters:\n",
    "\n",
    "- object : the object we are testing to see if it has a certain attribute\n",
    "- attribute : name of attribute we want to see if it exists\n",
    "\n",
    "getattr(object, “attribute”, default) has three parameters (one of which is optional):\n",
    "\n",
    "- object : the object whose attribute we want to evaluate\n",
    "- attribute : name of attribute we want to evaluate\n",
    "- default : the value that is returned if the attribute does not exist (note: this parameter is optional)\n",
    "    \n",
    "Calling those functions looks like this:"
   ]
  },
  {
   "cell_type": "code",
   "execution_count": 75,
   "metadata": {},
   "outputs": [
    {
     "data": {
      "text/plain": [
       "False"
      ]
     },
     "execution_count": 75,
     "metadata": {},
     "output_type": "execute_result"
    }
   ],
   "source": [
    "hasattr(attributeless, \"fake_attribute\")\n",
    " "
   ]
  },
  {
   "cell_type": "code",
   "execution_count": 76,
   "metadata": {},
   "outputs": [
    {
     "data": {
      "text/plain": [
       "800"
      ]
     },
     "execution_count": 76,
     "metadata": {},
     "output_type": "execute_result"
    }
   ],
   "source": [
    "\n",
    "getattr(attributeless, \"other_fake_attribute\", 800)\n"
   ]
  },
  {
   "cell_type": "markdown",
   "metadata": {},
   "source": [
    "Above we checked if the attributeless object has the attribute fake_attribute. Since it does not, hasattr() returned False. After that, we used getattr to attempt to retrieve other_fake_attribute. Since other_fake_attribute isn’t a real attribute on attributeless, our call to getattr() returned the supplied default value 800, instead of throwing an AttributeError."
   ]
  },
  {
   "cell_type": "markdown",
   "metadata": {},
   "source": [
    "#### Appliations\n",
    "1.\n",
    "In script.py we have a list of different data types: a dictionary, a string, an integer, and a list all saved in the variable can_we_count_it.\n",
    "\n",
    "For every element in the list, check if the element has the attribute count using the hasattr() function. If so, print the following line of code:\n",
    "\n",
    "print(str(type(element)) + \" has the count attribute!\")\n",
    "\n",
    "2. Now let’s add an else statement for the elements that do not have the attribute count. In this else statement add the following line of code:\n",
    "print(str(type(element)) + \" does not have the count attribute :(\")"
   ]
  },
  {
   "cell_type": "code",
   "execution_count": 82,
   "metadata": {},
   "outputs": [
    {
     "name": "stdout",
     "output_type": "stream",
     "text": [
      "<class 'dict'> does not have the upper attribute :(\n",
      "<class 'str'> has the upper attribute!\n",
      "<class 'int'> does not have the upper attribute :(\n",
      "<class 'list'> does not have the upper attribute :(\n"
     ]
    }
   ],
   "source": [
    "can_we_count_it = [{'s': False}, \"sassafrass\", 18, [\"a\", \"c\", \"s\", \"d\", \"s\"]]\n",
    "\n",
    "for element in can_we_count_it:\n",
    "    if hasattr(element, \"upper\"):\n",
    "        print(str(type(element)) + \" has the upper attribute!\")\n",
    "    else:\n",
    "        print(str(type(element)) + \" does not have the upper attribute :(\")"
   ]
  },
  {
   "cell_type": "code",
   "execution_count": null,
   "metadata": {},
   "outputs": [],
   "source": []
  },
  {
   "cell_type": "markdown",
   "metadata": {},
   "source": [
    "3.\n",
    "Let’s go over the terminal output of the past two instructions. You should see the following output in your terminal right now:\n",
    "\n",
    "<class 'dict'> does not have the count attribute :(\n",
    "\n",
    "<class 'str'> has the count attribute!\n",
    "\n",
    "<class 'int'> does not have the count attribute :(\n",
    "\n",
    "<class 'list'> has the count attribute!\n",
    "\n",
    "This is because dictionaries and integers both do not have a count attribute, while strings and lists do. In this exercise, we have iterated through can_we_count_it and used hasattr() to determine which elements have a count attribute. We never actually used the count method, but you can read more about it here if you are curious about what it is.\n",
    "\n",
    "Click run to move onto the next exercise!"
   ]
  },
  {
   "cell_type": "code",
   "execution_count": null,
   "metadata": {},
   "outputs": [],
   "source": []
  },
  {
   "cell_type": "markdown",
   "metadata": {},
   "source": [
    "## Self\n",
    "Since we can already use dictionaries to store key-value pairs, using objects for that purpose is not really useful. Instance variables are more powerful when you can guarantee a rigidity to the data the object is holding.\n",
    "\n",
    "This convenience is most apparent when the constructor creates the instance variables, using the arguments passed in to it. If we were creating a search engine, and we wanted to create classes for each separate entry we could return. We’d do that like this:"
   ]
  },
  {
   "cell_type": "code",
   "execution_count": 79,
   "metadata": {},
   "outputs": [
    {
     "name": "stdout",
     "output_type": "stream",
     "text": [
      "www.youtube.com\n",
      "www.wikipedia.org\n"
     ]
    }
   ],
   "source": [
    "class SearchEngineEntry:\n",
    "    def __init__(self, url):\n",
    "        self.url = url\n",
    "        \n",
    "        \n",
    "youtube = SearchEngineEntry(\"www.youtube.com\")\n",
    "wikipedia = SearchEngineEntry(\"www.wikipedia.org\")\n",
    " \n",
    "print(youtube.url)\n",
    "# prints \"www.youtube.com\"\n",
    " \n",
    "print(wikipedia.url)\n",
    "# prints \"www.wikipedia.org\""
   ]
  },
  {
   "cell_type": "markdown",
   "metadata": {},
   "source": [
    "Since the self keyword refers to the object and not the class being called, we can define a secure method on the SearchEngineEntry class that returns the secure link to an entry."
   ]
  },
  {
   "cell_type": "code",
   "execution_count": 83,
   "metadata": {},
   "outputs": [
    {
     "name": "stdout",
     "output_type": "stream",
     "text": [
      "https://www.youtube.com\n",
      "https://www.wikipedia.org\n"
     ]
    }
   ],
   "source": [
    "class SearchEngineEntry:\n",
    "    secure_prefix = \"https://\"\n",
    "    def __init__(self, url):\n",
    "        self.url = url\n",
    " \n",
    "    def secure(self):\n",
    "        return \"{prefix}{site}\".format(prefix=self.secure_prefix, site=self.url)\n",
    "    \n",
    "    \n",
    "youtube = SearchEngineEntry(\"www.youtube.com\")\n",
    "wikipedia = SearchEngineEntry(\"www.wikipedia.org\")\n",
    " \n",
    "print(youtube.secure())\n",
    "# prints \"https://www.codecademy.com\"\n",
    " \n",
    "print(wikipedia.secure())\n",
    "# prints \"https://www.wikipedia.org\""
   ]
  },
  {
   "cell_type": "markdown",
   "metadata": {},
   "source": [
    "Above we define our secure() method to take just the one required argument, self. We access both the class variable self.secure_prefix and the instance variable self.url to return a secure URL.\n",
    "\n",
    "This is the strength of writing object-oriented programs. We can write our classes to structure the data that we need and write methods that will interact with that data in a meaningful way."
   ]
  },
  {
   "cell_type": "markdown",
   "metadata": {},
   "source": [
    "#### Applications\n",
    "1.\n",
    "In script.py you’ll find our familiar friend, the Circle class.\n",
    "\n",
    "Even though we usually know the diameter beforehand, what we need for most calculations is the radius.\n",
    "\n",
    "In Circle‘s constructor set the instance variable self.radius to equal half the diameter that gets passed in."
   ]
  },
  {
   "cell_type": "code",
   "execution_count": 88,
   "metadata": {},
   "outputs": [
    {
     "name": "stdout",
     "output_type": "stream",
     "text": [
      "Creating circle with diameter 12\n",
      "37.68\n",
      "Creating circle with diameter 36\n",
      "Creating circle with diameter 11460\n"
     ]
    }
   ],
   "source": [
    "class Circle:\n",
    "    pi = 3.14\n",
    "    def __init__(self, diameter):\n",
    "        print(\"Creating circle with diameter {d}\".format(d=diameter))\n",
    "        \n",
    "        \n",
    "    # Add assignment for self.radius here:\n",
    "        self.radius = diameter/2\n",
    "        self.circumference = 2*self.pi*self.radius\n",
    "    \n",
    "medium_pizza = Circle(12)  \n",
    "print(medium_pizza.circumference)\n",
    "teaching_table = Circle(36)    \n",
    "round_room = Circle(11460)"
   ]
  },
  {
   "cell_type": "markdown",
   "metadata": {},
   "source": [
    "2.\n",
    "Define three Circles with three different diameters.\n",
    "\n",
    "- A medium pizza, medium_pizza, that is 12 inches across.\n",
    "- Your teaching table, teaching_table, which is 36 inches across.\n",
    "- The Round Room auditorium, round_room, which is 11,460 inches across."
   ]
  },
  {
   "cell_type": "code",
   "execution_count": null,
   "metadata": {},
   "outputs": [],
   "source": []
  },
  {
   "cell_type": "markdown",
   "metadata": {},
   "source": [
    "## Everything is an Object\n",
    "Attributes can be added to user-defined objects after instantiation, so it’s possible for an object to have some attributes that are not explicitly defined in an object’s constructor. We can use the dir() function to investigate an object’s attributes at runtime. dir() is short for directory and offers an organized presentation of object attributes."
   ]
  },
  {
   "cell_type": "code",
   "execution_count": 89,
   "metadata": {},
   "outputs": [
    {
     "data": {
      "text/plain": [
       "['__class__',\n",
       " '__delattr__',\n",
       " '__dict__',\n",
       " '__dir__',\n",
       " '__doc__',\n",
       " '__eq__',\n",
       " '__format__',\n",
       " '__ge__',\n",
       " '__getattribute__',\n",
       " '__gt__',\n",
       " '__hash__',\n",
       " '__init__',\n",
       " '__init_subclass__',\n",
       " '__le__',\n",
       " '__lt__',\n",
       " '__module__',\n",
       " '__ne__',\n",
       " '__new__',\n",
       " '__reduce__',\n",
       " '__reduce_ex__',\n",
       " '__repr__',\n",
       " '__setattr__',\n",
       " '__sizeof__',\n",
       " '__str__',\n",
       " '__subclasshook__',\n",
       " '__weakref__',\n",
       " 'attribute']"
      ]
     },
     "execution_count": 89,
     "metadata": {},
     "output_type": "execute_result"
    }
   ],
   "source": [
    "class FakeDict:\n",
    "    pass\n",
    " \n",
    "fake_dict = FakeDict()\n",
    "fake_dict.attribute = \"Cool\"\n",
    " \n",
    "dir(fake_dict)\n"
   ]
  },
  {
   "cell_type": "markdown",
   "metadata": {},
   "source": [
    "That’s certainly a lot more attributes than we defined! Python automatically adds a number of attributes to all objects that get created. These internal attributes are usually indicated by double-underscores. But sure enough, attribute is in that list.\n",
    "\n",
    "Do you remember being able to use type() on Python’s native data types? This is because they are also objects in Python. Their classes are int, float, str, list, and dict. These Python classes have special syntax for their instantiation, 1, 1.0, \"hello\", [], and {} specifically. But these instances are still full-blown objects to Python."
   ]
  },
  {
   "cell_type": "code",
   "execution_count": 90,
   "metadata": {},
   "outputs": [
    {
     "data": {
      "text/plain": [
       "['__add__',\n",
       " '__class__',\n",
       " '__contains__',\n",
       " '__delattr__',\n",
       " '__delitem__',\n",
       " '__dir__',\n",
       " '__doc__',\n",
       " '__eq__',\n",
       " '__format__',\n",
       " '__ge__',\n",
       " '__getattribute__',\n",
       " '__getitem__',\n",
       " '__gt__',\n",
       " '__hash__',\n",
       " '__iadd__',\n",
       " '__imul__',\n",
       " '__init__',\n",
       " '__init_subclass__',\n",
       " '__iter__',\n",
       " '__le__',\n",
       " '__len__',\n",
       " '__lt__',\n",
       " '__mul__',\n",
       " '__ne__',\n",
       " '__new__',\n",
       " '__reduce__',\n",
       " '__reduce_ex__',\n",
       " '__repr__',\n",
       " '__reversed__',\n",
       " '__rmul__',\n",
       " '__setattr__',\n",
       " '__setitem__',\n",
       " '__sizeof__',\n",
       " '__str__',\n",
       " '__subclasshook__',\n",
       " 'append',\n",
       " 'clear',\n",
       " 'copy',\n",
       " 'count',\n",
       " 'extend',\n",
       " 'index',\n",
       " 'insert',\n",
       " 'pop',\n",
       " 'remove',\n",
       " 'reverse',\n",
       " 'sort']"
      ]
     },
     "execution_count": 90,
     "metadata": {},
     "output_type": "execute_result"
    }
   ],
   "source": [
    "fun_list = [10, \"string\", {'abc': True}]\n",
    " \n",
    "type(fun_list)\n",
    "\n",
    " \n",
    "dir(fun_list)"
   ]
  },
  {
   "cell_type": "markdown",
   "metadata": {},
   "source": [
    "Above we define a new list. We check it’s type and see that’s an instantiation of class list. We use dir() to explore its attributes, and it gives us a large number of internal Python dunder attributes, but, afterward, we get the usual list methods."
   ]
  },
  {
   "cell_type": "markdown",
   "metadata": {},
   "source": [
    "#### Applications\n",
    "\n",
    "1.\n",
    "Call dir() on the number 5. Print out the results."
   ]
  },
  {
   "cell_type": "code",
   "execution_count": 91,
   "metadata": {},
   "outputs": [
    {
     "name": "stdout",
     "output_type": "stream",
     "text": [
      "['__abs__', '__add__', '__and__', '__bool__', '__ceil__', '__class__', '__delattr__', '__dir__', '__divmod__', '__doc__', '__eq__', '__float__', '__floor__', '__floordiv__', '__format__', '__ge__', '__getattribute__', '__getnewargs__', '__gt__', '__hash__', '__index__', '__init__', '__init_subclass__', '__int__', '__invert__', '__le__', '__lshift__', '__lt__', '__mod__', '__mul__', '__ne__', '__neg__', '__new__', '__or__', '__pos__', '__pow__', '__radd__', '__rand__', '__rdivmod__', '__reduce__', '__reduce_ex__', '__repr__', '__rfloordiv__', '__rlshift__', '__rmod__', '__rmul__', '__ror__', '__round__', '__rpow__', '__rrshift__', '__rshift__', '__rsub__', '__rtruediv__', '__rxor__', '__setattr__', '__sizeof__', '__str__', '__sub__', '__subclasshook__', '__truediv__', '__trunc__', '__xor__', 'as_integer_ratio', 'bit_length', 'conjugate', 'denominator', 'from_bytes', 'imag', 'numerator', 'real', 'to_bytes']\n"
     ]
    }
   ],
   "source": [
    "print(dir(5))"
   ]
  },
  {
   "cell_type": "markdown",
   "metadata": {},
   "source": [
    "2.\n",
    "Define a function called this_function_is_an_object. It can take any parameters and return anything you’d like."
   ]
  },
  {
   "cell_type": "code",
   "execution_count": 92,
   "metadata": {},
   "outputs": [],
   "source": [
    "def this_function_is_an_object(num):\n",
    "    return \"{num} of object.format(num)\""
   ]
  },
  {
   "cell_type": "markdown",
   "metadata": {},
   "source": [
    "3.\n",
    "Print out the result of calling dir() on this_function_is_an_object.\n",
    "\n",
    "Functions are objects too!"
   ]
  },
  {
   "cell_type": "code",
   "execution_count": 93,
   "metadata": {},
   "outputs": [
    {
     "name": "stdout",
     "output_type": "stream",
     "text": [
      "['__annotations__', '__call__', '__class__', '__closure__', '__code__', '__defaults__', '__delattr__', '__dict__', '__dir__', '__doc__', '__eq__', '__format__', '__ge__', '__get__', '__getattribute__', '__globals__', '__gt__', '__hash__', '__init__', '__init_subclass__', '__kwdefaults__', '__le__', '__lt__', '__module__', '__name__', '__ne__', '__new__', '__qualname__', '__reduce__', '__reduce_ex__', '__repr__', '__setattr__', '__sizeof__', '__str__', '__subclasshook__']\n"
     ]
    }
   ],
   "source": [
    "print(dir(this_function_is_an_object))"
   ]
  },
  {
   "cell_type": "markdown",
   "metadata": {},
   "source": [
    "#### Possible question\n",
    "Can dir() be called on a class?\n",
    "\n",
    "#### Possible Answer\n",
    "Yes, you can use dir() to examine a class in addition to calling it on an object of a class. In the following code example, you can see that the dir() call on the object of class Examine shows the instance variable created in the object while the call for the class does not."
   ]
  },
  {
   "cell_type": "markdown",
   "metadata": {},
   "source": [
    "## String Representation\n",
    "One of the first things we learn as programmers is how to print out information that we need for debugging. Unfortunately, when we print out an object we get a default representation that seems fairly useless."
   ]
  },
  {
   "cell_type": "code",
   "execution_count": 94,
   "metadata": {},
   "outputs": [
    {
     "name": "stdout",
     "output_type": "stream",
     "text": [
      "<__main__.Employee object at 0x00000282FF5E7A90>\n"
     ]
    }
   ],
   "source": [
    "class Employee():\n",
    "    def __init__(self, name):\n",
    "        self.name = name\n",
    "        \n",
    "        \n",
    "argus = Employee(\"Argus Filch\")\n",
    "\n",
    "print(argus)"
   ]
  },
  {
   "cell_type": "markdown",
   "metadata": {},
   "source": [
    "This default string representation gives us some information, like where the class is defined and our computer’s memory address where this object is stored, but is usually not useful information to have when we are trying to debug our code.\n",
    "\n",
    "We learned about the dunder method __ init __ (). Now, we will learn another dunder method called __ repr __ (). This is a method we can use to tell Python what we want the string representation of the class to be. __ repr __ () can only have one parameter, self, and must return a string.\n",
    "\n",
    "In our Employee class above, we have an instance variable called name that should be unique enough to be useful when we’re printing out an instance of the Employee class."
   ]
  },
  {
   "cell_type": "code",
   "execution_count": 95,
   "metadata": {},
   "outputs": [
    {
     "name": "stdout",
     "output_type": "stream",
     "text": [
      "Argus Filch\n"
     ]
    }
   ],
   "source": [
    "class Employee():\n",
    "    def __init__(self, name):\n",
    "        self.name = name\n",
    " \n",
    "    def __repr__(self):\n",
    "        return self.name\n",
    "\n",
    "argus = Employee(\"Argus Filch\")\n",
    "print(argus)"
   ]
  },
  {
   "cell_type": "markdown",
   "metadata": {},
   "source": [
    "We implemented the __ repr __ () method and had it return the .name attribute of the object. When we printed the object out it simply printed the .name of the object! Cool!"
   ]
  },
  {
   "cell_type": "markdown",
   "metadata": {},
   "source": [
    "#### Applications\n",
    "1.\n",
    "Add a __ repr __ () method to the Circle class that returns\n",
    "\n",
    "Circle with radius {radius}"
   ]
  },
  {
   "cell_type": "code",
   "execution_count": 96,
   "metadata": {},
   "outputs": [],
   "source": [
    "class Circle:\n",
    "    pi = 3.14\n",
    "  \n",
    "    def __init__(self, diameter):\n",
    "        self.radius = diameter / 2\n",
    "  \n",
    "    def area(self):\n",
    "        return self.pi * self.radius ** 2\n",
    "  \n",
    "    def circumference(self):\n",
    "        return self.pi * 2 * self.radius\n",
    "    \n",
    "    #code here\n",
    "    def __repr__(self):\n",
    "        return \"Circle with radius {radius}\".format(radius = self.radius)\n",
    "  \n",
    "  \n",
    "medium_pizza = Circle(12)\n",
    "teaching_table = Circle(36)\n",
    "round_room = Circle(11460)"
   ]
  },
  {
   "cell_type": "markdown",
   "metadata": {},
   "source": [
    "2.\n",
    "Print out medium_pizza, teaching_table, and round_room."
   ]
  },
  {
   "cell_type": "code",
   "execution_count": 97,
   "metadata": {},
   "outputs": [
    {
     "name": "stdout",
     "output_type": "stream",
     "text": [
      "Circle with radius 6.0\n",
      "Circle with radius 18.0\n",
      "Circle with radius 5730.0\n"
     ]
    }
   ],
   "source": [
    "#code here\n",
    "print(medium_pizza)\n",
    "print(teaching_table)\n",
    "print(round_room)"
   ]
  },
  {
   "cell_type": "markdown",
   "metadata": {},
   "source": [
    "## Review\n",
    "So far we’ve covered what a data type actually is in Python. We explored what the functionality of Python’s built-in types (also referred to as primitives) are. We learned how to create our own data types using the class keyword.\n",
    "\n",
    "We explored the relationship between a class and an object — we create objects when we instantiate a class, we find the class when we check the type() of an object. We learned the difference between class variables (the same for all objects of a class) and instance variables (unique for each object).\n",
    "\n",
    "We learned about how to define an object’s functionality with methods. We created multiple objects from the same class, all with similar functionality, but with different internal data. They all had the same methods, but produced different output because they were different instances.\n",
    "\n",
    "Take a moment to congratulate yourself, object-oriented programming is a complicated concept."
   ]
  },
  {
   "cell_type": "markdown",
   "metadata": {},
   "source": [
    "#### Applications\n",
    "1.\n",
    "Define a class Student this will be our data model at Jan van Eyck High School and Conservatory."
   ]
  },
  {
   "cell_type": "code",
   "execution_count": null,
   "metadata": {},
   "outputs": [],
   "source": [
    "class Student:\n",
    "    pass"
   ]
  },
  {
   "cell_type": "markdown",
   "metadata": {},
   "source": [
    "2.\n",
    "Add a constructor for Student. Have the constructor take in two parameters: a name and a year. Save those two as attributes .name and .year."
   ]
  },
  {
   "cell_type": "code",
   "execution_count": 99,
   "metadata": {},
   "outputs": [],
   "source": [
    "class Student:\n",
    "    def __init__(name, year):\n",
    "        self.name = name\n",
    "        self.year = year"
   ]
  },
  {
   "cell_type": "markdown",
   "metadata": {},
   "source": [
    "3.\n",
    "Create three instances of the Student class:\n",
    "\n",
    "Roger van der Weyden, year 10\n",
    "Sandro Botticelli, year 12\n",
    "Pieter Bruegel the Elder, year 8\n",
    "Save them into the variables roger, sandro, and pieter."
   ]
  },
  {
   "cell_type": "code",
   "execution_count": 101,
   "metadata": {},
   "outputs": [],
   "source": [
    "class Student:\n",
    "    def __init__(self, name, year):\n",
    "        self.name = name\n",
    "        self.year = year\n",
    "\n",
    "\n",
    "roger = Student(\"Roger van der Weyden\", 10)\n",
    "sandro = Student(\"Sandro Botticelli\", 12)\n",
    "pieter = Student(\"Pieter Bruegel the Elder\", 8)"
   ]
  },
  {
   "cell_type": "markdown",
   "metadata": {},
   "source": [
    "4.\n",
    "Create a Grade class, with minimum_passing as an attribute set to 65."
   ]
  },
  {
   "cell_type": "code",
   "execution_count": 102,
   "metadata": {},
   "outputs": [],
   "source": [
    "class Grade:\n",
    "    minimum_passing = 65"
   ]
  },
  {
   "cell_type": "markdown",
   "metadata": {},
   "source": [
    "5.\n",
    "Give Grade a constructor. Take in a parameter score and assign it to self.score."
   ]
  },
  {
   "cell_type": "code",
   "execution_count": 103,
   "metadata": {},
   "outputs": [],
   "source": [
    "class Grade:\n",
    "    minimum_passing = 65\n",
    "    def __init__(self, score):\n",
    "        self.score = score"
   ]
  },
  {
   "cell_type": "markdown",
   "metadata": {},
   "source": [
    "6.\n",
    "In the body of the constructor for Student, declare self.grades as an empty list."
   ]
  },
  {
   "cell_type": "code",
   "execution_count": 104,
   "metadata": {},
   "outputs": [],
   "source": [
    "class Student:\n",
    "    def __init__(self, name, year):\n",
    "        self.name = name\n",
    "        self.year = year\n",
    "        self.grade = []\n",
    "        \n",
    "\n",
    "\n",
    "roger = Student(\"Roger van der Weyden\", 10)\n",
    "sandro = Student(\"Sandro Botticelli\", 12)\n",
    "pieter = Student(\"Pieter Bruegel the Elder\", 8)"
   ]
  },
  {
   "cell_type": "markdown",
   "metadata": {},
   "source": [
    "7.\n",
    "Add an .add_grade() method to Student that takes a parameter, grade.\n",
    "\n",
    ".add_grade() should verify that grade is of type Grade and if so, add it to the Student‘s .grades.\n",
    "\n",
    "If grade isn’t an instance of Grade then .add_grade() should do nothing."
   ]
  },
  {
   "cell_type": "code",
   "execution_count": 105,
   "metadata": {},
   "outputs": [],
   "source": [
    "class Student:\n",
    "    def __init__(self, name, year):\n",
    "        self.name = name\n",
    "        self.year = year\n",
    "        self.grade = []\n",
    "        \n",
    "    def add_grade(self, grade):\n",
    "        if type(grade) is Grade:\n",
    "            self.grade.append(grade)\n",
    "        \n",
    "\n",
    "roger = Student(\"Roger van der Weyden\", 10)\n",
    "sandro = Student(\"Sandro Botticelli\", 12)\n",
    "pieter = Student(\"Pieter Bruegel the Elder\", 8)\n",
    "\n",
    "\n"
   ]
  },
  {
   "cell_type": "markdown",
   "metadata": {},
   "source": [
    "8.\n",
    "Create a new Grade with a score of 100 and add it to pieter‘s .grades attribute using .add_grade()."
   ]
  },
  {
   "cell_type": "code",
   "execution_count": 108,
   "metadata": {},
   "outputs": [],
   "source": [
    "class Student:\n",
    "    def __init__(self, name, year):\n",
    "        self.name = name\n",
    "        self.year = year\n",
    "        self.grade = []\n",
    "        \n",
    "    def add_grade(self, grade):\n",
    "        if type(grade) is Grade:\n",
    "            self.grade.append(grade)\n",
    "        \n",
    "\n",
    "roger = Student(\"Roger van der Weyden\", 10)\n",
    "sandro = Student(\"Sandro Botticelli\", 12)\n",
    "pieter = Student(\"Pieter Bruegel the Elder\", 8)\n",
    "\n",
    "\n",
    "pieter.add_grade(100)"
   ]
  },
  {
   "cell_type": "markdown",
   "metadata": {},
   "source": [
    "9.\n",
    "Great job! You’ve created two classes and defined their interactions. This is object-oriented programming! From here you could:\n",
    "\n",
    "- Write a Grade method .is_passing() that returns whether a Grade has a passing .score.\n",
    "- Write a Student method get_average() that returns the student’s average score.\n",
    "- Add an instance variable to Student that is a dictionary called .attendance, with dates as keys and booleans as values that indicate whether the student attended school that day.\n",
    "- Write your own classes to do whatever logic you want!"
   ]
  },
  {
   "cell_type": "markdown",
   "metadata": {},
   "source": [
    "## Quiz\n"
   ]
  },
  {
   "cell_type": "code",
   "execution_count": null,
   "metadata": {},
   "outputs": [],
   "source": [
    "\n",
    "#class HoldsFive:\n",
    "#    five = 5\n",
    "    \n",
    "#five_holder = HoldsFive()\n",
    " \n",
    "#hasattr(five_holder, 'five')"
   ]
  },
  {
   "cell_type": "markdown",
   "metadata": {},
   "source": [
    "\n",
    "\n",
    "1. What does the hasattr() function call in the last line here evaluate to?\n",
    "\n",
    "A. 5\n",
    "\n",
    "\n",
    "B. True\n",
    "\n",
    "\n",
    "C. False\n",
    "\n"
   ]
  },
  {
   "cell_type": "markdown",
   "metadata": {},
   "source": [
    "2. What does the type() function do in Python?\n",
    "\n",
    "\n",
    "A. Returns a string that’s the name of the class.\n",
    "\n",
    "\n",
    "B. Returns an implementation of a class.\n",
    "\n",
    "\n",
    "C. Returns a type object that contains some metadata about the class.\n",
    "\n",
    "\n",
    "D. Returns the class that an object implements."
   ]
  },
  {
   "cell_type": "code",
   "execution_count": null,
   "metadata": {},
   "outputs": [],
   "source": [
    "#class NiceClass:\n",
    "#    neat_attribute = \"neat\""
   ]
  },
  {
   "cell_type": "markdown",
   "metadata": {},
   "source": [
    "3. How would we create an instance of the following class?\n",
    "\n",
    "\n",
    "\n",
    "A. nice_instance = new NiceClass\n",
    "\n",
    "B. nice_instance = NiceClass()\n",
    "\n",
    "C. nice_instance = NiceClass"
   ]
  },
  {
   "cell_type": "markdown",
   "metadata": {},
   "source": [
    "4. What keyword is used to indicate the start of a class definition?\n",
    "\n",
    "\n",
    "A. type\n",
    "\n",
    "\n",
    "B. class\n",
    "\n",
    "\n",
    "C. __ init __\n",
    "\n",
    "\n",
    "D. def"
   ]
  },
  {
   "cell_type": "code",
   "execution_count": 18,
   "metadata": {},
   "outputs": [],
   "source": [
    "#class User:\n",
    "#    def __init__(self, name):\n",
    "#        self.name = name\n",
    "    \n",
    "#    def __repr__(self):\n",
    "#        return \"Hiya {}!\".format(self.name)\n",
    "\n",
    "#devorah = User(\"Devorah\")\n",
    "#print(devorah)"
   ]
  },
  {
   "cell_type": "markdown",
   "metadata": {},
   "source": [
    "5. What would be printed from the code above?\n",
    "\n",
    "\n",
    "A. Hiya Devorah!\n",
    "\n",
    "\n",
    "B. Devorah\n",
    "\n",
    "\n",
    "C. devorah\n",
    "\n",
    "\n",
    "D. Hiya devorah!"
   ]
  },
  {
   "cell_type": "markdown",
   "metadata": {},
   "source": [
    "6. What is the first argument of a method?\n",
    "\n",
    "\n",
    "A. The context in which the object is created. We usually name the parameter this.\n",
    "\n",
    "\n",
    "B. The class itself. We usually refer to it as self.\n",
    "\n",
    "\n",
    "C. The instance of the object itself. We usually refer to it as self."
   ]
  },
  {
   "cell_type": "markdown",
   "metadata": {},
   "source": [
    "7. What function, defined within a class, provides instructions on what to assign to a new instance when it is created?\n",
    "\n",
    "\n",
    "A. init\n",
    "\n",
    "\n",
    "B. __ new __\n",
    "\n",
    "\n",
    "C. __ create __\n",
    "\n",
    "\n",
    "D. __ init __"
   ]
  },
  {
   "cell_type": "code",
   "execution_count": null,
   "metadata": {},
   "outputs": [],
   "source": []
  }
 ],
 "metadata": {
  "kernelspec": {
   "display_name": "Python 3",
   "language": "python",
   "name": "python3"
  },
  "language_info": {
   "codemirror_mode": {
    "name": "ipython",
    "version": 3
   },
   "file_extension": ".py",
   "mimetype": "text/x-python",
   "name": "python",
   "nbconvert_exporter": "python",
   "pygments_lexer": "ipython3",
   "version": "3.8.3"
  }
 },
 "nbformat": 4,
 "nbformat_minor": 4
}
