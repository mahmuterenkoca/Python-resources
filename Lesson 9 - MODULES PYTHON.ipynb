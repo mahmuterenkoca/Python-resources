{
 "cells": [
  {
   "cell_type": "markdown",
   "metadata": {},
   "source": [
    "## Modules Python Introduction\n",
    "In the world of programming, we care a lot about making code reusable. In most cases, we write code so that it can be reusable for ourselves. But sometimes we share code that’s helpful across a broad range of situations.\n",
    "\n",
    "In this lesson, we’ll explore how to use tools other people have built in Python that are not included automatically for you when you install Python. Python allows us to package code into files or sets of files called modules.\n",
    "\n",
    "A module is a collection of Python declarations intended broadly to be used as a tool. Modules are also often referred to as “libraries” or “packages” — a package is really a directory that holds a collection of modules.\n",
    "\n",
    "Usually, to use a module in a file, the basic syntax you need at the top of that file is:\n",
    "\n",
    "from module_name import object_name\n",
    "\n",
    "Often, a library will include a lot of code that you don’t need that may slow down your program or conflict with existing code. Because of this, it makes sense to only import what you need.\n",
    "\n",
    "One common library that comes as part of the Python Standard Library is datetime. datetime helps you work with dates and times in Python.\n",
    "\n",
    "Let’s get started by importing and using the datetime module. In this case, you’ll notice that datetime is both the name of the library and the name of the object that you are importing.\n",
    "\n"
   ]
  },
  {
   "cell_type": "markdown",
   "metadata": {},
   "source": [
    "#### Applications\n",
    "\n",
    "1.\n",
    "In the cell below import the datetime type from the datetime library.\n",
    "\n",
    "2.\n",
    "Create a variable current_time and set it equal to datetime.now().\n",
    "\n",
    "3.\n",
    "Print out current_time."
   ]
  },
  {
   "cell_type": "code",
   "execution_count": 10,
   "metadata": {},
   "outputs": [
    {
     "name": "stdout",
     "output_type": "stream",
     "text": [
      "2021-02-06 14:42:41.522126\n"
     ]
    }
   ],
   "source": [
    "# Import datetime from datetime below:\n",
    "\n",
    "from datetime import datetime\n",
    "\n",
    "current_time = datetime.now()\n",
    "\n",
    "print(current_time)"
   ]
  },
  {
   "cell_type": "markdown",
   "metadata": {},
   "source": [
    "## Modules Python Random\n",
    "datetime is just the beginning. There are hundreds of Python modules that you can use. Another one of the most commonly used is random which allows you to generate numbers or select items at random.\n",
    "\n",
    "With random, we’ll be using more than one piece of the module’s functionality, so the import syntax will look like:\n",
    "\n",
    "import random\n",
    "\n",
    "We’ll work with two common random functions:\n",
    "\n",
    "random.choice() which takes a list as an argument and returns a number from the list\n",
    "random.randint() which takes two numbers as arguments and generates a random number between the two numbers you passed in\n",
    "Let’s take randomness to a whole new level by picking a random number from a list of randomly generated numbers between 1 and 100."
   ]
  },
  {
   "cell_type": "markdown",
   "metadata": {},
   "source": [
    "## Applications\n",
    "1.\n",
    "In the cell below import the random library.\n",
    "\n",
    "2.\n",
    "Create a variable random_list and set it equal to an empty list\n",
    "\n",
    "3.\n",
    "Turn the empty list into a list comprehension that uses random.randint() to generate a random integer between 1 and 100 (inclusive) for each number in range(101).\n",
    "\n",
    "\n",
    "4.\n",
    "Create a new variable randomer_number and set it equal to random.choice() with random_list as an argument.\n",
    "\n",
    "5.\n",
    "Print randomer_number out to see what number was picked!"
   ]
  },
  {
   "cell_type": "code",
   "execution_count": 15,
   "metadata": {},
   "outputs": [
    {
     "name": "stdout",
     "output_type": "stream",
     "text": [
      "69\n"
     ]
    }
   ],
   "source": [
    "# Import random below:\n",
    "\n",
    "import random\n",
    "# Create random_list below:\n",
    "random_list = [random.randint(1,101) for i in range(101)]\n",
    "\n",
    "# Create randomer_number below:\n",
    "\n",
    "randomer_number = random.choice(random_list)\n",
    "# Print randomer_number below:\n",
    "\n",
    "print(randomer_number)"
   ]
  },
  {
   "cell_type": "markdown",
   "metadata": {},
   "source": [
    "## Modules Python Namespaces\n",
    "Notice that when we want to invoke the randint() function we call random.randint(). This is default behavior where Python offers a namespace for the module. A namespace isolates the functions, classes, and variables defined in the module from the code in the file doing the importing. Your local namespace, meanwhile, is where your code is run.\n",
    "\n",
    "Python defaults to naming the namespace after the module being imported, but sometimes this name could be ambiguous or lengthy. Sometimes, the module’s name could also conflict with an object you have defined within your local namespace.\n",
    "\n",
    "Fortunately, this name can be altered by aliasing using the as keyword:\n",
    "\n"
   ]
  },
  {
   "cell_type": "code",
   "execution_count": null,
   "metadata": {},
   "outputs": [],
   "source": [
    "#import module_name as name_you_pick_for_the_module"
   ]
  },
  {
   "cell_type": "markdown",
   "metadata": {},
   "source": [
    "Aliasing is most often done if the name of the library is long and typing the full name every time you want to use one of its functions is laborious.\n",
    "\n",
    "You might also occasionally encounter import *. The * is known as a “wildcard” and matches anything and everything. This syntax is considered dangerous because it could pollute our local namespace. Pollution occurs when the same name could apply to two possible things. For example, if you happen to have a function floor() focused on floor tiles, using from math import * would also import a function floor() that rounds down floats.\n",
    "\n",
    "Let’s combine your knowledge of the random library with another fun library called matplotlib, which allows you to plot your Python code in 2D.\n",
    "\n",
    "You’ll use a new random function random.sample() that takes a range and a number as its arguments. It will return the specified number of random numbers from that range."
   ]
  },
  {
   "cell_type": "markdown",
   "metadata": {},
   "source": [
    "## Applications\n",
    "1.\n",
    "Below, import pyplot from the module matplotlib with the alias plt.\n",
    "\n",
    "2.\n",
    "Import random below the other import statements. It’s best to keep all imports at the top of your file.\n",
    "\n",
    "3.\n",
    "Create a variable numbers_a and set it equal to the range of numbers 1 through 12 (inclusive).\n",
    "\n",
    "4.\n",
    "Create a variable numbers_b and set it equal to a random sample of twelve numbers within range(1000).\n",
    "\n",
    "5.\n",
    "Now let’s plot these number sets against each other using plt. Call plt.plot() with your two variables as its arguments.\n",
    "\n",
    "6.\n",
    "Now call plt.show() and run your code!\n",
    "\n",
    "You should see a graph of random numbers displayed. You’ve used two Python modules to accomplish this (random and matplotlib)."
   ]
  },
  {
   "cell_type": "code",
   "execution_count": 18,
   "metadata": {},
   "outputs": [
    {
     "data": {
      "image/png": "[encoded data removed]",
      "text/plain": [
       "<Figure size 432x288 with 1 Axes>"
      ]
     },
     "metadata": {
      "needs_background": "light"
     },
     "output_type": "display_data"
    }
   ],
   "source": [
    "\n",
    "# Add your code below:\n",
    "\n",
    "from matplotlib import pyplot as plt\n",
    "\n",
    "import random\n",
    "\n",
    "numbers_a = range(1,13)\n",
    "\n",
    "numbers_b = random.sample(range(1000),12)\n",
    "\n",
    "plt.plot(numbers_a, numbers_b)\n",
    "\n",
    "plt.show()\n",
    "\n"
   ]
  },
  {
   "cell_type": "markdown",
   "metadata": {},
   "source": [
    "## Modules Python Decimals\n",
    "Let’s say you are writing software that handles monetary transactions. If you used Python’s built-in floating-point arithmetic to calculate a sum, it would result in a weirdly formatted number."
   ]
  },
  {
   "cell_type": "code",
   "execution_count": 20,
   "metadata": {},
   "outputs": [
    {
     "name": "stdout",
     "output_type": "stream",
     "text": [
      "0.44999999999999996\n"
     ]
    }
   ],
   "source": [
    "cost_of_gum = 0.10\n",
    "cost_of_gumdrop = 0.35\n",
    " \n",
    "cost_of_transaction = cost_of_gum + cost_of_gumdrop\n",
    "\n",
    "print(cost_of_transaction)\n"
   ]
  },
  {
   "cell_type": "markdown",
   "metadata": {},
   "source": [
    "Being familiar with rounding errors in floating-point arithmetic you want to use a data type that performs decimal arithmetic more accurately. You could do the following:"
   ]
  },
  {
   "cell_type": "code",
   "execution_count": 21,
   "metadata": {},
   "outputs": [
    {
     "name": "stdout",
     "output_type": "stream",
     "text": [
      "0.45\n"
     ]
    }
   ],
   "source": [
    "from decimal import Decimal\n",
    " \n",
    "cost_of_gum = Decimal('0.10')\n",
    "cost_of_gumdrop = Decimal('0.35')\n",
    " \n",
    "cost_of_transaction = cost_of_gum + cost_of_gumdrop\n",
    "\n",
    "print(cost_of_transaction)\n"
   ]
  },
  {
   "cell_type": "markdown",
   "metadata": {},
   "source": [
    "Above, we use the decimal module’s Decimal data type to add 0.10 with 0.35. Since we used the Decimal type the arithmetic acts much more as expected.\n",
    "\n",
    "Usually, modules will provide functions or data types that we can then use to solve a general problem, allowing us more time to focus on the software that we are building to solve a more specific problem.\n",
    "\n",
    "Ready, set, fix some floating point math by using decimals!"
   ]
  },
  {
   "cell_type": "markdown",
   "metadata": {},
   "source": [
    "## Applications\n",
    "1.\n",
    "Run your code to see the weird floating point math that occurs."
   ]
  },
  {
   "cell_type": "code",
   "execution_count": 22,
   "metadata": {},
   "outputs": [
    {
     "name": "stdout",
     "output_type": "stream",
     "text": [
      "0.8899999999999999\n",
      "0.34450000000000003\n"
     ]
    }
   ],
   "source": [
    "two_decimal_points = 0.2 + 0.69\n",
    "print(two_decimal_points)\n",
    "\n",
    "four_decimal_points = 0.53 * 0.65\n",
    "print(four_decimal_points)"
   ]
  },
  {
   "cell_type": "markdown",
   "metadata": {},
   "source": [
    "2.\n",
    "In script.py import Decimal from the decimal module.\n",
    "\n",
    "3.\n",
    "Use Decimal to make two_decimal_points only have two decimals points and four_decimal_points to only have four decimal points."
   ]
  },
  {
   "cell_type": "code",
   "execution_count": 24,
   "metadata": {},
   "outputs": [
    {
     "name": "stdout",
     "output_type": "stream",
     "text": [
      "0.89\n",
      "0.3445\n"
     ]
    }
   ],
   "source": [
    "# Import Decimal below:\n",
    "from decimal import Decimal\n",
    "\n",
    "# Fix the floating point math below:\n",
    "two_decimal_points = Decimal(\"0.2\") + Decimal(\"0.69\")\n",
    "print(two_decimal_points)\n",
    "\n",
    "four_decimal_points = Decimal('0.53') * Decimal('0.65')\n",
    "print(four_decimal_points)"
   ]
  },
  {
   "cell_type": "markdown",
   "metadata": {},
   "source": [
    "## Modules Python Review\n",
    "You’ve learned:\n",
    "\n",
    "- what modules are and how they can be useful\n",
    "- how to use a few of the most commonly used Python libraries\n",
    "- what namespaces are and how to avoid polluting your local namespace\n",
    "\n",
    "Programmers can do great things if they are not forced to constantly reinvent tools that have already been built. With the power of modules, we can import any code that someone else has shared publicly.\n",
    "\n",
    "In this lesson, we covered some of the Python Standard Library, but you can explore all the modules that come packaged with every installation of Python at the Python Standard Library documentation.\n",
    "\n",
    "This is just the beginning. Using a package manager (like conda or pip3), you can install any modules available on the Python Package Index.\n",
    "\n",
    "The sky’s the limit!"
   ]
  },
  {
   "cell_type": "markdown",
   "metadata": {},
   "source": [
    "In this documentation you will learn about Python modules. This is helpful if you would like to split long program code into logically grouped files and import the files to reference the classes and functions within.\n",
    "\n",
    "https://docs.python.org/3/tutorial/modules.html"
   ]
  },
  {
   "cell_type": "code",
   "execution_count": null,
   "metadata": {},
   "outputs": [],
   "source": []
  },
  {
   "cell_type": "code",
   "execution_count": null,
   "metadata": {},
   "outputs": [],
   "source": []
  },
  {
   "cell_type": "code",
   "execution_count": null,
   "metadata": {},
   "outputs": [],
   "source": []
  }
 ],
 "metadata": {
  "kernelspec": {
   "display_name": "Python 3",
   "language": "python",
   "name": "python3"
  },
  "language_info": {
   "codemirror_mode": {
    "name": "ipython",
    "version": 3
   },
   "file_extension": ".py",
   "mimetype": "text/x-python",
   "name": "python",
   "nbconvert_exporter": "python",
   "pygments_lexer": "ipython3",
   "version": "3.8.3"
  }
 },
 "nbformat": 4,
 "nbformat_minor": 4
}
